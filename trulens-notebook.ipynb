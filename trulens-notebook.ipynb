{
 "cells": [
  {
   "cell_type": "markdown",
   "metadata": {},
   "source": [
    "# Run me"
   ]
  },
  {
   "cell_type": "code",
   "execution_count": 1,
   "metadata": {},
   "outputs": [],
   "source": [
    "from trulens.core import TruSession\n",
    "from trulens.apps.custom import instrument"
   ]
  },
  {
   "cell_type": "code",
   "execution_count": 2,
   "metadata": {},
   "outputs": [],
   "source": [
    "from snowflake.snowpark.session import Session\n",
    "from snowflake.core import Root"
   ]
  },
  {
   "cell_type": "code",
   "execution_count": 3,
   "metadata": {},
   "outputs": [],
   "source": [
    "import pandas as pd\n",
    "import json\n",
    "import numpy as np"
   ]
  },
  {
   "cell_type": "code",
   "execution_count": 4,
   "metadata": {},
   "outputs": [],
   "source": [
    "from trulens.apps.custom import TruCustomApp\n",
    "from trulens.providers.cortex.provider import Cortex\n",
    "from trulens.core import Feedback\n",
    "from trulens.core import Select"
   ]
  },
  {
   "cell_type": "code",
   "execution_count": 5,
   "metadata": {},
   "outputs": [],
   "source": [
    "from snowflake.cortex import Complete"
   ]
  },
  {
   "cell_type": "code",
   "execution_count": 6,
   "metadata": {},
   "outputs": [],
   "source": [
    "# Configuration\n",
    "NUM_CHUNKS = 3  # Number of chunks to retrieve\n",
    "SLIDE_WINDOW = 7  # Number of last conversations to remember\n",
    "CORTEX_SEARCH_DATABASE = \"CC_QUICKSTART_CORTEX_SEARCH_DOCS_3\"\n",
    "CORTEX_SEARCH_SCHEMA = \"DATA\"\n",
    "CORTEX_SEARCH_SERVICE = \"CC_SEARCH_SERVICE_CS\"\n",
    "COLUMNS = [\n",
    "    \"chunk\",\n",
    "    \"relative_path\",\n",
    "    \"category\"\n",
    "]"
   ]
  },
  {
   "cell_type": "code",
   "execution_count": 7,
   "metadata": {},
   "outputs": [],
   "source": [
    "# Snowflake Connection and Session\n",
    "connection_params = {\n",
    "    \"account\": \"bqxccfa-rob58877\",\n",
    "    \"user\": \"MOUSTAFAISMAIL\",\n",
    "    \"password\": \"DLayihJ3:6JCz42\",\n",
    "    \"warehouse\": \"COMPUTE_WH\",\n",
    "    \"database\": \"CC_QUICKSTART_CORTEX_SEARCH_DOCS_3\",\n",
    "    \"schema\": \"DATA\",\n",
    "    \"role\": \"ACCOUNTADMIN\",\n",
    "}"
   ]
  },
  {
   "cell_type": "code",
   "execution_count": 8,
   "metadata": {},
   "outputs": [],
   "source": [
    "# Get active Snowflake session\n",
    "session = Session.builder.configs(connection_params).create()\n",
    "root = Root(session)\n",
    "svc = root.databases[CORTEX_SEARCH_DATABASE].schemas[CORTEX_SEARCH_SCHEMA].cortex_search_services[CORTEX_SEARCH_SERVICE]"
   ]
  },
  {
   "cell_type": "code",
   "execution_count": 9,
   "metadata": {},
   "outputs": [
    {
     "name": "stdout",
     "output_type": "stream",
     "text": [
      "🦑 Initialized with db url sqlite:///default.sqlite .\n",
      "🛑 Secret keys may be written to the database. See the `database_redact_keys` option of `TruSession` to prevent this.\n"
     ]
    }
   ],
   "source": [
    "# Start Trulens session\n",
    "tru_session = TruSession()"
   ]
  },
  {
   "cell_type": "markdown",
   "metadata": {},
   "source": [
    "# Josh"
   ]
  },
  {
   "cell_type": "code",
   "execution_count": 32,
   "metadata": {},
   "outputs": [
    {
     "name": "stdout",
     "output_type": "stream",
     "text": [
      "decorating <function CortexSearchRetriever.retrieve at 0x72e474874c20>\n",
      "adding method <class '__main__.CortexSearchRetriever'> retrieve __main__\n"
     ]
    }
   ],
   "source": [
    "from typing import List\n",
    "\n",
    "class CortexSearchRetriever:\n",
    "\n",
    "    def __init__(self, snowpark_session: Session, limit_to_retrieve: int = 4):\n",
    "        self._snowpark_session = snowpark_session\n",
    "        self._limit_to_retrieve = NUM_CHUNKS\n",
    "\n",
    "    @instrument\n",
    "    def retrieve(self, query: str, category: str) -> List[str]:\n",
    "        root = Root(self._snowpark_session)\n",
    "\n",
    "        cortex_search_service = (\n",
    "            root.databases[CORTEX_SEARCH_DATABASE]\n",
    "            .schemas[CORTEX_SEARCH_SCHEMA]\n",
    "            .cortex_search_services[CORTEX_SEARCH_SERVICE]\n",
    "        )\n",
    "        \n",
    "        filter_obj = {\"@eq\": {\"category\": category}}\n",
    "        response = cortex_search_service.search(\n",
    "                query, \n",
    "                columns = COLUMNS,\n",
    "                filter=filter_obj,\n",
    "                limit=self._limit_to_retrieve,\n",
    "        )\n",
    "\n",
    "        # return response\n",
    "        \n",
    "        if response.results:\n",
    "            return [curr[\"chunk\"] for curr in response.results]\n",
    "        else:\n",
    "            return []"
   ]
  },
  {
   "cell_type": "code",
   "execution_count": 33,
   "metadata": {},
   "outputs": [
    {
     "data": {
      "text/plain": [
       "['1 tsp Cooking Time: 5 minutes Steps: Blend kiwi and spinach with honey, strain, and serve chilled. Cuisine: General Diet Type: Vegan  \\\\nRecipe ID: 922  \\\\nRecipe Name: Pineapple Mint Splash Ingredients: Pineapple, Mint, Lemon Quantities (for 1 person): Pineapple: 1/2 cup (cubed), Mint: 5 leaves, Lemon: 1/2 (juiced) Cooking Time: 5 minutes Steps: Blend pineapple and mint, strain, mix with lemon juice, and serve chilled. Cuisine: Tropical Diet Type: Vegan  \\\\nRecipe ID: 923  \\\\nRecipe Name: Apple Cucumber Cooler Ingredients: Apple, Cucumber, Lemon Quantities (for 1 person): Apple: 1 (juiced), Cucumber: 1/2 (juiced), Lemon: 1/2 (juiced) Cooking Time: 5 minutes Steps: Mix apple and cucumber juice, add lemon juice, and serve chilled. Cuisine: General Diet Type: Vegan  \\\\nRecipe ID: 924  \\\\nRecipe Name: Strawberry Basil Refresher Ingredients: Strawberry, Basil, Honey Quantities (for 1 person): Strawberry: 1/2 cup (chopped), Basil: 5 leaves, Honey: 1 tsp Cooking Time: 5 minutes Steps: Blend',\n",
       " '1/2 (peeled), Yogurt: 1/4 cup, Honey: 1 tsp Cooking Time: 5 minutes Steps: Blend mango, yogurt, and honey until smooth, then serve chilled. Cuisine: Indian Diet Type: Vegetarian  \\\\nRecipe ID: 511  \\\\nRecipe Name: Strawberry Banana Smoothie Ingredients: Strawberries, Banana, Milk, Honey Quantities (for 1 person): Strawberries: 1/4 cup, Banana: 1/2, Milk: 1/2 cup, Honey: 1 tsp Cooking Time: 5 minutes Steps: Blend strawberries, banana, milk, and honey until smooth, and serve chilled. Cuisine: General Diet Type: Vegetarian  \\\\nRecipe ID: 512  \\\\nRecipe Name: Cucumber Lemon Cooler Ingredients: Cucumber, Lemon, Mint leaves, Sugar, Water  \\\\nQuantities (for 1 person): Cucumber: 1/2 (peeled), Lemon: 1/2, Mint leaves: 3-4, Sugar: 1 tsp, Water: 1/2 cup Cooking Time: 5 minutes Steps: Blend cucumber and mint with water, add lemon juice and sugar, then serve. Cuisine: General Diet Type: Vegan  \\\\nRecipe ID: 513  \\\\nRecipe Name: Papaya Smoothie Ingredients: Papaya, Milk, Honey Quantities (for 1 person):',\n",
       " '4-5, Lime: 1/2 Cooking Time: 5 minutes Steps: Blend mango with water, stir in lime juice, and garnish with mint leaves. Serve chilled. Cuisine: General Diet Type: Vegan  \\\\nRecipe ID: 523  \\\\nRecipe Name: Pineapple Lemonade Ingredients: Pineapple, Lemon, Sugar, Water Quantities (for 1 person): Pineapple: 1/2 cup (cubed), Lemon: 1/2, Sugar: 1 tsp, Water: 1/2 cup Cooking Time: 5 minutes Steps: Blend pineapple with water, add lemon juice and sugar, strain, and serve chilled. Cuisine: General Diet Type: Vegan  \\\\nRecipe ID: 524  \\\\nRecipe Name: Cucumber Apple Refresher Ingredients: Cucumber, Apple, Mint leaves, Lemon Quantities (for 1 person): Cucumber: 1/2 (peeled), Apple: 1/2, Mint leaves: 3-4, Lemon: 1/4 Cooking Time: 5 minutes Steps: Blend cucumber and apple with water, add lemon juice, and garnish with mint. Serve cold. Cuisine: General Diet Type: Vegan  \\\\nRecipe ID: 525  \\\\nRecipe Name: Peach Iced Tea Ingredients: Peach, Black tea (brewed), Honey Quantities (for 1 person): Peach: 1/2']"
      ]
     },
     "execution_count": 33,
     "metadata": {},
     "output_type": "execute_result"
    }
   ],
   "source": [
    "retriever = CortexSearchRetriever(snowpark_session=session, limit_to_retrieve=4)\n",
    "retrieved_context = retriever.retrieve(query=\"How to make chicken peas?\", category=\"Juices\")\n",
    "retrieved_context"
   ]
  },
  {
   "cell_type": "code",
   "execution_count": 36,
   "metadata": {},
   "outputs": [],
   "source": [
    "from snowflake.snowpark.context import get_active_session\n",
    "\n",
    "snow_session = get_active_session()"
   ]
  },
  {
   "cell_type": "code",
   "execution_count": 39,
   "metadata": {},
   "outputs": [
    {
     "name": "stdout",
     "output_type": "stream",
     "text": [
      "✅ In Context Relevance, input question will be set to __record__.main_input or `Select.RecordInput` .\n",
      "✅ In Context Relevance, input context will be set to __record__.main_output or `Select.RecordOutput` .\n"
     ]
    }
   ],
   "source": [
    "from trulens.providers.cortex.provider import Cortex\n",
    "from trulens.core import Feedback\n",
    "from trulens.core import Select\n",
    "import numpy as np\n",
    "\n",
    "provider = Cortex(session, \"mistral-large2\")\n",
    "\n",
    "f_context_relevance = (\n",
    "    Feedback(provider.context_relevance, name=\"Context Relevance\")\n",
    "    .on_input_output()\n",
    "    .aggregate(np.mean)\n",
    ")"
   ]
  },
  {
   "cell_type": "code",
   "execution_count": 40,
   "metadata": {},
   "outputs": [
    {
     "data": {
      "text/plain": [
       "0.0"
      ]
     },
     "execution_count": 40,
     "metadata": {},
     "output_type": "execute_result"
    }
   ],
   "source": [
    "f_context_relevance(\"How to make chicken peas?\", retrieved_context)"
   ]
  },
  {
   "cell_type": "code",
   "execution_count": 41,
   "metadata": {},
   "outputs": [
    {
     "name": "stderr",
     "output_type": "stream",
     "text": [
      "Function <function CortexSearchRetriever.retrieve at 0x72e4749cb240> was not found during instrumentation walk. Make sure it is accessible by traversing app <__main__.CortexSearchRetriever object at 0x72e474ea7450> or provide a bound method for it as TruCustomApp constructor argument `methods_to_instrument`.\n",
      "Function <function CortexSearchRetriever.retrieve at 0x72e474875a80> was not found during instrumentation walk. Make sure it is accessible by traversing app <__main__.CortexSearchRetriever object at 0x72e474ea7450> or provide a bound method for it as TruCustomApp constructor argument `methods_to_instrument`.\n",
      "Function <function CortexSearchRetriever.retrieve at 0x72e4749cb4c0> was not found during instrumentation walk. Make sure it is accessible by traversing app <__main__.CortexSearchRetriever object at 0x72e474ea7450> or provide a bound method for it as TruCustomApp constructor argument `methods_to_instrument`.\n",
      "Function <function CortexSearchRetriever.retrieve at 0x72e47497c900> was not found during instrumentation walk. Make sure it is accessible by traversing app <__main__.CortexSearchRetriever object at 0x72e474ea7450> or provide a bound method for it as TruCustomApp constructor argument `methods_to_instrument`.\n",
      "Function <function CortexSearchRetriever.retrieve at 0x72e474a26160> was not found during instrumentation walk. Make sure it is accessible by traversing app <__main__.CortexSearchRetriever object at 0x72e474ea7450> or provide a bound method for it as TruCustomApp constructor argument `methods_to_instrument`.\n",
      "Function <function CortexSearchRetriever.retrieve at 0x72e4749ca160> was not found during instrumentation walk. Make sure it is accessible by traversing app <__main__.CortexSearchRetriever object at 0x72e474ea7450> or provide a bound method for it as TruCustomApp constructor argument `methods_to_instrument`.\n"
     ]
    },
    {
     "name": "stdout",
     "output_type": "stream",
     "text": [
      "instrumenting <class '__main__.CortexSearchRetriever'> for base <class '__main__.CortexSearchRetriever'>\n",
      "\tinstrumenting retrieve\n",
      "skipping base <class 'object'> because of class\n"
     ]
    }
   ],
   "source": [
    "from trulens.apps.custom import TruCustomApp\n",
    "\n",
    "tru_retriever = TruCustomApp(\n",
    "    retriever,\n",
    "    app_name=\"FOMC Retriever\",\n",
    "    app_version=\"base\",\n",
    "    feedbacks=[f_context_relevance],\n",
    ")"
   ]
  },
  {
   "cell_type": "code",
   "execution_count": 43,
   "metadata": {},
   "outputs": [
    {
     "name": "stderr",
     "output_type": "stream",
     "text": [
      "Could not find an instance of DummyEndpoint. trulens will create an endpoint for cost tracking.\n"
     ]
    },
    {
     "name": "stdout",
     "output_type": "stream",
     "text": [
      "calling <function CortexSearchRetriever.retrieve at 0x72e474874c20> with (<__main__.CortexSearchRetriever object at 0x72e474ea7450>, 'How to make vanilla milke shake?')\n"
     ]
    },
    {
     "name": "stderr",
     "output_type": "stream",
     "text": [
      "Unsure what the main input string is for the call to retrieve with args <BoundArguments (self=<__main__.CortexSearchRetriever object at 0x72e474ea7450>, query='How to make vanilla milke shake?', category='Juices')>.\n"
     ]
    },
    {
     "data": {
      "text/plain": [
       "['and serve chilled. Cuisine: General Diet Type: Vegan  \\\\nRecipe ID: 894  \\\\nRecipe Name: Pear Vanilla Delight Ingredients: Pear, Vanilla Extract, Honey Quantities (for 1 person): Pear: 1 (peeled and chopped), Vanilla Extract: 1/4 tsp, Honey: 1 tsp Cooking Time: 5 minutes Steps: Blend pear with vanilla extract and honey, strain, and serve chilled. Cuisine: General Diet Type: Vegan  \\\\nRecipe ID: 895  \\\\nRecipe Name: Cherry Lime Fizz Ingredients: Cherry, Lime, Sparkling Water Quantities (for 1 person): Cherry: 1/2 cup (pitted), Lime: 1/2 (juiced), Sparkling Water: 1/2 cup Cooking Time: 5 minutes Steps: Blend cherries, strain, mix with lime juice and sparkling water, and serve chilled. Cuisine: General Diet Type: Vegan  \\\\nRecipe ID: 896  \\\\nRecipe Name: Pineapple Ginger Cooler Ingredients: Pineapple, Ginger, Coconut Water Quantities (for 1 person): Pineapple: 1/2 cup (cubed), Ginger: 1/4 tsp (grated), Coconut Water: 1/2 cup Cooking Time: 5 minutes Steps: Blend pineapple and ginger, strain,',\n",
       " 'Milk: 1/2 cup Cooking Time: 5 minutes Steps: Blend strawberry, banana, and almond milk, then serve chilled. Cuisine: General Diet Type: Vegan  \\\\nRecipe ID: 764  \\\\nRecipe Name: Carrot Lemonade Ingredients: Carrot, Lemon, Agave Syrup Quantities (for 1 person): Carrot: 2 (peeled), Lemon: 1 (peeled), Agave Syrup: 1 tsp Cooking Time: 5 minutes Steps: Blend carrot and lemon, strain, add agave syrup, and serve chilled. Cuisine: General Diet Type: Vegan  \\\\nRecipe ID: 765  \\\\nRecipe Name: Pineapple Coconut Breeze Ingredients: Pineapple, Coconut Milk, Lime Quantities (for 1 person): Pineapple: 1 cup (cubed), Coconut Milk: 1/2 cup, Lime: 1/2 (peeled) Cooking Time: 5 minutes Steps: Blend pineapple, coconut milk, and lime, then serve chilled. Cuisine: Tropical Diet Type: Vegan  \\\\nRecipe ID: 766  \\\\nRecipe Name: Tropical Green Juice Ingredients: Spinach, Pineapple, Coconut Water  \\\\nQuantities (for 1 person): Spinach: 1 handful, Pineapple: 1 cup (cubed), Coconut Water: 1/2 cup Cooking Time: 5 minutes',\n",
       " 'cold. Cuisine: General Diet Type: Vegan  \\\\nRecipe ID: 559  \\\\nRecipe Name: Honeydew Mint Cooler Ingredients: Honeydew melon, Mint leaves, Lime Quantities (for 1 person): Honeydew melon: 1/2 cup (cubed), Mint leaves: 4-5, Lime: 1/2 Cooking Time: 5 minutes Steps: Blend honeydew melon and mint leaves, add lime juice, strain, and serve fresh Cuisine: General Diet Type: Vegan  \\\\nRecipe ID: 560  \\\\nRecipe Name: Papaya Coconut Shake Ingredients: Papaya, Coconut milk, Honey Quantities (for 1 person): Papaya: 1/2 cup (cubed), Coconut milk: 1/2 cup, Honey: 1 tsp Cooking Time: 5 minutes Steps: Blend papaya with coconut milk and honey until smooth. Serve chilled.  \\\\nCuisine: General Diet Type: Vegan  \\\\nRecipe ID: 561  \\\\nRecipe Name: Orange Carrot Refresher Ingredients: Orange, Carrot, Ginger Quantities (for 1 person): Orange: 1 (peeled), Carrot: 1 (small), Ginger: 1/4 tsp (grated) Cooking Time: 5 minutes Steps: Blend orange, carrot, and ginger with water, strain, and serve fresh. Cuisine: General']"
      ]
     },
     "execution_count": 43,
     "metadata": {},
     "output_type": "execute_result"
    }
   ],
   "source": [
    "with tru_retriever as recording:\n",
    "    retrieved_documents = retriever.retrieve(\"How to make vanilla milke shake?\", category=\"Juices\")\n",
    "\n",
    "retrieved_documents"
   ]
  },
  {
   "cell_type": "code",
   "execution_count": 45,
   "metadata": {},
   "outputs": [
    {
     "data": {
      "text/html": [
       "<div>\n",
       "<style scoped>\n",
       "    .dataframe tbody tr th:only-of-type {\n",
       "        vertical-align: middle;\n",
       "    }\n",
       "\n",
       "    .dataframe tbody tr th {\n",
       "        vertical-align: top;\n",
       "    }\n",
       "\n",
       "    .dataframe thead th {\n",
       "        text-align: right;\n",
       "    }\n",
       "</style>\n",
       "<table border=\"1\" class=\"dataframe\">\n",
       "  <thead>\n",
       "    <tr style=\"text-align: right;\">\n",
       "      <th></th>\n",
       "      <th></th>\n",
       "      <th>Context Relevance</th>\n",
       "      <th>latency</th>\n",
       "      <th>total_cost</th>\n",
       "    </tr>\n",
       "    <tr>\n",
       "      <th>app_name</th>\n",
       "      <th>app_version</th>\n",
       "      <th></th>\n",
       "      <th></th>\n",
       "      <th></th>\n",
       "    </tr>\n",
       "  </thead>\n",
       "  <tbody>\n",
       "    <tr>\n",
       "      <th>FOMC Retriever</th>\n",
       "      <th>base</th>\n",
       "      <td>0.0</td>\n",
       "      <td>1.133732</td>\n",
       "      <td>0.0</td>\n",
       "    </tr>\n",
       "  </tbody>\n",
       "</table>\n",
       "</div>"
      ],
      "text/plain": [
       "                            Context Relevance   latency  total_cost\n",
       "app_name       app_version                                         \n",
       "FOMC Retriever base                       0.0  1.133732         0.0"
      ]
     },
     "execution_count": 45,
     "metadata": {},
     "output_type": "execute_result"
    }
   ],
   "source": [
    "tru_session.get_leaderboard()"
   ]
  },
  {
   "cell_type": "markdown",
   "metadata": {},
   "source": [
    "---------------"
   ]
  },
  {
   "cell_type": "markdown",
   "metadata": {},
   "source": [
    "# My Trulens"
   ]
  },
  {
   "cell_type": "markdown",
   "metadata": {},
   "source": [
    "#### Create the class "
   ]
  },
  {
   "cell_type": "code",
   "execution_count": 8,
   "metadata": {},
   "outputs": [
    {
     "name": "stdout",
     "output_type": "stream",
     "text": [
      "decorating <function MyCortexSearchRetriever.get_similar_chunks_search_service at 0x77c042a02c00>\n",
      "adding method <class '__main__.MyCortexSearchRetriever'> get_similar_chunks_search_service __main__\n"
     ]
    }
   ],
   "source": [
    "from typing import List\n",
    "\n",
    "class MyCortexSearchRetriever:\n",
    "\n",
    "    @instrument\n",
    "    def get_similar_chunks_search_service(self, query, category):\n",
    "        \"\"\"Search for similar chunks based on query and category.\"\"\"\n",
    "        if category == \"ALL\":\n",
    "            response = svc.search(query, COLUMNS, limit=NUM_CHUNKS)\n",
    "        else:\n",
    "            filter_obj = {\"@eq\": {\"category\": category}}\n",
    "            response = svc.search(\n",
    "                query,\n",
    "                COLUMNS,\n",
    "                filter=filter_obj,\n",
    "                limit=NUM_CHUNKS,\n",
    "            )\n",
    "        # st.sidebar.json(response.json())\n",
    "        if response.results:\n",
    "            output = [curr[\"chunk\"] for curr in response.results]\n",
    "            return response.json(), output\n",
    "\n",
    "        else:\n",
    "            output = []\n",
    "            return response.json(), output"
   ]
  },
  {
   "cell_type": "markdown",
   "metadata": {},
   "source": [
    "#### Instantiate the class or app"
   ]
  },
  {
   "cell_type": "code",
   "execution_count": 9,
   "metadata": {},
   "outputs": [],
   "source": [
    "myretriever = MyCortexSearchRetriever()"
   ]
  },
  {
   "cell_type": "code",
   "execution_count": 10,
   "metadata": {},
   "outputs": [
    {
     "name": "stderr",
     "output_type": "stream",
     "text": [
      "/tmp/ipykernel_894/3009735916.py:21: PydanticDeprecatedSince20: The `json` method is deprecated; use `model_dump_json` instead. Deprecated in Pydantic V2.0 to be removed in V3.0. See Pydantic V2 Migration Guide at https://errors.pydantic.dev/2.10/migration/\n",
      "  return response.json(), output\n"
     ]
    }
   ],
   "source": [
    "myretriever = MyCortexSearchRetriever()\n",
    "my_retrieved_context = myretriever.get_similar_chunks_search_service(query=\"How to make vanilla milk shake?\", category=\"Juices\")"
   ]
  },
  {
   "cell_type": "code",
   "execution_count": 11,
   "metadata": {},
   "outputs": [
    {
     "data": {
      "text/plain": [
       "('{\"results\":[{\"chunk\":\"and serve chilled. Cuisine: General Diet Type: Vegan  \\\\\\\\nRecipe ID: 894  \\\\\\\\nRecipe Name: Pear Vanilla Delight Ingredients: Pear, Vanilla Extract, Honey Quantities (for 1 person): Pear: 1 (peeled and chopped), Vanilla Extract: 1/4 tsp, Honey: 1 tsp Cooking Time: 5 minutes Steps: Blend pear with vanilla extract and honey, strain, and serve chilled. Cuisine: General Diet Type: Vegan  \\\\\\\\nRecipe ID: 895  \\\\\\\\nRecipe Name: Cherry Lime Fizz Ingredients: Cherry, Lime, Sparkling Water Quantities (for 1 person): Cherry: 1/2 cup (pitted), Lime: 1/2 (juiced), Sparkling Water: 1/2 cup Cooking Time: 5 minutes Steps: Blend cherries, strain, mix with lime juice and sparkling water, and serve chilled. Cuisine: General Diet Type: Vegan  \\\\\\\\nRecipe ID: 896  \\\\\\\\nRecipe Name: Pineapple Ginger Cooler Ingredients: Pineapple, Ginger, Coconut Water Quantities (for 1 person): Pineapple: 1/2 cup (cubed), Ginger: 1/4 tsp (grated), Coconut Water: 1/2 cup Cooking Time: 5 minutes Steps: Blend pineapple and ginger, strain,\",\"category\":\"Juices\",\"relative_path\":\"juices.pdf\"},{\"chunk\":\"Milk: 1/2 cup Cooking Time: 5 minutes Steps: Blend strawberry, banana, and almond milk, then serve chilled. Cuisine: General Diet Type: Vegan  \\\\\\\\nRecipe ID: 764  \\\\\\\\nRecipe Name: Carrot Lemonade Ingredients: Carrot, Lemon, Agave Syrup Quantities (for 1 person): Carrot: 2 (peeled), Lemon: 1 (peeled), Agave Syrup: 1 tsp Cooking Time: 5 minutes Steps: Blend carrot and lemon, strain, add agave syrup, and serve chilled. Cuisine: General Diet Type: Vegan  \\\\\\\\nRecipe ID: 765  \\\\\\\\nRecipe Name: Pineapple Coconut Breeze Ingredients: Pineapple, Coconut Milk, Lime Quantities (for 1 person): Pineapple: 1 cup (cubed), Coconut Milk: 1/2 cup, Lime: 1/2 (peeled) Cooking Time: 5 minutes Steps: Blend pineapple, coconut milk, and lime, then serve chilled. Cuisine: Tropical Diet Type: Vegan  \\\\\\\\nRecipe ID: 766  \\\\\\\\nRecipe Name: Tropical Green Juice Ingredients: Spinach, Pineapple, Coconut Water  \\\\\\\\nQuantities (for 1 person): Spinach: 1 handful, Pineapple: 1 cup (cubed), Coconut Water: 1/2 cup Cooking Time: 5 minutes\",\"category\":\"Juices\",\"relative_path\":\"juices.pdf\"},{\"chunk\":\"1/2 (peeled), Yogurt: 1/4 cup, Honey: 1 tsp Cooking Time: 5 minutes Steps: Blend mango, yogurt, and honey until smooth, then serve chilled. Cuisine: Indian Diet Type: Vegetarian  \\\\\\\\nRecipe ID: 511  \\\\\\\\nRecipe Name: Strawberry Banana Smoothie Ingredients: Strawberries, Banana, Milk, Honey Quantities (for 1 person): Strawberries: 1/4 cup, Banana: 1/2, Milk: 1/2 cup, Honey: 1 tsp Cooking Time: 5 minutes Steps: Blend strawberries, banana, milk, and honey until smooth, and serve chilled. Cuisine: General Diet Type: Vegetarian  \\\\\\\\nRecipe ID: 512  \\\\\\\\nRecipe Name: Cucumber Lemon Cooler Ingredients: Cucumber, Lemon, Mint leaves, Sugar, Water  \\\\\\\\nQuantities (for 1 person): Cucumber: 1/2 (peeled), Lemon: 1/2, Mint leaves: 3-4, Sugar: 1 tsp, Water: 1/2 cup Cooking Time: 5 minutes Steps: Blend cucumber and mint with water, add lemon juice and sugar, then serve. Cuisine: General Diet Type: Vegan  \\\\\\\\nRecipe ID: 513  \\\\\\\\nRecipe Name: Papaya Smoothie Ingredients: Papaya, Milk, Honey Quantities (for 1 person):\",\"relative_path\":\"juices.pdf\",\"category\":\"Juices\"}],\"request_id\":\"2494b03c-e693-4bdc-995b-89dc9c05daee\"}',\n",
       " ['and serve chilled. Cuisine: General Diet Type: Vegan  \\\\nRecipe ID: 894  \\\\nRecipe Name: Pear Vanilla Delight Ingredients: Pear, Vanilla Extract, Honey Quantities (for 1 person): Pear: 1 (peeled and chopped), Vanilla Extract: 1/4 tsp, Honey: 1 tsp Cooking Time: 5 minutes Steps: Blend pear with vanilla extract and honey, strain, and serve chilled. Cuisine: General Diet Type: Vegan  \\\\nRecipe ID: 895  \\\\nRecipe Name: Cherry Lime Fizz Ingredients: Cherry, Lime, Sparkling Water Quantities (for 1 person): Cherry: 1/2 cup (pitted), Lime: 1/2 (juiced), Sparkling Water: 1/2 cup Cooking Time: 5 minutes Steps: Blend cherries, strain, mix with lime juice and sparkling water, and serve chilled. Cuisine: General Diet Type: Vegan  \\\\nRecipe ID: 896  \\\\nRecipe Name: Pineapple Ginger Cooler Ingredients: Pineapple, Ginger, Coconut Water Quantities (for 1 person): Pineapple: 1/2 cup (cubed), Ginger: 1/4 tsp (grated), Coconut Water: 1/2 cup Cooking Time: 5 minutes Steps: Blend pineapple and ginger, strain,',\n",
       "  'Milk: 1/2 cup Cooking Time: 5 minutes Steps: Blend strawberry, banana, and almond milk, then serve chilled. Cuisine: General Diet Type: Vegan  \\\\nRecipe ID: 764  \\\\nRecipe Name: Carrot Lemonade Ingredients: Carrot, Lemon, Agave Syrup Quantities (for 1 person): Carrot: 2 (peeled), Lemon: 1 (peeled), Agave Syrup: 1 tsp Cooking Time: 5 minutes Steps: Blend carrot and lemon, strain, add agave syrup, and serve chilled. Cuisine: General Diet Type: Vegan  \\\\nRecipe ID: 765  \\\\nRecipe Name: Pineapple Coconut Breeze Ingredients: Pineapple, Coconut Milk, Lime Quantities (for 1 person): Pineapple: 1 cup (cubed), Coconut Milk: 1/2 cup, Lime: 1/2 (peeled) Cooking Time: 5 minutes Steps: Blend pineapple, coconut milk, and lime, then serve chilled. Cuisine: Tropical Diet Type: Vegan  \\\\nRecipe ID: 766  \\\\nRecipe Name: Tropical Green Juice Ingredients: Spinach, Pineapple, Coconut Water  \\\\nQuantities (for 1 person): Spinach: 1 handful, Pineapple: 1 cup (cubed), Coconut Water: 1/2 cup Cooking Time: 5 minutes',\n",
       "  '1/2 (peeled), Yogurt: 1/4 cup, Honey: 1 tsp Cooking Time: 5 minutes Steps: Blend mango, yogurt, and honey until smooth, then serve chilled. Cuisine: Indian Diet Type: Vegetarian  \\\\nRecipe ID: 511  \\\\nRecipe Name: Strawberry Banana Smoothie Ingredients: Strawberries, Banana, Milk, Honey Quantities (for 1 person): Strawberries: 1/4 cup, Banana: 1/2, Milk: 1/2 cup, Honey: 1 tsp Cooking Time: 5 minutes Steps: Blend strawberries, banana, milk, and honey until smooth, and serve chilled. Cuisine: General Diet Type: Vegetarian  \\\\nRecipe ID: 512  \\\\nRecipe Name: Cucumber Lemon Cooler Ingredients: Cucumber, Lemon, Mint leaves, Sugar, Water  \\\\nQuantities (for 1 person): Cucumber: 1/2 (peeled), Lemon: 1/2, Mint leaves: 3-4, Sugar: 1 tsp, Water: 1/2 cup Cooking Time: 5 minutes Steps: Blend cucumber and mint with water, add lemon juice and sugar, then serve. Cuisine: General Diet Type: Vegan  \\\\nRecipe ID: 513  \\\\nRecipe Name: Papaya Smoothie Ingredients: Papaya, Milk, Honey Quantities (for 1 person):'])"
      ]
     },
     "execution_count": 11,
     "metadata": {},
     "output_type": "execute_result"
    }
   ],
   "source": [
    "my_retrieved_context"
   ]
  },
  {
   "cell_type": "markdown",
   "metadata": {},
   "source": [
    "#### Feedback function"
   ]
  },
  {
   "cell_type": "code",
   "execution_count": 12,
   "metadata": {},
   "outputs": [
    {
     "name": "stdout",
     "output_type": "stream",
     "text": [
      "✅ In Context Relevance, input question will be set to __record__.app.get_similar_chunks_search_service.args.query .\n",
      "✅ In Context Relevance, input context will be set to __record__.app.get_similar_chunks_search_service.rets.collect() .\n"
     ]
    }
   ],
   "source": [
    "from trulens.providers.cortex.provider import Cortex\n",
    "from trulens.core import Feedback\n",
    "from trulens.core import Select\n",
    "import numpy as np\n",
    "\n",
    "provider = Cortex(session, \"mistral-large2\")\n",
    "\n",
    "f_context_relevance = (\n",
    "    Feedback(provider.context_relevance, name=\"Context Relevance\")\n",
    "    .on(Select.RecordCalls.get_similar_chunks_search_service.args['query'])\n",
    "    .on(Select.RecordCalls.get_similar_chunks_search_service.rets.collect())\n",
    "    .aggregate(np.mean)\n",
    ")"
   ]
  },
  {
   "cell_type": "code",
   "execution_count": 13,
   "metadata": {},
   "outputs": [
    {
     "data": {
      "text/plain": [
       "0.3333333333333333"
      ]
     },
     "execution_count": 13,
     "metadata": {},
     "output_type": "execute_result"
    }
   ],
   "source": [
    "f_context_relevance(\"How to make vanilla milk shake?\", my_retrieved_context)"
   ]
  },
  {
   "cell_type": "markdown",
   "metadata": {},
   "source": [
    "#### Register the app"
   ]
  },
  {
   "cell_type": "code",
   "execution_count": 14,
   "metadata": {},
   "outputs": [
    {
     "name": "stdout",
     "output_type": "stream",
     "text": [
      "instrumenting <class '__main__.MyCortexSearchRetriever'> for base <class '__main__.MyCortexSearchRetriever'>\n",
      "\tinstrumenting get_similar_chunks_search_service\n",
      "skipping base <class 'object'> because of class\n"
     ]
    }
   ],
   "source": [
    "from trulens.apps.custom import TruCustomApp\n",
    "\n",
    "my_tru_retriever = TruCustomApp(\n",
    "    myretriever,\n",
    "    app_name=\"My Retriever\",\n",
    "    app_version=\"base\",\n",
    "    feedbacks=[f_context_relevance],\n",
    ")"
   ]
  },
  {
   "cell_type": "code",
   "execution_count": 15,
   "metadata": {},
   "outputs": [
    {
     "name": "stderr",
     "output_type": "stream",
     "text": [
      "Could not find an instance of DummyEndpoint. trulens will create an endpoint for cost tracking.\n"
     ]
    },
    {
     "name": "stdout",
     "output_type": "stream",
     "text": [
      "calling <function MyCortexSearchRetriever.get_similar_chunks_search_service at 0x77c042a02c00> with (<__main__.MyCortexSearchRetriever object at 0x77c043332b90>,)\n"
     ]
    },
    {
     "name": "stderr",
     "output_type": "stream",
     "text": [
      "/tmp/ipykernel_894/3009735916.py:21: PydanticDeprecatedSince20: The `json` method is deprecated; use `model_dump_json` instead. Deprecated in Pydantic V2.0 to be removed in V3.0. See Pydantic V2 Migration Guide at https://errors.pydantic.dev/2.10/migration/\n",
      "  return response.json(), output\n",
      "Unsure what the main input string is for the call to get_similar_chunks_search_service with args <BoundArguments (self=<__main__.MyCortexSearchRetriever object at 0x77c043332b90>, query='How to make cocunut milk?', category='Juices')>.\n"
     ]
    }
   ],
   "source": [
    "with my_tru_retriever as recording:\n",
    "    retrieved_documents = myretriever.get_similar_chunks_search_service(query=\"How to make cocunut milk?\", category=\"Juices\")"
   ]
  },
  {
   "cell_type": "code",
   "execution_count": 16,
   "metadata": {},
   "outputs": [
    {
     "data": {
      "text/plain": [
       "('{\"results\":[{\"chunk\":\"coconut milk until smooth. Serve immediately. Cuisine: General Diet Type: Vegan  \\\\\\\\nRecipe ID: 557  \\\\\\\\nRecipe Name: Pineapple Coconut Cooler Ingredients: Pineapple, Coconut water, Lime Quantities (for 1 person): Pineapple: 1/2 cup (cubed), Coconut water: 1/2 cup, Lime: 1/2 Cooking Time: 5 minutes Steps: Blend pineapple with coconut water, add lime juice, and serve chilled. Cuisine: General Diet Type: Vegan  \\\\\\\\nRecipe ID: 558  \\\\\\\\nRecipe Name: Mixed Berry Sparkler Ingredients: Mixed berries (strawberries, blueberries, raspberries), Lemon, Soda water Quantities (for 1 person): Mixed berries: 1/2 cup, Lemon: 1/2, Soda water: 1/2 cup Cooking Time: 5 minutes Steps: Blend mixed berries, strain, add lemon juice, and top with soda water. Serve cold. Cuisine: General Diet Type: Vegan  \\\\\\\\nRecipe ID: 559  \\\\\\\\nRecipe Name: Honeydew Mint Cooler Ingredients: Honeydew melon, Mint leaves, Lime Quantities (for 1 person): Honeydew melon: 1/2 cup (cubed), Mint leaves: 4-5, Lime: 1/2 Cooking Time: 5 minutes\",\"category\":\"Juices\",\"relative_path\":\"juices.pdf\"},{\"chunk\":\"minutes Steps: Blend watermelon, mix with coconut water, garnish with mint leaves, and serve chilled. Cuisine: General Diet Type: Vegan  \\\\\\\\nRecipe ID: 555  \\\\\\\\nRecipe Name: Cucumber Lime Spritzer Ingredients: Cucumber, Lime, Sparkling water Quantities (for 1 person): Cucumber: 1/2 (sliced), Lime: 1/2, Sparkling water: 1/2 cup Cooking Time: 5 minutes Steps: Blend cucumber with a bit of water, strain, add lime juice, and top with sparkling water. Serve cold. Cuisine: General Diet Type: Vegan  \\\\\\\\nRecipe ID: 556  \\\\\\\\nRecipe Name: Mango Turmeric Smoothie Ingredients: Mango, Turmeric, Coconut milk Quantities (for 1 person): Mango: 1/2 cup (cubed), Turmeric: 1/4 tsp, Coconut milk: 1/2 cup Cooking Time: 5 minutes Steps: Blend mango with turmeric and coconut milk until smooth. Serve immediately. Cuisine: General Diet Type: Vegan  \\\\\\\\nRecipe ID: 557  \\\\\\\\nRecipe Name: Pineapple Coconut Cooler Ingredients: Pineapple, Coconut water, Lime Quantities (for 1 person): Pineapple: 1/2 cup (cubed), Coconut water:\",\"category\":\"Juices\",\"relative_path\":\"juices.pdf\"},{\"chunk\":\"milk, Lime Quantities (for 1 person): Pineapple: 1/2 cup (cubed), Coconut milk: 1/4 cup, Lime: 1/2 (peeled) Cooking Time: 5 minutes Steps: Blend pineapple and coconut milk, strain, add lime juice, and serve chilled Cuisine: Tropical Diet Type: Vegan  \\\\\\\\nRecipe ID: 682  \\\\\\\\nRecipe Name: Mango Banana Smoothie Ingredients: Mango, Banana, Almond milk Quantities (for 1 person): Mango: 1/2 (peeled), Banana: 1, Almond milk: 1/2 cup Cooking Time: 5 minutes Steps: Blend mango, banana, and almond milk, strain if needed, and serve chilled. Cuisine: General Diet Type: Vegan  \\\\\\\\nRecipe ID: 683  \\\\\\\\nRecipe Name: Blueberry Lemon Twist Ingredients: Blueberries, Lemon, Honey Quantities (for 1 person): Blueberries: 1/2 cup, Lemon: 1/2 (peeled), Honey: 1 tsp Cooking Time: 5 minutes Steps: Blend blueberries and lemon, strain, add honey, and serve chilled. Cuisine: General Diet Type: Vegan  \\\\\\\\nRecipe ID: 684  \\\\\\\\nRecipe Name: Kiwi Pineapple Crush Ingredients: Kiwi, Pineapple, Coconut water Quantities (for 1\",\"category\":\"Juices\",\"relative_path\":\"juices.pdf\"}],\"request_id\":\"968647cc-1dc9-48af-a502-de3d202f06cb\"}',\n",
       " ['coconut milk until smooth. Serve immediately. Cuisine: General Diet Type: Vegan  \\\\nRecipe ID: 557  \\\\nRecipe Name: Pineapple Coconut Cooler Ingredients: Pineapple, Coconut water, Lime Quantities (for 1 person): Pineapple: 1/2 cup (cubed), Coconut water: 1/2 cup, Lime: 1/2 Cooking Time: 5 minutes Steps: Blend pineapple with coconut water, add lime juice, and serve chilled. Cuisine: General Diet Type: Vegan  \\\\nRecipe ID: 558  \\\\nRecipe Name: Mixed Berry Sparkler Ingredients: Mixed berries (strawberries, blueberries, raspberries), Lemon, Soda water Quantities (for 1 person): Mixed berries: 1/2 cup, Lemon: 1/2, Soda water: 1/2 cup Cooking Time: 5 minutes Steps: Blend mixed berries, strain, add lemon juice, and top with soda water. Serve cold. Cuisine: General Diet Type: Vegan  \\\\nRecipe ID: 559  \\\\nRecipe Name: Honeydew Mint Cooler Ingredients: Honeydew melon, Mint leaves, Lime Quantities (for 1 person): Honeydew melon: 1/2 cup (cubed), Mint leaves: 4-5, Lime: 1/2 Cooking Time: 5 minutes',\n",
       "  'minutes Steps: Blend watermelon, mix with coconut water, garnish with mint leaves, and serve chilled. Cuisine: General Diet Type: Vegan  \\\\nRecipe ID: 555  \\\\nRecipe Name: Cucumber Lime Spritzer Ingredients: Cucumber, Lime, Sparkling water Quantities (for 1 person): Cucumber: 1/2 (sliced), Lime: 1/2, Sparkling water: 1/2 cup Cooking Time: 5 minutes Steps: Blend cucumber with a bit of water, strain, add lime juice, and top with sparkling water. Serve cold. Cuisine: General Diet Type: Vegan  \\\\nRecipe ID: 556  \\\\nRecipe Name: Mango Turmeric Smoothie Ingredients: Mango, Turmeric, Coconut milk Quantities (for 1 person): Mango: 1/2 cup (cubed), Turmeric: 1/4 tsp, Coconut milk: 1/2 cup Cooking Time: 5 minutes Steps: Blend mango with turmeric and coconut milk until smooth. Serve immediately. Cuisine: General Diet Type: Vegan  \\\\nRecipe ID: 557  \\\\nRecipe Name: Pineapple Coconut Cooler Ingredients: Pineapple, Coconut water, Lime Quantities (for 1 person): Pineapple: 1/2 cup (cubed), Coconut water:',\n",
       "  'milk, Lime Quantities (for 1 person): Pineapple: 1/2 cup (cubed), Coconut milk: 1/4 cup, Lime: 1/2 (peeled) Cooking Time: 5 minutes Steps: Blend pineapple and coconut milk, strain, add lime juice, and serve chilled Cuisine: Tropical Diet Type: Vegan  \\\\nRecipe ID: 682  \\\\nRecipe Name: Mango Banana Smoothie Ingredients: Mango, Banana, Almond milk Quantities (for 1 person): Mango: 1/2 (peeled), Banana: 1, Almond milk: 1/2 cup Cooking Time: 5 minutes Steps: Blend mango, banana, and almond milk, strain if needed, and serve chilled. Cuisine: General Diet Type: Vegan  \\\\nRecipe ID: 683  \\\\nRecipe Name: Blueberry Lemon Twist Ingredients: Blueberries, Lemon, Honey Quantities (for 1 person): Blueberries: 1/2 cup, Lemon: 1/2 (peeled), Honey: 1 tsp Cooking Time: 5 minutes Steps: Blend blueberries and lemon, strain, add honey, and serve chilled. Cuisine: General Diet Type: Vegan  \\\\nRecipe ID: 684  \\\\nRecipe Name: Kiwi Pineapple Crush Ingredients: Kiwi, Pineapple, Coconut water Quantities (for 1'])"
      ]
     },
     "execution_count": 16,
     "metadata": {},
     "output_type": "execute_result"
    }
   ],
   "source": [
    "retrieved_documents"
   ]
  },
  {
   "cell_type": "code",
   "execution_count": 17,
   "metadata": {},
   "outputs": [
    {
     "data": {
      "text/html": [
       "<div>\n",
       "<style scoped>\n",
       "    .dataframe tbody tr th:only-of-type {\n",
       "        vertical-align: middle;\n",
       "    }\n",
       "\n",
       "    .dataframe tbody tr th {\n",
       "        vertical-align: top;\n",
       "    }\n",
       "\n",
       "    .dataframe thead th {\n",
       "        text-align: right;\n",
       "    }\n",
       "</style>\n",
       "<table border=\"1\" class=\"dataframe\">\n",
       "  <thead>\n",
       "    <tr style=\"text-align: right;\">\n",
       "      <th></th>\n",
       "      <th></th>\n",
       "      <th>Context Relevance</th>\n",
       "      <th>latency</th>\n",
       "      <th>total_cost</th>\n",
       "    </tr>\n",
       "    <tr>\n",
       "      <th>app_name</th>\n",
       "      <th>app_version</th>\n",
       "      <th></th>\n",
       "      <th></th>\n",
       "      <th></th>\n",
       "    </tr>\n",
       "  </thead>\n",
       "  <tbody>\n",
       "    <tr>\n",
       "      <th>RAG</th>\n",
       "      <th>simple</th>\n",
       "      <td>0.333333</td>\n",
       "      <td>0.609406</td>\n",
       "      <td>0.0</td>\n",
       "    </tr>\n",
       "    <tr>\n",
       "      <th>My Retriever</th>\n",
       "      <th>base</th>\n",
       "      <td>0.133333</td>\n",
       "      <td>0.564138</td>\n",
       "      <td>0.0</td>\n",
       "    </tr>\n",
       "    <tr>\n",
       "      <th>FOMC Retriever</th>\n",
       "      <th>base</th>\n",
       "      <td>0.000000</td>\n",
       "      <td>1.133732</td>\n",
       "      <td>0.0</td>\n",
       "    </tr>\n",
       "  </tbody>\n",
       "</table>\n",
       "</div>"
      ],
      "text/plain": [
       "                            Context Relevance   latency  total_cost\n",
       "app_name       app_version                                         \n",
       "RAG            simple                0.333333  0.609406         0.0\n",
       "My Retriever   base                  0.133333  0.564138         0.0\n",
       "FOMC Retriever base                  0.000000  1.133732         0.0"
      ]
     },
     "execution_count": 17,
     "metadata": {},
     "output_type": "execute_result"
    }
   ],
   "source": [
    "tru_session.get_leaderboard()"
   ]
  },
  {
   "cell_type": "code",
   "execution_count": 18,
   "metadata": {},
   "outputs": [
    {
     "data": {
      "text/plain": [
       "<bound method App.print_instrumented of TruCustomApp(tru_class_info=trulens.apps.custom.TruCustomApp, app_id='app_hash_84a87cac3345064b3a989607f4da64e0', app_name='My Retriever', app_version='base', tags='-', metadata={}, feedback_definitions=['feedback_definition_hash_388f492b63577414ec7b816ff1cbe398'], feedback_mode=<FeedbackMode.WITH_APP_THREAD: 'with_app_thread'>, record_ingest_mode=<RecordIngestMode.IMMEDIATE: 'immediate'>, root_class=__main__.MyCortexSearchRetriever, app=<__main__.MyCortexSearchRetriever object at 0x77c043332b90>, initial_app_loader_dump=None, app_extra_json={}, feedbacks=[FeedbackDefinition(Context Relevance,\n",
       "\tselectors={'question': Lens().__record__.app.get_similar_chunks_search_service.args.query, 'context': Lens().__record__.app.get_similar_chunks_search_service.rets.collect()},\n",
       "\tif_exists=None\n",
       ")], session=TruSession(RETRY_RUNNING_SECONDS=60.0, RETRY_FAILED_SECONDS=300.0, DEFERRED_NUM_RUNS=32, RECORDS_BATCH_TIMEOUT_IN_SEC=10, GROUND_TRUTHS_BATCH_SIZE=100, connector=<trulens.core.database.connector.default.DefaultDBConnector object at 0x77c04362b610>), instrument=<trulens.core.instruments.Instrument object at 0x77c02f299990>, recording_contexts=<ContextVar name='recording_contexts' default=None at 0x77c02e338360>, instrumented_methods={131667644853136: {<function MyCortexSearchRetriever.get_similar_chunks_search_service at 0x77c042a02c00>: Lens().app}}, records_with_pending_feedback_results=BlockingSet(), manage_pending_feedback_results_thread=<Thread(manage_pending_feedback_results_thread(app_name=My Retriever, app_version=base), started daemon 131667292051200)>, selector_check_warning=False, selector_nocheck=False, main_method_loaded=None, main_method=None)>"
      ]
     },
     "execution_count": 18,
     "metadata": {},
     "output_type": "execute_result"
    }
   ],
   "source": [
    "my_tru_retriever.print_instrumented"
   ]
  },
  {
   "cell_type": "markdown",
   "metadata": {},
   "source": [
    "-----"
   ]
  },
  {
   "cell_type": "markdown",
   "metadata": {},
   "source": [
    "# RAG app"
   ]
  },
  {
   "cell_type": "code",
   "execution_count": 1,
   "metadata": {},
   "outputs": [],
   "source": [
    "from trulens.core import TruSession\n",
    "from trulens.apps.custom import instrument"
   ]
  },
  {
   "cell_type": "code",
   "execution_count": 2,
   "metadata": {},
   "outputs": [],
   "source": [
    "from snowflake.snowpark.session import Session\n",
    "from snowflake.core import Root"
   ]
  },
  {
   "cell_type": "code",
   "execution_count": 3,
   "metadata": {},
   "outputs": [],
   "source": [
    "import pandas as pd\n",
    "import json\n",
    "import numpy as np"
   ]
  },
  {
   "cell_type": "code",
   "execution_count": 5,
   "metadata": {},
   "outputs": [],
   "source": [
    "# Configuration\n",
    "NUM_CHUNKS = 3  # Number of chunks to retrieve\n",
    "SLIDE_WINDOW = 7  # Number of last conversations to remember\n",
    "CORTEX_SEARCH_DATABASE = \"CC_QUICKSTART_CORTEX_SEARCH_DOCS_3\"\n",
    "CORTEX_SEARCH_SCHEMA = \"DATA\"\n",
    "CORTEX_SEARCH_SERVICE = \"CC_SEARCH_SERVICE_CS\"\n",
    "COLUMNS = [\n",
    "    \"chunk\",\n",
    "    \"relative_path\",\n",
    "    \"category\"\n",
    "]"
   ]
  },
  {
   "cell_type": "code",
   "execution_count": 6,
   "metadata": {},
   "outputs": [],
   "source": [
    "# Snowflake Connection and Session\n",
    "connection_params = {\n",
    "    \"account\": \"bqxccfa-rob58877\",\n",
    "    \"user\": \"MOUSTAFAISMAIL\",\n",
    "    \"password\": \"DLayihJ3:6JCz42\",\n",
    "    \"warehouse\": \"COMPUTE_WH\",\n",
    "    \"database\": \"CC_QUICKSTART_CORTEX_SEARCH_DOCS_3\",\n",
    "    \"schema\": \"DATA\",\n",
    "    \"role\": \"ACCOUNTADMIN\",\n",
    "}"
   ]
  },
  {
   "cell_type": "code",
   "execution_count": 7,
   "metadata": {},
   "outputs": [],
   "source": [
    "# Get active Snowflake session\n",
    "session = Session.builder.configs(connection_params).create()\n",
    "root = Root(session)\n",
    "svc = root.databases[CORTEX_SEARCH_DATABASE].schemas[CORTEX_SEARCH_SCHEMA].cortex_search_services[CORTEX_SEARCH_SERVICE]"
   ]
  },
  {
   "cell_type": "code",
   "execution_count": 8,
   "metadata": {},
   "outputs": [
    {
     "name": "stdout",
     "output_type": "stream",
     "text": [
      "🦑 Initialized with db url sqlite:///default.sqlite .\n",
      "🛑 Secret keys may be written to the database. See the `database_redact_keys` option of `TruSession` to prevent this.\n"
     ]
    }
   ],
   "source": [
    "# Start Trulens session\n",
    "tru_session = TruSession()"
   ]
  },
  {
   "cell_type": "code",
   "execution_count": 48,
   "metadata": {},
   "outputs": [
    {
     "name": "stdout",
     "output_type": "stream",
     "text": [
      "decorating <function RAG.retrieve_context at 0x7700001bdc60>\n",
      "decorating <function RAG.complete_query at 0x76fff046c4a0>\n",
      "decorating <function RAG.query at 0x76fff046d8a0>\n",
      "adding method <class '__main__.RAG'> retrieve_context __main__\n",
      "adding method <class '__main__.RAG'> complete_query __main__\n",
      "adding method <class '__main__.RAG'> query __main__\n"
     ]
    }
   ],
   "source": [
    "class RAG:\n",
    "\n",
    "    def __init__(self):\n",
    "        self.myretriever = MyCortexSearchRetriever()\n",
    "        \n",
    "    @instrument\n",
    "    def retrieve_context(self, query: str, category: str) -> list:\n",
    "        \"\"\"\n",
    "        Retrieve relevant text from vector store.\n",
    "        \"\"\"\n",
    "        return self.myretriever.get_similar_chunks_search_service(query, category)\n",
    "    \n",
    "\n",
    "    def create_prompt(self, query, category):\n",
    "        \"\"\"Create a prompt for the LLM with context from search results and chat history.\"\"\"\n",
    "\n",
    "        # if st.session_state.use_chat_history:\n",
    "        #     chat_history = get_chat_history()\n",
    "        #     if chat_history:\n",
    "        #         question_summary = summarize_question_with_history(chat_history, query)\n",
    "        #         prompt_context = rag.get_similar_chunks_search_service(question_summary, category)\n",
    "        #     else:\n",
    "        #         prompt_context = rag.get_similar_chunks_search_service(query, category)\n",
    "        # else:\n",
    "        #     prompt_context = rag.get_similar_chunks_search_service(query, category)\n",
    "        #     chat_history = \"\"\n",
    "\n",
    "        prompt_context, string_output = self.retrieve_context(query, category)\n",
    "\n",
    "        prompt = f\"\"\"\n",
    "        I am Ali, a friendly and witty chef who specializes in {category} recipes! I love helping people cook and finding the perfect recipes from our collection.\n",
    "\n",
    "        Conversation Flow:\n",
    "        1. When suggesting recipes:\n",
    "            - Prioritize recipes that makes use of all ingredients\n",
    "            - First list all matching recipes as numbered options\n",
    "            - Ask which recipe they'd like to know more about\n",
    "        2. When user selects a recipe, provide full details in this format:\n",
    "            Recipe Name:\n",
    "            Quantities (for 1 person):\n",
    "            Cooking Time:\n",
    "            Steps:\n",
    "            Cuisine:\n",
    "            General Diet Type:\n",
    "\n",
    "        \n",
    "        <context>\n",
    "        {prompt_context}\n",
    "        </context>\n",
    "\n",
    "        User Query: {query}\n",
    "        Current Category: {category}\n",
    "\n",
    "        Response (as Ali, friendly and category-aware):\n",
    "        \"\"\"\n",
    "\n",
    "        json_data = json.loads(prompt_context)\n",
    "        relative_paths = set(item.get('relative_path', '') for item in json_data['results'])\n",
    "        return prompt, relative_paths\n",
    "\n",
    "\n",
    "    @instrument\n",
    "    def complete_query(self, query, category):\n",
    "        \"\"\"Complete the query using Snowflake Cortex with Mistral model.\"\"\"\n",
    "        prompt, relative_paths = self.create_prompt(query, category)\n",
    "        cmd = \"\"\"\n",
    "            select snowflake.cortex.complete(?, ?) as response\n",
    "        \"\"\"\n",
    "        df_response = session.sql(cmd, params=['mistral-large', prompt]).collect()\n",
    "        resp = df_response[0].as_dict()['RESPONSE']\n",
    "        return df_response, relative_paths\n",
    "\n",
    "\n",
    "    @instrument\n",
    "    def query(self, query: str, category: str) -> str:\n",
    "        context_str = self.retrieve_context(query, category)\n",
    "        return self.complete_query(query, context_str)"
   ]
  },
  {
   "cell_type": "code",
   "execution_count": 49,
   "metadata": {},
   "outputs": [],
   "source": [
    "full_rag = RAG()"
   ]
  },
  {
   "cell_type": "code",
   "execution_count": 12,
   "metadata": {},
   "outputs": [
    {
     "name": "stderr",
     "output_type": "stream",
     "text": [
      "/tmp/ipykernel_709/3009735916.py:21: PydanticDeprecatedSince20: The `json` method is deprecated; use `model_dump_json` instead. Deprecated in Pydantic V2.0 to be removed in V3.0. See Pydantic V2 Migration Guide at https://errors.pydantic.dev/2.10/migration/\n",
      "  return response.json(), output\n"
     ]
    },
    {
     "name": "stdout",
     "output_type": "stream",
     "text": [
      "[Row(RESPONSE=' I found a couple of recipes that match your query. Here are your options:\\n        1. Chicken and Rice Skillet: This recipe includes chicken breast, rice, bell pepper, and chicken broth along with peas.\\n        2. Egg Fried Rice: This is an Asian dish with rice, eggs, soy sauce, and vegetables like peas and carrot.\\n\\n        Which recipe would you like to know more about?')]\n"
     ]
    }
   ],
   "source": [
    "full_rag = RAG()\n",
    "p = full_rag.complete_query(query=\"how to make chicken with peas?\", category=\"MainCourse\")\n",
    "print(p)"
   ]
  },
  {
   "cell_type": "code",
   "execution_count": 20,
   "metadata": {},
   "outputs": [
    {
     "name": "stderr",
     "output_type": "stream",
     "text": [
      "/tmp/ipykernel_709/3009735916.py:21: PydanticDeprecatedSince20: The `json` method is deprecated; use `model_dump_json` instead. Deprecated in Pydantic V2.0 to be removed in V3.0. See Pydantic V2 Migration Guide at https://errors.pydantic.dev/2.10/migration/\n",
      "  return response.json(), output\n"
     ]
    },
    {
     "data": {
      "text/plain": [
       "('\\n        I am Ali, a friendly and witty chef who specializes in MainCourse recipes! I love helping people cook and finding the perfect recipes from our collection.\\n\\n        Conversation Flow:\\n        1. When suggesting recipes:\\n            - Prioritize recipes that makes use of all ingredients\\n            - First list all matching recipes as numbered options\\n            - Ask which recipe they\\'d like to know more about\\n        2. When user selects a recipe, provide full details in this format:\\n            Recipe Name:\\n            Quantities (for 1 person):\\n            Cooking Time:\\n            Steps:\\n            Cuisine:\\n            General Diet Type:\\n\\n        \\n        <context>\\n        {\"results\":[{\"chunk\":\"Fried Rice Ingredients: Rice, Carrot, Peas, Soy sauce, Olive oil, Garlic, Green onions Quantities (for 1 person): Rice: 1/2 cup (cooked), Carrot: 1/2 (diced), Peas: 1/4 cup, Soy sauce: 1 tbsp, Olive oil: 1 tsp, Garlic: 1 clove (minced), Green onions: 1 (chopped Cooking Time: 15 minutes Steps: Heat olive oil in a pan, add garlic and cook for 1 minute. Add carrot and peas, cook for 3-4 minutes. Add cooked rice and soy sauce, stir-fry for another 5 minutes. Garnish with green onions. Serve hot. Cuisine: Asian Diet Type: Vegan  \\\\\\\\nRecipe ID: 332  \\\\\\\\nRecipe Name: Chicken and Rice Skillet Ingredients: Chicken breast, Rice, Bell pepper, Olive oil, Chicken broth, Salt, Pepper Quantities (for 1 person): Chicken breast: 1 (150 grams), Rice: 1/2 cup (uncooked), Bell pepper: 1/2 (sliced), Olive oil: 1 tsp, Chicken broth: 1/2 cup, Salt: pinch, Pepper: pinch Cooking Time: 20 minutes Steps: In a skillet, heat olive oil and cook the chicken breast until browned on both sides (7-8 minutes). Remove and\",\"relative_path\":\"main_dishes.pdf\",\"category\":\"MainCourse\"},{\"chunk\":\"Chicken breast: 1 (150 grams), Bell peppers: 1/2 (sliced), Pineapple: 1/4 cup (chunks), Soy sauce: 1 tbsp, Vinegar: 1 tsp, Olive oil: 1 tsp Cooking Time: 20 minutes Steps: Cook rice according to package instructions. In a pan, heat olive oil and cook chicken until browned. Add bell peppers and pineapple, cook for 3-4 minutes. Add soy sauce and vinegar, cook for another 2 minutes. Serve over rice. Cuisine: Asian Diet Type: Non-Vegetarian  \\\\\\\\nRecipe ID: 339  \\\\\\\\nRecipe Name: Egg Fried Rice Ingredients: Rice, Eggs, Soy sauce, Olive oil, Green peas, Carrot, Garlic Quantities (for 1 person): Rice: 1/2 cup (cooked), Eggs: 2, Soy sauce: 1 tbsp, Olive oil: 1 tsp, Green peas: 1/4 cup, Carrot: 1/2 (diced), Garlic: 1 clove (minced) Cooking Time: 15 minutes  \\\\\\\\nSteps: Heat olive oil in a pan, add garlic, and cook for 1 minute. Add carrot and peas, cook for 2 minutes. Push vegetables to the side, scramble eggs in the pan. Add rice and soy sauce, stir-fry for 5 minutes. Serve hot. Cuisine: Asian Diet\",\"category\":\"MainCourse\",\"relative_path\":\"main_dishes.pdf\"},{\"chunk\":\"peas:  \\\\\\\\n1/4 cup, Soy sauce: 1 tbsp, Olive oil: 1 tsp  \\\\\\\\n1/4 cup, Soy sauce: 1 tbsp, Olive oil: 1 tsp Cooking Time: 15 minutes Steps: Heat olive oil, sauté carrots and peas, add rice and soy sauce, stir-fry for 3-4 minutes, and serve. Cuisine: Asian Diet Type: Vegan  \\\\\\\\nRecipe ID: 263  \\\\\\\\nRecipe Name: Lemon Rice Ingredients: Rice, Lemon, Mustard seeds, Olive oil, Curry leaves Quantities (for 1 person): Rice: 1/2 cup (cooked), Lemon: 1/2 (juiced), Mustard seeds: 1/2 tsp, Olive oil: 1 tsp, Curry leaves: 4-5 Cooking Time: 15 minutes Steps: Heat olive oil, sauté mustard seeds and curry leaves, add cooked rice and lemon juice, stir well, and serve. Cuisine: Indian Diet Type: Vegan  \\\\\\\\nRecipe ID: 264  \\\\\\\\nRecipe Name: Chicken Biryani Ingredients: Rice, Chicken breast, Onion, Garlic, Biryani masala Quantities (for 1 person): Rice: 1/2 cup, Chicken breast: 1 (diced), Onion: 1/4 (chopped), Garlic: 1 clove (minced), Biryani masala: 1 tsp Cooking Time: 20 minutes Steps: Cook rice, sauté chicken with\",\"relative_path\":\"main_dishes.pdf\",\"category\":\"MainCourse\"}],\"request_id\":\"e3a44854-b21d-4547-aef0-5d5ab021f3b1\"}\\n        </context>\\n\\n        User Query: how to make chicken with peas?\\n        Current Category: MainCourse\\n\\n        Response (as Ali, friendly and category-aware):\\n        ',\n",
       " {'main_dishes.pdf'})"
      ]
     },
     "execution_count": 20,
     "metadata": {},
     "output_type": "execute_result"
    }
   ],
   "source": [
    "full_rag.create_prompt(query=\"how to make chicken with peas?\", category=\"MainCourse\")"
   ]
  },
  {
   "cell_type": "code",
   "execution_count": null,
   "metadata": {},
   "outputs": [],
   "source": [
    "print(p[0][0].as_dict()['RESPONSE'])"
   ]
  },
  {
   "cell_type": "code",
   "execution_count": null,
   "metadata": {},
   "outputs": [],
   "source": [
    "f_context_relevance = (\n",
    "    Feedback(provider.context_relevance, name=\"Context Relevance\")\n",
    "    .on(Select.RecordCalls.get_similar_chunks_search_service.args['query'])\n",
    "    .on(Select.RecordCalls.get_similar_chunks_search_service.rets.collect())\n",
    "    .aggregate(np.mean)\n",
    ")"
   ]
  },
  {
   "cell_type": "code",
   "execution_count": 51,
   "metadata": {},
   "outputs": [
    {
     "name": "stdout",
     "output_type": "stream",
     "text": [
      "✅ In Groundedness, input source will be set to __record__.app.retrieve_context.rets.collect() .\n",
      "✅ In Groundedness, input statement will be set to __record__.main_output or `Select.RecordOutput` .\n",
      "✅ In Context Relevance, input question will be set to __record__.main_input or `Select.RecordInput` .\n",
      "✅ In Context Relevance, input context will be set to __record__.app.retrieve_context.rets.collect() .\n",
      "✅ In Answer Relevance, input prompt will be set to __record__.main_input or `Select.RecordInput` .\n",
      "✅ In Answer Relevance, input response will be set to __record__.main_output or `Select.RecordOutput` .\n"
     ]
    }
   ],
   "source": [
    "from functools import partial\n",
    "from trulens.providers.cortex.provider import Cortex\n",
    "from trulens.core import Feedback\n",
    "from trulens.core import Select\n",
    "import numpy as np\n",
    "\n",
    "\n",
    "provider = Cortex(session, \"mistral-large2\")\n",
    "\n",
    "f_groundedness = (\n",
    "    Feedback(partial(provider.groundedness_measure_with_cot_reasons,\n",
    "            use_sent_tokenize=False), name=\"Groundedness\")\n",
    "    .on(Select.RecordCalls.retrieve_context.rets.collect())\n",
    "    .on_output()\n",
    ")\n",
    "\n",
    "f_context_relevance = (\n",
    "    Feedback(provider.context_relevance, name=\"Context Relevance\")\n",
    "    .on_input()\n",
    "    .on(Select.RecordCalls.retrieve_context.rets.collect())\n",
    "    .aggregate(np.mean)\n",
    ")\n",
    "\n",
    "f_answer_relevance = (\n",
    "    Feedback(provider.relevance, name=\"Answer Relevance\")\n",
    "    .on_input()\n",
    "    .on_output()\n",
    "    .aggregate(np.mean)\n",
    ")"
   ]
  },
  {
   "cell_type": "code",
   "execution_count": 52,
   "metadata": {},
   "outputs": [
    {
     "name": "stderr",
     "output_type": "stream",
     "text": [
      "Function <function RAG.retrieve_context at 0x770010c8d800> was not found during instrumentation walk. Make sure it is accessible by traversing app <__main__.RAG object at 0x770000bc94d0> or provide a bound method for it as TruCustomApp constructor argument `methods_to_instrument`.\n",
      "Function <function RAG.retrieve_context at 0x770000186e80> was not found during instrumentation walk. Make sure it is accessible by traversing app <__main__.RAG object at 0x770000bc94d0> or provide a bound method for it as TruCustomApp constructor argument `methods_to_instrument`.\n",
      "Function <function RAG.complete_query at 0x76fff37f5a80> was not found during instrumentation walk. Make sure it is accessible by traversing app <__main__.RAG object at 0x770000bc94d0> or provide a bound method for it as TruCustomApp constructor argument `methods_to_instrument`.\n",
      "Function <function RAG.retrieve_context at 0x76fff37f56c0> was not found during instrumentation walk. Make sure it is accessible by traversing app <__main__.RAG object at 0x770000bc94d0> or provide a bound method for it as TruCustomApp constructor argument `methods_to_instrument`.\n",
      "Function <function RAG.complete_query at 0x770000187ce0> was not found during instrumentation walk. Make sure it is accessible by traversing app <__main__.RAG object at 0x770000bc94d0> or provide a bound method for it as TruCustomApp constructor argument `methods_to_instrument`.\n",
      "Function <function RAG.complete_query at 0x770013c087c0> was not found during instrumentation walk. Make sure it is accessible by traversing app <__main__.RAG object at 0x770000bc94d0> or provide a bound method for it as TruCustomApp constructor argument `methods_to_instrument`.\n"
     ]
    },
    {
     "name": "stdout",
     "output_type": "stream",
     "text": [
      "instrumenting <class '__main__.MyCortexSearchRetriever'> for base <class '__main__.MyCortexSearchRetriever'>\n",
      "\tinstrumenting get_similar_chunks_search_service\n",
      "skipping base <class 'object'> because of class\n",
      "instrumenting <class '__main__.RAG'> for base <class '__main__.RAG'>\n",
      "\tinstrumenting retrieve_context\n",
      "\tinstrumenting complete_query\n",
      "\tinstrumenting query\n",
      "skipping base <class 'object'> because of class\n"
     ]
    }
   ],
   "source": [
    "from trulens.apps.custom import TruCustomApp\n",
    "\n",
    "full_tru_rag = TruCustomApp(\n",
    "    full_rag,\n",
    "    app_name=\"RAG\",\n",
    "    app_version=\"simple\",\n",
    "    feedbacks=[\n",
    "        f_groundedness,\n",
    "        f_answer_relevance,\n",
    "        f_context_relevance\n",
    "        ],\n",
    "    )"
   ]
  },
  {
   "cell_type": "code",
   "execution_count": 53,
   "metadata": {},
   "outputs": [
    {
     "name": "stdout",
     "output_type": "stream",
     "text": [
      "calling <function RAG.query at 0x76fff046d8a0> with (<__main__.RAG object at 0x770000bc94d0>,)\n",
      "calling <function RAG.retrieve_context at 0x7700001bdc60> with (<__main__.RAG object at 0x770000bc94d0>, 'how to make chicken with peas?', 'MainCourse')\n",
      "calling <function MyCortexSearchRetriever.get_similar_chunks_search_service at 0x770010c8de40> with (<__main__.MyCortexSearchRetriever object at 0x770001455590>, 'how to make chicken with peas?', 'MainCourse')\n"
     ]
    },
    {
     "name": "stderr",
     "output_type": "stream",
     "text": [
      "/tmp/ipykernel_709/3009735916.py:21: PydanticDeprecatedSince20: The `json` method is deprecated; use `model_dump_json` instead. Deprecated in Pydantic V2.0 to be removed in V3.0. See Pydantic V2 Migration Guide at https://errors.pydantic.dev/2.10/migration/\n",
      "  return response.json(), output\n",
      "Error calling wrapped function get_similar_chunks_search_service.\n",
      "snowflake.core.exceptions.APIError: (400)\n",
      "Reason: Bad Request\n",
      "Error Message: Invalid filter query: Invalid argument: Expected a string but got [\"{\\\"results\\\":[{\\\"chunk\\\":\\\"Fried Rice Ingredients: Rice, Carrot, Peas, Soy sauce, Olive oil, Garlic, Green onions Quantities (for 1 person): Rice: 1/2 cup (cooked), Carrot: 1/2 (diced), Peas: 1/4 cup, Soy sauce: 1 tbsp, Olive oil: 1 tsp, Garlic: 1 clove (minced), Green onions: 1 (chopped Cooking Time: 15 minutes Steps: Heat olive oil in a pan, add garlic and cook for 1 minute. Add carrot and peas, cook for 3-4 minutes. Add cooked rice and soy sauce, stir-fry for another 5 minutes. Garnish with green onions. Serve hot. Cuisine: Asian Diet Type: Vegan  \\\\\\\\nRecipe ID: 332  \\\\\\\\nRecipe Name: Chicken and Rice Skillet Ingredients: Chicken breast, Rice, Bell pepper, Olive oil, Chicken broth, Salt, Pepper Quantities (for 1 person): Chicken breast: 1 (150 grams), Rice: 1/2 cup (uncooked), Bell pepper: 1/2 (sliced), Olive oil: 1 tsp, Chicken broth: 1/2 cup, Salt: pinch, Pepper: pinch Cooking Time: 20 minutes Steps: In a skillet, heat olive oil and cook the chicken breast until browned on both sides (7-8 minutes). Remove and\\\",\\\"category\\\":\\\"MainCourse\\\",\\\"relative_path\\\":\\\"main_dishes.pdf\\\"},{\\\"chunk\\\":\\\"Chicken breast: 1 (150 grams), Bell peppers: 1/2 (sliced), Pineapple: 1/4 cup (chunks), Soy sauce: 1 tbsp, Vinegar: 1 tsp, Olive oil: 1 tsp Cooking Time: 20 minutes Steps: Cook rice according to package instructions. In a pan, heat olive oil and cook chicken until browned. Add bell peppers and pineapple, cook for 3-4 minutes. Add soy sauce and vinegar, cook for another 2 minutes. Serve over rice. Cuisine: Asian Diet Type: Non-Vegetarian  \\\\\\\\nRecipe ID: 339  \\\\\\\\nRecipe Name: Egg Fried Rice Ingredients: Rice, Eggs, Soy sauce, Olive oil, Green peas, Carrot, Garlic Quantities (for 1 person): Rice: 1/2 cup (cooked), Eggs: 2, Soy sauce: 1 tbsp, Olive oil: 1 tsp, Green peas: 1/4 cup, Carrot: 1/2 (diced), Garlic: 1 clove (minced) Cooking Time: 15 minutes  \\\\\\\\nSteps: Heat olive oil in a pan, add garlic, and cook for 1 minute. Add carrot and peas, cook for 2 minutes. Push vegetables to the side, scramble eggs in the pan. Add rice and soy sauce, stir-fry for 5 minutes. Serve hot. Cuisine: Asian Diet\\\",\\\"category\\\":\\\"MainCourse\\\",\\\"relative_path\\\":\\\"main_dishes.pdf\\\"},{\\\"chunk\\\":\\\"peas:  \\\\\\\\n1/4 cup, Soy sauce: 1 tbsp, Olive oil: 1 tsp  \\\\\\\\n1/4 cup, Soy sauce: 1 tbsp, Olive oil: 1 tsp Cooking Time: 15 minutes Steps: Heat olive oil, sauté carrots and peas, add rice and soy sauce, stir-fry for 3-4 minutes, and serve. Cuisine: Asian Diet Type: Vegan  \\\\\\\\nRecipe ID: 263  \\\\\\\\nRecipe Name: Lemon Rice Ingredients: Rice, Lemon, Mustard seeds, Olive oil, Curry leaves Quantities (for 1 person): Rice: 1/2 cup (cooked), Lemon: 1/2 (juiced), Mustard seeds: 1/2 tsp, Olive oil: 1 tsp, Curry leaves: 4-5 Cooking Time: 15 minutes Steps: Heat olive oil, sauté mustard seeds and curry leaves, add cooked rice and lemon juice, stir well, and serve. Cuisine: Indian Diet Type: Vegan  \\\\\\\\nRecipe ID: 264  \\\\\\\\nRecipe Name: Chicken Biryani Ingredients: Rice, Chicken breast, Onion, Garlic, Biryani masala Quantities (for 1 person): Rice: 1/2 cup, Chicken breast: 1 (diced), Onion: 1/4 (chopped), Garlic: 1 clove (minced), Biryani masala: 1 tsp Cooking Time: 20 minutes Steps: Cook rice, sauté chicken with\\\",\\\"relative_path\\\":\\\"main_dishes.pdf\\\",\\\"category\\\":\\\"MainCourse\\\"}],\\\"request_id\\\":\\\"a50993a9-c23b-4ce3-97f3-96db4e616d8d\\\"}\" [\"Fried Rice Ingredients: Rice, Carrot, Peas, Soy sauce, Olive oil, Garlic, Green onions Quantities (for 1 person): Rice: 1/2 cup (cooked), Carrot: 1/2 (diced), Peas: 1/4 cup, Soy sauce: 1 tbsp, Olive oil: 1 tsp, Garlic: 1 clove (minced), Green onions: 1 (chopped Cooking Time: 15 minutes Steps: Heat olive oil in a pan, add garlic and cook for 1 minute. Add carrot and peas, cook for 3-4 minutes. Add cooked rice and soy sauce, stir-fry for another 5 minutes. Garnish with green onions. Serve hot. Cuisine: Asian Diet Type: Vegan  \\\\nRecipe ID: 332  \\\\nRecipe Name: Chicken and Rice Skillet Ingredients: Chicken breast, Rice, Bell pepper, Olive oil, Chicken broth, Salt, Pepper Quantities (for 1 person): Chicken breast: 1 (150 grams), Rice: 1/2 cup (uncooked), Bell pepper: 1/2 (sliced), Olive oil: 1 tsp, Chicken broth: 1/2 cup, Salt: pinch, Pepper: pinch Cooking Time: 20 minutes Steps: In a skillet, heat olive oil and cook the chicken breast until browned on both sides (7-8 minutes). Remove and\" \"Chicken breast: 1 (150 grams), Bell peppers: 1/2 (sliced), Pineapple: 1/4 cup (chunks), Soy sauce: 1 tbsp, Vinegar: 1 tsp, Olive oil: 1 tsp Cooking Time: 20 minutes Steps: Cook rice according to package instructions. In a pan, heat olive oil and cook chicken until browned. Add bell peppers and pineapple, cook for 3-4 minutes. Add soy sauce and vinegar, cook for another 2 minutes. Serve over rice. Cuisine: Asian Diet Type: Non-Vegetarian  \\\\nRecipe ID: 339  \\\\nRecipe Name: Egg Fried Rice Ingredients: Rice, Eggs, Soy sauce, Olive oil, Green peas, Carrot, Garlic Quantities (for 1 person): Rice: 1/2 cup (cooked), Eggs: 2, Soy sauce: 1 tbsp, Olive oil: 1 tsp, Green peas: 1/4 cup, Carrot: 1/2 (diced), Garlic: 1 clove (minced) Cooking Time: 15 minutes  \\\\nSteps: Heat olive oil in a pan, add garlic, and cook for 1 minute. Add carrot and peas, cook for 2 minutes. Push vegetables to the side, scramble eggs in the pan. Add rice and soy sauce, stir-fry for 5 minutes. Serve hot. Cuisine: Asian Diet\" \"peas:  \\\\n1/4 cup, Soy sauce: 1 tbsp, Olive oil: 1 tsp  \\\\n1/4 cup, Soy sauce: 1 tbsp, Olive oil: 1 tsp Cooking Time: 15 minutes Steps: Heat olive oil, sauté carrots and peas, add rice and soy sauce, stir-fry for 3-4 minutes, and serve. Cuisine: Asian Diet Type: Vegan  \\\\nRecipe ID: 263  \\\\nRecipe Name: Lemon Rice Ingredients: Rice, Lemon, Mustard seeds, Olive oil, Curry leaves Quantities (for 1 person): Rice: 1/2 cup (cooked), Lemon: 1/2 (juiced), Mustard seeds: 1/2 tsp, Olive oil: 1 tsp, Curry leaves: 4-5 Cooking Time: 15 minutes Steps: Heat olive oil, sauté mustard seeds and curry leaves, add cooked rice and lemon juice, stir well, and serve. Cuisine: Indian Diet Type: Vegan  \\\\nRecipe ID: 264  \\\\nRecipe Name: Chicken Biryani Ingredients: Rice, Chicken breast, Onion, Garlic, Biryani masala Quantities (for 1 person): Rice: 1/2 cup, Chicken breast: 1 (diced), Onion: 1/4 (chopped), Garlic: 1 clove (minced), Biryani masala: 1 tsp Cooking Time: 20 minutes Steps: Cook rice, sauté chicken with\"]] @ @eq.CATEGORY\n",
      "HTTP response code: 400\n",
      "Request ID: 333c4b43-f6d5-4c82-9664-5f31a883a3fe\n",
      "Error Code: 399114\n",
      "\n",
      "\n",
      "Error calling wrapped function retrieve_context.\n",
      "snowflake.core.exceptions.APIError: (400)\n",
      "Reason: Bad Request\n",
      "Error Message: Invalid filter query: Invalid argument: Expected a string but got [\"{\\\"results\\\":[{\\\"chunk\\\":\\\"Fried Rice Ingredients: Rice, Carrot, Peas, Soy sauce, Olive oil, Garlic, Green onions Quantities (for 1 person): Rice: 1/2 cup (cooked), Carrot: 1/2 (diced), Peas: 1/4 cup, Soy sauce: 1 tbsp, Olive oil: 1 tsp, Garlic: 1 clove (minced), Green onions: 1 (chopped Cooking Time: 15 minutes Steps: Heat olive oil in a pan, add garlic and cook for 1 minute. Add carrot and peas, cook for 3-4 minutes. Add cooked rice and soy sauce, stir-fry for another 5 minutes. Garnish with green onions. Serve hot. Cuisine: Asian Diet Type: Vegan  \\\\\\\\nRecipe ID: 332  \\\\\\\\nRecipe Name: Chicken and Rice Skillet Ingredients: Chicken breast, Rice, Bell pepper, Olive oil, Chicken broth, Salt, Pepper Quantities (for 1 person): Chicken breast: 1 (150 grams), Rice: 1/2 cup (uncooked), Bell pepper: 1/2 (sliced), Olive oil: 1 tsp, Chicken broth: 1/2 cup, Salt: pinch, Pepper: pinch Cooking Time: 20 minutes Steps: In a skillet, heat olive oil and cook the chicken breast until browned on both sides (7-8 minutes). Remove and\\\",\\\"category\\\":\\\"MainCourse\\\",\\\"relative_path\\\":\\\"main_dishes.pdf\\\"},{\\\"chunk\\\":\\\"Chicken breast: 1 (150 grams), Bell peppers: 1/2 (sliced), Pineapple: 1/4 cup (chunks), Soy sauce: 1 tbsp, Vinegar: 1 tsp, Olive oil: 1 tsp Cooking Time: 20 minutes Steps: Cook rice according to package instructions. In a pan, heat olive oil and cook chicken until browned. Add bell peppers and pineapple, cook for 3-4 minutes. Add soy sauce and vinegar, cook for another 2 minutes. Serve over rice. Cuisine: Asian Diet Type: Non-Vegetarian  \\\\\\\\nRecipe ID: 339  \\\\\\\\nRecipe Name: Egg Fried Rice Ingredients: Rice, Eggs, Soy sauce, Olive oil, Green peas, Carrot, Garlic Quantities (for 1 person): Rice: 1/2 cup (cooked), Eggs: 2, Soy sauce: 1 tbsp, Olive oil: 1 tsp, Green peas: 1/4 cup, Carrot: 1/2 (diced), Garlic: 1 clove (minced) Cooking Time: 15 minutes  \\\\\\\\nSteps: Heat olive oil in a pan, add garlic, and cook for 1 minute. Add carrot and peas, cook for 2 minutes. Push vegetables to the side, scramble eggs in the pan. Add rice and soy sauce, stir-fry for 5 minutes. Serve hot. Cuisine: Asian Diet\\\",\\\"category\\\":\\\"MainCourse\\\",\\\"relative_path\\\":\\\"main_dishes.pdf\\\"},{\\\"chunk\\\":\\\"peas:  \\\\\\\\n1/4 cup, Soy sauce: 1 tbsp, Olive oil: 1 tsp  \\\\\\\\n1/4 cup, Soy sauce: 1 tbsp, Olive oil: 1 tsp Cooking Time: 15 minutes Steps: Heat olive oil, sauté carrots and peas, add rice and soy sauce, stir-fry for 3-4 minutes, and serve. Cuisine: Asian Diet Type: Vegan  \\\\\\\\nRecipe ID: 263  \\\\\\\\nRecipe Name: Lemon Rice Ingredients: Rice, Lemon, Mustard seeds, Olive oil, Curry leaves Quantities (for 1 person): Rice: 1/2 cup (cooked), Lemon: 1/2 (juiced), Mustard seeds: 1/2 tsp, Olive oil: 1 tsp, Curry leaves: 4-5 Cooking Time: 15 minutes Steps: Heat olive oil, sauté mustard seeds and curry leaves, add cooked rice and lemon juice, stir well, and serve. Cuisine: Indian Diet Type: Vegan  \\\\\\\\nRecipe ID: 264  \\\\\\\\nRecipe Name: Chicken Biryani Ingredients: Rice, Chicken breast, Onion, Garlic, Biryani masala Quantities (for 1 person): Rice: 1/2 cup, Chicken breast: 1 (diced), Onion: 1/4 (chopped), Garlic: 1 clove (minced), Biryani masala: 1 tsp Cooking Time: 20 minutes Steps: Cook rice, sauté chicken with\\\",\\\"relative_path\\\":\\\"main_dishes.pdf\\\",\\\"category\\\":\\\"MainCourse\\\"}],\\\"request_id\\\":\\\"a50993a9-c23b-4ce3-97f3-96db4e616d8d\\\"}\" [\"Fried Rice Ingredients: Rice, Carrot, Peas, Soy sauce, Olive oil, Garlic, Green onions Quantities (for 1 person): Rice: 1/2 cup (cooked), Carrot: 1/2 (diced), Peas: 1/4 cup, Soy sauce: 1 tbsp, Olive oil: 1 tsp, Garlic: 1 clove (minced), Green onions: 1 (chopped Cooking Time: 15 minutes Steps: Heat olive oil in a pan, add garlic and cook for 1 minute. Add carrot and peas, cook for 3-4 minutes. Add cooked rice and soy sauce, stir-fry for another 5 minutes. Garnish with green onions. Serve hot. Cuisine: Asian Diet Type: Vegan  \\\\nRecipe ID: 332  \\\\nRecipe Name: Chicken and Rice Skillet Ingredients: Chicken breast, Rice, Bell pepper, Olive oil, Chicken broth, Salt, Pepper Quantities (for 1 person): Chicken breast: 1 (150 grams), Rice: 1/2 cup (uncooked), Bell pepper: 1/2 (sliced), Olive oil: 1 tsp, Chicken broth: 1/2 cup, Salt: pinch, Pepper: pinch Cooking Time: 20 minutes Steps: In a skillet, heat olive oil and cook the chicken breast until browned on both sides (7-8 minutes). Remove and\" \"Chicken breast: 1 (150 grams), Bell peppers: 1/2 (sliced), Pineapple: 1/4 cup (chunks), Soy sauce: 1 tbsp, Vinegar: 1 tsp, Olive oil: 1 tsp Cooking Time: 20 minutes Steps: Cook rice according to package instructions. In a pan, heat olive oil and cook chicken until browned. Add bell peppers and pineapple, cook for 3-4 minutes. Add soy sauce and vinegar, cook for another 2 minutes. Serve over rice. Cuisine: Asian Diet Type: Non-Vegetarian  \\\\nRecipe ID: 339  \\\\nRecipe Name: Egg Fried Rice Ingredients: Rice, Eggs, Soy sauce, Olive oil, Green peas, Carrot, Garlic Quantities (for 1 person): Rice: 1/2 cup (cooked), Eggs: 2, Soy sauce: 1 tbsp, Olive oil: 1 tsp, Green peas: 1/4 cup, Carrot: 1/2 (diced), Garlic: 1 clove (minced) Cooking Time: 15 minutes  \\\\nSteps: Heat olive oil in a pan, add garlic, and cook for 1 minute. Add carrot and peas, cook for 2 minutes. Push vegetables to the side, scramble eggs in the pan. Add rice and soy sauce, stir-fry for 5 minutes. Serve hot. Cuisine: Asian Diet\" \"peas:  \\\\n1/4 cup, Soy sauce: 1 tbsp, Olive oil: 1 tsp  \\\\n1/4 cup, Soy sauce: 1 tbsp, Olive oil: 1 tsp Cooking Time: 15 minutes Steps: Heat olive oil, sauté carrots and peas, add rice and soy sauce, stir-fry for 3-4 minutes, and serve. Cuisine: Asian Diet Type: Vegan  \\\\nRecipe ID: 263  \\\\nRecipe Name: Lemon Rice Ingredients: Rice, Lemon, Mustard seeds, Olive oil, Curry leaves Quantities (for 1 person): Rice: 1/2 cup (cooked), Lemon: 1/2 (juiced), Mustard seeds: 1/2 tsp, Olive oil: 1 tsp, Curry leaves: 4-5 Cooking Time: 15 minutes Steps: Heat olive oil, sauté mustard seeds and curry leaves, add cooked rice and lemon juice, stir well, and serve. Cuisine: Indian Diet Type: Vegan  \\\\nRecipe ID: 264  \\\\nRecipe Name: Chicken Biryani Ingredients: Rice, Chicken breast, Onion, Garlic, Biryani masala Quantities (for 1 person): Rice: 1/2 cup, Chicken breast: 1 (diced), Onion: 1/4 (chopped), Garlic: 1 clove (minced), Biryani masala: 1 tsp Cooking Time: 20 minutes Steps: Cook rice, sauté chicken with\"]] @ @eq.CATEGORY\n",
      "HTTP response code: 400\n",
      "Request ID: 333c4b43-f6d5-4c82-9664-5f31a883a3fe\n",
      "Error Code: 399114\n",
      "\n",
      "\n",
      "Error calling wrapped function complete_query.\n",
      "snowflake.core.exceptions.APIError: (400)\n",
      "Reason: Bad Request\n",
      "Error Message: Invalid filter query: Invalid argument: Expected a string but got [\"{\\\"results\\\":[{\\\"chunk\\\":\\\"Fried Rice Ingredients: Rice, Carrot, Peas, Soy sauce, Olive oil, Garlic, Green onions Quantities (for 1 person): Rice: 1/2 cup (cooked), Carrot: 1/2 (diced), Peas: 1/4 cup, Soy sauce: 1 tbsp, Olive oil: 1 tsp, Garlic: 1 clove (minced), Green onions: 1 (chopped Cooking Time: 15 minutes Steps: Heat olive oil in a pan, add garlic and cook for 1 minute. Add carrot and peas, cook for 3-4 minutes. Add cooked rice and soy sauce, stir-fry for another 5 minutes. Garnish with green onions. Serve hot. Cuisine: Asian Diet Type: Vegan  \\\\\\\\nRecipe ID: 332  \\\\\\\\nRecipe Name: Chicken and Rice Skillet Ingredients: Chicken breast, Rice, Bell pepper, Olive oil, Chicken broth, Salt, Pepper Quantities (for 1 person): Chicken breast: 1 (150 grams), Rice: 1/2 cup (uncooked), Bell pepper: 1/2 (sliced), Olive oil: 1 tsp, Chicken broth: 1/2 cup, Salt: pinch, Pepper: pinch Cooking Time: 20 minutes Steps: In a skillet, heat olive oil and cook the chicken breast until browned on both sides (7-8 minutes). Remove and\\\",\\\"category\\\":\\\"MainCourse\\\",\\\"relative_path\\\":\\\"main_dishes.pdf\\\"},{\\\"chunk\\\":\\\"Chicken breast: 1 (150 grams), Bell peppers: 1/2 (sliced), Pineapple: 1/4 cup (chunks), Soy sauce: 1 tbsp, Vinegar: 1 tsp, Olive oil: 1 tsp Cooking Time: 20 minutes Steps: Cook rice according to package instructions. In a pan, heat olive oil and cook chicken until browned. Add bell peppers and pineapple, cook for 3-4 minutes. Add soy sauce and vinegar, cook for another 2 minutes. Serve over rice. Cuisine: Asian Diet Type: Non-Vegetarian  \\\\\\\\nRecipe ID: 339  \\\\\\\\nRecipe Name: Egg Fried Rice Ingredients: Rice, Eggs, Soy sauce, Olive oil, Green peas, Carrot, Garlic Quantities (for 1 person): Rice: 1/2 cup (cooked), Eggs: 2, Soy sauce: 1 tbsp, Olive oil: 1 tsp, Green peas: 1/4 cup, Carrot: 1/2 (diced), Garlic: 1 clove (minced) Cooking Time: 15 minutes  \\\\\\\\nSteps: Heat olive oil in a pan, add garlic, and cook for 1 minute. Add carrot and peas, cook for 2 minutes. Push vegetables to the side, scramble eggs in the pan. Add rice and soy sauce, stir-fry for 5 minutes. Serve hot. Cuisine: Asian Diet\\\",\\\"category\\\":\\\"MainCourse\\\",\\\"relative_path\\\":\\\"main_dishes.pdf\\\"},{\\\"chunk\\\":\\\"peas:  \\\\\\\\n1/4 cup, Soy sauce: 1 tbsp, Olive oil: 1 tsp  \\\\\\\\n1/4 cup, Soy sauce: 1 tbsp, Olive oil: 1 tsp Cooking Time: 15 minutes Steps: Heat olive oil, sauté carrots and peas, add rice and soy sauce, stir-fry for 3-4 minutes, and serve. Cuisine: Asian Diet Type: Vegan  \\\\\\\\nRecipe ID: 263  \\\\\\\\nRecipe Name: Lemon Rice Ingredients: Rice, Lemon, Mustard seeds, Olive oil, Curry leaves Quantities (for 1 person): Rice: 1/2 cup (cooked), Lemon: 1/2 (juiced), Mustard seeds: 1/2 tsp, Olive oil: 1 tsp, Curry leaves: 4-5 Cooking Time: 15 minutes Steps: Heat olive oil, sauté mustard seeds and curry leaves, add cooked rice and lemon juice, stir well, and serve. Cuisine: Indian Diet Type: Vegan  \\\\\\\\nRecipe ID: 264  \\\\\\\\nRecipe Name: Chicken Biryani Ingredients: Rice, Chicken breast, Onion, Garlic, Biryani masala Quantities (for 1 person): Rice: 1/2 cup, Chicken breast: 1 (diced), Onion: 1/4 (chopped), Garlic: 1 clove (minced), Biryani masala: 1 tsp Cooking Time: 20 minutes Steps: Cook rice, sauté chicken with\\\",\\\"relative_path\\\":\\\"main_dishes.pdf\\\",\\\"category\\\":\\\"MainCourse\\\"}],\\\"request_id\\\":\\\"a50993a9-c23b-4ce3-97f3-96db4e616d8d\\\"}\" [\"Fried Rice Ingredients: Rice, Carrot, Peas, Soy sauce, Olive oil, Garlic, Green onions Quantities (for 1 person): Rice: 1/2 cup (cooked), Carrot: 1/2 (diced), Peas: 1/4 cup, Soy sauce: 1 tbsp, Olive oil: 1 tsp, Garlic: 1 clove (minced), Green onions: 1 (chopped Cooking Time: 15 minutes Steps: Heat olive oil in a pan, add garlic and cook for 1 minute. Add carrot and peas, cook for 3-4 minutes. Add cooked rice and soy sauce, stir-fry for another 5 minutes. Garnish with green onions. Serve hot. Cuisine: Asian Diet Type: Vegan  \\\\nRecipe ID: 332  \\\\nRecipe Name: Chicken and Rice Skillet Ingredients: Chicken breast, Rice, Bell pepper, Olive oil, Chicken broth, Salt, Pepper Quantities (for 1 person): Chicken breast: 1 (150 grams), Rice: 1/2 cup (uncooked), Bell pepper: 1/2 (sliced), Olive oil: 1 tsp, Chicken broth: 1/2 cup, Salt: pinch, Pepper: pinch Cooking Time: 20 minutes Steps: In a skillet, heat olive oil and cook the chicken breast until browned on both sides (7-8 minutes). Remove and\" \"Chicken breast: 1 (150 grams), Bell peppers: 1/2 (sliced), Pineapple: 1/4 cup (chunks), Soy sauce: 1 tbsp, Vinegar: 1 tsp, Olive oil: 1 tsp Cooking Time: 20 minutes Steps: Cook rice according to package instructions. In a pan, heat olive oil and cook chicken until browned. Add bell peppers and pineapple, cook for 3-4 minutes. Add soy sauce and vinegar, cook for another 2 minutes. Serve over rice. Cuisine: Asian Diet Type: Non-Vegetarian  \\\\nRecipe ID: 339  \\\\nRecipe Name: Egg Fried Rice Ingredients: Rice, Eggs, Soy sauce, Olive oil, Green peas, Carrot, Garlic Quantities (for 1 person): Rice: 1/2 cup (cooked), Eggs: 2, Soy sauce: 1 tbsp, Olive oil: 1 tsp, Green peas: 1/4 cup, Carrot: 1/2 (diced), Garlic: 1 clove (minced) Cooking Time: 15 minutes  \\\\nSteps: Heat olive oil in a pan, add garlic, and cook for 1 minute. Add carrot and peas, cook for 2 minutes. Push vegetables to the side, scramble eggs in the pan. Add rice and soy sauce, stir-fry for 5 minutes. Serve hot. Cuisine: Asian Diet\" \"peas:  \\\\n1/4 cup, Soy sauce: 1 tbsp, Olive oil: 1 tsp  \\\\n1/4 cup, Soy sauce: 1 tbsp, Olive oil: 1 tsp Cooking Time: 15 minutes Steps: Heat olive oil, sauté carrots and peas, add rice and soy sauce, stir-fry for 3-4 minutes, and serve. Cuisine: Asian Diet Type: Vegan  \\\\nRecipe ID: 263  \\\\nRecipe Name: Lemon Rice Ingredients: Rice, Lemon, Mustard seeds, Olive oil, Curry leaves Quantities (for 1 person): Rice: 1/2 cup (cooked), Lemon: 1/2 (juiced), Mustard seeds: 1/2 tsp, Olive oil: 1 tsp, Curry leaves: 4-5 Cooking Time: 15 minutes Steps: Heat olive oil, sauté mustard seeds and curry leaves, add cooked rice and lemon juice, stir well, and serve. Cuisine: Indian Diet Type: Vegan  \\\\nRecipe ID: 264  \\\\nRecipe Name: Chicken Biryani Ingredients: Rice, Chicken breast, Onion, Garlic, Biryani masala Quantities (for 1 person): Rice: 1/2 cup, Chicken breast: 1 (diced), Onion: 1/4 (chopped), Garlic: 1 clove (minced), Biryani masala: 1 tsp Cooking Time: 20 minutes Steps: Cook rice, sauté chicken with\"]] @ @eq.CATEGORY\n",
      "HTTP response code: 400\n",
      "Request ID: 333c4b43-f6d5-4c82-9664-5f31a883a3fe\n",
      "Error Code: 399114\n",
      "\n",
      "\n",
      "Error calling wrapped function query.\n",
      "snowflake.core.exceptions.APIError: (400)\n",
      "Reason: Bad Request\n",
      "Error Message: Invalid filter query: Invalid argument: Expected a string but got [\"{\\\"results\\\":[{\\\"chunk\\\":\\\"Fried Rice Ingredients: Rice, Carrot, Peas, Soy sauce, Olive oil, Garlic, Green onions Quantities (for 1 person): Rice: 1/2 cup (cooked), Carrot: 1/2 (diced), Peas: 1/4 cup, Soy sauce: 1 tbsp, Olive oil: 1 tsp, Garlic: 1 clove (minced), Green onions: 1 (chopped Cooking Time: 15 minutes Steps: Heat olive oil in a pan, add garlic and cook for 1 minute. Add carrot and peas, cook for 3-4 minutes. Add cooked rice and soy sauce, stir-fry for another 5 minutes. Garnish with green onions. Serve hot. Cuisine: Asian Diet Type: Vegan  \\\\\\\\nRecipe ID: 332  \\\\\\\\nRecipe Name: Chicken and Rice Skillet Ingredients: Chicken breast, Rice, Bell pepper, Olive oil, Chicken broth, Salt, Pepper Quantities (for 1 person): Chicken breast: 1 (150 grams), Rice: 1/2 cup (uncooked), Bell pepper: 1/2 (sliced), Olive oil: 1 tsp, Chicken broth: 1/2 cup, Salt: pinch, Pepper: pinch Cooking Time: 20 minutes Steps: In a skillet, heat olive oil and cook the chicken breast until browned on both sides (7-8 minutes). Remove and\\\",\\\"category\\\":\\\"MainCourse\\\",\\\"relative_path\\\":\\\"main_dishes.pdf\\\"},{\\\"chunk\\\":\\\"Chicken breast: 1 (150 grams), Bell peppers: 1/2 (sliced), Pineapple: 1/4 cup (chunks), Soy sauce: 1 tbsp, Vinegar: 1 tsp, Olive oil: 1 tsp Cooking Time: 20 minutes Steps: Cook rice according to package instructions. In a pan, heat olive oil and cook chicken until browned. Add bell peppers and pineapple, cook for 3-4 minutes. Add soy sauce and vinegar, cook for another 2 minutes. Serve over rice. Cuisine: Asian Diet Type: Non-Vegetarian  \\\\\\\\nRecipe ID: 339  \\\\\\\\nRecipe Name: Egg Fried Rice Ingredients: Rice, Eggs, Soy sauce, Olive oil, Green peas, Carrot, Garlic Quantities (for 1 person): Rice: 1/2 cup (cooked), Eggs: 2, Soy sauce: 1 tbsp, Olive oil: 1 tsp, Green peas: 1/4 cup, Carrot: 1/2 (diced), Garlic: 1 clove (minced) Cooking Time: 15 minutes  \\\\\\\\nSteps: Heat olive oil in a pan, add garlic, and cook for 1 minute. Add carrot and peas, cook for 2 minutes. Push vegetables to the side, scramble eggs in the pan. Add rice and soy sauce, stir-fry for 5 minutes. Serve hot. Cuisine: Asian Diet\\\",\\\"category\\\":\\\"MainCourse\\\",\\\"relative_path\\\":\\\"main_dishes.pdf\\\"},{\\\"chunk\\\":\\\"peas:  \\\\\\\\n1/4 cup, Soy sauce: 1 tbsp, Olive oil: 1 tsp  \\\\\\\\n1/4 cup, Soy sauce: 1 tbsp, Olive oil: 1 tsp Cooking Time: 15 minutes Steps: Heat olive oil, sauté carrots and peas, add rice and soy sauce, stir-fry for 3-4 minutes, and serve. Cuisine: Asian Diet Type: Vegan  \\\\\\\\nRecipe ID: 263  \\\\\\\\nRecipe Name: Lemon Rice Ingredients: Rice, Lemon, Mustard seeds, Olive oil, Curry leaves Quantities (for 1 person): Rice: 1/2 cup (cooked), Lemon: 1/2 (juiced), Mustard seeds: 1/2 tsp, Olive oil: 1 tsp, Curry leaves: 4-5 Cooking Time: 15 minutes Steps: Heat olive oil, sauté mustard seeds and curry leaves, add cooked rice and lemon juice, stir well, and serve. Cuisine: Indian Diet Type: Vegan  \\\\\\\\nRecipe ID: 264  \\\\\\\\nRecipe Name: Chicken Biryani Ingredients: Rice, Chicken breast, Onion, Garlic, Biryani masala Quantities (for 1 person): Rice: 1/2 cup, Chicken breast: 1 (diced), Onion: 1/4 (chopped), Garlic: 1 clove (minced), Biryani masala: 1 tsp Cooking Time: 20 minutes Steps: Cook rice, sauté chicken with\\\",\\\"relative_path\\\":\\\"main_dishes.pdf\\\",\\\"category\\\":\\\"MainCourse\\\"}],\\\"request_id\\\":\\\"a50993a9-c23b-4ce3-97f3-96db4e616d8d\\\"}\" [\"Fried Rice Ingredients: Rice, Carrot, Peas, Soy sauce, Olive oil, Garlic, Green onions Quantities (for 1 person): Rice: 1/2 cup (cooked), Carrot: 1/2 (diced), Peas: 1/4 cup, Soy sauce: 1 tbsp, Olive oil: 1 tsp, Garlic: 1 clove (minced), Green onions: 1 (chopped Cooking Time: 15 minutes Steps: Heat olive oil in a pan, add garlic and cook for 1 minute. Add carrot and peas, cook for 3-4 minutes. Add cooked rice and soy sauce, stir-fry for another 5 minutes. Garnish with green onions. Serve hot. Cuisine: Asian Diet Type: Vegan  \\\\nRecipe ID: 332  \\\\nRecipe Name: Chicken and Rice Skillet Ingredients: Chicken breast, Rice, Bell pepper, Olive oil, Chicken broth, Salt, Pepper Quantities (for 1 person): Chicken breast: 1 (150 grams), Rice: 1/2 cup (uncooked), Bell pepper: 1/2 (sliced), Olive oil: 1 tsp, Chicken broth: 1/2 cup, Salt: pinch, Pepper: pinch Cooking Time: 20 minutes Steps: In a skillet, heat olive oil and cook the chicken breast until browned on both sides (7-8 minutes). Remove and\" \"Chicken breast: 1 (150 grams), Bell peppers: 1/2 (sliced), Pineapple: 1/4 cup (chunks), Soy sauce: 1 tbsp, Vinegar: 1 tsp, Olive oil: 1 tsp Cooking Time: 20 minutes Steps: Cook rice according to package instructions. In a pan, heat olive oil and cook chicken until browned. Add bell peppers and pineapple, cook for 3-4 minutes. Add soy sauce and vinegar, cook for another 2 minutes. Serve over rice. Cuisine: Asian Diet Type: Non-Vegetarian  \\\\nRecipe ID: 339  \\\\nRecipe Name: Egg Fried Rice Ingredients: Rice, Eggs, Soy sauce, Olive oil, Green peas, Carrot, Garlic Quantities (for 1 person): Rice: 1/2 cup (cooked), Eggs: 2, Soy sauce: 1 tbsp, Olive oil: 1 tsp, Green peas: 1/4 cup, Carrot: 1/2 (diced), Garlic: 1 clove (minced) Cooking Time: 15 minutes  \\\\nSteps: Heat olive oil in a pan, add garlic, and cook for 1 minute. Add carrot and peas, cook for 2 minutes. Push vegetables to the side, scramble eggs in the pan. Add rice and soy sauce, stir-fry for 5 minutes. Serve hot. Cuisine: Asian Diet\" \"peas:  \\\\n1/4 cup, Soy sauce: 1 tbsp, Olive oil: 1 tsp  \\\\n1/4 cup, Soy sauce: 1 tbsp, Olive oil: 1 tsp Cooking Time: 15 minutes Steps: Heat olive oil, sauté carrots and peas, add rice and soy sauce, stir-fry for 3-4 minutes, and serve. Cuisine: Asian Diet Type: Vegan  \\\\nRecipe ID: 263  \\\\nRecipe Name: Lemon Rice Ingredients: Rice, Lemon, Mustard seeds, Olive oil, Curry leaves Quantities (for 1 person): Rice: 1/2 cup (cooked), Lemon: 1/2 (juiced), Mustard seeds: 1/2 tsp, Olive oil: 1 tsp, Curry leaves: 4-5 Cooking Time: 15 minutes Steps: Heat olive oil, sauté mustard seeds and curry leaves, add cooked rice and lemon juice, stir well, and serve. Cuisine: Indian Diet Type: Vegan  \\\\nRecipe ID: 264  \\\\nRecipe Name: Chicken Biryani Ingredients: Rice, Chicken breast, Onion, Garlic, Biryani masala Quantities (for 1 person): Rice: 1/2 cup, Chicken breast: 1 (diced), Onion: 1/4 (chopped), Garlic: 1 clove (minced), Biryani masala: 1 tsp Cooking Time: 20 minutes Steps: Cook rice, sauté chicken with\"]] @ @eq.CATEGORY\n",
      "HTTP response code: 400\n",
      "Request ID: 333c4b43-f6d5-4c82-9664-5f31a883a3fe\n",
      "Error Code: 399114\n",
      "\n",
      "\n",
      "Unsure what the main input string is for the call to query with args <BoundArguments (self=<__main__.RAG object at 0x770000bc94d0>, query='how to make chicken with peas?', category='MainCourse')>.\n"
     ]
    },
    {
     "name": "stdout",
     "output_type": "stream",
     "text": [
      "calling <function RAG.complete_query at 0x76fff046c4a0> with (<__main__.RAG object at 0x770000bc94d0>, 'how to make chicken with peas?', ('{\"results\":[{\"chunk\":\"Fried Rice Ingredients: Rice, Carrot, Peas, Soy sauce, Olive oil, Garlic, Green onions Quantities (for 1 person): Rice: 1/2 cup (cooked), Carrot: 1/2 (diced), Peas: 1/4 cup, Soy sauce: 1 tbsp, Olive oil: 1 tsp, Garlic: 1 clove (minced), Green onions: 1 (chopped Cooking Time: 15 minutes Steps: Heat olive oil in a pan, add garlic and cook for 1 minute. Add carrot and peas, cook for 3-4 minutes. Add cooked rice and soy sauce, stir-fry for another 5 minutes. Garnish with green onions. Serve hot. Cuisine: Asian Diet Type: Vegan  \\\\\\\\nRecipe ID: 332  \\\\\\\\nRecipe Name: Chicken and Rice Skillet Ingredients: Chicken breast, Rice, Bell pepper, Olive oil, Chicken broth, Salt, Pepper Quantities (for 1 person): Chicken breast: 1 (150 grams), Rice: 1/2 cup (uncooked), Bell pepper: 1/2 (sliced), Olive oil: 1 tsp, Chicken broth: 1/2 cup, Salt: pinch, Pepper: pinch Cooking Time: 20 minutes Steps: In a skillet, heat olive oil and cook the chicken breast until browned on both sides (7-8 minutes). Remove and\",\"category\":\"MainCourse\",\"relative_path\":\"main_dishes.pdf\"},{\"chunk\":\"Chicken breast: 1 (150 grams), Bell peppers: 1/2 (sliced), Pineapple: 1/4 cup (chunks), Soy sauce: 1 tbsp, Vinegar: 1 tsp, Olive oil: 1 tsp Cooking Time: 20 minutes Steps: Cook rice according to package instructions. In a pan, heat olive oil and cook chicken until browned. Add bell peppers and pineapple, cook for 3-4 minutes. Add soy sauce and vinegar, cook for another 2 minutes. Serve over rice. Cuisine: Asian Diet Type: Non-Vegetarian  \\\\\\\\nRecipe ID: 339  \\\\\\\\nRecipe Name: Egg Fried Rice Ingredients: Rice, Eggs, Soy sauce, Olive oil, Green peas, Carrot, Garlic Quantities (for 1 person): Rice: 1/2 cup (cooked), Eggs: 2, Soy sauce: 1 tbsp, Olive oil: 1 tsp, Green peas: 1/4 cup, Carrot: 1/2 (diced), Garlic: 1 clove (minced) Cooking Time: 15 minutes  \\\\\\\\nSteps: Heat olive oil in a pan, add garlic, and cook for 1 minute. Add carrot and peas, cook for 2 minutes. Push vegetables to the side, scramble eggs in the pan. Add rice and soy sauce, stir-fry for 5 minutes. Serve hot. Cuisine: Asian Diet\",\"category\":\"MainCourse\",\"relative_path\":\"main_dishes.pdf\"},{\"chunk\":\"peas:  \\\\\\\\n1/4 cup, Soy sauce: 1 tbsp, Olive oil: 1 tsp  \\\\\\\\n1/4 cup, Soy sauce: 1 tbsp, Olive oil: 1 tsp Cooking Time: 15 minutes Steps: Heat olive oil, sauté carrots and peas, add rice and soy sauce, stir-fry for 3-4 minutes, and serve. Cuisine: Asian Diet Type: Vegan  \\\\\\\\nRecipe ID: 263  \\\\\\\\nRecipe Name: Lemon Rice Ingredients: Rice, Lemon, Mustard seeds, Olive oil, Curry leaves Quantities (for 1 person): Rice: 1/2 cup (cooked), Lemon: 1/2 (juiced), Mustard seeds: 1/2 tsp, Olive oil: 1 tsp, Curry leaves: 4-5 Cooking Time: 15 minutes Steps: Heat olive oil, sauté mustard seeds and curry leaves, add cooked rice and lemon juice, stir well, and serve. Cuisine: Indian Diet Type: Vegan  \\\\\\\\nRecipe ID: 264  \\\\\\\\nRecipe Name: Chicken Biryani Ingredients: Rice, Chicken breast, Onion, Garlic, Biryani masala Quantities (for 1 person): Rice: 1/2 cup, Chicken breast: 1 (diced), Onion: 1/4 (chopped), Garlic: 1 clove (minced), Biryani masala: 1 tsp Cooking Time: 20 minutes Steps: Cook rice, sauté chicken with\",\"relative_path\":\"main_dishes.pdf\",\"category\":\"MainCourse\"}],\"request_id\":\"a50993a9-c23b-4ce3-97f3-96db4e616d8d\"}', ['Fried Rice Ingredients: Rice, Carrot, Peas, Soy sauce, Olive oil, Garlic, Green onions Quantities (for 1 person): Rice: 1/2 cup (cooked), Carrot: 1/2 (diced), Peas: 1/4 cup, Soy sauce: 1 tbsp, Olive oil: 1 tsp, Garlic: 1 clove (minced), Green onions: 1 (chopped Cooking Time: 15 minutes Steps: Heat olive oil in a pan, add garlic and cook for 1 minute. Add carrot and peas, cook for 3-4 minutes. Add cooked rice and soy sauce, stir-fry for another 5 minutes. Garnish with green onions. Serve hot. Cuisine: Asian Diet Type: Vegan  \\\\nRecipe ID: 332  \\\\nRecipe Name: Chicken and Rice Skillet Ingredients: Chicken breast, Rice, Bell pepper, Olive oil, Chicken broth, Salt, Pepper Quantities (for 1 person): Chicken breast: 1 (150 grams), Rice: 1/2 cup (uncooked), Bell pepper: 1/2 (sliced), Olive oil: 1 tsp, Chicken broth: 1/2 cup, Salt: pinch, Pepper: pinch Cooking Time: 20 minutes Steps: In a skillet, heat olive oil and cook the chicken breast until browned on both sides (7-8 minutes). Remove and', 'Chicken breast: 1 (150 grams), Bell peppers: 1/2 (sliced), Pineapple: 1/4 cup (chunks), Soy sauce: 1 tbsp, Vinegar: 1 tsp, Olive oil: 1 tsp Cooking Time: 20 minutes Steps: Cook rice according to package instructions. In a pan, heat olive oil and cook chicken until browned. Add bell peppers and pineapple, cook for 3-4 minutes. Add soy sauce and vinegar, cook for another 2 minutes. Serve over rice. Cuisine: Asian Diet Type: Non-Vegetarian  \\\\nRecipe ID: 339  \\\\nRecipe Name: Egg Fried Rice Ingredients: Rice, Eggs, Soy sauce, Olive oil, Green peas, Carrot, Garlic Quantities (for 1 person): Rice: 1/2 cup (cooked), Eggs: 2, Soy sauce: 1 tbsp, Olive oil: 1 tsp, Green peas: 1/4 cup, Carrot: 1/2 (diced), Garlic: 1 clove (minced) Cooking Time: 15 minutes  \\\\nSteps: Heat olive oil in a pan, add garlic, and cook for 1 minute. Add carrot and peas, cook for 2 minutes. Push vegetables to the side, scramble eggs in the pan. Add rice and soy sauce, stir-fry for 5 minutes. Serve hot. Cuisine: Asian Diet', 'peas:  \\\\n1/4 cup, Soy sauce: 1 tbsp, Olive oil: 1 tsp  \\\\n1/4 cup, Soy sauce: 1 tbsp, Olive oil: 1 tsp Cooking Time: 15 minutes Steps: Heat olive oil, sauté carrots and peas, add rice and soy sauce, stir-fry for 3-4 minutes, and serve. Cuisine: Asian Diet Type: Vegan  \\\\nRecipe ID: 263  \\\\nRecipe Name: Lemon Rice Ingredients: Rice, Lemon, Mustard seeds, Olive oil, Curry leaves Quantities (for 1 person): Rice: 1/2 cup (cooked), Lemon: 1/2 (juiced), Mustard seeds: 1/2 tsp, Olive oil: 1 tsp, Curry leaves: 4-5 Cooking Time: 15 minutes Steps: Heat olive oil, sauté mustard seeds and curry leaves, add cooked rice and lemon juice, stir well, and serve. Cuisine: Indian Diet Type: Vegan  \\\\nRecipe ID: 264  \\\\nRecipe Name: Chicken Biryani Ingredients: Rice, Chicken breast, Onion, Garlic, Biryani masala Quantities (for 1 person): Rice: 1/2 cup, Chicken breast: 1 (diced), Onion: 1/4 (chopped), Garlic: 1 clove (minced), Biryani masala: 1 tsp Cooking Time: 20 minutes Steps: Cook rice, sauté chicken with']))\n",
      "calling <function RAG.retrieve_context at 0x7700001bdc60> with (<__main__.RAG object at 0x770000bc94d0>, 'how to make chicken with peas?', ('{\"results\":[{\"chunk\":\"Fried Rice Ingredients: Rice, Carrot, Peas, Soy sauce, Olive oil, Garlic, Green onions Quantities (for 1 person): Rice: 1/2 cup (cooked), Carrot: 1/2 (diced), Peas: 1/4 cup, Soy sauce: 1 tbsp, Olive oil: 1 tsp, Garlic: 1 clove (minced), Green onions: 1 (chopped Cooking Time: 15 minutes Steps: Heat olive oil in a pan, add garlic and cook for 1 minute. Add carrot and peas, cook for 3-4 minutes. Add cooked rice and soy sauce, stir-fry for another 5 minutes. Garnish with green onions. Serve hot. Cuisine: Asian Diet Type: Vegan  \\\\\\\\nRecipe ID: 332  \\\\\\\\nRecipe Name: Chicken and Rice Skillet Ingredients: Chicken breast, Rice, Bell pepper, Olive oil, Chicken broth, Salt, Pepper Quantities (for 1 person): Chicken breast: 1 (150 grams), Rice: 1/2 cup (uncooked), Bell pepper: 1/2 (sliced), Olive oil: 1 tsp, Chicken broth: 1/2 cup, Salt: pinch, Pepper: pinch Cooking Time: 20 minutes Steps: In a skillet, heat olive oil and cook the chicken breast until browned on both sides (7-8 minutes). Remove and\",\"category\":\"MainCourse\",\"relative_path\":\"main_dishes.pdf\"},{\"chunk\":\"Chicken breast: 1 (150 grams), Bell peppers: 1/2 (sliced), Pineapple: 1/4 cup (chunks), Soy sauce: 1 tbsp, Vinegar: 1 tsp, Olive oil: 1 tsp Cooking Time: 20 minutes Steps: Cook rice according to package instructions. In a pan, heat olive oil and cook chicken until browned. Add bell peppers and pineapple, cook for 3-4 minutes. Add soy sauce and vinegar, cook for another 2 minutes. Serve over rice. Cuisine: Asian Diet Type: Non-Vegetarian  \\\\\\\\nRecipe ID: 339  \\\\\\\\nRecipe Name: Egg Fried Rice Ingredients: Rice, Eggs, Soy sauce, Olive oil, Green peas, Carrot, Garlic Quantities (for 1 person): Rice: 1/2 cup (cooked), Eggs: 2, Soy sauce: 1 tbsp, Olive oil: 1 tsp, Green peas: 1/4 cup, Carrot: 1/2 (diced), Garlic: 1 clove (minced) Cooking Time: 15 minutes  \\\\\\\\nSteps: Heat olive oil in a pan, add garlic, and cook for 1 minute. Add carrot and peas, cook for 2 minutes. Push vegetables to the side, scramble eggs in the pan. Add rice and soy sauce, stir-fry for 5 minutes. Serve hot. Cuisine: Asian Diet\",\"category\":\"MainCourse\",\"relative_path\":\"main_dishes.pdf\"},{\"chunk\":\"peas:  \\\\\\\\n1/4 cup, Soy sauce: 1 tbsp, Olive oil: 1 tsp  \\\\\\\\n1/4 cup, Soy sauce: 1 tbsp, Olive oil: 1 tsp Cooking Time: 15 minutes Steps: Heat olive oil, sauté carrots and peas, add rice and soy sauce, stir-fry for 3-4 minutes, and serve. Cuisine: Asian Diet Type: Vegan  \\\\\\\\nRecipe ID: 263  \\\\\\\\nRecipe Name: Lemon Rice Ingredients: Rice, Lemon, Mustard seeds, Olive oil, Curry leaves Quantities (for 1 person): Rice: 1/2 cup (cooked), Lemon: 1/2 (juiced), Mustard seeds: 1/2 tsp, Olive oil: 1 tsp, Curry leaves: 4-5 Cooking Time: 15 minutes Steps: Heat olive oil, sauté mustard seeds and curry leaves, add cooked rice and lemon juice, stir well, and serve. Cuisine: Indian Diet Type: Vegan  \\\\\\\\nRecipe ID: 264  \\\\\\\\nRecipe Name: Chicken Biryani Ingredients: Rice, Chicken breast, Onion, Garlic, Biryani masala Quantities (for 1 person): Rice: 1/2 cup, Chicken breast: 1 (diced), Onion: 1/4 (chopped), Garlic: 1 clove (minced), Biryani masala: 1 tsp Cooking Time: 20 minutes Steps: Cook rice, sauté chicken with\",\"relative_path\":\"main_dishes.pdf\",\"category\":\"MainCourse\"}],\"request_id\":\"a50993a9-c23b-4ce3-97f3-96db4e616d8d\"}', ['Fried Rice Ingredients: Rice, Carrot, Peas, Soy sauce, Olive oil, Garlic, Green onions Quantities (for 1 person): Rice: 1/2 cup (cooked), Carrot: 1/2 (diced), Peas: 1/4 cup, Soy sauce: 1 tbsp, Olive oil: 1 tsp, Garlic: 1 clove (minced), Green onions: 1 (chopped Cooking Time: 15 minutes Steps: Heat olive oil in a pan, add garlic and cook for 1 minute. Add carrot and peas, cook for 3-4 minutes. Add cooked rice and soy sauce, stir-fry for another 5 minutes. Garnish with green onions. Serve hot. Cuisine: Asian Diet Type: Vegan  \\\\nRecipe ID: 332  \\\\nRecipe Name: Chicken and Rice Skillet Ingredients: Chicken breast, Rice, Bell pepper, Olive oil, Chicken broth, Salt, Pepper Quantities (for 1 person): Chicken breast: 1 (150 grams), Rice: 1/2 cup (uncooked), Bell pepper: 1/2 (sliced), Olive oil: 1 tsp, Chicken broth: 1/2 cup, Salt: pinch, Pepper: pinch Cooking Time: 20 minutes Steps: In a skillet, heat olive oil and cook the chicken breast until browned on both sides (7-8 minutes). Remove and', 'Chicken breast: 1 (150 grams), Bell peppers: 1/2 (sliced), Pineapple: 1/4 cup (chunks), Soy sauce: 1 tbsp, Vinegar: 1 tsp, Olive oil: 1 tsp Cooking Time: 20 minutes Steps: Cook rice according to package instructions. In a pan, heat olive oil and cook chicken until browned. Add bell peppers and pineapple, cook for 3-4 minutes. Add soy sauce and vinegar, cook for another 2 minutes. Serve over rice. Cuisine: Asian Diet Type: Non-Vegetarian  \\\\nRecipe ID: 339  \\\\nRecipe Name: Egg Fried Rice Ingredients: Rice, Eggs, Soy sauce, Olive oil, Green peas, Carrot, Garlic Quantities (for 1 person): Rice: 1/2 cup (cooked), Eggs: 2, Soy sauce: 1 tbsp, Olive oil: 1 tsp, Green peas: 1/4 cup, Carrot: 1/2 (diced), Garlic: 1 clove (minced) Cooking Time: 15 minutes  \\\\nSteps: Heat olive oil in a pan, add garlic, and cook for 1 minute. Add carrot and peas, cook for 2 minutes. Push vegetables to the side, scramble eggs in the pan. Add rice and soy sauce, stir-fry for 5 minutes. Serve hot. Cuisine: Asian Diet', 'peas:  \\\\n1/4 cup, Soy sauce: 1 tbsp, Olive oil: 1 tsp  \\\\n1/4 cup, Soy sauce: 1 tbsp, Olive oil: 1 tsp Cooking Time: 15 minutes Steps: Heat olive oil, sauté carrots and peas, add rice and soy sauce, stir-fry for 3-4 minutes, and serve. Cuisine: Asian Diet Type: Vegan  \\\\nRecipe ID: 263  \\\\nRecipe Name: Lemon Rice Ingredients: Rice, Lemon, Mustard seeds, Olive oil, Curry leaves Quantities (for 1 person): Rice: 1/2 cup (cooked), Lemon: 1/2 (juiced), Mustard seeds: 1/2 tsp, Olive oil: 1 tsp, Curry leaves: 4-5 Cooking Time: 15 minutes Steps: Heat olive oil, sauté mustard seeds and curry leaves, add cooked rice and lemon juice, stir well, and serve. Cuisine: Indian Diet Type: Vegan  \\\\nRecipe ID: 264  \\\\nRecipe Name: Chicken Biryani Ingredients: Rice, Chicken breast, Onion, Garlic, Biryani masala Quantities (for 1 person): Rice: 1/2 cup, Chicken breast: 1 (diced), Onion: 1/4 (chopped), Garlic: 1 clove (minced), Biryani masala: 1 tsp Cooking Time: 20 minutes Steps: Cook rice, sauté chicken with']))\n",
      "calling <function MyCortexSearchRetriever.get_similar_chunks_search_service at 0x770010c8de40> with (<__main__.MyCortexSearchRetriever object at 0x770001455590>, 'how to make chicken with peas?', ('{\"results\":[{\"chunk\":\"Fried Rice Ingredients: Rice, Carrot, Peas, Soy sauce, Olive oil, Garlic, Green onions Quantities (for 1 person): Rice: 1/2 cup (cooked), Carrot: 1/2 (diced), Peas: 1/4 cup, Soy sauce: 1 tbsp, Olive oil: 1 tsp, Garlic: 1 clove (minced), Green onions: 1 (chopped Cooking Time: 15 minutes Steps: Heat olive oil in a pan, add garlic and cook for 1 minute. Add carrot and peas, cook for 3-4 minutes. Add cooked rice and soy sauce, stir-fry for another 5 minutes. Garnish with green onions. Serve hot. Cuisine: Asian Diet Type: Vegan  \\\\\\\\nRecipe ID: 332  \\\\\\\\nRecipe Name: Chicken and Rice Skillet Ingredients: Chicken breast, Rice, Bell pepper, Olive oil, Chicken broth, Salt, Pepper Quantities (for 1 person): Chicken breast: 1 (150 grams), Rice: 1/2 cup (uncooked), Bell pepper: 1/2 (sliced), Olive oil: 1 tsp, Chicken broth: 1/2 cup, Salt: pinch, Pepper: pinch Cooking Time: 20 minutes Steps: In a skillet, heat olive oil and cook the chicken breast until browned on both sides (7-8 minutes). Remove and\",\"category\":\"MainCourse\",\"relative_path\":\"main_dishes.pdf\"},{\"chunk\":\"Chicken breast: 1 (150 grams), Bell peppers: 1/2 (sliced), Pineapple: 1/4 cup (chunks), Soy sauce: 1 tbsp, Vinegar: 1 tsp, Olive oil: 1 tsp Cooking Time: 20 minutes Steps: Cook rice according to package instructions. In a pan, heat olive oil and cook chicken until browned. Add bell peppers and pineapple, cook for 3-4 minutes. Add soy sauce and vinegar, cook for another 2 minutes. Serve over rice. Cuisine: Asian Diet Type: Non-Vegetarian  \\\\\\\\nRecipe ID: 339  \\\\\\\\nRecipe Name: Egg Fried Rice Ingredients: Rice, Eggs, Soy sauce, Olive oil, Green peas, Carrot, Garlic Quantities (for 1 person): Rice: 1/2 cup (cooked), Eggs: 2, Soy sauce: 1 tbsp, Olive oil: 1 tsp, Green peas: 1/4 cup, Carrot: 1/2 (diced), Garlic: 1 clove (minced) Cooking Time: 15 minutes  \\\\\\\\nSteps: Heat olive oil in a pan, add garlic, and cook for 1 minute. Add carrot and peas, cook for 2 minutes. Push vegetables to the side, scramble eggs in the pan. Add rice and soy sauce, stir-fry for 5 minutes. Serve hot. Cuisine: Asian Diet\",\"category\":\"MainCourse\",\"relative_path\":\"main_dishes.pdf\"},{\"chunk\":\"peas:  \\\\\\\\n1/4 cup, Soy sauce: 1 tbsp, Olive oil: 1 tsp  \\\\\\\\n1/4 cup, Soy sauce: 1 tbsp, Olive oil: 1 tsp Cooking Time: 15 minutes Steps: Heat olive oil, sauté carrots and peas, add rice and soy sauce, stir-fry for 3-4 minutes, and serve. Cuisine: Asian Diet Type: Vegan  \\\\\\\\nRecipe ID: 263  \\\\\\\\nRecipe Name: Lemon Rice Ingredients: Rice, Lemon, Mustard seeds, Olive oil, Curry leaves Quantities (for 1 person): Rice: 1/2 cup (cooked), Lemon: 1/2 (juiced), Mustard seeds: 1/2 tsp, Olive oil: 1 tsp, Curry leaves: 4-5 Cooking Time: 15 minutes Steps: Heat olive oil, sauté mustard seeds and curry leaves, add cooked rice and lemon juice, stir well, and serve. Cuisine: Indian Diet Type: Vegan  \\\\\\\\nRecipe ID: 264  \\\\\\\\nRecipe Name: Chicken Biryani Ingredients: Rice, Chicken breast, Onion, Garlic, Biryani masala Quantities (for 1 person): Rice: 1/2 cup, Chicken breast: 1 (diced), Onion: 1/4 (chopped), Garlic: 1 clove (minced), Biryani masala: 1 tsp Cooking Time: 20 minutes Steps: Cook rice, sauté chicken with\",\"relative_path\":\"main_dishes.pdf\",\"category\":\"MainCourse\"}],\"request_id\":\"a50993a9-c23b-4ce3-97f3-96db4e616d8d\"}', ['Fried Rice Ingredients: Rice, Carrot, Peas, Soy sauce, Olive oil, Garlic, Green onions Quantities (for 1 person): Rice: 1/2 cup (cooked), Carrot: 1/2 (diced), Peas: 1/4 cup, Soy sauce: 1 tbsp, Olive oil: 1 tsp, Garlic: 1 clove (minced), Green onions: 1 (chopped Cooking Time: 15 minutes Steps: Heat olive oil in a pan, add garlic and cook for 1 minute. Add carrot and peas, cook for 3-4 minutes. Add cooked rice and soy sauce, stir-fry for another 5 minutes. Garnish with green onions. Serve hot. Cuisine: Asian Diet Type: Vegan  \\\\nRecipe ID: 332  \\\\nRecipe Name: Chicken and Rice Skillet Ingredients: Chicken breast, Rice, Bell pepper, Olive oil, Chicken broth, Salt, Pepper Quantities (for 1 person): Chicken breast: 1 (150 grams), Rice: 1/2 cup (uncooked), Bell pepper: 1/2 (sliced), Olive oil: 1 tsp, Chicken broth: 1/2 cup, Salt: pinch, Pepper: pinch Cooking Time: 20 minutes Steps: In a skillet, heat olive oil and cook the chicken breast until browned on both sides (7-8 minutes). Remove and', 'Chicken breast: 1 (150 grams), Bell peppers: 1/2 (sliced), Pineapple: 1/4 cup (chunks), Soy sauce: 1 tbsp, Vinegar: 1 tsp, Olive oil: 1 tsp Cooking Time: 20 minutes Steps: Cook rice according to package instructions. In a pan, heat olive oil and cook chicken until browned. Add bell peppers and pineapple, cook for 3-4 minutes. Add soy sauce and vinegar, cook for another 2 minutes. Serve over rice. Cuisine: Asian Diet Type: Non-Vegetarian  \\\\nRecipe ID: 339  \\\\nRecipe Name: Egg Fried Rice Ingredients: Rice, Eggs, Soy sauce, Olive oil, Green peas, Carrot, Garlic Quantities (for 1 person): Rice: 1/2 cup (cooked), Eggs: 2, Soy sauce: 1 tbsp, Olive oil: 1 tsp, Green peas: 1/4 cup, Carrot: 1/2 (diced), Garlic: 1 clove (minced) Cooking Time: 15 minutes  \\\\nSteps: Heat olive oil in a pan, add garlic, and cook for 1 minute. Add carrot and peas, cook for 2 minutes. Push vegetables to the side, scramble eggs in the pan. Add rice and soy sauce, stir-fry for 5 minutes. Serve hot. Cuisine: Asian Diet', 'peas:  \\\\n1/4 cup, Soy sauce: 1 tbsp, Olive oil: 1 tsp  \\\\n1/4 cup, Soy sauce: 1 tbsp, Olive oil: 1 tsp Cooking Time: 15 minutes Steps: Heat olive oil, sauté carrots and peas, add rice and soy sauce, stir-fry for 3-4 minutes, and serve. Cuisine: Asian Diet Type: Vegan  \\\\nRecipe ID: 263  \\\\nRecipe Name: Lemon Rice Ingredients: Rice, Lemon, Mustard seeds, Olive oil, Curry leaves Quantities (for 1 person): Rice: 1/2 cup (cooked), Lemon: 1/2 (juiced), Mustard seeds: 1/2 tsp, Olive oil: 1 tsp, Curry leaves: 4-5 Cooking Time: 15 minutes Steps: Heat olive oil, sauté mustard seeds and curry leaves, add cooked rice and lemon juice, stir well, and serve. Cuisine: Indian Diet Type: Vegan  \\\\nRecipe ID: 264  \\\\nRecipe Name: Chicken Biryani Ingredients: Rice, Chicken breast, Onion, Garlic, Biryani masala Quantities (for 1 person): Rice: 1/2 cup, Chicken breast: 1 (diced), Onion: 1/4 (chopped), Garlic: 1 clove (minced), Biryani masala: 1 tsp Cooking Time: 20 minutes Steps: Cook rice, sauté chicken with']))\n"
     ]
    },
    {
     "ename": "APIError",
     "evalue": "(400)\nReason: Bad Request\nError Message: Invalid filter query: Invalid argument: Expected a string but got [\"{\\\"results\\\":[{\\\"chunk\\\":\\\"Fried Rice Ingredients: Rice, Carrot, Peas, Soy sauce, Olive oil, Garlic, Green onions Quantities (for 1 person): Rice: 1/2 cup (cooked), Carrot: 1/2 (diced), Peas: 1/4 cup, Soy sauce: 1 tbsp, Olive oil: 1 tsp, Garlic: 1 clove (minced), Green onions: 1 (chopped Cooking Time: 15 minutes Steps: Heat olive oil in a pan, add garlic and cook for 1 minute. Add carrot and peas, cook for 3-4 minutes. Add cooked rice and soy sauce, stir-fry for another 5 minutes. Garnish with green onions. Serve hot. Cuisine: Asian Diet Type: Vegan  \\\\\\\\nRecipe ID: 332  \\\\\\\\nRecipe Name: Chicken and Rice Skillet Ingredients: Chicken breast, Rice, Bell pepper, Olive oil, Chicken broth, Salt, Pepper Quantities (for 1 person): Chicken breast: 1 (150 grams), Rice: 1/2 cup (uncooked), Bell pepper: 1/2 (sliced), Olive oil: 1 tsp, Chicken broth: 1/2 cup, Salt: pinch, Pepper: pinch Cooking Time: 20 minutes Steps: In a skillet, heat olive oil and cook the chicken breast until browned on both sides (7-8 minutes). Remove and\\\",\\\"category\\\":\\\"MainCourse\\\",\\\"relative_path\\\":\\\"main_dishes.pdf\\\"},{\\\"chunk\\\":\\\"Chicken breast: 1 (150 grams), Bell peppers: 1/2 (sliced), Pineapple: 1/4 cup (chunks), Soy sauce: 1 tbsp, Vinegar: 1 tsp, Olive oil: 1 tsp Cooking Time: 20 minutes Steps: Cook rice according to package instructions. In a pan, heat olive oil and cook chicken until browned. Add bell peppers and pineapple, cook for 3-4 minutes. Add soy sauce and vinegar, cook for another 2 minutes. Serve over rice. Cuisine: Asian Diet Type: Non-Vegetarian  \\\\\\\\nRecipe ID: 339  \\\\\\\\nRecipe Name: Egg Fried Rice Ingredients: Rice, Eggs, Soy sauce, Olive oil, Green peas, Carrot, Garlic Quantities (for 1 person): Rice: 1/2 cup (cooked), Eggs: 2, Soy sauce: 1 tbsp, Olive oil: 1 tsp, Green peas: 1/4 cup, Carrot: 1/2 (diced), Garlic: 1 clove (minced) Cooking Time: 15 minutes  \\\\\\\\nSteps: Heat olive oil in a pan, add garlic, and cook for 1 minute. Add carrot and peas, cook for 2 minutes. Push vegetables to the side, scramble eggs in the pan. Add rice and soy sauce, stir-fry for 5 minutes. Serve hot. Cuisine: Asian Diet\\\",\\\"category\\\":\\\"MainCourse\\\",\\\"relative_path\\\":\\\"main_dishes.pdf\\\"},{\\\"chunk\\\":\\\"peas:  \\\\\\\\n1/4 cup, Soy sauce: 1 tbsp, Olive oil: 1 tsp  \\\\\\\\n1/4 cup, Soy sauce: 1 tbsp, Olive oil: 1 tsp Cooking Time: 15 minutes Steps: Heat olive oil, sauté carrots and peas, add rice and soy sauce, stir-fry for 3-4 minutes, and serve. Cuisine: Asian Diet Type: Vegan  \\\\\\\\nRecipe ID: 263  \\\\\\\\nRecipe Name: Lemon Rice Ingredients: Rice, Lemon, Mustard seeds, Olive oil, Curry leaves Quantities (for 1 person): Rice: 1/2 cup (cooked), Lemon: 1/2 (juiced), Mustard seeds: 1/2 tsp, Olive oil: 1 tsp, Curry leaves: 4-5 Cooking Time: 15 minutes Steps: Heat olive oil, sauté mustard seeds and curry leaves, add cooked rice and lemon juice, stir well, and serve. Cuisine: Indian Diet Type: Vegan  \\\\\\\\nRecipe ID: 264  \\\\\\\\nRecipe Name: Chicken Biryani Ingredients: Rice, Chicken breast, Onion, Garlic, Biryani masala Quantities (for 1 person): Rice: 1/2 cup, Chicken breast: 1 (diced), Onion: 1/4 (chopped), Garlic: 1 clove (minced), Biryani masala: 1 tsp Cooking Time: 20 minutes Steps: Cook rice, sauté chicken with\\\",\\\"relative_path\\\":\\\"main_dishes.pdf\\\",\\\"category\\\":\\\"MainCourse\\\"}],\\\"request_id\\\":\\\"a50993a9-c23b-4ce3-97f3-96db4e616d8d\\\"}\" [\"Fried Rice Ingredients: Rice, Carrot, Peas, Soy sauce, Olive oil, Garlic, Green onions Quantities (for 1 person): Rice: 1/2 cup (cooked), Carrot: 1/2 (diced), Peas: 1/4 cup, Soy sauce: 1 tbsp, Olive oil: 1 tsp, Garlic: 1 clove (minced), Green onions: 1 (chopped Cooking Time: 15 minutes Steps: Heat olive oil in a pan, add garlic and cook for 1 minute. Add carrot and peas, cook for 3-4 minutes. Add cooked rice and soy sauce, stir-fry for another 5 minutes. Garnish with green onions. Serve hot. Cuisine: Asian Diet Type: Vegan  \\\\nRecipe ID: 332  \\\\nRecipe Name: Chicken and Rice Skillet Ingredients: Chicken breast, Rice, Bell pepper, Olive oil, Chicken broth, Salt, Pepper Quantities (for 1 person): Chicken breast: 1 (150 grams), Rice: 1/2 cup (uncooked), Bell pepper: 1/2 (sliced), Olive oil: 1 tsp, Chicken broth: 1/2 cup, Salt: pinch, Pepper: pinch Cooking Time: 20 minutes Steps: In a skillet, heat olive oil and cook the chicken breast until browned on both sides (7-8 minutes). Remove and\" \"Chicken breast: 1 (150 grams), Bell peppers: 1/2 (sliced), Pineapple: 1/4 cup (chunks), Soy sauce: 1 tbsp, Vinegar: 1 tsp, Olive oil: 1 tsp Cooking Time: 20 minutes Steps: Cook rice according to package instructions. In a pan, heat olive oil and cook chicken until browned. Add bell peppers and pineapple, cook for 3-4 minutes. Add soy sauce and vinegar, cook for another 2 minutes. Serve over rice. Cuisine: Asian Diet Type: Non-Vegetarian  \\\\nRecipe ID: 339  \\\\nRecipe Name: Egg Fried Rice Ingredients: Rice, Eggs, Soy sauce, Olive oil, Green peas, Carrot, Garlic Quantities (for 1 person): Rice: 1/2 cup (cooked), Eggs: 2, Soy sauce: 1 tbsp, Olive oil: 1 tsp, Green peas: 1/4 cup, Carrot: 1/2 (diced), Garlic: 1 clove (minced) Cooking Time: 15 minutes  \\\\nSteps: Heat olive oil in a pan, add garlic, and cook for 1 minute. Add carrot and peas, cook for 2 minutes. Push vegetables to the side, scramble eggs in the pan. Add rice and soy sauce, stir-fry for 5 minutes. Serve hot. Cuisine: Asian Diet\" \"peas:  \\\\n1/4 cup, Soy sauce: 1 tbsp, Olive oil: 1 tsp  \\\\n1/4 cup, Soy sauce: 1 tbsp, Olive oil: 1 tsp Cooking Time: 15 minutes Steps: Heat olive oil, sauté carrots and peas, add rice and soy sauce, stir-fry for 3-4 minutes, and serve. Cuisine: Asian Diet Type: Vegan  \\\\nRecipe ID: 263  \\\\nRecipe Name: Lemon Rice Ingredients: Rice, Lemon, Mustard seeds, Olive oil, Curry leaves Quantities (for 1 person): Rice: 1/2 cup (cooked), Lemon: 1/2 (juiced), Mustard seeds: 1/2 tsp, Olive oil: 1 tsp, Curry leaves: 4-5 Cooking Time: 15 minutes Steps: Heat olive oil, sauté mustard seeds and curry leaves, add cooked rice and lemon juice, stir well, and serve. Cuisine: Indian Diet Type: Vegan  \\\\nRecipe ID: 264  \\\\nRecipe Name: Chicken Biryani Ingredients: Rice, Chicken breast, Onion, Garlic, Biryani masala Quantities (for 1 person): Rice: 1/2 cup, Chicken breast: 1 (diced), Onion: 1/4 (chopped), Garlic: 1 clove (minced), Biryani masala: 1 tsp Cooking Time: 20 minutes Steps: Cook rice, sauté chicken with\"]] @ @eq.CATEGORY\nHTTP response code: 400\nRequest ID: 333c4b43-f6d5-4c82-9664-5f31a883a3fe\nError Code: 399114\n",
     "output_type": "error",
     "traceback": [
      "\u001b[0;31m---------------------------------------------------------------------------\u001b[0m",
      "\u001b[0;31mAPIError\u001b[0m                                  Traceback (most recent call last)",
      "Cell \u001b[0;32mIn[53], line 1\u001b[0m\n\u001b[0;32m----> 1\u001b[0m \u001b[38;5;28;43;01mwith\u001b[39;49;00m\u001b[43m \u001b[49m\u001b[43mfull_tru_rag\u001b[49m\u001b[43m \u001b[49m\u001b[38;5;28;43;01mas\u001b[39;49;00m\u001b[43m \u001b[49m\u001b[43mrecording\u001b[49m\u001b[43m:\u001b[49m\n\u001b[1;32m      2\u001b[0m \u001b[43m    \u001b[49m\u001b[43mresponse\u001b[49m\u001b[43m \u001b[49m\u001b[38;5;241;43m=\u001b[39;49m\u001b[43m \u001b[49m\u001b[43mfull_rag\u001b[49m\u001b[38;5;241;43m.\u001b[39;49m\u001b[43mquery\u001b[49m\u001b[43m(\u001b[49m\u001b[43mquery\u001b[49m\u001b[38;5;241;43m=\u001b[39;49m\u001b[38;5;124;43m\"\u001b[39;49m\u001b[38;5;124;43mhow to make chicken with peas?\u001b[39;49m\u001b[38;5;124;43m\"\u001b[39;49m\u001b[43m,\u001b[49m\u001b[43m \u001b[49m\u001b[43mcategory\u001b[49m\u001b[38;5;241;43m=\u001b[39;49m\u001b[38;5;124;43m\"\u001b[39;49m\u001b[38;5;124;43mMainCourse\u001b[39;49m\u001b[38;5;124;43m\"\u001b[39;49m\u001b[43m)\u001b[49m\n\u001b[1;32m      4\u001b[0m response\n",
      "File \u001b[0;32m~/.local/lib/python3.11/site-packages/trulens/core/app.py:1079\u001b[0m, in \u001b[0;36mApp.__exit__\u001b[0;34m(self, exc_type, exc_value, exc_tb)\u001b[0m\n\u001b[1;32m   1076\u001b[0m \u001b[38;5;66;03m# self._reset_context_vars()\u001b[39;00m\n\u001b[1;32m   1078\u001b[0m \u001b[38;5;28;01mif\u001b[39;00m exc_type \u001b[38;5;129;01mis\u001b[39;00m \u001b[38;5;129;01mnot\u001b[39;00m \u001b[38;5;28;01mNone\u001b[39;00m:\n\u001b[0;32m-> 1079\u001b[0m     \u001b[38;5;28;01mraise\u001b[39;00m exc_value\n\u001b[1;32m   1081\u001b[0m \u001b[38;5;28;01mreturn\u001b[39;00m\n",
      "Cell \u001b[0;32mIn[53], line 2\u001b[0m\n\u001b[1;32m      1\u001b[0m \u001b[38;5;28;01mwith\u001b[39;00m full_tru_rag \u001b[38;5;28;01mas\u001b[39;00m recording:\n\u001b[0;32m----> 2\u001b[0m     response \u001b[38;5;241m=\u001b[39m \u001b[43mfull_rag\u001b[49m\u001b[38;5;241;43m.\u001b[39;49m\u001b[43mquery\u001b[49m\u001b[43m(\u001b[49m\u001b[43mquery\u001b[49m\u001b[38;5;241;43m=\u001b[39;49m\u001b[38;5;124;43m\"\u001b[39;49m\u001b[38;5;124;43mhow to make chicken with peas?\u001b[39;49m\u001b[38;5;124;43m\"\u001b[39;49m\u001b[43m,\u001b[49m\u001b[43m \u001b[49m\u001b[43mcategory\u001b[49m\u001b[38;5;241;43m=\u001b[39;49m\u001b[38;5;124;43m\"\u001b[39;49m\u001b[38;5;124;43mMainCourse\u001b[39;49m\u001b[38;5;124;43m\"\u001b[39;49m\u001b[43m)\u001b[49m\n\u001b[1;32m      4\u001b[0m response\n",
      "File \u001b[0;32m~/.local/lib/python3.11/site-packages/trulens/core/instruments.py:930\u001b[0m, in \u001b[0;36mInstrument.tracked_method_wrapper.<locals>.tru_wrapper\u001b[0;34m(*args, **kwargs)\u001b[0m\n\u001b[1;32m    927\u001b[0m WithInstrumentCallbacks\u001b[38;5;241m.\u001b[39m_stack_contexts\u001b[38;5;241m.\u001b[39mreset(stacks_token)\n\u001b[1;32m    928\u001b[0m WithInstrumentCallbacks\u001b[38;5;241m.\u001b[39m_context_contexts\u001b[38;5;241m.\u001b[39mreset(context_token)\n\u001b[0;32m--> 930\u001b[0m \u001b[38;5;28;01mreturn\u001b[39;00m \u001b[43mrewrap\u001b[49m\u001b[43m(\u001b[49m\u001b[43mrets\u001b[49m\u001b[43m)\u001b[49m\n",
      "File \u001b[0;32m~/.local/lib/python3.11/site-packages/trulens/core/instruments.py:914\u001b[0m, in \u001b[0;36mInstrument.tracked_method_wrapper.<locals>.tru_wrapper.<locals>.rewrap\u001b[0;34m(rets)\u001b[0m\n\u001b[1;32m    912\u001b[0m \u001b[38;5;28;01mif\u001b[39;00m python_utils\u001b[38;5;241m.\u001b[39mWRAP_LAZY:\n\u001b[1;32m    913\u001b[0m     \u001b[38;5;28;01mfor\u001b[39;00m ctx \u001b[38;5;129;01min\u001b[39;00m contexts:\n\u001b[0;32m--> 914\u001b[0m         rets \u001b[38;5;241m=\u001b[39m \u001b[43mctx\u001b[49m\u001b[38;5;241;43m.\u001b[39;49m\u001b[43mapp\u001b[49m\u001b[38;5;241;43m.\u001b[39;49m\u001b[43mwrap_lazy_values\u001b[49m\u001b[43m(\u001b[49m\n\u001b[1;32m    915\u001b[0m \u001b[43m            \u001b[49m\u001b[43mrets\u001b[49m\u001b[43m,\u001b[49m\n\u001b[1;32m    916\u001b[0m \u001b[43m            \u001b[49m\u001b[43mwrap\u001b[49m\u001b[38;5;241;43m=\u001b[39;49m\u001b[38;5;28;43;01mNone\u001b[39;49;00m\u001b[43m,\u001b[49m\n\u001b[1;32m    917\u001b[0m \u001b[43m            \u001b[49m\u001b[43mon_done\u001b[49m\u001b[38;5;241;43m=\u001b[39;49m\u001b[43mupdate_call_info\u001b[49m\u001b[43m,\u001b[49m\n\u001b[1;32m    918\u001b[0m \u001b[43m            \u001b[49m\u001b[43mcontext_vars\u001b[49m\u001b[38;5;241;43m=\u001b[39;49m\u001b[43mcontext_vars\u001b[49m\u001b[43m,\u001b[49m\n\u001b[1;32m    919\u001b[0m \u001b[43m        \u001b[49m\u001b[43m)\u001b[49m\n\u001b[1;32m    920\u001b[0m \u001b[38;5;28;01melse\u001b[39;00m:\n\u001b[1;32m    921\u001b[0m     update_call_info(rets, final\u001b[38;5;241m=\u001b[39m\u001b[38;5;28;01mTrue\u001b[39;00m)\n",
      "File \u001b[0;32m~/.local/lib/python3.11/site-packages/trulens/core/instruments.py:150\u001b[0m, in \u001b[0;36mWithInstrumentCallbacks.wrap_lazy_values\u001b[0;34m(self, rets, wrap, on_done, context_vars)\u001b[0m\n\u001b[1;32m    147\u001b[0m \u001b[38;5;28;01mif\u001b[39;00m python_utils\u001b[38;5;241m.\u001b[39mis_lazy(rets):\n\u001b[1;32m    148\u001b[0m     \u001b[38;5;28;01mreturn\u001b[39;00m rets\n\u001b[0;32m--> 150\u001b[0m \u001b[38;5;28;01mreturn\u001b[39;00m \u001b[43mon_done\u001b[49m\u001b[43m(\u001b[49m\u001b[43mrets\u001b[49m\u001b[43m)\u001b[49m\n",
      "File \u001b[0;32m~/.local/lib/python3.11/site-packages/trulens/core/instruments.py:858\u001b[0m, in \u001b[0;36mInstrument.tracked_method_wrapper.<locals>.tru_wrapper.<locals>.update_call_info\u001b[0;34m(rets, final)\u001b[0m\n\u001b[1;32m    852\u001b[0m         cost \u001b[38;5;241m=\u001b[39m tally()  \u001b[38;5;66;03m# get updated cost\u001b[39;00m\n\u001b[1;32m    854\u001b[0m     \u001b[38;5;28;01mif\u001b[39;00m \u001b[38;5;28mlen\u001b[39m(stack) \u001b[38;5;241m==\u001b[39m \u001b[38;5;241m1\u001b[39m \u001b[38;5;129;01mor\u001b[39;00m existing_record \u001b[38;5;129;01mis\u001b[39;00m \u001b[38;5;129;01mnot\u001b[39;00m \u001b[38;5;28;01mNone\u001b[39;00m:\n\u001b[1;32m    855\u001b[0m         \u001b[38;5;66;03m# If this is a root call, notify app to add the completed record\u001b[39;00m\n\u001b[1;32m    856\u001b[0m         \u001b[38;5;66;03m# into its containers:\u001b[39;00m\n\u001b[0;32m--> 858\u001b[0m         records[ctx] \u001b[38;5;241m=\u001b[39m \u001b[43mctx\u001b[49m\u001b[38;5;241;43m.\u001b[39;49m\u001b[43mapp\u001b[49m\u001b[38;5;241;43m.\u001b[39;49m\u001b[43mon_add_record\u001b[49m\u001b[43m(\u001b[49m\n\u001b[1;32m    859\u001b[0m \u001b[43m            \u001b[49m\u001b[43mctx\u001b[49m\u001b[38;5;241;43m=\u001b[39;49m\u001b[43mctx\u001b[49m\u001b[43m,\u001b[49m\n\u001b[1;32m    860\u001b[0m \u001b[43m            \u001b[49m\u001b[43mfunc\u001b[49m\u001b[38;5;241;43m=\u001b[39;49m\u001b[43mfunc\u001b[49m\u001b[43m,\u001b[49m\n\u001b[1;32m    861\u001b[0m \u001b[43m            \u001b[49m\u001b[43msig\u001b[49m\u001b[38;5;241;43m=\u001b[39;49m\u001b[43msig\u001b[49m\u001b[43m,\u001b[49m\n\u001b[1;32m    862\u001b[0m \u001b[43m            \u001b[49m\u001b[43mbindings\u001b[49m\u001b[38;5;241;43m=\u001b[39;49m\u001b[43mbindings\u001b[49m\u001b[43m,\u001b[49m\n\u001b[1;32m    863\u001b[0m \u001b[43m            \u001b[49m\u001b[43mret\u001b[49m\u001b[38;5;241;43m=\u001b[39;49m\u001b[43mrets\u001b[49m\u001b[43m,\u001b[49m\n\u001b[1;32m    864\u001b[0m \u001b[43m            \u001b[49m\u001b[43merror\u001b[49m\u001b[38;5;241;43m=\u001b[39;49m\u001b[43merror\u001b[49m\u001b[43m,\u001b[49m\n\u001b[1;32m    865\u001b[0m \u001b[43m            \u001b[49m\u001b[43mperf\u001b[49m\u001b[38;5;241;43m=\u001b[39;49m\u001b[43mbase_schema\u001b[49m\u001b[38;5;241;43m.\u001b[39;49m\u001b[43mPerf\u001b[49m\u001b[43m(\u001b[49m\n\u001b[1;32m    866\u001b[0m \u001b[43m                \u001b[49m\u001b[43mstart_time\u001b[49m\u001b[38;5;241;43m=\u001b[39;49m\u001b[43mstart_time\u001b[49m\u001b[43m,\u001b[49m\u001b[43m \u001b[49m\u001b[43mend_time\u001b[49m\u001b[38;5;241;43m=\u001b[39;49m\u001b[43mend_time\u001b[49m\n\u001b[1;32m    867\u001b[0m \u001b[43m            \u001b[49m\u001b[43m)\u001b[49m\u001b[43m,\u001b[49m\n\u001b[1;32m    868\u001b[0m \u001b[43m            \u001b[49m\u001b[43mcost\u001b[49m\u001b[38;5;241;43m=\u001b[39;49m\u001b[43mcost\u001b[49m\u001b[43m,\u001b[49m\n\u001b[1;32m    869\u001b[0m \u001b[43m            \u001b[49m\u001b[43mexisting_record\u001b[49m\u001b[38;5;241;43m=\u001b[39;49m\u001b[43mexisting_record\u001b[49m\u001b[43m,\u001b[49m\n\u001b[1;32m    870\u001b[0m \u001b[43m            \u001b[49m\u001b[43mfinal\u001b[49m\u001b[38;5;241;43m=\u001b[39;49m\u001b[43mfinal\u001b[49m\u001b[43m,\u001b[49m\n\u001b[1;32m    871\u001b[0m \u001b[43m        \u001b[49m\u001b[43m)\u001b[49m\n\u001b[1;32m    873\u001b[0m \u001b[38;5;28;01mif\u001b[39;00m error \u001b[38;5;129;01mis\u001b[39;00m \u001b[38;5;129;01mnot\u001b[39;00m \u001b[38;5;28;01mNone\u001b[39;00m:\n\u001b[1;32m    874\u001b[0m     \u001b[38;5;28;01mraise\u001b[39;00m error\n",
      "File \u001b[0;32m~/.local/lib/python3.11/site-packages/trulens/core/app.py:1237\u001b[0m, in \u001b[0;36mApp.on_add_record\u001b[0;34m(self, ctx, func, sig, bindings, ret, error, perf, cost, existing_record, final)\u001b[0m\n\u001b[1;32m   1234\u001b[0m \u001b[38;5;28;01mif\u001b[39;00m error \u001b[38;5;129;01mis\u001b[39;00m \u001b[38;5;129;01mnot\u001b[39;00m \u001b[38;5;28;01mNone\u001b[39;00m:\n\u001b[1;32m   1235\u001b[0m     \u001b[38;5;66;03m# May block on DB.\u001b[39;00m\n\u001b[1;32m   1236\u001b[0m     \u001b[38;5;28mself\u001b[39m\u001b[38;5;241m.\u001b[39m_handle_error(record\u001b[38;5;241m=\u001b[39mrecord, error\u001b[38;5;241m=\u001b[39merror)\n\u001b[0;32m-> 1237\u001b[0m     \u001b[38;5;28;01mraise\u001b[39;00m error\n\u001b[1;32m   1239\u001b[0m \u001b[38;5;66;03m# Only continue with the feedback steps if the record is final.\u001b[39;00m\n\u001b[1;32m   1240\u001b[0m \u001b[38;5;28;01mif\u001b[39;00m \u001b[38;5;129;01mnot\u001b[39;00m final:\n",
      "File \u001b[0;32m~/.local/lib/python3.11/site-packages/trulens/core/instruments.py:772\u001b[0m, in \u001b[0;36mInstrument.tracked_method_wrapper.<locals>.tru_wrapper\u001b[0;34m(*args, **kwargs)\u001b[0m\n\u001b[1;32m    768\u001b[0m     bindings: BoundArguments \u001b[38;5;241m=\u001b[39m sig\u001b[38;5;241m.\u001b[39mbind(\u001b[38;5;241m*\u001b[39margs, \u001b[38;5;241m*\u001b[39m\u001b[38;5;241m*\u001b[39mkwargs)\n\u001b[1;32m    770\u001b[0m     \u001b[38;5;28mprint\u001b[39m(\u001b[38;5;124mf\u001b[39m\u001b[38;5;124m\"\u001b[39m\u001b[38;5;124mcalling \u001b[39m\u001b[38;5;132;01m{\u001b[39;00mfunc\u001b[38;5;132;01m}\u001b[39;00m\u001b[38;5;124m with \u001b[39m\u001b[38;5;132;01m{\u001b[39;00margs\u001b[38;5;132;01m}\u001b[39;00m\u001b[38;5;124m\"\u001b[39m)\n\u001b[0;32m--> 772\u001b[0m     rets, tally \u001b[38;5;241m=\u001b[39m \u001b[43mcore_endpoint\u001b[49m\u001b[38;5;241;43m.\u001b[39;49m\u001b[43mEndpoint\u001b[49m\u001b[38;5;241;43m.\u001b[39;49m\u001b[43mtrack_all_costs_tally\u001b[49m\u001b[43m(\u001b[49m\n\u001b[1;32m    773\u001b[0m \u001b[43m        \u001b[49m\u001b[43mfunc\u001b[49m\u001b[43m,\u001b[49m\u001b[43m \u001b[49m\u001b[38;5;241;43m*\u001b[39;49m\u001b[43margs\u001b[49m\u001b[43m,\u001b[49m\u001b[43m \u001b[49m\u001b[38;5;241;43m*\u001b[39;49m\u001b[38;5;241;43m*\u001b[39;49m\u001b[43mkwargs\u001b[49m\n\u001b[1;32m    774\u001b[0m \u001b[43m    \u001b[49m\u001b[43m)\u001b[49m\n\u001b[1;32m    776\u001b[0m \u001b[38;5;28;01mexcept\u001b[39;00m \u001b[38;5;167;01mBaseException\u001b[39;00m \u001b[38;5;28;01mas\u001b[39;00m e:\n\u001b[1;32m    777\u001b[0m     error \u001b[38;5;241m=\u001b[39m e\n",
      "File \u001b[0;32m~/.local/lib/python3.11/site-packages/trulens/core/feedback/endpoint.py:589\u001b[0m, in \u001b[0;36mEndpoint.track_all_costs_tally\u001b[0;34m(_Endpoint__func, with_openai, with_hugs, with_litellm, with_bedrock, with_cortex, with_dummy, *args, **kwargs)\u001b[0m\n\u001b[1;32m    583\u001b[0m     \u001b[38;5;28;01mfrom\u001b[39;00m\u001b[38;5;250m \u001b[39m\u001b[38;5;21;01mtrulens\u001b[39;00m\u001b[38;5;21;01m.\u001b[39;00m\u001b[38;5;21;01mexperimental\u001b[39;00m\u001b[38;5;21;01m.\u001b[39;00m\u001b[38;5;21;01motel_tracing\u001b[39;00m\u001b[38;5;21;01m.\u001b[39;00m\u001b[38;5;21;01mcore\u001b[39;00m\u001b[38;5;21;01m.\u001b[39;00m\u001b[38;5;21;01mfeedback\u001b[39;00m\u001b[38;5;21;01m.\u001b[39;00m\u001b[38;5;21;01mendpoint\u001b[39;00m\u001b[38;5;250m \u001b[39m\u001b[38;5;28;01mimport\u001b[39;00m (\n\u001b[1;32m    584\u001b[0m         _Endpoint,\n\u001b[1;32m    585\u001b[0m     )\n\u001b[1;32m    587\u001b[0m     \u001b[38;5;28;01mreturn\u001b[39;00m _Endpoint\u001b[38;5;241m.\u001b[39mtrack_all_costs_tally(__func, \u001b[38;5;241m*\u001b[39margs, \u001b[38;5;241m*\u001b[39m\u001b[38;5;241m*\u001b[39mkwargs)\n\u001b[0;32m--> 589\u001b[0m result, cbs \u001b[38;5;241m=\u001b[39m \u001b[43mEndpoint\u001b[49m\u001b[38;5;241;43m.\u001b[39;49m\u001b[43mtrack_all_costs\u001b[49m\u001b[43m(\u001b[49m\n\u001b[1;32m    590\u001b[0m \u001b[43m    \u001b[49m\u001b[43m__func\u001b[49m\u001b[43m,\u001b[49m\n\u001b[1;32m    591\u001b[0m \u001b[43m    \u001b[49m\u001b[38;5;241;43m*\u001b[39;49m\u001b[43margs\u001b[49m\u001b[43m,\u001b[49m\n\u001b[1;32m    592\u001b[0m \u001b[43m    \u001b[49m\u001b[43mwith_openai\u001b[49m\u001b[38;5;241;43m=\u001b[39;49m\u001b[43mwith_openai\u001b[49m\u001b[43m,\u001b[49m\n\u001b[1;32m    593\u001b[0m \u001b[43m    \u001b[49m\u001b[43mwith_hugs\u001b[49m\u001b[38;5;241;43m=\u001b[39;49m\u001b[43mwith_hugs\u001b[49m\u001b[43m,\u001b[49m\n\u001b[1;32m    594\u001b[0m \u001b[43m    \u001b[49m\u001b[43mwith_litellm\u001b[49m\u001b[38;5;241;43m=\u001b[39;49m\u001b[43mwith_litellm\u001b[49m\u001b[43m,\u001b[49m\n\u001b[1;32m    595\u001b[0m \u001b[43m    \u001b[49m\u001b[43mwith_bedrock\u001b[49m\u001b[38;5;241;43m=\u001b[39;49m\u001b[43mwith_bedrock\u001b[49m\u001b[43m,\u001b[49m\n\u001b[1;32m    596\u001b[0m \u001b[43m    \u001b[49m\u001b[43mwith_cortex\u001b[49m\u001b[38;5;241;43m=\u001b[39;49m\u001b[43mwith_cortex\u001b[49m\u001b[43m,\u001b[49m\n\u001b[1;32m    597\u001b[0m \u001b[43m    \u001b[49m\u001b[43mwith_dummy\u001b[49m\u001b[38;5;241;43m=\u001b[39;49m\u001b[43mwith_dummy\u001b[49m\u001b[43m,\u001b[49m\n\u001b[1;32m    598\u001b[0m \u001b[43m    \u001b[49m\u001b[38;5;241;43m*\u001b[39;49m\u001b[38;5;241;43m*\u001b[39;49m\u001b[43mkwargs\u001b[49m\u001b[43m,\u001b[49m\n\u001b[1;32m    599\u001b[0m \u001b[43m\u001b[49m\u001b[43m)\u001b[49m\n\u001b[1;32m    601\u001b[0m \u001b[38;5;28;01mif\u001b[39;00m \u001b[38;5;28mlen\u001b[39m(cbs) \u001b[38;5;241m==\u001b[39m \u001b[38;5;241m0\u001b[39m:\n\u001b[1;32m    602\u001b[0m     \u001b[38;5;66;03m# Otherwise sum returns \"0\" below.\u001b[39;00m\n\u001b[1;32m    603\u001b[0m     tally \u001b[38;5;241m=\u001b[39m \u001b[38;5;28;01mlambda\u001b[39;00m: base_schema\u001b[38;5;241m.\u001b[39mCost()\n",
      "File \u001b[0;32m~/.local/lib/python3.11/site-packages/trulens/core/feedback/endpoint.py:551\u001b[0m, in \u001b[0;36mEndpoint.track_all_costs\u001b[0;34m(_Endpoint__func, with_openai, with_hugs, with_litellm, with_bedrock, with_cortex, with_dummy, *args, **kwargs)\u001b[0m\n\u001b[1;32m    542\u001b[0m         \u001b[38;5;28;01mexcept\u001b[39;00m \u001b[38;5;167;01mException\u001b[39;00m \u001b[38;5;28;01mas\u001b[39;00m e:\n\u001b[1;32m    543\u001b[0m             logger\u001b[38;5;241m.\u001b[39mdebug(\n\u001b[1;32m    544\u001b[0m                 \u001b[38;5;124m\"\u001b[39m\u001b[38;5;124mCould not initialize endpoint \u001b[39m\u001b[38;5;132;01m%s\u001b[39;00m\u001b[38;5;124m. \u001b[39m\u001b[38;5;124m\"\u001b[39m\n\u001b[1;32m    545\u001b[0m                 \u001b[38;5;124m\"\u001b[39m\u001b[38;5;124mPossibly missing key(s). \u001b[39m\u001b[38;5;124m\"\u001b[39m\n\u001b[0;32m   (...)\u001b[0m\n\u001b[1;32m    548\u001b[0m                 e,\n\u001b[1;32m    549\u001b[0m             )\n\u001b[0;32m--> 551\u001b[0m \u001b[38;5;28;01mreturn\u001b[39;00m \u001b[43mEndpoint\u001b[49m\u001b[38;5;241;43m.\u001b[39;49m\u001b[43m_track_costs\u001b[49m\u001b[43m(\u001b[49m\n\u001b[1;32m    552\u001b[0m \u001b[43m    \u001b[49m\u001b[43m__func\u001b[49m\u001b[43m,\u001b[49m\u001b[43m \u001b[49m\u001b[38;5;241;43m*\u001b[39;49m\u001b[43margs\u001b[49m\u001b[43m,\u001b[49m\u001b[43m \u001b[49m\u001b[43mwith_endpoints\u001b[49m\u001b[38;5;241;43m=\u001b[39;49m\u001b[43mendpoints\u001b[49m\u001b[43m,\u001b[49m\u001b[43m \u001b[49m\u001b[38;5;241;43m*\u001b[39;49m\u001b[38;5;241;43m*\u001b[39;49m\u001b[43mkwargs\u001b[49m\n\u001b[1;32m    553\u001b[0m \u001b[43m\u001b[49m\u001b[43m)\u001b[49m\n",
      "File \u001b[0;32m~/.local/lib/python3.11/site-packages/trulens/core/feedback/endpoint.py:666\u001b[0m, in \u001b[0;36mEndpoint._track_costs\u001b[0;34m(_Endpoint__func, with_endpoints, *args, **kwargs)\u001b[0m\n\u001b[1;32m    661\u001b[0m context_vars \u001b[38;5;241m=\u001b[39m {\n\u001b[1;32m    662\u001b[0m     Endpoint\u001b[38;5;241m.\u001b[39m_context_endpoints: Endpoint\u001b[38;5;241m.\u001b[39m_context_endpoints\u001b[38;5;241m.\u001b[39mget()\n\u001b[1;32m    663\u001b[0m }\n\u001b[1;32m    665\u001b[0m \u001b[38;5;66;03m# Call the function.\u001b[39;00m\n\u001b[0;32m--> 666\u001b[0m result: T \u001b[38;5;241m=\u001b[39m \u001b[43m__func\u001b[49m\u001b[43m(\u001b[49m\u001b[38;5;241;43m*\u001b[39;49m\u001b[43margs\u001b[49m\u001b[43m,\u001b[49m\u001b[43m \u001b[49m\u001b[38;5;241;43m*\u001b[39;49m\u001b[38;5;241;43m*\u001b[39;49m\u001b[43mkwargs\u001b[49m\u001b[43m)\u001b[49m\n\u001b[1;32m    668\u001b[0m \u001b[38;5;28;01mdef\u001b[39;00m\u001b[38;5;250m \u001b[39m\u001b[38;5;21mrewrap\u001b[39m(result):\n\u001b[1;32m    669\u001b[0m     \u001b[38;5;28;01mif\u001b[39;00m python_utils\u001b[38;5;241m.\u001b[39mis_lazy(result):\n",
      "Cell \u001b[0;32mIn[48], line 77\u001b[0m, in \u001b[0;36mRAG.query\u001b[0;34m(self, query, category)\u001b[0m\n\u001b[1;32m     74\u001b[0m \u001b[38;5;129m@instrument\u001b[39m\n\u001b[1;32m     75\u001b[0m \u001b[38;5;28;01mdef\u001b[39;00m\u001b[38;5;250m \u001b[39m\u001b[38;5;21mquery\u001b[39m(\u001b[38;5;28mself\u001b[39m, query: \u001b[38;5;28mstr\u001b[39m, category: \u001b[38;5;28mstr\u001b[39m) \u001b[38;5;241m-\u001b[39m\u001b[38;5;241m>\u001b[39m \u001b[38;5;28mstr\u001b[39m:\n\u001b[1;32m     76\u001b[0m     context_str \u001b[38;5;241m=\u001b[39m \u001b[38;5;28mself\u001b[39m\u001b[38;5;241m.\u001b[39mretrieve_context(query, category)\n\u001b[0;32m---> 77\u001b[0m     \u001b[38;5;28;01mreturn\u001b[39;00m \u001b[38;5;28;43mself\u001b[39;49m\u001b[38;5;241;43m.\u001b[39;49m\u001b[43mcomplete_query\u001b[49m\u001b[43m(\u001b[49m\u001b[43mquery\u001b[49m\u001b[43m,\u001b[49m\u001b[43m \u001b[49m\u001b[43mcontext_str\u001b[49m\u001b[43m)\u001b[49m\n",
      "File \u001b[0;32m~/.local/lib/python3.11/site-packages/trulens/core/instruments.py:930\u001b[0m, in \u001b[0;36mInstrument.tracked_method_wrapper.<locals>.tru_wrapper\u001b[0;34m(*args, **kwargs)\u001b[0m\n\u001b[1;32m    927\u001b[0m WithInstrumentCallbacks\u001b[38;5;241m.\u001b[39m_stack_contexts\u001b[38;5;241m.\u001b[39mreset(stacks_token)\n\u001b[1;32m    928\u001b[0m WithInstrumentCallbacks\u001b[38;5;241m.\u001b[39m_context_contexts\u001b[38;5;241m.\u001b[39mreset(context_token)\n\u001b[0;32m--> 930\u001b[0m \u001b[38;5;28;01mreturn\u001b[39;00m \u001b[43mrewrap\u001b[49m\u001b[43m(\u001b[49m\u001b[43mrets\u001b[49m\u001b[43m)\u001b[49m\n",
      "File \u001b[0;32m~/.local/lib/python3.11/site-packages/trulens/core/instruments.py:914\u001b[0m, in \u001b[0;36mInstrument.tracked_method_wrapper.<locals>.tru_wrapper.<locals>.rewrap\u001b[0;34m(rets)\u001b[0m\n\u001b[1;32m    912\u001b[0m \u001b[38;5;28;01mif\u001b[39;00m python_utils\u001b[38;5;241m.\u001b[39mWRAP_LAZY:\n\u001b[1;32m    913\u001b[0m     \u001b[38;5;28;01mfor\u001b[39;00m ctx \u001b[38;5;129;01min\u001b[39;00m contexts:\n\u001b[0;32m--> 914\u001b[0m         rets \u001b[38;5;241m=\u001b[39m \u001b[43mctx\u001b[49m\u001b[38;5;241;43m.\u001b[39;49m\u001b[43mapp\u001b[49m\u001b[38;5;241;43m.\u001b[39;49m\u001b[43mwrap_lazy_values\u001b[49m\u001b[43m(\u001b[49m\n\u001b[1;32m    915\u001b[0m \u001b[43m            \u001b[49m\u001b[43mrets\u001b[49m\u001b[43m,\u001b[49m\n\u001b[1;32m    916\u001b[0m \u001b[43m            \u001b[49m\u001b[43mwrap\u001b[49m\u001b[38;5;241;43m=\u001b[39;49m\u001b[38;5;28;43;01mNone\u001b[39;49;00m\u001b[43m,\u001b[49m\n\u001b[1;32m    917\u001b[0m \u001b[43m            \u001b[49m\u001b[43mon_done\u001b[49m\u001b[38;5;241;43m=\u001b[39;49m\u001b[43mupdate_call_info\u001b[49m\u001b[43m,\u001b[49m\n\u001b[1;32m    918\u001b[0m \u001b[43m            \u001b[49m\u001b[43mcontext_vars\u001b[49m\u001b[38;5;241;43m=\u001b[39;49m\u001b[43mcontext_vars\u001b[49m\u001b[43m,\u001b[49m\n\u001b[1;32m    919\u001b[0m \u001b[43m        \u001b[49m\u001b[43m)\u001b[49m\n\u001b[1;32m    920\u001b[0m \u001b[38;5;28;01melse\u001b[39;00m:\n\u001b[1;32m    921\u001b[0m     update_call_info(rets, final\u001b[38;5;241m=\u001b[39m\u001b[38;5;28;01mTrue\u001b[39;00m)\n",
      "File \u001b[0;32m~/.local/lib/python3.11/site-packages/trulens/core/instruments.py:150\u001b[0m, in \u001b[0;36mWithInstrumentCallbacks.wrap_lazy_values\u001b[0;34m(self, rets, wrap, on_done, context_vars)\u001b[0m\n\u001b[1;32m    147\u001b[0m \u001b[38;5;28;01mif\u001b[39;00m python_utils\u001b[38;5;241m.\u001b[39mis_lazy(rets):\n\u001b[1;32m    148\u001b[0m     \u001b[38;5;28;01mreturn\u001b[39;00m rets\n\u001b[0;32m--> 150\u001b[0m \u001b[38;5;28;01mreturn\u001b[39;00m \u001b[43mon_done\u001b[49m\u001b[43m(\u001b[49m\u001b[43mrets\u001b[49m\u001b[43m)\u001b[49m\n",
      "File \u001b[0;32m~/.local/lib/python3.11/site-packages/trulens/core/instruments.py:874\u001b[0m, in \u001b[0;36mInstrument.tracked_method_wrapper.<locals>.tru_wrapper.<locals>.update_call_info\u001b[0;34m(rets, final)\u001b[0m\n\u001b[1;32m    858\u001b[0m         records[ctx] \u001b[38;5;241m=\u001b[39m ctx\u001b[38;5;241m.\u001b[39mapp\u001b[38;5;241m.\u001b[39mon_add_record(\n\u001b[1;32m    859\u001b[0m             ctx\u001b[38;5;241m=\u001b[39mctx,\n\u001b[1;32m    860\u001b[0m             func\u001b[38;5;241m=\u001b[39mfunc,\n\u001b[0;32m   (...)\u001b[0m\n\u001b[1;32m    870\u001b[0m             final\u001b[38;5;241m=\u001b[39mfinal,\n\u001b[1;32m    871\u001b[0m         )\n\u001b[1;32m    873\u001b[0m \u001b[38;5;28;01mif\u001b[39;00m error \u001b[38;5;129;01mis\u001b[39;00m \u001b[38;5;129;01mnot\u001b[39;00m \u001b[38;5;28;01mNone\u001b[39;00m:\n\u001b[0;32m--> 874\u001b[0m     \u001b[38;5;28;01mraise\u001b[39;00m error\n\u001b[1;32m    876\u001b[0m \u001b[38;5;28;01mreturn\u001b[39;00m rets\n",
      "File \u001b[0;32m~/.local/lib/python3.11/site-packages/trulens/core/instruments.py:772\u001b[0m, in \u001b[0;36mInstrument.tracked_method_wrapper.<locals>.tru_wrapper\u001b[0;34m(*args, **kwargs)\u001b[0m\n\u001b[1;32m    768\u001b[0m     bindings: BoundArguments \u001b[38;5;241m=\u001b[39m sig\u001b[38;5;241m.\u001b[39mbind(\u001b[38;5;241m*\u001b[39margs, \u001b[38;5;241m*\u001b[39m\u001b[38;5;241m*\u001b[39mkwargs)\n\u001b[1;32m    770\u001b[0m     \u001b[38;5;28mprint\u001b[39m(\u001b[38;5;124mf\u001b[39m\u001b[38;5;124m\"\u001b[39m\u001b[38;5;124mcalling \u001b[39m\u001b[38;5;132;01m{\u001b[39;00mfunc\u001b[38;5;132;01m}\u001b[39;00m\u001b[38;5;124m with \u001b[39m\u001b[38;5;132;01m{\u001b[39;00margs\u001b[38;5;132;01m}\u001b[39;00m\u001b[38;5;124m\"\u001b[39m)\n\u001b[0;32m--> 772\u001b[0m     rets, tally \u001b[38;5;241m=\u001b[39m \u001b[43mcore_endpoint\u001b[49m\u001b[38;5;241;43m.\u001b[39;49m\u001b[43mEndpoint\u001b[49m\u001b[38;5;241;43m.\u001b[39;49m\u001b[43mtrack_all_costs_tally\u001b[49m\u001b[43m(\u001b[49m\n\u001b[1;32m    773\u001b[0m \u001b[43m        \u001b[49m\u001b[43mfunc\u001b[49m\u001b[43m,\u001b[49m\u001b[43m \u001b[49m\u001b[38;5;241;43m*\u001b[39;49m\u001b[43margs\u001b[49m\u001b[43m,\u001b[49m\u001b[43m \u001b[49m\u001b[38;5;241;43m*\u001b[39;49m\u001b[38;5;241;43m*\u001b[39;49m\u001b[43mkwargs\u001b[49m\n\u001b[1;32m    774\u001b[0m \u001b[43m    \u001b[49m\u001b[43m)\u001b[49m\n\u001b[1;32m    776\u001b[0m \u001b[38;5;28;01mexcept\u001b[39;00m \u001b[38;5;167;01mBaseException\u001b[39;00m \u001b[38;5;28;01mas\u001b[39;00m e:\n\u001b[1;32m    777\u001b[0m     error \u001b[38;5;241m=\u001b[39m e\n",
      "File \u001b[0;32m~/.local/lib/python3.11/site-packages/trulens/core/feedback/endpoint.py:589\u001b[0m, in \u001b[0;36mEndpoint.track_all_costs_tally\u001b[0;34m(_Endpoint__func, with_openai, with_hugs, with_litellm, with_bedrock, with_cortex, with_dummy, *args, **kwargs)\u001b[0m\n\u001b[1;32m    583\u001b[0m     \u001b[38;5;28;01mfrom\u001b[39;00m\u001b[38;5;250m \u001b[39m\u001b[38;5;21;01mtrulens\u001b[39;00m\u001b[38;5;21;01m.\u001b[39;00m\u001b[38;5;21;01mexperimental\u001b[39;00m\u001b[38;5;21;01m.\u001b[39;00m\u001b[38;5;21;01motel_tracing\u001b[39;00m\u001b[38;5;21;01m.\u001b[39;00m\u001b[38;5;21;01mcore\u001b[39;00m\u001b[38;5;21;01m.\u001b[39;00m\u001b[38;5;21;01mfeedback\u001b[39;00m\u001b[38;5;21;01m.\u001b[39;00m\u001b[38;5;21;01mendpoint\u001b[39;00m\u001b[38;5;250m \u001b[39m\u001b[38;5;28;01mimport\u001b[39;00m (\n\u001b[1;32m    584\u001b[0m         _Endpoint,\n\u001b[1;32m    585\u001b[0m     )\n\u001b[1;32m    587\u001b[0m     \u001b[38;5;28;01mreturn\u001b[39;00m _Endpoint\u001b[38;5;241m.\u001b[39mtrack_all_costs_tally(__func, \u001b[38;5;241m*\u001b[39margs, \u001b[38;5;241m*\u001b[39m\u001b[38;5;241m*\u001b[39mkwargs)\n\u001b[0;32m--> 589\u001b[0m result, cbs \u001b[38;5;241m=\u001b[39m \u001b[43mEndpoint\u001b[49m\u001b[38;5;241;43m.\u001b[39;49m\u001b[43mtrack_all_costs\u001b[49m\u001b[43m(\u001b[49m\n\u001b[1;32m    590\u001b[0m \u001b[43m    \u001b[49m\u001b[43m__func\u001b[49m\u001b[43m,\u001b[49m\n\u001b[1;32m    591\u001b[0m \u001b[43m    \u001b[49m\u001b[38;5;241;43m*\u001b[39;49m\u001b[43margs\u001b[49m\u001b[43m,\u001b[49m\n\u001b[1;32m    592\u001b[0m \u001b[43m    \u001b[49m\u001b[43mwith_openai\u001b[49m\u001b[38;5;241;43m=\u001b[39;49m\u001b[43mwith_openai\u001b[49m\u001b[43m,\u001b[49m\n\u001b[1;32m    593\u001b[0m \u001b[43m    \u001b[49m\u001b[43mwith_hugs\u001b[49m\u001b[38;5;241;43m=\u001b[39;49m\u001b[43mwith_hugs\u001b[49m\u001b[43m,\u001b[49m\n\u001b[1;32m    594\u001b[0m \u001b[43m    \u001b[49m\u001b[43mwith_litellm\u001b[49m\u001b[38;5;241;43m=\u001b[39;49m\u001b[43mwith_litellm\u001b[49m\u001b[43m,\u001b[49m\n\u001b[1;32m    595\u001b[0m \u001b[43m    \u001b[49m\u001b[43mwith_bedrock\u001b[49m\u001b[38;5;241;43m=\u001b[39;49m\u001b[43mwith_bedrock\u001b[49m\u001b[43m,\u001b[49m\n\u001b[1;32m    596\u001b[0m \u001b[43m    \u001b[49m\u001b[43mwith_cortex\u001b[49m\u001b[38;5;241;43m=\u001b[39;49m\u001b[43mwith_cortex\u001b[49m\u001b[43m,\u001b[49m\n\u001b[1;32m    597\u001b[0m \u001b[43m    \u001b[49m\u001b[43mwith_dummy\u001b[49m\u001b[38;5;241;43m=\u001b[39;49m\u001b[43mwith_dummy\u001b[49m\u001b[43m,\u001b[49m\n\u001b[1;32m    598\u001b[0m \u001b[43m    \u001b[49m\u001b[38;5;241;43m*\u001b[39;49m\u001b[38;5;241;43m*\u001b[39;49m\u001b[43mkwargs\u001b[49m\u001b[43m,\u001b[49m\n\u001b[1;32m    599\u001b[0m \u001b[43m\u001b[49m\u001b[43m)\u001b[49m\n\u001b[1;32m    601\u001b[0m \u001b[38;5;28;01mif\u001b[39;00m \u001b[38;5;28mlen\u001b[39m(cbs) \u001b[38;5;241m==\u001b[39m \u001b[38;5;241m0\u001b[39m:\n\u001b[1;32m    602\u001b[0m     \u001b[38;5;66;03m# Otherwise sum returns \"0\" below.\u001b[39;00m\n\u001b[1;32m    603\u001b[0m     tally \u001b[38;5;241m=\u001b[39m \u001b[38;5;28;01mlambda\u001b[39;00m: base_schema\u001b[38;5;241m.\u001b[39mCost()\n",
      "File \u001b[0;32m~/.local/lib/python3.11/site-packages/trulens/core/feedback/endpoint.py:551\u001b[0m, in \u001b[0;36mEndpoint.track_all_costs\u001b[0;34m(_Endpoint__func, with_openai, with_hugs, with_litellm, with_bedrock, with_cortex, with_dummy, *args, **kwargs)\u001b[0m\n\u001b[1;32m    542\u001b[0m         \u001b[38;5;28;01mexcept\u001b[39;00m \u001b[38;5;167;01mException\u001b[39;00m \u001b[38;5;28;01mas\u001b[39;00m e:\n\u001b[1;32m    543\u001b[0m             logger\u001b[38;5;241m.\u001b[39mdebug(\n\u001b[1;32m    544\u001b[0m                 \u001b[38;5;124m\"\u001b[39m\u001b[38;5;124mCould not initialize endpoint \u001b[39m\u001b[38;5;132;01m%s\u001b[39;00m\u001b[38;5;124m. \u001b[39m\u001b[38;5;124m\"\u001b[39m\n\u001b[1;32m    545\u001b[0m                 \u001b[38;5;124m\"\u001b[39m\u001b[38;5;124mPossibly missing key(s). \u001b[39m\u001b[38;5;124m\"\u001b[39m\n\u001b[0;32m   (...)\u001b[0m\n\u001b[1;32m    548\u001b[0m                 e,\n\u001b[1;32m    549\u001b[0m             )\n\u001b[0;32m--> 551\u001b[0m \u001b[38;5;28;01mreturn\u001b[39;00m \u001b[43mEndpoint\u001b[49m\u001b[38;5;241;43m.\u001b[39;49m\u001b[43m_track_costs\u001b[49m\u001b[43m(\u001b[49m\n\u001b[1;32m    552\u001b[0m \u001b[43m    \u001b[49m\u001b[43m__func\u001b[49m\u001b[43m,\u001b[49m\u001b[43m \u001b[49m\u001b[38;5;241;43m*\u001b[39;49m\u001b[43margs\u001b[49m\u001b[43m,\u001b[49m\u001b[43m \u001b[49m\u001b[43mwith_endpoints\u001b[49m\u001b[38;5;241;43m=\u001b[39;49m\u001b[43mendpoints\u001b[49m\u001b[43m,\u001b[49m\u001b[43m \u001b[49m\u001b[38;5;241;43m*\u001b[39;49m\u001b[38;5;241;43m*\u001b[39;49m\u001b[43mkwargs\u001b[49m\n\u001b[1;32m    553\u001b[0m \u001b[43m\u001b[49m\u001b[43m)\u001b[49m\n",
      "File \u001b[0;32m~/.local/lib/python3.11/site-packages/trulens/core/feedback/endpoint.py:666\u001b[0m, in \u001b[0;36mEndpoint._track_costs\u001b[0;34m(_Endpoint__func, with_endpoints, *args, **kwargs)\u001b[0m\n\u001b[1;32m    661\u001b[0m context_vars \u001b[38;5;241m=\u001b[39m {\n\u001b[1;32m    662\u001b[0m     Endpoint\u001b[38;5;241m.\u001b[39m_context_endpoints: Endpoint\u001b[38;5;241m.\u001b[39m_context_endpoints\u001b[38;5;241m.\u001b[39mget()\n\u001b[1;32m    663\u001b[0m }\n\u001b[1;32m    665\u001b[0m \u001b[38;5;66;03m# Call the function.\u001b[39;00m\n\u001b[0;32m--> 666\u001b[0m result: T \u001b[38;5;241m=\u001b[39m \u001b[43m__func\u001b[49m\u001b[43m(\u001b[49m\u001b[38;5;241;43m*\u001b[39;49m\u001b[43margs\u001b[49m\u001b[43m,\u001b[49m\u001b[43m \u001b[49m\u001b[38;5;241;43m*\u001b[39;49m\u001b[38;5;241;43m*\u001b[39;49m\u001b[43mkwargs\u001b[49m\u001b[43m)\u001b[49m\n\u001b[1;32m    668\u001b[0m \u001b[38;5;28;01mdef\u001b[39;00m\u001b[38;5;250m \u001b[39m\u001b[38;5;21mrewrap\u001b[39m(result):\n\u001b[1;32m    669\u001b[0m     \u001b[38;5;28;01mif\u001b[39;00m python_utils\u001b[38;5;241m.\u001b[39mis_lazy(result):\n",
      "Cell \u001b[0;32mIn[48], line 65\u001b[0m, in \u001b[0;36mRAG.complete_query\u001b[0;34m(self, query, category)\u001b[0m\n\u001b[1;32m     62\u001b[0m \u001b[38;5;129m@instrument\u001b[39m\n\u001b[1;32m     63\u001b[0m \u001b[38;5;28;01mdef\u001b[39;00m\u001b[38;5;250m \u001b[39m\u001b[38;5;21mcomplete_query\u001b[39m(\u001b[38;5;28mself\u001b[39m, query, category):\n\u001b[1;32m     64\u001b[0m \u001b[38;5;250m    \u001b[39m\u001b[38;5;124;03m\"\"\"Complete the query using Snowflake Cortex with Mistral model.\"\"\"\u001b[39;00m\n\u001b[0;32m---> 65\u001b[0m     prompt, relative_paths \u001b[38;5;241m=\u001b[39m \u001b[38;5;28;43mself\u001b[39;49m\u001b[38;5;241;43m.\u001b[39;49m\u001b[43mcreate_prompt\u001b[49m\u001b[43m(\u001b[49m\u001b[43mquery\u001b[49m\u001b[43m,\u001b[49m\u001b[43m \u001b[49m\u001b[43mcategory\u001b[49m\u001b[43m)\u001b[49m\n\u001b[1;32m     66\u001b[0m     cmd \u001b[38;5;241m=\u001b[39m \u001b[38;5;124m\"\"\"\u001b[39m\n\u001b[1;32m     67\u001b[0m \u001b[38;5;124m        select snowflake.cortex.complete(?, ?) as response\u001b[39m\n\u001b[1;32m     68\u001b[0m \u001b[38;5;124m    \u001b[39m\u001b[38;5;124m\"\"\"\u001b[39m\n\u001b[1;32m     69\u001b[0m     df_response \u001b[38;5;241m=\u001b[39m session\u001b[38;5;241m.\u001b[39msql(cmd, params\u001b[38;5;241m=\u001b[39m[\u001b[38;5;124m'\u001b[39m\u001b[38;5;124mmistral-large\u001b[39m\u001b[38;5;124m'\u001b[39m, prompt])\u001b[38;5;241m.\u001b[39mcollect()\n",
      "Cell \u001b[0;32mIn[48], line 28\u001b[0m, in \u001b[0;36mRAG.create_prompt\u001b[0;34m(self, query, category)\u001b[0m\n\u001b[1;32m     15\u001b[0m \u001b[38;5;250m\u001b[39m\u001b[38;5;124;03m\"\"\"Create a prompt for the LLM with context from search results and chat history.\"\"\"\u001b[39;00m\n\u001b[1;32m     17\u001b[0m \u001b[38;5;66;03m# if st.session_state.use_chat_history:\u001b[39;00m\n\u001b[1;32m     18\u001b[0m \u001b[38;5;66;03m#     chat_history = get_chat_history()\u001b[39;00m\n\u001b[1;32m     19\u001b[0m \u001b[38;5;66;03m#     if chat_history:\u001b[39;00m\n\u001b[0;32m   (...)\u001b[0m\n\u001b[1;32m     25\u001b[0m \u001b[38;5;66;03m#     prompt_context = rag.get_similar_chunks_search_service(query, category)\u001b[39;00m\n\u001b[1;32m     26\u001b[0m \u001b[38;5;66;03m#     chat_history = \"\"\u001b[39;00m\n\u001b[0;32m---> 28\u001b[0m prompt_context, string_output \u001b[38;5;241m=\u001b[39m \u001b[38;5;28;43mself\u001b[39;49m\u001b[38;5;241;43m.\u001b[39;49m\u001b[43mretrieve_context\u001b[49m\u001b[43m(\u001b[49m\u001b[43mquery\u001b[49m\u001b[43m,\u001b[49m\u001b[43m \u001b[49m\u001b[43mcategory\u001b[49m\u001b[43m)\u001b[49m\n\u001b[1;32m     30\u001b[0m prompt \u001b[38;5;241m=\u001b[39m \u001b[38;5;124mf\u001b[39m\u001b[38;5;124m\"\"\"\u001b[39m\n\u001b[1;32m     31\u001b[0m \u001b[38;5;124mI am Ali, a friendly and witty chef who specializes in \u001b[39m\u001b[38;5;132;01m{\u001b[39;00mcategory\u001b[38;5;132;01m}\u001b[39;00m\u001b[38;5;124m recipes! I love helping people cook and finding the perfect recipes from our collection.\u001b[39m\n\u001b[1;32m     32\u001b[0m \n\u001b[0;32m   (...)\u001b[0m\n\u001b[1;32m     54\u001b[0m \u001b[38;5;124mResponse (as Ali, friendly and category-aware):\u001b[39m\n\u001b[1;32m     55\u001b[0m \u001b[38;5;124m\u001b[39m\u001b[38;5;124m\"\"\"\u001b[39m\n\u001b[1;32m     57\u001b[0m json_data \u001b[38;5;241m=\u001b[39m json\u001b[38;5;241m.\u001b[39mloads(prompt_context)\n",
      "File \u001b[0;32m~/.local/lib/python3.11/site-packages/trulens/core/instruments.py:930\u001b[0m, in \u001b[0;36mInstrument.tracked_method_wrapper.<locals>.tru_wrapper\u001b[0;34m(*args, **kwargs)\u001b[0m\n\u001b[1;32m    927\u001b[0m WithInstrumentCallbacks\u001b[38;5;241m.\u001b[39m_stack_contexts\u001b[38;5;241m.\u001b[39mreset(stacks_token)\n\u001b[1;32m    928\u001b[0m WithInstrumentCallbacks\u001b[38;5;241m.\u001b[39m_context_contexts\u001b[38;5;241m.\u001b[39mreset(context_token)\n\u001b[0;32m--> 930\u001b[0m \u001b[38;5;28;01mreturn\u001b[39;00m \u001b[43mrewrap\u001b[49m\u001b[43m(\u001b[49m\u001b[43mrets\u001b[49m\u001b[43m)\u001b[49m\n",
      "File \u001b[0;32m~/.local/lib/python3.11/site-packages/trulens/core/instruments.py:914\u001b[0m, in \u001b[0;36mInstrument.tracked_method_wrapper.<locals>.tru_wrapper.<locals>.rewrap\u001b[0;34m(rets)\u001b[0m\n\u001b[1;32m    912\u001b[0m \u001b[38;5;28;01mif\u001b[39;00m python_utils\u001b[38;5;241m.\u001b[39mWRAP_LAZY:\n\u001b[1;32m    913\u001b[0m     \u001b[38;5;28;01mfor\u001b[39;00m ctx \u001b[38;5;129;01min\u001b[39;00m contexts:\n\u001b[0;32m--> 914\u001b[0m         rets \u001b[38;5;241m=\u001b[39m \u001b[43mctx\u001b[49m\u001b[38;5;241;43m.\u001b[39;49m\u001b[43mapp\u001b[49m\u001b[38;5;241;43m.\u001b[39;49m\u001b[43mwrap_lazy_values\u001b[49m\u001b[43m(\u001b[49m\n\u001b[1;32m    915\u001b[0m \u001b[43m            \u001b[49m\u001b[43mrets\u001b[49m\u001b[43m,\u001b[49m\n\u001b[1;32m    916\u001b[0m \u001b[43m            \u001b[49m\u001b[43mwrap\u001b[49m\u001b[38;5;241;43m=\u001b[39;49m\u001b[38;5;28;43;01mNone\u001b[39;49;00m\u001b[43m,\u001b[49m\n\u001b[1;32m    917\u001b[0m \u001b[43m            \u001b[49m\u001b[43mon_done\u001b[49m\u001b[38;5;241;43m=\u001b[39;49m\u001b[43mupdate_call_info\u001b[49m\u001b[43m,\u001b[49m\n\u001b[1;32m    918\u001b[0m \u001b[43m            \u001b[49m\u001b[43mcontext_vars\u001b[49m\u001b[38;5;241;43m=\u001b[39;49m\u001b[43mcontext_vars\u001b[49m\u001b[43m,\u001b[49m\n\u001b[1;32m    919\u001b[0m \u001b[43m        \u001b[49m\u001b[43m)\u001b[49m\n\u001b[1;32m    920\u001b[0m \u001b[38;5;28;01melse\u001b[39;00m:\n\u001b[1;32m    921\u001b[0m     update_call_info(rets, final\u001b[38;5;241m=\u001b[39m\u001b[38;5;28;01mTrue\u001b[39;00m)\n",
      "File \u001b[0;32m~/.local/lib/python3.11/site-packages/trulens/core/instruments.py:150\u001b[0m, in \u001b[0;36mWithInstrumentCallbacks.wrap_lazy_values\u001b[0;34m(self, rets, wrap, on_done, context_vars)\u001b[0m\n\u001b[1;32m    147\u001b[0m \u001b[38;5;28;01mif\u001b[39;00m python_utils\u001b[38;5;241m.\u001b[39mis_lazy(rets):\n\u001b[1;32m    148\u001b[0m     \u001b[38;5;28;01mreturn\u001b[39;00m rets\n\u001b[0;32m--> 150\u001b[0m \u001b[38;5;28;01mreturn\u001b[39;00m \u001b[43mon_done\u001b[49m\u001b[43m(\u001b[49m\u001b[43mrets\u001b[49m\u001b[43m)\u001b[49m\n",
      "File \u001b[0;32m~/.local/lib/python3.11/site-packages/trulens/core/instruments.py:874\u001b[0m, in \u001b[0;36mInstrument.tracked_method_wrapper.<locals>.tru_wrapper.<locals>.update_call_info\u001b[0;34m(rets, final)\u001b[0m\n\u001b[1;32m    858\u001b[0m         records[ctx] \u001b[38;5;241m=\u001b[39m ctx\u001b[38;5;241m.\u001b[39mapp\u001b[38;5;241m.\u001b[39mon_add_record(\n\u001b[1;32m    859\u001b[0m             ctx\u001b[38;5;241m=\u001b[39mctx,\n\u001b[1;32m    860\u001b[0m             func\u001b[38;5;241m=\u001b[39mfunc,\n\u001b[0;32m   (...)\u001b[0m\n\u001b[1;32m    870\u001b[0m             final\u001b[38;5;241m=\u001b[39mfinal,\n\u001b[1;32m    871\u001b[0m         )\n\u001b[1;32m    873\u001b[0m \u001b[38;5;28;01mif\u001b[39;00m error \u001b[38;5;129;01mis\u001b[39;00m \u001b[38;5;129;01mnot\u001b[39;00m \u001b[38;5;28;01mNone\u001b[39;00m:\n\u001b[0;32m--> 874\u001b[0m     \u001b[38;5;28;01mraise\u001b[39;00m error\n\u001b[1;32m    876\u001b[0m \u001b[38;5;28;01mreturn\u001b[39;00m rets\n",
      "File \u001b[0;32m~/.local/lib/python3.11/site-packages/trulens/core/instruments.py:772\u001b[0m, in \u001b[0;36mInstrument.tracked_method_wrapper.<locals>.tru_wrapper\u001b[0;34m(*args, **kwargs)\u001b[0m\n\u001b[1;32m    768\u001b[0m     bindings: BoundArguments \u001b[38;5;241m=\u001b[39m sig\u001b[38;5;241m.\u001b[39mbind(\u001b[38;5;241m*\u001b[39margs, \u001b[38;5;241m*\u001b[39m\u001b[38;5;241m*\u001b[39mkwargs)\n\u001b[1;32m    770\u001b[0m     \u001b[38;5;28mprint\u001b[39m(\u001b[38;5;124mf\u001b[39m\u001b[38;5;124m\"\u001b[39m\u001b[38;5;124mcalling \u001b[39m\u001b[38;5;132;01m{\u001b[39;00mfunc\u001b[38;5;132;01m}\u001b[39;00m\u001b[38;5;124m with \u001b[39m\u001b[38;5;132;01m{\u001b[39;00margs\u001b[38;5;132;01m}\u001b[39;00m\u001b[38;5;124m\"\u001b[39m)\n\u001b[0;32m--> 772\u001b[0m     rets, tally \u001b[38;5;241m=\u001b[39m \u001b[43mcore_endpoint\u001b[49m\u001b[38;5;241;43m.\u001b[39;49m\u001b[43mEndpoint\u001b[49m\u001b[38;5;241;43m.\u001b[39;49m\u001b[43mtrack_all_costs_tally\u001b[49m\u001b[43m(\u001b[49m\n\u001b[1;32m    773\u001b[0m \u001b[43m        \u001b[49m\u001b[43mfunc\u001b[49m\u001b[43m,\u001b[49m\u001b[43m \u001b[49m\u001b[38;5;241;43m*\u001b[39;49m\u001b[43margs\u001b[49m\u001b[43m,\u001b[49m\u001b[43m \u001b[49m\u001b[38;5;241;43m*\u001b[39;49m\u001b[38;5;241;43m*\u001b[39;49m\u001b[43mkwargs\u001b[49m\n\u001b[1;32m    774\u001b[0m \u001b[43m    \u001b[49m\u001b[43m)\u001b[49m\n\u001b[1;32m    776\u001b[0m \u001b[38;5;28;01mexcept\u001b[39;00m \u001b[38;5;167;01mBaseException\u001b[39;00m \u001b[38;5;28;01mas\u001b[39;00m e:\n\u001b[1;32m    777\u001b[0m     error \u001b[38;5;241m=\u001b[39m e\n",
      "File \u001b[0;32m~/.local/lib/python3.11/site-packages/trulens/core/feedback/endpoint.py:589\u001b[0m, in \u001b[0;36mEndpoint.track_all_costs_tally\u001b[0;34m(_Endpoint__func, with_openai, with_hugs, with_litellm, with_bedrock, with_cortex, with_dummy, *args, **kwargs)\u001b[0m\n\u001b[1;32m    583\u001b[0m     \u001b[38;5;28;01mfrom\u001b[39;00m\u001b[38;5;250m \u001b[39m\u001b[38;5;21;01mtrulens\u001b[39;00m\u001b[38;5;21;01m.\u001b[39;00m\u001b[38;5;21;01mexperimental\u001b[39;00m\u001b[38;5;21;01m.\u001b[39;00m\u001b[38;5;21;01motel_tracing\u001b[39;00m\u001b[38;5;21;01m.\u001b[39;00m\u001b[38;5;21;01mcore\u001b[39;00m\u001b[38;5;21;01m.\u001b[39;00m\u001b[38;5;21;01mfeedback\u001b[39;00m\u001b[38;5;21;01m.\u001b[39;00m\u001b[38;5;21;01mendpoint\u001b[39;00m\u001b[38;5;250m \u001b[39m\u001b[38;5;28;01mimport\u001b[39;00m (\n\u001b[1;32m    584\u001b[0m         _Endpoint,\n\u001b[1;32m    585\u001b[0m     )\n\u001b[1;32m    587\u001b[0m     \u001b[38;5;28;01mreturn\u001b[39;00m _Endpoint\u001b[38;5;241m.\u001b[39mtrack_all_costs_tally(__func, \u001b[38;5;241m*\u001b[39margs, \u001b[38;5;241m*\u001b[39m\u001b[38;5;241m*\u001b[39mkwargs)\n\u001b[0;32m--> 589\u001b[0m result, cbs \u001b[38;5;241m=\u001b[39m \u001b[43mEndpoint\u001b[49m\u001b[38;5;241;43m.\u001b[39;49m\u001b[43mtrack_all_costs\u001b[49m\u001b[43m(\u001b[49m\n\u001b[1;32m    590\u001b[0m \u001b[43m    \u001b[49m\u001b[43m__func\u001b[49m\u001b[43m,\u001b[49m\n\u001b[1;32m    591\u001b[0m \u001b[43m    \u001b[49m\u001b[38;5;241;43m*\u001b[39;49m\u001b[43margs\u001b[49m\u001b[43m,\u001b[49m\n\u001b[1;32m    592\u001b[0m \u001b[43m    \u001b[49m\u001b[43mwith_openai\u001b[49m\u001b[38;5;241;43m=\u001b[39;49m\u001b[43mwith_openai\u001b[49m\u001b[43m,\u001b[49m\n\u001b[1;32m    593\u001b[0m \u001b[43m    \u001b[49m\u001b[43mwith_hugs\u001b[49m\u001b[38;5;241;43m=\u001b[39;49m\u001b[43mwith_hugs\u001b[49m\u001b[43m,\u001b[49m\n\u001b[1;32m    594\u001b[0m \u001b[43m    \u001b[49m\u001b[43mwith_litellm\u001b[49m\u001b[38;5;241;43m=\u001b[39;49m\u001b[43mwith_litellm\u001b[49m\u001b[43m,\u001b[49m\n\u001b[1;32m    595\u001b[0m \u001b[43m    \u001b[49m\u001b[43mwith_bedrock\u001b[49m\u001b[38;5;241;43m=\u001b[39;49m\u001b[43mwith_bedrock\u001b[49m\u001b[43m,\u001b[49m\n\u001b[1;32m    596\u001b[0m \u001b[43m    \u001b[49m\u001b[43mwith_cortex\u001b[49m\u001b[38;5;241;43m=\u001b[39;49m\u001b[43mwith_cortex\u001b[49m\u001b[43m,\u001b[49m\n\u001b[1;32m    597\u001b[0m \u001b[43m    \u001b[49m\u001b[43mwith_dummy\u001b[49m\u001b[38;5;241;43m=\u001b[39;49m\u001b[43mwith_dummy\u001b[49m\u001b[43m,\u001b[49m\n\u001b[1;32m    598\u001b[0m \u001b[43m    \u001b[49m\u001b[38;5;241;43m*\u001b[39;49m\u001b[38;5;241;43m*\u001b[39;49m\u001b[43mkwargs\u001b[49m\u001b[43m,\u001b[49m\n\u001b[1;32m    599\u001b[0m \u001b[43m\u001b[49m\u001b[43m)\u001b[49m\n\u001b[1;32m    601\u001b[0m \u001b[38;5;28;01mif\u001b[39;00m \u001b[38;5;28mlen\u001b[39m(cbs) \u001b[38;5;241m==\u001b[39m \u001b[38;5;241m0\u001b[39m:\n\u001b[1;32m    602\u001b[0m     \u001b[38;5;66;03m# Otherwise sum returns \"0\" below.\u001b[39;00m\n\u001b[1;32m    603\u001b[0m     tally \u001b[38;5;241m=\u001b[39m \u001b[38;5;28;01mlambda\u001b[39;00m: base_schema\u001b[38;5;241m.\u001b[39mCost()\n",
      "File \u001b[0;32m~/.local/lib/python3.11/site-packages/trulens/core/feedback/endpoint.py:551\u001b[0m, in \u001b[0;36mEndpoint.track_all_costs\u001b[0;34m(_Endpoint__func, with_openai, with_hugs, with_litellm, with_bedrock, with_cortex, with_dummy, *args, **kwargs)\u001b[0m\n\u001b[1;32m    542\u001b[0m         \u001b[38;5;28;01mexcept\u001b[39;00m \u001b[38;5;167;01mException\u001b[39;00m \u001b[38;5;28;01mas\u001b[39;00m e:\n\u001b[1;32m    543\u001b[0m             logger\u001b[38;5;241m.\u001b[39mdebug(\n\u001b[1;32m    544\u001b[0m                 \u001b[38;5;124m\"\u001b[39m\u001b[38;5;124mCould not initialize endpoint \u001b[39m\u001b[38;5;132;01m%s\u001b[39;00m\u001b[38;5;124m. \u001b[39m\u001b[38;5;124m\"\u001b[39m\n\u001b[1;32m    545\u001b[0m                 \u001b[38;5;124m\"\u001b[39m\u001b[38;5;124mPossibly missing key(s). \u001b[39m\u001b[38;5;124m\"\u001b[39m\n\u001b[0;32m   (...)\u001b[0m\n\u001b[1;32m    548\u001b[0m                 e,\n\u001b[1;32m    549\u001b[0m             )\n\u001b[0;32m--> 551\u001b[0m \u001b[38;5;28;01mreturn\u001b[39;00m \u001b[43mEndpoint\u001b[49m\u001b[38;5;241;43m.\u001b[39;49m\u001b[43m_track_costs\u001b[49m\u001b[43m(\u001b[49m\n\u001b[1;32m    552\u001b[0m \u001b[43m    \u001b[49m\u001b[43m__func\u001b[49m\u001b[43m,\u001b[49m\u001b[43m \u001b[49m\u001b[38;5;241;43m*\u001b[39;49m\u001b[43margs\u001b[49m\u001b[43m,\u001b[49m\u001b[43m \u001b[49m\u001b[43mwith_endpoints\u001b[49m\u001b[38;5;241;43m=\u001b[39;49m\u001b[43mendpoints\u001b[49m\u001b[43m,\u001b[49m\u001b[43m \u001b[49m\u001b[38;5;241;43m*\u001b[39;49m\u001b[38;5;241;43m*\u001b[39;49m\u001b[43mkwargs\u001b[49m\n\u001b[1;32m    553\u001b[0m \u001b[43m\u001b[49m\u001b[43m)\u001b[49m\n",
      "File \u001b[0;32m~/.local/lib/python3.11/site-packages/trulens/core/feedback/endpoint.py:666\u001b[0m, in \u001b[0;36mEndpoint._track_costs\u001b[0;34m(_Endpoint__func, with_endpoints, *args, **kwargs)\u001b[0m\n\u001b[1;32m    661\u001b[0m context_vars \u001b[38;5;241m=\u001b[39m {\n\u001b[1;32m    662\u001b[0m     Endpoint\u001b[38;5;241m.\u001b[39m_context_endpoints: Endpoint\u001b[38;5;241m.\u001b[39m_context_endpoints\u001b[38;5;241m.\u001b[39mget()\n\u001b[1;32m    663\u001b[0m }\n\u001b[1;32m    665\u001b[0m \u001b[38;5;66;03m# Call the function.\u001b[39;00m\n\u001b[0;32m--> 666\u001b[0m result: T \u001b[38;5;241m=\u001b[39m \u001b[43m__func\u001b[49m\u001b[43m(\u001b[49m\u001b[38;5;241;43m*\u001b[39;49m\u001b[43margs\u001b[49m\u001b[43m,\u001b[49m\u001b[43m \u001b[49m\u001b[38;5;241;43m*\u001b[39;49m\u001b[38;5;241;43m*\u001b[39;49m\u001b[43mkwargs\u001b[49m\u001b[43m)\u001b[49m\n\u001b[1;32m    668\u001b[0m \u001b[38;5;28;01mdef\u001b[39;00m\u001b[38;5;250m \u001b[39m\u001b[38;5;21mrewrap\u001b[39m(result):\n\u001b[1;32m    669\u001b[0m     \u001b[38;5;28;01mif\u001b[39;00m python_utils\u001b[38;5;241m.\u001b[39mis_lazy(result):\n",
      "Cell \u001b[0;32mIn[48], line 11\u001b[0m, in \u001b[0;36mRAG.retrieve_context\u001b[0;34m(self, query, category)\u001b[0m\n\u001b[1;32m      6\u001b[0m \u001b[38;5;129m@instrument\u001b[39m\n\u001b[1;32m      7\u001b[0m \u001b[38;5;28;01mdef\u001b[39;00m\u001b[38;5;250m \u001b[39m\u001b[38;5;21mretrieve_context\u001b[39m(\u001b[38;5;28mself\u001b[39m, query: \u001b[38;5;28mstr\u001b[39m, category: \u001b[38;5;28mstr\u001b[39m) \u001b[38;5;241m-\u001b[39m\u001b[38;5;241m>\u001b[39m \u001b[38;5;28mlist\u001b[39m:\n\u001b[1;32m      8\u001b[0m \u001b[38;5;250m    \u001b[39m\u001b[38;5;124;03m\"\"\"\u001b[39;00m\n\u001b[1;32m      9\u001b[0m \u001b[38;5;124;03m    Retrieve relevant text from vector store.\u001b[39;00m\n\u001b[1;32m     10\u001b[0m \u001b[38;5;124;03m    \"\"\"\u001b[39;00m\n\u001b[0;32m---> 11\u001b[0m     \u001b[38;5;28;01mreturn\u001b[39;00m \u001b[38;5;28;43mself\u001b[39;49m\u001b[38;5;241;43m.\u001b[39;49m\u001b[43mmyretriever\u001b[49m\u001b[38;5;241;43m.\u001b[39;49m\u001b[43mget_similar_chunks_search_service\u001b[49m\u001b[43m(\u001b[49m\u001b[43mquery\u001b[49m\u001b[43m,\u001b[49m\u001b[43m \u001b[49m\u001b[43mcategory\u001b[49m\u001b[43m)\u001b[49m\n",
      "File \u001b[0;32m~/.local/lib/python3.11/site-packages/trulens/core/instruments.py:930\u001b[0m, in \u001b[0;36mInstrument.tracked_method_wrapper.<locals>.tru_wrapper\u001b[0;34m(*args, **kwargs)\u001b[0m\n\u001b[1;32m    927\u001b[0m WithInstrumentCallbacks\u001b[38;5;241m.\u001b[39m_stack_contexts\u001b[38;5;241m.\u001b[39mreset(stacks_token)\n\u001b[1;32m    928\u001b[0m WithInstrumentCallbacks\u001b[38;5;241m.\u001b[39m_context_contexts\u001b[38;5;241m.\u001b[39mreset(context_token)\n\u001b[0;32m--> 930\u001b[0m \u001b[38;5;28;01mreturn\u001b[39;00m \u001b[43mrewrap\u001b[49m\u001b[43m(\u001b[49m\u001b[43mrets\u001b[49m\u001b[43m)\u001b[49m\n",
      "File \u001b[0;32m~/.local/lib/python3.11/site-packages/trulens/core/instruments.py:914\u001b[0m, in \u001b[0;36mInstrument.tracked_method_wrapper.<locals>.tru_wrapper.<locals>.rewrap\u001b[0;34m(rets)\u001b[0m\n\u001b[1;32m    912\u001b[0m \u001b[38;5;28;01mif\u001b[39;00m python_utils\u001b[38;5;241m.\u001b[39mWRAP_LAZY:\n\u001b[1;32m    913\u001b[0m     \u001b[38;5;28;01mfor\u001b[39;00m ctx \u001b[38;5;129;01min\u001b[39;00m contexts:\n\u001b[0;32m--> 914\u001b[0m         rets \u001b[38;5;241m=\u001b[39m \u001b[43mctx\u001b[49m\u001b[38;5;241;43m.\u001b[39;49m\u001b[43mapp\u001b[49m\u001b[38;5;241;43m.\u001b[39;49m\u001b[43mwrap_lazy_values\u001b[49m\u001b[43m(\u001b[49m\n\u001b[1;32m    915\u001b[0m \u001b[43m            \u001b[49m\u001b[43mrets\u001b[49m\u001b[43m,\u001b[49m\n\u001b[1;32m    916\u001b[0m \u001b[43m            \u001b[49m\u001b[43mwrap\u001b[49m\u001b[38;5;241;43m=\u001b[39;49m\u001b[38;5;28;43;01mNone\u001b[39;49;00m\u001b[43m,\u001b[49m\n\u001b[1;32m    917\u001b[0m \u001b[43m            \u001b[49m\u001b[43mon_done\u001b[49m\u001b[38;5;241;43m=\u001b[39;49m\u001b[43mupdate_call_info\u001b[49m\u001b[43m,\u001b[49m\n\u001b[1;32m    918\u001b[0m \u001b[43m            \u001b[49m\u001b[43mcontext_vars\u001b[49m\u001b[38;5;241;43m=\u001b[39;49m\u001b[43mcontext_vars\u001b[49m\u001b[43m,\u001b[49m\n\u001b[1;32m    919\u001b[0m \u001b[43m        \u001b[49m\u001b[43m)\u001b[49m\n\u001b[1;32m    920\u001b[0m \u001b[38;5;28;01melse\u001b[39;00m:\n\u001b[1;32m    921\u001b[0m     update_call_info(rets, final\u001b[38;5;241m=\u001b[39m\u001b[38;5;28;01mTrue\u001b[39;00m)\n",
      "File \u001b[0;32m~/.local/lib/python3.11/site-packages/trulens/core/instruments.py:150\u001b[0m, in \u001b[0;36mWithInstrumentCallbacks.wrap_lazy_values\u001b[0;34m(self, rets, wrap, on_done, context_vars)\u001b[0m\n\u001b[1;32m    147\u001b[0m \u001b[38;5;28;01mif\u001b[39;00m python_utils\u001b[38;5;241m.\u001b[39mis_lazy(rets):\n\u001b[1;32m    148\u001b[0m     \u001b[38;5;28;01mreturn\u001b[39;00m rets\n\u001b[0;32m--> 150\u001b[0m \u001b[38;5;28;01mreturn\u001b[39;00m \u001b[43mon_done\u001b[49m\u001b[43m(\u001b[49m\u001b[43mrets\u001b[49m\u001b[43m)\u001b[49m\n",
      "File \u001b[0;32m~/.local/lib/python3.11/site-packages/trulens/core/instruments.py:874\u001b[0m, in \u001b[0;36mInstrument.tracked_method_wrapper.<locals>.tru_wrapper.<locals>.update_call_info\u001b[0;34m(rets, final)\u001b[0m\n\u001b[1;32m    858\u001b[0m         records[ctx] \u001b[38;5;241m=\u001b[39m ctx\u001b[38;5;241m.\u001b[39mapp\u001b[38;5;241m.\u001b[39mon_add_record(\n\u001b[1;32m    859\u001b[0m             ctx\u001b[38;5;241m=\u001b[39mctx,\n\u001b[1;32m    860\u001b[0m             func\u001b[38;5;241m=\u001b[39mfunc,\n\u001b[0;32m   (...)\u001b[0m\n\u001b[1;32m    870\u001b[0m             final\u001b[38;5;241m=\u001b[39mfinal,\n\u001b[1;32m    871\u001b[0m         )\n\u001b[1;32m    873\u001b[0m \u001b[38;5;28;01mif\u001b[39;00m error \u001b[38;5;129;01mis\u001b[39;00m \u001b[38;5;129;01mnot\u001b[39;00m \u001b[38;5;28;01mNone\u001b[39;00m:\n\u001b[0;32m--> 874\u001b[0m     \u001b[38;5;28;01mraise\u001b[39;00m error\n\u001b[1;32m    876\u001b[0m \u001b[38;5;28;01mreturn\u001b[39;00m rets\n",
      "File \u001b[0;32m~/.local/lib/python3.11/site-packages/trulens/core/instruments.py:772\u001b[0m, in \u001b[0;36mInstrument.tracked_method_wrapper.<locals>.tru_wrapper\u001b[0;34m(*args, **kwargs)\u001b[0m\n\u001b[1;32m    768\u001b[0m     bindings: BoundArguments \u001b[38;5;241m=\u001b[39m sig\u001b[38;5;241m.\u001b[39mbind(\u001b[38;5;241m*\u001b[39margs, \u001b[38;5;241m*\u001b[39m\u001b[38;5;241m*\u001b[39mkwargs)\n\u001b[1;32m    770\u001b[0m     \u001b[38;5;28mprint\u001b[39m(\u001b[38;5;124mf\u001b[39m\u001b[38;5;124m\"\u001b[39m\u001b[38;5;124mcalling \u001b[39m\u001b[38;5;132;01m{\u001b[39;00mfunc\u001b[38;5;132;01m}\u001b[39;00m\u001b[38;5;124m with \u001b[39m\u001b[38;5;132;01m{\u001b[39;00margs\u001b[38;5;132;01m}\u001b[39;00m\u001b[38;5;124m\"\u001b[39m)\n\u001b[0;32m--> 772\u001b[0m     rets, tally \u001b[38;5;241m=\u001b[39m \u001b[43mcore_endpoint\u001b[49m\u001b[38;5;241;43m.\u001b[39;49m\u001b[43mEndpoint\u001b[49m\u001b[38;5;241;43m.\u001b[39;49m\u001b[43mtrack_all_costs_tally\u001b[49m\u001b[43m(\u001b[49m\n\u001b[1;32m    773\u001b[0m \u001b[43m        \u001b[49m\u001b[43mfunc\u001b[49m\u001b[43m,\u001b[49m\u001b[43m \u001b[49m\u001b[38;5;241;43m*\u001b[39;49m\u001b[43margs\u001b[49m\u001b[43m,\u001b[49m\u001b[43m \u001b[49m\u001b[38;5;241;43m*\u001b[39;49m\u001b[38;5;241;43m*\u001b[39;49m\u001b[43mkwargs\u001b[49m\n\u001b[1;32m    774\u001b[0m \u001b[43m    \u001b[49m\u001b[43m)\u001b[49m\n\u001b[1;32m    776\u001b[0m \u001b[38;5;28;01mexcept\u001b[39;00m \u001b[38;5;167;01mBaseException\u001b[39;00m \u001b[38;5;28;01mas\u001b[39;00m e:\n\u001b[1;32m    777\u001b[0m     error \u001b[38;5;241m=\u001b[39m e\n",
      "File \u001b[0;32m~/.local/lib/python3.11/site-packages/trulens/core/feedback/endpoint.py:589\u001b[0m, in \u001b[0;36mEndpoint.track_all_costs_tally\u001b[0;34m(_Endpoint__func, with_openai, with_hugs, with_litellm, with_bedrock, with_cortex, with_dummy, *args, **kwargs)\u001b[0m\n\u001b[1;32m    583\u001b[0m     \u001b[38;5;28;01mfrom\u001b[39;00m\u001b[38;5;250m \u001b[39m\u001b[38;5;21;01mtrulens\u001b[39;00m\u001b[38;5;21;01m.\u001b[39;00m\u001b[38;5;21;01mexperimental\u001b[39;00m\u001b[38;5;21;01m.\u001b[39;00m\u001b[38;5;21;01motel_tracing\u001b[39;00m\u001b[38;5;21;01m.\u001b[39;00m\u001b[38;5;21;01mcore\u001b[39;00m\u001b[38;5;21;01m.\u001b[39;00m\u001b[38;5;21;01mfeedback\u001b[39;00m\u001b[38;5;21;01m.\u001b[39;00m\u001b[38;5;21;01mendpoint\u001b[39;00m\u001b[38;5;250m \u001b[39m\u001b[38;5;28;01mimport\u001b[39;00m (\n\u001b[1;32m    584\u001b[0m         _Endpoint,\n\u001b[1;32m    585\u001b[0m     )\n\u001b[1;32m    587\u001b[0m     \u001b[38;5;28;01mreturn\u001b[39;00m _Endpoint\u001b[38;5;241m.\u001b[39mtrack_all_costs_tally(__func, \u001b[38;5;241m*\u001b[39margs, \u001b[38;5;241m*\u001b[39m\u001b[38;5;241m*\u001b[39mkwargs)\n\u001b[0;32m--> 589\u001b[0m result, cbs \u001b[38;5;241m=\u001b[39m \u001b[43mEndpoint\u001b[49m\u001b[38;5;241;43m.\u001b[39;49m\u001b[43mtrack_all_costs\u001b[49m\u001b[43m(\u001b[49m\n\u001b[1;32m    590\u001b[0m \u001b[43m    \u001b[49m\u001b[43m__func\u001b[49m\u001b[43m,\u001b[49m\n\u001b[1;32m    591\u001b[0m \u001b[43m    \u001b[49m\u001b[38;5;241;43m*\u001b[39;49m\u001b[43margs\u001b[49m\u001b[43m,\u001b[49m\n\u001b[1;32m    592\u001b[0m \u001b[43m    \u001b[49m\u001b[43mwith_openai\u001b[49m\u001b[38;5;241;43m=\u001b[39;49m\u001b[43mwith_openai\u001b[49m\u001b[43m,\u001b[49m\n\u001b[1;32m    593\u001b[0m \u001b[43m    \u001b[49m\u001b[43mwith_hugs\u001b[49m\u001b[38;5;241;43m=\u001b[39;49m\u001b[43mwith_hugs\u001b[49m\u001b[43m,\u001b[49m\n\u001b[1;32m    594\u001b[0m \u001b[43m    \u001b[49m\u001b[43mwith_litellm\u001b[49m\u001b[38;5;241;43m=\u001b[39;49m\u001b[43mwith_litellm\u001b[49m\u001b[43m,\u001b[49m\n\u001b[1;32m    595\u001b[0m \u001b[43m    \u001b[49m\u001b[43mwith_bedrock\u001b[49m\u001b[38;5;241;43m=\u001b[39;49m\u001b[43mwith_bedrock\u001b[49m\u001b[43m,\u001b[49m\n\u001b[1;32m    596\u001b[0m \u001b[43m    \u001b[49m\u001b[43mwith_cortex\u001b[49m\u001b[38;5;241;43m=\u001b[39;49m\u001b[43mwith_cortex\u001b[49m\u001b[43m,\u001b[49m\n\u001b[1;32m    597\u001b[0m \u001b[43m    \u001b[49m\u001b[43mwith_dummy\u001b[49m\u001b[38;5;241;43m=\u001b[39;49m\u001b[43mwith_dummy\u001b[49m\u001b[43m,\u001b[49m\n\u001b[1;32m    598\u001b[0m \u001b[43m    \u001b[49m\u001b[38;5;241;43m*\u001b[39;49m\u001b[38;5;241;43m*\u001b[39;49m\u001b[43mkwargs\u001b[49m\u001b[43m,\u001b[49m\n\u001b[1;32m    599\u001b[0m \u001b[43m\u001b[49m\u001b[43m)\u001b[49m\n\u001b[1;32m    601\u001b[0m \u001b[38;5;28;01mif\u001b[39;00m \u001b[38;5;28mlen\u001b[39m(cbs) \u001b[38;5;241m==\u001b[39m \u001b[38;5;241m0\u001b[39m:\n\u001b[1;32m    602\u001b[0m     \u001b[38;5;66;03m# Otherwise sum returns \"0\" below.\u001b[39;00m\n\u001b[1;32m    603\u001b[0m     tally \u001b[38;5;241m=\u001b[39m \u001b[38;5;28;01mlambda\u001b[39;00m: base_schema\u001b[38;5;241m.\u001b[39mCost()\n",
      "File \u001b[0;32m~/.local/lib/python3.11/site-packages/trulens/core/feedback/endpoint.py:551\u001b[0m, in \u001b[0;36mEndpoint.track_all_costs\u001b[0;34m(_Endpoint__func, with_openai, with_hugs, with_litellm, with_bedrock, with_cortex, with_dummy, *args, **kwargs)\u001b[0m\n\u001b[1;32m    542\u001b[0m         \u001b[38;5;28;01mexcept\u001b[39;00m \u001b[38;5;167;01mException\u001b[39;00m \u001b[38;5;28;01mas\u001b[39;00m e:\n\u001b[1;32m    543\u001b[0m             logger\u001b[38;5;241m.\u001b[39mdebug(\n\u001b[1;32m    544\u001b[0m                 \u001b[38;5;124m\"\u001b[39m\u001b[38;5;124mCould not initialize endpoint \u001b[39m\u001b[38;5;132;01m%s\u001b[39;00m\u001b[38;5;124m. \u001b[39m\u001b[38;5;124m\"\u001b[39m\n\u001b[1;32m    545\u001b[0m                 \u001b[38;5;124m\"\u001b[39m\u001b[38;5;124mPossibly missing key(s). \u001b[39m\u001b[38;5;124m\"\u001b[39m\n\u001b[0;32m   (...)\u001b[0m\n\u001b[1;32m    548\u001b[0m                 e,\n\u001b[1;32m    549\u001b[0m             )\n\u001b[0;32m--> 551\u001b[0m \u001b[38;5;28;01mreturn\u001b[39;00m \u001b[43mEndpoint\u001b[49m\u001b[38;5;241;43m.\u001b[39;49m\u001b[43m_track_costs\u001b[49m\u001b[43m(\u001b[49m\n\u001b[1;32m    552\u001b[0m \u001b[43m    \u001b[49m\u001b[43m__func\u001b[49m\u001b[43m,\u001b[49m\u001b[43m \u001b[49m\u001b[38;5;241;43m*\u001b[39;49m\u001b[43margs\u001b[49m\u001b[43m,\u001b[49m\u001b[43m \u001b[49m\u001b[43mwith_endpoints\u001b[49m\u001b[38;5;241;43m=\u001b[39;49m\u001b[43mendpoints\u001b[49m\u001b[43m,\u001b[49m\u001b[43m \u001b[49m\u001b[38;5;241;43m*\u001b[39;49m\u001b[38;5;241;43m*\u001b[39;49m\u001b[43mkwargs\u001b[49m\n\u001b[1;32m    553\u001b[0m \u001b[43m\u001b[49m\u001b[43m)\u001b[49m\n",
      "File \u001b[0;32m~/.local/lib/python3.11/site-packages/trulens/core/feedback/endpoint.py:666\u001b[0m, in \u001b[0;36mEndpoint._track_costs\u001b[0;34m(_Endpoint__func, with_endpoints, *args, **kwargs)\u001b[0m\n\u001b[1;32m    661\u001b[0m context_vars \u001b[38;5;241m=\u001b[39m {\n\u001b[1;32m    662\u001b[0m     Endpoint\u001b[38;5;241m.\u001b[39m_context_endpoints: Endpoint\u001b[38;5;241m.\u001b[39m_context_endpoints\u001b[38;5;241m.\u001b[39mget()\n\u001b[1;32m    663\u001b[0m }\n\u001b[1;32m    665\u001b[0m \u001b[38;5;66;03m# Call the function.\u001b[39;00m\n\u001b[0;32m--> 666\u001b[0m result: T \u001b[38;5;241m=\u001b[39m \u001b[43m__func\u001b[49m\u001b[43m(\u001b[49m\u001b[38;5;241;43m*\u001b[39;49m\u001b[43margs\u001b[49m\u001b[43m,\u001b[49m\u001b[43m \u001b[49m\u001b[38;5;241;43m*\u001b[39;49m\u001b[38;5;241;43m*\u001b[39;49m\u001b[43mkwargs\u001b[49m\u001b[43m)\u001b[49m\n\u001b[1;32m    668\u001b[0m \u001b[38;5;28;01mdef\u001b[39;00m\u001b[38;5;250m \u001b[39m\u001b[38;5;21mrewrap\u001b[39m(result):\n\u001b[1;32m    669\u001b[0m     \u001b[38;5;28;01mif\u001b[39;00m python_utils\u001b[38;5;241m.\u001b[39mis_lazy(result):\n",
      "Cell \u001b[0;32mIn[9], line 12\u001b[0m, in \u001b[0;36mMyCortexSearchRetriever.get_similar_chunks_search_service\u001b[0;34m(self, query, category)\u001b[0m\n\u001b[1;32m     10\u001b[0m \u001b[38;5;28;01melse\u001b[39;00m:\n\u001b[1;32m     11\u001b[0m     filter_obj \u001b[38;5;241m=\u001b[39m {\u001b[38;5;124m\"\u001b[39m\u001b[38;5;124m@eq\u001b[39m\u001b[38;5;124m\"\u001b[39m: {\u001b[38;5;124m\"\u001b[39m\u001b[38;5;124mcategory\u001b[39m\u001b[38;5;124m\"\u001b[39m: category}}\n\u001b[0;32m---> 12\u001b[0m     response \u001b[38;5;241m=\u001b[39m \u001b[43msvc\u001b[49m\u001b[38;5;241;43m.\u001b[39;49m\u001b[43msearch\u001b[49m\u001b[43m(\u001b[49m\n\u001b[1;32m     13\u001b[0m \u001b[43m        \u001b[49m\u001b[43mquery\u001b[49m\u001b[43m,\u001b[49m\n\u001b[1;32m     14\u001b[0m \u001b[43m        \u001b[49m\u001b[43mCOLUMNS\u001b[49m\u001b[43m,\u001b[49m\n\u001b[1;32m     15\u001b[0m \u001b[43m        \u001b[49m\u001b[38;5;28;43mfilter\u001b[39;49m\u001b[38;5;241;43m=\u001b[39;49m\u001b[43mfilter_obj\u001b[49m\u001b[43m,\u001b[49m\n\u001b[1;32m     16\u001b[0m \u001b[43m        \u001b[49m\u001b[43mlimit\u001b[49m\u001b[38;5;241;43m=\u001b[39;49m\u001b[43mNUM_CHUNKS\u001b[49m\u001b[43m,\u001b[49m\n\u001b[1;32m     17\u001b[0m \u001b[43m    \u001b[49m\u001b[43m)\u001b[49m\n\u001b[1;32m     18\u001b[0m \u001b[38;5;66;03m# st.sidebar.json(response.json())\u001b[39;00m\n\u001b[1;32m     19\u001b[0m \u001b[38;5;28;01mif\u001b[39;00m response\u001b[38;5;241m.\u001b[39mresults:\n",
      "File \u001b[0;32m~/.local/lib/python3.11/site-packages/snowflake/core/_internal/telemetry.py:128\u001b[0m, in \u001b[0;36mapi_telemetry.<locals>.wrap\u001b[0;34m(self, *args, **kwargs)\u001b[0m\n\u001b[1;32m    119\u001b[0m logger\u001b[38;5;241m.\u001b[39mdebug(\n\u001b[1;32m    120\u001b[0m     \u001b[38;5;124m\"\u001b[39m\u001b[38;5;124mcalling method \u001b[39m\u001b[38;5;132;01m%s\u001b[39;00m\u001b[38;5;124m on class \u001b[39m\u001b[38;5;132;01m%s\u001b[39;00m\u001b[38;5;124m after submitting telemetry if enabled\u001b[39m\u001b[38;5;124m\"\u001b[39m,\n\u001b[1;32m    121\u001b[0m     func_name,\n\u001b[1;32m    122\u001b[0m     class_name,\n\u001b[1;32m    123\u001b[0m )\n\u001b[1;32m    124\u001b[0m telemetry_client\u001b[38;5;241m.\u001b[39msend_api_telemetry(\n\u001b[1;32m    125\u001b[0m     class_name\u001b[38;5;241m=\u001b[39mclass_name,\n\u001b[1;32m    126\u001b[0m     func_name\u001b[38;5;241m=\u001b[39mfunc_name,\n\u001b[1;32m    127\u001b[0m )\n\u001b[0;32m--> 128\u001b[0m r \u001b[38;5;241m=\u001b[39m \u001b[43mfunc\u001b[49m\u001b[43m(\u001b[49m\u001b[38;5;28;43mself\u001b[39;49m\u001b[43m,\u001b[49m\u001b[43m \u001b[49m\u001b[38;5;241;43m*\u001b[39;49m\u001b[43margs\u001b[49m\u001b[43m,\u001b[49m\u001b[43m \u001b[49m\u001b[38;5;241;43m*\u001b[39;49m\u001b[38;5;241;43m*\u001b[39;49m\u001b[43mkwargs\u001b[49m\u001b[43m)\u001b[49m\n\u001b[1;32m    129\u001b[0m \u001b[38;5;28;01mreturn\u001b[39;00m r\n",
      "File \u001b[0;32m~/.local/lib/python3.11/site-packages/snowflake/core/cortex/search_service/_search_service.py:61\u001b[0m, in \u001b[0;36mCortexSearchServiceResource.search\u001b[0;34m(self, query, columns, filter, limit, **kwargs)\u001b[0m\n\u001b[1;32m     52\u001b[0m \u001b[38;5;129m@api_telemetry\u001b[39m\n\u001b[1;32m     53\u001b[0m \u001b[38;5;28;01mdef\u001b[39;00m\u001b[38;5;250m \u001b[39m\u001b[38;5;21msearch\u001b[39m(\n\u001b[1;32m     54\u001b[0m     \u001b[38;5;28mself\u001b[39m,\n\u001b[0;32m   (...)\u001b[0m\n\u001b[1;32m     59\u001b[0m     \u001b[38;5;241m*\u001b[39m\u001b[38;5;241m*\u001b[39mkwargs: Any,\n\u001b[1;32m     60\u001b[0m ) \u001b[38;5;241m-\u001b[39m\u001b[38;5;241m>\u001b[39m QueryResponse:\n\u001b[0;32m---> 61\u001b[0m     \u001b[38;5;28;01mreturn\u001b[39;00m \u001b[38;5;28;43mself\u001b[39;49m\u001b[38;5;241;43m.\u001b[39;49m\u001b[43mcollection\u001b[49m\u001b[38;5;241;43m.\u001b[39;49m\u001b[43m_api\u001b[49m\u001b[38;5;241;43m.\u001b[39;49m\u001b[43mquery_cortex_search_service\u001b[49m\u001b[43m(\u001b[49m\n\u001b[1;32m     62\u001b[0m \u001b[43m        \u001b[49m\u001b[38;5;28;43mself\u001b[39;49m\u001b[38;5;241;43m.\u001b[39;49m\u001b[43mdatabase\u001b[49m\u001b[38;5;241;43m.\u001b[39;49m\u001b[43mname\u001b[49m\u001b[43m,\u001b[49m\n\u001b[1;32m     63\u001b[0m \u001b[43m        \u001b[49m\u001b[38;5;28;43mself\u001b[39;49m\u001b[38;5;241;43m.\u001b[39;49m\u001b[43mschema\u001b[49m\u001b[38;5;241;43m.\u001b[39;49m\u001b[43mname\u001b[49m\u001b[43m,\u001b[49m\n\u001b[1;32m     64\u001b[0m \u001b[43m        \u001b[49m\u001b[38;5;28;43mself\u001b[39;49m\u001b[38;5;241;43m.\u001b[39;49m\u001b[43mname\u001b[49m\u001b[43m,\u001b[49m\n\u001b[1;32m     65\u001b[0m \u001b[43m        \u001b[49m\u001b[43mQueryRequest\u001b[49m\u001b[38;5;241;43m.\u001b[39;49m\u001b[43mfrom_dict\u001b[49m\u001b[43m(\u001b[49m\n\u001b[1;32m     66\u001b[0m \u001b[43m            \u001b[49m\u001b[43m{\u001b[49m\u001b[38;5;124;43m\"\u001b[39;49m\u001b[38;5;124;43mquery\u001b[39;49m\u001b[38;5;124;43m\"\u001b[39;49m\u001b[43m:\u001b[49m\u001b[43m \u001b[49m\u001b[43mquery\u001b[49m\u001b[43m,\u001b[49m\u001b[43m \u001b[49m\u001b[38;5;124;43m\"\u001b[39;49m\u001b[38;5;124;43mcolumns\u001b[39;49m\u001b[38;5;124;43m\"\u001b[39;49m\u001b[43m:\u001b[49m\u001b[43m \u001b[49m\u001b[43mcolumns\u001b[49m\u001b[43m,\u001b[49m\n\u001b[1;32m     67\u001b[0m \u001b[43m                \u001b[49m\u001b[38;5;124;43m\"\u001b[39;49m\u001b[38;5;124;43mfilter\u001b[39;49m\u001b[38;5;124;43m\"\u001b[39;49m\u001b[43m:\u001b[49m\u001b[43m \u001b[49m\u001b[38;5;28;43mfilter\u001b[39;49m\u001b[43m,\u001b[49m\u001b[43m \u001b[49m\u001b[38;5;124;43m\"\u001b[39;49m\u001b[38;5;124;43mlimit\u001b[39;49m\u001b[38;5;124;43m\"\u001b[39;49m\u001b[43m:\u001b[49m\u001b[43m \u001b[49m\u001b[43mlimit\u001b[49m\u001b[43m,\u001b[49m\u001b[43m \u001b[49m\u001b[38;5;241;43m*\u001b[39;49m\u001b[38;5;241;43m*\u001b[39;49m\u001b[43mkwargs\u001b[49m\u001b[43m}\u001b[49m\n\u001b[1;32m     68\u001b[0m \u001b[43m        \u001b[49m\u001b[43m)\u001b[49m\u001b[43m,\u001b[49m\n\u001b[1;32m     69\u001b[0m \u001b[43m    \u001b[49m\u001b[43m)\u001b[49m\n",
      "File \u001b[0;32m~/.local/lib/python3.11/site-packages/pydantic/_internal/_validate_call.py:38\u001b[0m, in \u001b[0;36mupdate_wrapper_attributes.<locals>.wrapper_function\u001b[0;34m(*args, **kwargs)\u001b[0m\n\u001b[1;32m     36\u001b[0m \u001b[38;5;129m@functools\u001b[39m\u001b[38;5;241m.\u001b[39mwraps(wrapped)\n\u001b[1;32m     37\u001b[0m \u001b[38;5;28;01mdef\u001b[39;00m\u001b[38;5;250m \u001b[39m\u001b[38;5;21mwrapper_function\u001b[39m(\u001b[38;5;241m*\u001b[39margs, \u001b[38;5;241m*\u001b[39m\u001b[38;5;241m*\u001b[39mkwargs):\n\u001b[0;32m---> 38\u001b[0m     \u001b[38;5;28;01mreturn\u001b[39;00m \u001b[43mwrapper\u001b[49m\u001b[43m(\u001b[49m\u001b[38;5;241;43m*\u001b[39;49m\u001b[43margs\u001b[49m\u001b[43m,\u001b[49m\u001b[43m \u001b[49m\u001b[38;5;241;43m*\u001b[39;49m\u001b[38;5;241;43m*\u001b[39;49m\u001b[43mkwargs\u001b[49m\u001b[43m)\u001b[49m\n",
      "File \u001b[0;32m~/.local/lib/python3.11/site-packages/pydantic/_internal/_validate_call.py:111\u001b[0m, in \u001b[0;36mValidateCallWrapper.__call__\u001b[0;34m(self, *args, **kwargs)\u001b[0m\n\u001b[1;32m    110\u001b[0m \u001b[38;5;28;01mdef\u001b[39;00m\u001b[38;5;250m \u001b[39m\u001b[38;5;21m__call__\u001b[39m(\u001b[38;5;28mself\u001b[39m, \u001b[38;5;241m*\u001b[39margs: Any, \u001b[38;5;241m*\u001b[39m\u001b[38;5;241m*\u001b[39mkwargs: Any) \u001b[38;5;241m-\u001b[39m\u001b[38;5;241m>\u001b[39m Any:\n\u001b[0;32m--> 111\u001b[0m     res \u001b[38;5;241m=\u001b[39m \u001b[38;5;28mself\u001b[39m\u001b[38;5;241m.\u001b[39m__pydantic_validator__\u001b[38;5;241m.\u001b[39mvalidate_python(pydantic_core\u001b[38;5;241m.\u001b[39mArgsKwargs(args, kwargs))\n\u001b[1;32m    112\u001b[0m     \u001b[38;5;28;01mif\u001b[39;00m \u001b[38;5;28mself\u001b[39m\u001b[38;5;241m.\u001b[39m__return_pydantic_validator__:\n\u001b[1;32m    113\u001b[0m         \u001b[38;5;28;01mreturn\u001b[39;00m \u001b[38;5;28mself\u001b[39m\u001b[38;5;241m.\u001b[39m__return_pydantic_validator__(res)\n",
      "File \u001b[0;32m~/.local/lib/python3.11/site-packages/snowflake/core/cortex/search_service/_generated/api/cortex_search_service_api.py:813\u001b[0m, in \u001b[0;36mCortexSearchServiceApi.query_cortex_search_service\u001b[0;34m(self, database, var_schema, service_name, query_request, **kwargs)\u001b[0m\n\u001b[1;32m    780\u001b[0m \u001b[38;5;250m\u001b[39m\u001b[38;5;124;03m\"\"\"Query a Cortex Search Service.  # noqa: E501.\u001b[39;00m\n\u001b[1;32m    781\u001b[0m \n\u001b[1;32m    782\u001b[0m \u001b[38;5;124;03mQuery a Cortex Search Service to get search results.  # noqa: E501\u001b[39;00m\n\u001b[0;32m   (...)\u001b[0m\n\u001b[1;32m    810\u001b[0m \u001b[38;5;124;03m:rtype: QueryResponse\u001b[39;00m\n\u001b[1;32m    811\u001b[0m \u001b[38;5;124;03m\"\"\"\u001b[39;00m\n\u001b[1;32m    812\u001b[0m kwargs[\u001b[38;5;124m'\u001b[39m\u001b[38;5;124m_return_http_data_only\u001b[39m\u001b[38;5;124m'\u001b[39m] \u001b[38;5;241m=\u001b[39m \u001b[38;5;28;01mTrue\u001b[39;00m\n\u001b[0;32m--> 813\u001b[0m \u001b[38;5;28;01mreturn\u001b[39;00m \u001b[38;5;28;43mself\u001b[39;49m\u001b[38;5;241;43m.\u001b[39;49m\u001b[43mquery_cortex_search_service_with_http_info\u001b[49m\u001b[43m(\u001b[49m\n\u001b[1;32m    814\u001b[0m \u001b[43m    \u001b[49m\u001b[43mdatabase\u001b[49m\u001b[43m,\u001b[49m\u001b[43m \u001b[49m\u001b[43mvar_schema\u001b[49m\u001b[43m,\u001b[49m\u001b[43m \u001b[49m\u001b[43mservice_name\u001b[49m\u001b[43m,\u001b[49m\u001b[43m \u001b[49m\u001b[43mquery_request\u001b[49m\u001b[43m,\u001b[49m\n\u001b[1;32m    815\u001b[0m \u001b[43m    \u001b[49m\u001b[38;5;241;43m*\u001b[39;49m\u001b[38;5;241;43m*\u001b[39;49m\u001b[43mkwargs\u001b[49m\u001b[43m)\u001b[49m\n",
      "File \u001b[0;32m~/.local/lib/python3.11/site-packages/pydantic/_internal/_validate_call.py:38\u001b[0m, in \u001b[0;36mupdate_wrapper_attributes.<locals>.wrapper_function\u001b[0;34m(*args, **kwargs)\u001b[0m\n\u001b[1;32m     36\u001b[0m \u001b[38;5;129m@functools\u001b[39m\u001b[38;5;241m.\u001b[39mwraps(wrapped)\n\u001b[1;32m     37\u001b[0m \u001b[38;5;28;01mdef\u001b[39;00m\u001b[38;5;250m \u001b[39m\u001b[38;5;21mwrapper_function\u001b[39m(\u001b[38;5;241m*\u001b[39margs, \u001b[38;5;241m*\u001b[39m\u001b[38;5;241m*\u001b[39mkwargs):\n\u001b[0;32m---> 38\u001b[0m     \u001b[38;5;28;01mreturn\u001b[39;00m \u001b[43mwrapper\u001b[49m\u001b[43m(\u001b[49m\u001b[38;5;241;43m*\u001b[39;49m\u001b[43margs\u001b[49m\u001b[43m,\u001b[49m\u001b[43m \u001b[49m\u001b[38;5;241;43m*\u001b[39;49m\u001b[38;5;241;43m*\u001b[39;49m\u001b[43mkwargs\u001b[49m\u001b[43m)\u001b[49m\n",
      "File \u001b[0;32m~/.local/lib/python3.11/site-packages/pydantic/_internal/_validate_call.py:111\u001b[0m, in \u001b[0;36mValidateCallWrapper.__call__\u001b[0;34m(self, *args, **kwargs)\u001b[0m\n\u001b[1;32m    110\u001b[0m \u001b[38;5;28;01mdef\u001b[39;00m\u001b[38;5;250m \u001b[39m\u001b[38;5;21m__call__\u001b[39m(\u001b[38;5;28mself\u001b[39m, \u001b[38;5;241m*\u001b[39margs: Any, \u001b[38;5;241m*\u001b[39m\u001b[38;5;241m*\u001b[39mkwargs: Any) \u001b[38;5;241m-\u001b[39m\u001b[38;5;241m>\u001b[39m Any:\n\u001b[0;32m--> 111\u001b[0m     res \u001b[38;5;241m=\u001b[39m \u001b[38;5;28mself\u001b[39m\u001b[38;5;241m.\u001b[39m__pydantic_validator__\u001b[38;5;241m.\u001b[39mvalidate_python(pydantic_core\u001b[38;5;241m.\u001b[39mArgsKwargs(args, kwargs))\n\u001b[1;32m    112\u001b[0m     \u001b[38;5;28;01mif\u001b[39;00m \u001b[38;5;28mself\u001b[39m\u001b[38;5;241m.\u001b[39m__return_pydantic_validator__:\n\u001b[1;32m    113\u001b[0m         \u001b[38;5;28;01mreturn\u001b[39;00m \u001b[38;5;28mself\u001b[39m\u001b[38;5;241m.\u001b[39m__return_pydantic_validator__(res)\n",
      "File \u001b[0;32m~/.local/lib/python3.11/site-packages/snowflake/core/cortex/search_service/_generated/api/cortex_search_service_api.py:960\u001b[0m, in \u001b[0;36mCortexSearchServiceApi.query_cortex_search_service_with_http_info\u001b[0;34m(self, database, var_schema, service_name, query_request, **kwargs)\u001b[0m\n\u001b[1;32m    943\u001b[0m _auth_settings \u001b[38;5;241m=\u001b[39m [\u001b[38;5;124m'\u001b[39m\u001b[38;5;124mExternalOAuth\u001b[39m\u001b[38;5;124m'\u001b[39m, \u001b[38;5;124m'\u001b[39m\u001b[38;5;124mKeyPair\u001b[39m\u001b[38;5;124m'\u001b[39m,\n\u001b[1;32m    944\u001b[0m                   \u001b[38;5;124m'\u001b[39m\u001b[38;5;124mSnowflakeOAuth\u001b[39m\u001b[38;5;124m'\u001b[39m]  \u001b[38;5;66;03m# noqa: E501\u001b[39;00m\n\u001b[1;32m    946\u001b[0m _response_types_map \u001b[38;5;241m=\u001b[39m {\n\u001b[1;32m    947\u001b[0m     \u001b[38;5;124m'\u001b[39m\u001b[38;5;124m200\u001b[39m\u001b[38;5;124m'\u001b[39m: \u001b[38;5;124m\"\u001b[39m\u001b[38;5;124mQueryResponse\u001b[39m\u001b[38;5;124m\"\u001b[39m,\n\u001b[1;32m    948\u001b[0m     \u001b[38;5;124m'\u001b[39m\u001b[38;5;124m400\u001b[39m\u001b[38;5;124m'\u001b[39m: \u001b[38;5;124m\"\u001b[39m\u001b[38;5;124mErrorResponse\u001b[39m\u001b[38;5;124m\"\u001b[39m,\n\u001b[0;32m   (...)\u001b[0m\n\u001b[1;32m    957\u001b[0m     \u001b[38;5;124m'\u001b[39m\u001b[38;5;124m504\u001b[39m\u001b[38;5;124m'\u001b[39m: \u001b[38;5;124m\"\u001b[39m\u001b[38;5;124mErrorResponse\u001b[39m\u001b[38;5;124m\"\u001b[39m,\n\u001b[1;32m    958\u001b[0m }\n\u001b[0;32m--> 960\u001b[0m \u001b[38;5;28;01mreturn\u001b[39;00m \u001b[38;5;28;43mself\u001b[39;49m\u001b[38;5;241;43m.\u001b[39;49m\u001b[43mapi_client\u001b[49m\u001b[38;5;241;43m.\u001b[39;49m\u001b[43mcall_api\u001b[49m\u001b[43m(\u001b[49m\n\u001b[1;32m    961\u001b[0m \u001b[43m    \u001b[49m\u001b[38;5;28;43mself\u001b[39;49m\u001b[38;5;241;43m.\u001b[39;49m\u001b[43m_root\u001b[49m\u001b[43m,\u001b[49m\n\u001b[1;32m    962\u001b[0m \u001b[43m    \u001b[49m\u001b[38;5;124;43m'\u001b[39;49m\u001b[38;5;124;43m/api/v2/databases/\u001b[39;49m\u001b[38;5;132;43;01m{database}\u001b[39;49;00m\u001b[38;5;124;43m/schemas/\u001b[39;49m\u001b[38;5;132;43;01m{schema}\u001b[39;49;00m\u001b[38;5;124;43m/cortex-search-services/\u001b[39;49m\u001b[38;5;132;43;01m{service_name}\u001b[39;49;00m\u001b[38;5;124;43m:query\u001b[39;49m\u001b[38;5;124;43m'\u001b[39;49m\u001b[43m,\u001b[49m\n\u001b[1;32m    963\u001b[0m \u001b[43m    \u001b[49m\u001b[38;5;124;43m'\u001b[39;49m\u001b[38;5;124;43mPOST\u001b[39;49m\u001b[38;5;124;43m'\u001b[39;49m\u001b[43m,\u001b[49m\n\u001b[1;32m    964\u001b[0m \u001b[43m    \u001b[49m\u001b[43m_path_params\u001b[49m\u001b[43m,\u001b[49m\n\u001b[1;32m    965\u001b[0m \u001b[43m    \u001b[49m\u001b[43m_query_params\u001b[49m\u001b[43m,\u001b[49m\n\u001b[1;32m    966\u001b[0m \u001b[43m    \u001b[49m\u001b[43m_header_params\u001b[49m\u001b[43m,\u001b[49m\n\u001b[1;32m    967\u001b[0m \u001b[43m    \u001b[49m\u001b[43mbody\u001b[49m\u001b[38;5;241;43m=\u001b[39;49m\u001b[43m_body_params\u001b[49m\u001b[43m,\u001b[49m\n\u001b[1;32m    968\u001b[0m \u001b[43m    \u001b[49m\u001b[43mpost_params\u001b[49m\u001b[38;5;241;43m=\u001b[39;49m\u001b[43m_form_params\u001b[49m\u001b[43m,\u001b[49m\n\u001b[1;32m    969\u001b[0m \u001b[43m    \u001b[49m\u001b[43mfiles\u001b[49m\u001b[38;5;241;43m=\u001b[39;49m\u001b[43m_files\u001b[49m\u001b[43m,\u001b[49m\n\u001b[1;32m    970\u001b[0m \u001b[43m    \u001b[49m\u001b[43mresponse_types_map\u001b[49m\u001b[38;5;241;43m=\u001b[39;49m\u001b[43m_response_types_map\u001b[49m\u001b[43m,\u001b[49m\n\u001b[1;32m    971\u001b[0m \u001b[43m    \u001b[49m\u001b[43mauth_settings\u001b[49m\u001b[38;5;241;43m=\u001b[39;49m\u001b[43m_auth_settings\u001b[49m\u001b[43m,\u001b[49m\n\u001b[1;32m    972\u001b[0m \u001b[43m    \u001b[49m\u001b[43masync_req\u001b[49m\u001b[38;5;241;43m=\u001b[39;49m\u001b[43m_params\u001b[49m\u001b[38;5;241;43m.\u001b[39;49m\u001b[43mget\u001b[49m\u001b[43m(\u001b[49m\u001b[38;5;124;43m'\u001b[39;49m\u001b[38;5;124;43masync_req\u001b[39;49m\u001b[38;5;124;43m'\u001b[39;49m\u001b[43m)\u001b[49m\u001b[43m,\u001b[49m\n\u001b[1;32m    973\u001b[0m \u001b[43m    \u001b[49m\u001b[43m_return_http_data_only\u001b[49m\u001b[38;5;241;43m=\u001b[39;49m\u001b[43m_params\u001b[49m\u001b[38;5;241;43m.\u001b[39;49m\u001b[43mget\u001b[49m\u001b[43m(\u001b[49m\n\u001b[1;32m    974\u001b[0m \u001b[43m        \u001b[49m\u001b[38;5;124;43m'\u001b[39;49m\u001b[38;5;124;43m_return_http_data_only\u001b[39;49m\u001b[38;5;124;43m'\u001b[39;49m\u001b[43m)\u001b[49m\u001b[43m,\u001b[49m\u001b[43m  \u001b[49m\u001b[38;5;66;43;03m# noqa: E501\u001b[39;49;00m\n\u001b[1;32m    975\u001b[0m \u001b[43m    \u001b[49m\u001b[43m_preload_content\u001b[49m\u001b[38;5;241;43m=\u001b[39;49m\u001b[43m_params\u001b[49m\u001b[38;5;241;43m.\u001b[39;49m\u001b[43mget\u001b[49m\u001b[43m(\u001b[49m\u001b[38;5;124;43m'\u001b[39;49m\u001b[38;5;124;43m_preload_content\u001b[39;49m\u001b[38;5;124;43m'\u001b[39;49m\u001b[43m,\u001b[49m\u001b[43m \u001b[49m\u001b[38;5;28;43;01mTrue\u001b[39;49;00m\u001b[43m)\u001b[49m\u001b[43m,\u001b[49m\n\u001b[1;32m    976\u001b[0m \u001b[43m    \u001b[49m\u001b[43m_request_timeout\u001b[49m\u001b[38;5;241;43m=\u001b[39;49m\u001b[43m_params\u001b[49m\u001b[38;5;241;43m.\u001b[39;49m\u001b[43mget\u001b[49m\u001b[43m(\u001b[49m\u001b[38;5;124;43m'\u001b[39;49m\u001b[38;5;124;43m_request_timeout\u001b[39;49m\u001b[38;5;124;43m'\u001b[39;49m\u001b[43m)\u001b[49m\u001b[43m,\u001b[49m\n\u001b[1;32m    977\u001b[0m \u001b[43m    \u001b[49m\u001b[43mcollection_formats\u001b[49m\u001b[38;5;241;43m=\u001b[39;49m\u001b[43m_collection_formats\u001b[49m\u001b[43m,\u001b[49m\n\u001b[1;32m    978\u001b[0m \u001b[43m    \u001b[49m\u001b[43m_request_auth\u001b[49m\u001b[38;5;241;43m=\u001b[39;49m\u001b[43m_params\u001b[49m\u001b[38;5;241;43m.\u001b[39;49m\u001b[43mget\u001b[49m\u001b[43m(\u001b[49m\u001b[38;5;124;43m'\u001b[39;49m\u001b[38;5;124;43m_request_auth\u001b[39;49m\u001b[38;5;124;43m'\u001b[39;49m\u001b[43m)\u001b[49m\u001b[43m)\u001b[49m\n",
      "File \u001b[0;32m~/.local/lib/python3.11/site-packages/snowflake/core/cortex/search_service/_generated/api_client.py:472\u001b[0m, in \u001b[0;36mApiClient.call_api\u001b[0;34m(self, root, resource_path, method, path_params, query_params, header_params, body, post_params, files, response_types_map, auth_settings, async_req, _return_http_data_only, collection_formats, _preload_content, _request_timeout, _host, _request_auth)\u001b[0m\n\u001b[1;32m    464\u001b[0m logger\u001b[38;5;241m.\u001b[39mdebug(\n\u001b[1;32m    465\u001b[0m     \u001b[38;5;124m\"\u001b[39m\u001b[38;5;124mrequest has path params: \u001b[39m\u001b[38;5;132;01m%r\u001b[39;00m\u001b[38;5;124m, query_params: \u001b[39m\u001b[38;5;132;01m%r\u001b[39;00m\u001b[38;5;124m, header params: \u001b[39m\u001b[38;5;132;01m%r\u001b[39;00m\u001b[38;5;124m and body: \u001b[39m\u001b[38;5;132;01m%r\u001b[39;00m\u001b[38;5;124m\"\u001b[39m,\n\u001b[1;32m    466\u001b[0m     path_params,\n\u001b[0;32m   (...)\u001b[0m\n\u001b[1;32m    469\u001b[0m     body,\n\u001b[1;32m    470\u001b[0m )\n\u001b[1;32m    471\u001b[0m \u001b[38;5;28;01mif\u001b[39;00m \u001b[38;5;129;01mnot\u001b[39;00m async_req:\n\u001b[0;32m--> 472\u001b[0m     \u001b[38;5;28;01mreturn\u001b[39;00m \u001b[38;5;28;43mself\u001b[39;49m\u001b[38;5;241;43m.\u001b[39;49m\u001b[43m__call_api\u001b[49m\u001b[43m(\u001b[49m\n\u001b[1;32m    473\u001b[0m \u001b[43m        \u001b[49m\u001b[43mroot\u001b[49m\u001b[43m,\u001b[49m\n\u001b[1;32m    474\u001b[0m \u001b[43m        \u001b[49m\u001b[43mresource_path\u001b[49m\u001b[43m,\u001b[49m\n\u001b[1;32m    475\u001b[0m \u001b[43m        \u001b[49m\u001b[43mmethod\u001b[49m\u001b[43m,\u001b[49m\n\u001b[1;32m    476\u001b[0m \u001b[43m        \u001b[49m\u001b[43mpath_params\u001b[49m\u001b[43m,\u001b[49m\n\u001b[1;32m    477\u001b[0m \u001b[43m        \u001b[49m\u001b[43mquery_params\u001b[49m\u001b[43m,\u001b[49m\n\u001b[1;32m    478\u001b[0m \u001b[43m        \u001b[49m\u001b[43mheader_params\u001b[49m\u001b[43m,\u001b[49m\n\u001b[1;32m    479\u001b[0m \u001b[43m        \u001b[49m\u001b[43mbody\u001b[49m\u001b[43m,\u001b[49m\n\u001b[1;32m    480\u001b[0m \u001b[43m        \u001b[49m\u001b[43mpost_params\u001b[49m\u001b[43m,\u001b[49m\n\u001b[1;32m    481\u001b[0m \u001b[43m        \u001b[49m\u001b[43mfiles\u001b[49m\u001b[43m,\u001b[49m\n\u001b[1;32m    482\u001b[0m \u001b[43m        \u001b[49m\u001b[43mresponse_types_map\u001b[49m\u001b[43m,\u001b[49m\n\u001b[1;32m    483\u001b[0m \u001b[43m        \u001b[49m\u001b[43mauth_settings\u001b[49m\u001b[43m,\u001b[49m\n\u001b[1;32m    484\u001b[0m \u001b[43m        \u001b[49m\u001b[43m_return_http_data_only\u001b[49m\u001b[43m,\u001b[49m\n\u001b[1;32m    485\u001b[0m \u001b[43m        \u001b[49m\u001b[43mcollection_formats\u001b[49m\u001b[43m,\u001b[49m\n\u001b[1;32m    486\u001b[0m \u001b[43m        \u001b[49m\u001b[43m_preload_content\u001b[49m\u001b[43m,\u001b[49m\n\u001b[1;32m    487\u001b[0m \u001b[43m        \u001b[49m\u001b[43m_request_timeout\u001b[49m\u001b[43m,\u001b[49m\n\u001b[1;32m    488\u001b[0m \u001b[43m        \u001b[49m\u001b[43m_host\u001b[49m\u001b[43m,\u001b[49m\n\u001b[1;32m    489\u001b[0m \u001b[43m        \u001b[49m\u001b[43m_request_auth\u001b[49m\u001b[43m,\u001b[49m\n\u001b[1;32m    490\u001b[0m \u001b[43m    \u001b[49m\u001b[43m)\u001b[49m\n\u001b[1;32m    492\u001b[0m \u001b[38;5;28;01mreturn\u001b[39;00m \u001b[38;5;28mself\u001b[39m\u001b[38;5;241m.\u001b[39mpool\u001b[38;5;241m.\u001b[39mapply_async(\u001b[38;5;28mself\u001b[39m\u001b[38;5;241m.\u001b[39m__call_api, (\n\u001b[1;32m    493\u001b[0m     root,\n\u001b[1;32m    494\u001b[0m     resource_path,\n\u001b[0;32m   (...)\u001b[0m\n\u001b[1;32m    509\u001b[0m     _request_auth,\n\u001b[1;32m    510\u001b[0m ))\n",
      "File \u001b[0;32m~/.local/lib/python3.11/site-packages/snowflake/core/cortex/search_service/_generated/api_client.py:256\u001b[0m, in \u001b[0;36mApiClient.__call_api\u001b[0;34m(self, root, resource_path, method, path_params, query_params, header_params, body, post_params, files, response_types_map, auth_settings, _return_http_data_only, collection_formats, _preload_content, _request_timeout, _host, _request_auth)\u001b[0m\n\u001b[1;32m    254\u001b[0m     \u001b[38;5;28;01mif\u001b[39;00m e\u001b[38;5;241m.\u001b[39mbody:\n\u001b[1;32m    255\u001b[0m         e\u001b[38;5;241m.\u001b[39mbody \u001b[38;5;241m=\u001b[39m e\u001b[38;5;241m.\u001b[39mbody\u001b[38;5;241m.\u001b[39mdecode(\u001b[38;5;124m'\u001b[39m\u001b[38;5;124mutf-8\u001b[39m\u001b[38;5;124m'\u001b[39m)\n\u001b[0;32m--> 256\u001b[0m     \u001b[38;5;28;01mraise\u001b[39;00m e\n\u001b[1;32m    258\u001b[0m \u001b[38;5;28mself\u001b[39m\u001b[38;5;241m.\u001b[39mlast_response \u001b[38;5;241m=\u001b[39m response_data\n\u001b[1;32m    260\u001b[0m return_data \u001b[38;5;241m=\u001b[39m response_data\n",
      "File \u001b[0;32m~/.local/lib/python3.11/site-packages/snowflake/core/cortex/search_service/_generated/api_client.py:243\u001b[0m, in \u001b[0;36mApiClient.__call_api\u001b[0;34m(self, root, resource_path, method, path_params, query_params, header_params, body, post_params, files, response_types_map, auth_settings, _return_http_data_only, collection_formats, _preload_content, _request_timeout, _host, _request_auth)\u001b[0m\n\u001b[1;32m    239\u001b[0m     url \u001b[38;5;241m+\u001b[39m\u001b[38;5;241m=\u001b[39m \u001b[38;5;124m\"\u001b[39m\u001b[38;5;124m?\u001b[39m\u001b[38;5;124m\"\u001b[39m \u001b[38;5;241m+\u001b[39m url_query\n\u001b[1;32m    241\u001b[0m \u001b[38;5;28;01mtry\u001b[39;00m:\n\u001b[1;32m    242\u001b[0m     \u001b[38;5;66;03m# perform request and return response, maybe with retry\u001b[39;00m\n\u001b[0;32m--> 243\u001b[0m     response_data \u001b[38;5;241m=\u001b[39m \u001b[38;5;28;43mself\u001b[39;49m\u001b[38;5;241;43m.\u001b[39;49m\u001b[43mrequest_with_retry\u001b[49m\u001b[43m(\u001b[49m\n\u001b[1;32m    244\u001b[0m \u001b[43m        \u001b[49m\u001b[43mroot\u001b[49m\u001b[43m,\u001b[49m\n\u001b[1;32m    245\u001b[0m \u001b[43m        \u001b[49m\u001b[43mmethod\u001b[49m\u001b[43m,\u001b[49m\n\u001b[1;32m    246\u001b[0m \u001b[43m        \u001b[49m\u001b[43murl\u001b[49m\u001b[43m,\u001b[49m\n\u001b[1;32m    247\u001b[0m \u001b[43m        \u001b[49m\u001b[43mquery_params\u001b[49m\u001b[38;5;241;43m=\u001b[39;49m\u001b[43mquery_params\u001b[49m\u001b[43m,\u001b[49m\n\u001b[1;32m    248\u001b[0m \u001b[43m        \u001b[49m\u001b[43mheaders\u001b[49m\u001b[38;5;241;43m=\u001b[39;49m\u001b[43mheader_params\u001b[49m\u001b[43m,\u001b[49m\n\u001b[1;32m    249\u001b[0m \u001b[43m        \u001b[49m\u001b[43mpost_params\u001b[49m\u001b[38;5;241;43m=\u001b[39;49m\u001b[43mpost_params\u001b[49m\u001b[43m,\u001b[49m\n\u001b[1;32m    250\u001b[0m \u001b[43m        \u001b[49m\u001b[43mbody\u001b[49m\u001b[38;5;241;43m=\u001b[39;49m\u001b[43mbody\u001b[49m\u001b[43m,\u001b[49m\n\u001b[1;32m    251\u001b[0m \u001b[43m        \u001b[49m\u001b[43m_preload_content\u001b[49m\u001b[38;5;241;43m=\u001b[39;49m\u001b[43m_preload_content\u001b[49m\u001b[43m,\u001b[49m\n\u001b[1;32m    252\u001b[0m \u001b[43m        \u001b[49m\u001b[43m_request_timeout\u001b[49m\u001b[38;5;241;43m=\u001b[39;49m\u001b[43m_request_timeout\u001b[49m\u001b[43m)\u001b[49m\n\u001b[1;32m    253\u001b[0m \u001b[38;5;28;01mexcept\u001b[39;00m APIError \u001b[38;5;28;01mas\u001b[39;00m e:\n\u001b[1;32m    254\u001b[0m     \u001b[38;5;28;01mif\u001b[39;00m e\u001b[38;5;241m.\u001b[39mbody:\n",
      "File \u001b[0;32m~/.local/lib/python3.11/site-packages/snowflake/core/cortex/search_service/_generated/api_client.py:524\u001b[0m, in \u001b[0;36mApiClient.request_with_retry\u001b[0;34m(self, root, method, url, query_params, headers, post_params, body, _preload_content, _request_timeout)\u001b[0m\n\u001b[1;32m    522\u001b[0m \u001b[38;5;250m\u001b[39m\u001b[38;5;124;03m\"\"\"Response time by default one hour.\"\"\"\u001b[39;00m\n\u001b[1;32m    523\u001b[0m enter_timing \u001b[38;5;241m=\u001b[39m time\u001b[38;5;241m.\u001b[39mtime()\n\u001b[0;32m--> 524\u001b[0m response_data \u001b[38;5;241m=\u001b[39m \u001b[38;5;28;43mself\u001b[39;49m\u001b[38;5;241;43m.\u001b[39;49m\u001b[43mrequest\u001b[49m\u001b[43m(\u001b[49m\u001b[43mroot\u001b[49m\u001b[43m,\u001b[49m\n\u001b[1;32m    525\u001b[0m \u001b[43m                             \u001b[49m\u001b[43mmethod\u001b[49m\u001b[43m,\u001b[49m\n\u001b[1;32m    526\u001b[0m \u001b[43m                             \u001b[49m\u001b[43murl\u001b[49m\u001b[43m,\u001b[49m\n\u001b[1;32m    527\u001b[0m \u001b[43m                             \u001b[49m\u001b[43mquery_params\u001b[49m\u001b[38;5;241;43m=\u001b[39;49m\u001b[43mquery_params\u001b[49m\u001b[43m,\u001b[49m\n\u001b[1;32m    528\u001b[0m \u001b[43m                             \u001b[49m\u001b[43mheaders\u001b[49m\u001b[38;5;241;43m=\u001b[39;49m\u001b[43mheaders\u001b[49m\u001b[43m,\u001b[49m\n\u001b[1;32m    529\u001b[0m \u001b[43m                             \u001b[49m\u001b[43mpost_params\u001b[49m\u001b[38;5;241;43m=\u001b[39;49m\u001b[43mpost_params\u001b[49m\u001b[43m,\u001b[49m\n\u001b[1;32m    530\u001b[0m \u001b[43m                             \u001b[49m\u001b[43mbody\u001b[49m\u001b[38;5;241;43m=\u001b[39;49m\u001b[43mbody\u001b[49m\u001b[43m,\u001b[49m\n\u001b[1;32m    531\u001b[0m \u001b[43m                             \u001b[49m\u001b[43m_preload_content\u001b[49m\u001b[38;5;241;43m=\u001b[39;49m\u001b[43m_preload_content\u001b[49m\u001b[43m,\u001b[49m\n\u001b[1;32m    532\u001b[0m \u001b[43m                             \u001b[49m\u001b[43m_request_timeout\u001b[49m\u001b[38;5;241;43m=\u001b[39;49m\u001b[43m_request_timeout\u001b[49m\u001b[43m)\u001b[49m\n\u001b[1;32m    534\u001b[0m \u001b[38;5;28;01mif\u001b[39;00m \u001b[38;5;129;01mnot\u001b[39;00m root\u001b[38;5;241m.\u001b[39mparameters(\n\u001b[1;32m    535\u001b[0m )\u001b[38;5;241m.\u001b[39mshould_retry_request \u001b[38;5;129;01mor\u001b[39;00m response_data\u001b[38;5;241m.\u001b[39mstatus \u001b[38;5;129;01mnot\u001b[39;00m \u001b[38;5;129;01min\u001b[39;00m rest\u001b[38;5;241m.\u001b[39mRETRY_STATUS_CODES:\n\u001b[1;32m    536\u001b[0m     \u001b[38;5;28;01mreturn\u001b[39;00m response_data\n",
      "File \u001b[0;32m~/.local/lib/python3.11/site-packages/snowflake/core/cortex/search_service/_generated/api_client.py:641\u001b[0m, in \u001b[0;36mApiClient.request\u001b[0;34m(self, root, method, url, query_params, headers, post_params, body, _preload_content, _request_timeout)\u001b[0m\n\u001b[1;32m    632\u001b[0m     \u001b[38;5;28;01mreturn\u001b[39;00m \u001b[38;5;28mself\u001b[39m\u001b[38;5;241m.\u001b[39mrest_client\u001b[38;5;241m.\u001b[39moptions_request(\n\u001b[1;32m    633\u001b[0m         root,\n\u001b[1;32m    634\u001b[0m         url,\n\u001b[0;32m   (...)\u001b[0m\n\u001b[1;32m    638\u001b[0m         _request_timeout\u001b[38;5;241m=\u001b[39m_request_timeout,\n\u001b[1;32m    639\u001b[0m     )\n\u001b[1;32m    640\u001b[0m \u001b[38;5;28;01melif\u001b[39;00m method \u001b[38;5;241m==\u001b[39m \u001b[38;5;124m\"\u001b[39m\u001b[38;5;124mPOST\u001b[39m\u001b[38;5;124m\"\u001b[39m:\n\u001b[0;32m--> 641\u001b[0m     \u001b[38;5;28;01mreturn\u001b[39;00m \u001b[38;5;28;43mself\u001b[39;49m\u001b[38;5;241;43m.\u001b[39;49m\u001b[43mrest_client\u001b[49m\u001b[38;5;241;43m.\u001b[39;49m\u001b[43mpost_request\u001b[49m\u001b[43m(\u001b[49m\n\u001b[1;32m    642\u001b[0m \u001b[43m        \u001b[49m\u001b[43mroot\u001b[49m\u001b[43m,\u001b[49m\n\u001b[1;32m    643\u001b[0m \u001b[43m        \u001b[49m\u001b[43murl\u001b[49m\u001b[43m,\u001b[49m\n\u001b[1;32m    644\u001b[0m \u001b[43m        \u001b[49m\u001b[43mquery_params\u001b[49m\u001b[38;5;241;43m=\u001b[39;49m\u001b[43mquery_params\u001b[49m\u001b[43m,\u001b[49m\n\u001b[1;32m    645\u001b[0m \u001b[43m        \u001b[49m\u001b[43mheaders\u001b[49m\u001b[38;5;241;43m=\u001b[39;49m\u001b[43mheaders\u001b[49m\u001b[43m,\u001b[49m\n\u001b[1;32m    646\u001b[0m \u001b[43m        \u001b[49m\u001b[43mpost_params\u001b[49m\u001b[38;5;241;43m=\u001b[39;49m\u001b[43mpost_params\u001b[49m\u001b[43m,\u001b[49m\n\u001b[1;32m    647\u001b[0m \u001b[43m        \u001b[49m\u001b[43m_preload_content\u001b[49m\u001b[38;5;241;43m=\u001b[39;49m\u001b[43m_preload_content\u001b[49m\u001b[43m,\u001b[49m\n\u001b[1;32m    648\u001b[0m \u001b[43m        \u001b[49m\u001b[43m_request_timeout\u001b[49m\u001b[38;5;241;43m=\u001b[39;49m\u001b[43m_request_timeout\u001b[49m\u001b[43m,\u001b[49m\n\u001b[1;32m    649\u001b[0m \u001b[43m        \u001b[49m\u001b[43mbody\u001b[49m\u001b[38;5;241;43m=\u001b[39;49m\u001b[43mbody\u001b[49m\u001b[43m,\u001b[49m\n\u001b[1;32m    650\u001b[0m \u001b[43m    \u001b[49m\u001b[43m)\u001b[49m\n\u001b[1;32m    651\u001b[0m \u001b[38;5;28;01melif\u001b[39;00m method \u001b[38;5;241m==\u001b[39m \u001b[38;5;124m\"\u001b[39m\u001b[38;5;124mPUT\u001b[39m\u001b[38;5;124m\"\u001b[39m:\n\u001b[1;32m    652\u001b[0m     \u001b[38;5;28;01mtry\u001b[39;00m:\n",
      "File \u001b[0;32m~/.local/lib/python3.11/site-packages/snowflake/core/cortex/search_service/_generated/rest.py:305\u001b[0m, in \u001b[0;36mRESTClientObject.post_request\u001b[0;34m(self, root, url, headers, query_params, post_params, body, _preload_content, _request_timeout)\u001b[0m\n\u001b[1;32m    296\u001b[0m \u001b[38;5;28;01mdef\u001b[39;00m\u001b[38;5;250m \u001b[39m\u001b[38;5;21mpost_request\u001b[39m(\u001b[38;5;28mself\u001b[39m,\n\u001b[1;32m    297\u001b[0m                  root,\n\u001b[1;32m    298\u001b[0m                  url,\n\u001b[0;32m   (...)\u001b[0m\n\u001b[1;32m    303\u001b[0m                  _preload_content\u001b[38;5;241m=\u001b[39m\u001b[38;5;28;01mTrue\u001b[39;00m,\n\u001b[1;32m    304\u001b[0m                  _request_timeout\u001b[38;5;241m=\u001b[39m\u001b[38;5;28;01mNone\u001b[39;00m):\n\u001b[0;32m--> 305\u001b[0m     \u001b[38;5;28;01mreturn\u001b[39;00m \u001b[38;5;28;43mself\u001b[39;49m\u001b[38;5;241;43m.\u001b[39;49m\u001b[43mrequest\u001b[49m\u001b[43m(\u001b[49m\n\u001b[1;32m    306\u001b[0m \u001b[43m        \u001b[49m\u001b[43mroot\u001b[49m\u001b[43m,\u001b[49m\n\u001b[1;32m    307\u001b[0m \u001b[43m        \u001b[49m\u001b[38;5;124;43m\"\u001b[39;49m\u001b[38;5;124;43mPOST\u001b[39;49m\u001b[38;5;124;43m\"\u001b[39;49m\u001b[43m,\u001b[49m\n\u001b[1;32m    308\u001b[0m \u001b[43m        \u001b[49m\u001b[43murl\u001b[49m\u001b[43m,\u001b[49m\n\u001b[1;32m    309\u001b[0m \u001b[43m        \u001b[49m\u001b[43mheaders\u001b[49m\u001b[38;5;241;43m=\u001b[39;49m\u001b[43mheaders\u001b[49m\u001b[43m,\u001b[49m\n\u001b[1;32m    310\u001b[0m \u001b[43m        \u001b[49m\u001b[43mquery_params\u001b[49m\u001b[38;5;241;43m=\u001b[39;49m\u001b[43mquery_params\u001b[49m\u001b[43m,\u001b[49m\n\u001b[1;32m    311\u001b[0m \u001b[43m        \u001b[49m\u001b[43mpost_params\u001b[49m\u001b[38;5;241;43m=\u001b[39;49m\u001b[43mpost_params\u001b[49m\u001b[43m,\u001b[49m\n\u001b[1;32m    312\u001b[0m \u001b[43m        \u001b[49m\u001b[43m_preload_content\u001b[49m\u001b[38;5;241;43m=\u001b[39;49m\u001b[43m_preload_content\u001b[49m\u001b[43m,\u001b[49m\n\u001b[1;32m    313\u001b[0m \u001b[43m        \u001b[49m\u001b[43m_request_timeout\u001b[49m\u001b[38;5;241;43m=\u001b[39;49m\u001b[43m_request_timeout\u001b[49m\u001b[43m,\u001b[49m\n\u001b[1;32m    314\u001b[0m \u001b[43m        \u001b[49m\u001b[43mbody\u001b[49m\u001b[38;5;241;43m=\u001b[39;49m\u001b[43mbody\u001b[49m\u001b[43m,\u001b[49m\n\u001b[1;32m    315\u001b[0m \u001b[43m    \u001b[49m\u001b[43m)\u001b[49m\n",
      "File \u001b[0;32m~/.local/lib/python3.11/site-packages/snowflake/core/cortex/search_service/_generated/rest.py:216\u001b[0m, in \u001b[0;36mRESTClientObject.request\u001b[0;34m(self, root, method, url, query_params, headers, body, post_params, _preload_content, _request_timeout)\u001b[0m\n\u001b[1;32m    213\u001b[0m     \u001b[38;5;66;03m# log response body\u001b[39;00m\n\u001b[1;32m    214\u001b[0m     logger\u001b[38;5;241m.\u001b[39mdebug(\u001b[38;5;124m\"\u001b[39m\u001b[38;5;124mresponse body: \u001b[39m\u001b[38;5;132;01m%s\u001b[39;00m\u001b[38;5;124m\"\u001b[39m, r\u001b[38;5;241m.\u001b[39mdata)\n\u001b[0;32m--> 216\u001b[0m \u001b[38;5;28;01mreturn\u001b[39;00m \u001b[43mevaluate_status_codes\u001b[49m\u001b[43m(\u001b[49m\u001b[43mroot\u001b[49m\u001b[43m,\u001b[49m\u001b[43m \u001b[49m\u001b[43mr\u001b[49m\u001b[43m)\u001b[49m\n",
      "File \u001b[0;32m~/.local/lib/python3.11/site-packages/snowflake/core/cortex/search_service/_generated/rest.py:65\u001b[0m, in \u001b[0;36mevaluate_status_codes\u001b[0;34m(root, r)\u001b[0m\n\u001b[1;32m     62\u001b[0m     \u001b[38;5;28;01mif\u001b[39;00m \u001b[38;5;241m500\u001b[39m \u001b[38;5;241m<\u001b[39m\u001b[38;5;241m=\u001b[39m r\u001b[38;5;241m.\u001b[39mstatus \u001b[38;5;241m<\u001b[39m\u001b[38;5;241m=\u001b[39m \u001b[38;5;241m599\u001b[39m:\n\u001b[1;32m     63\u001b[0m         \u001b[38;5;28;01mraise\u001b[39;00m ServerError(http_resp\u001b[38;5;241m=\u001b[39mr, root\u001b[38;5;241m=\u001b[39mroot)\n\u001b[0;32m---> 65\u001b[0m     \u001b[38;5;28;01mraise\u001b[39;00m APIError(http_resp\u001b[38;5;241m=\u001b[39mr, root\u001b[38;5;241m=\u001b[39mroot)\n\u001b[1;32m     67\u001b[0m \u001b[38;5;28;01mreturn\u001b[39;00m r\n",
      "\u001b[0;31mAPIError\u001b[0m: (400)\nReason: Bad Request\nError Message: Invalid filter query: Invalid argument: Expected a string but got [\"{\\\"results\\\":[{\\\"chunk\\\":\\\"Fried Rice Ingredients: Rice, Carrot, Peas, Soy sauce, Olive oil, Garlic, Green onions Quantities (for 1 person): Rice: 1/2 cup (cooked), Carrot: 1/2 (diced), Peas: 1/4 cup, Soy sauce: 1 tbsp, Olive oil: 1 tsp, Garlic: 1 clove (minced), Green onions: 1 (chopped Cooking Time: 15 minutes Steps: Heat olive oil in a pan, add garlic and cook for 1 minute. Add carrot and peas, cook for 3-4 minutes. Add cooked rice and soy sauce, stir-fry for another 5 minutes. Garnish with green onions. Serve hot. Cuisine: Asian Diet Type: Vegan  \\\\\\\\nRecipe ID: 332  \\\\\\\\nRecipe Name: Chicken and Rice Skillet Ingredients: Chicken breast, Rice, Bell pepper, Olive oil, Chicken broth, Salt, Pepper Quantities (for 1 person): Chicken breast: 1 (150 grams), Rice: 1/2 cup (uncooked), Bell pepper: 1/2 (sliced), Olive oil: 1 tsp, Chicken broth: 1/2 cup, Salt: pinch, Pepper: pinch Cooking Time: 20 minutes Steps: In a skillet, heat olive oil and cook the chicken breast until browned on both sides (7-8 minutes). Remove and\\\",\\\"category\\\":\\\"MainCourse\\\",\\\"relative_path\\\":\\\"main_dishes.pdf\\\"},{\\\"chunk\\\":\\\"Chicken breast: 1 (150 grams), Bell peppers: 1/2 (sliced), Pineapple: 1/4 cup (chunks), Soy sauce: 1 tbsp, Vinegar: 1 tsp, Olive oil: 1 tsp Cooking Time: 20 minutes Steps: Cook rice according to package instructions. In a pan, heat olive oil and cook chicken until browned. Add bell peppers and pineapple, cook for 3-4 minutes. Add soy sauce and vinegar, cook for another 2 minutes. Serve over rice. Cuisine: Asian Diet Type: Non-Vegetarian  \\\\\\\\nRecipe ID: 339  \\\\\\\\nRecipe Name: Egg Fried Rice Ingredients: Rice, Eggs, Soy sauce, Olive oil, Green peas, Carrot, Garlic Quantities (for 1 person): Rice: 1/2 cup (cooked), Eggs: 2, Soy sauce: 1 tbsp, Olive oil: 1 tsp, Green peas: 1/4 cup, Carrot: 1/2 (diced), Garlic: 1 clove (minced) Cooking Time: 15 minutes  \\\\\\\\nSteps: Heat olive oil in a pan, add garlic, and cook for 1 minute. Add carrot and peas, cook for 2 minutes. Push vegetables to the side, scramble eggs in the pan. Add rice and soy sauce, stir-fry for 5 minutes. Serve hot. Cuisine: Asian Diet\\\",\\\"category\\\":\\\"MainCourse\\\",\\\"relative_path\\\":\\\"main_dishes.pdf\\\"},{\\\"chunk\\\":\\\"peas:  \\\\\\\\n1/4 cup, Soy sauce: 1 tbsp, Olive oil: 1 tsp  \\\\\\\\n1/4 cup, Soy sauce: 1 tbsp, Olive oil: 1 tsp Cooking Time: 15 minutes Steps: Heat olive oil, sauté carrots and peas, add rice and soy sauce, stir-fry for 3-4 minutes, and serve. Cuisine: Asian Diet Type: Vegan  \\\\\\\\nRecipe ID: 263  \\\\\\\\nRecipe Name: Lemon Rice Ingredients: Rice, Lemon, Mustard seeds, Olive oil, Curry leaves Quantities (for 1 person): Rice: 1/2 cup (cooked), Lemon: 1/2 (juiced), Mustard seeds: 1/2 tsp, Olive oil: 1 tsp, Curry leaves: 4-5 Cooking Time: 15 minutes Steps: Heat olive oil, sauté mustard seeds and curry leaves, add cooked rice and lemon juice, stir well, and serve. Cuisine: Indian Diet Type: Vegan  \\\\\\\\nRecipe ID: 264  \\\\\\\\nRecipe Name: Chicken Biryani Ingredients: Rice, Chicken breast, Onion, Garlic, Biryani masala Quantities (for 1 person): Rice: 1/2 cup, Chicken breast: 1 (diced), Onion: 1/4 (chopped), Garlic: 1 clove (minced), Biryani masala: 1 tsp Cooking Time: 20 minutes Steps: Cook rice, sauté chicken with\\\",\\\"relative_path\\\":\\\"main_dishes.pdf\\\",\\\"category\\\":\\\"MainCourse\\\"}],\\\"request_id\\\":\\\"a50993a9-c23b-4ce3-97f3-96db4e616d8d\\\"}\" [\"Fried Rice Ingredients: Rice, Carrot, Peas, Soy sauce, Olive oil, Garlic, Green onions Quantities (for 1 person): Rice: 1/2 cup (cooked), Carrot: 1/2 (diced), Peas: 1/4 cup, Soy sauce: 1 tbsp, Olive oil: 1 tsp, Garlic: 1 clove (minced), Green onions: 1 (chopped Cooking Time: 15 minutes Steps: Heat olive oil in a pan, add garlic and cook for 1 minute. Add carrot and peas, cook for 3-4 minutes. Add cooked rice and soy sauce, stir-fry for another 5 minutes. Garnish with green onions. Serve hot. Cuisine: Asian Diet Type: Vegan  \\\\nRecipe ID: 332  \\\\nRecipe Name: Chicken and Rice Skillet Ingredients: Chicken breast, Rice, Bell pepper, Olive oil, Chicken broth, Salt, Pepper Quantities (for 1 person): Chicken breast: 1 (150 grams), Rice: 1/2 cup (uncooked), Bell pepper: 1/2 (sliced), Olive oil: 1 tsp, Chicken broth: 1/2 cup, Salt: pinch, Pepper: pinch Cooking Time: 20 minutes Steps: In a skillet, heat olive oil and cook the chicken breast until browned on both sides (7-8 minutes). Remove and\" \"Chicken breast: 1 (150 grams), Bell peppers: 1/2 (sliced), Pineapple: 1/4 cup (chunks), Soy sauce: 1 tbsp, Vinegar: 1 tsp, Olive oil: 1 tsp Cooking Time: 20 minutes Steps: Cook rice according to package instructions. In a pan, heat olive oil and cook chicken until browned. Add bell peppers and pineapple, cook for 3-4 minutes. Add soy sauce and vinegar, cook for another 2 minutes. Serve over rice. Cuisine: Asian Diet Type: Non-Vegetarian  \\\\nRecipe ID: 339  \\\\nRecipe Name: Egg Fried Rice Ingredients: Rice, Eggs, Soy sauce, Olive oil, Green peas, Carrot, Garlic Quantities (for 1 person): Rice: 1/2 cup (cooked), Eggs: 2, Soy sauce: 1 tbsp, Olive oil: 1 tsp, Green peas: 1/4 cup, Carrot: 1/2 (diced), Garlic: 1 clove (minced) Cooking Time: 15 minutes  \\\\nSteps: Heat olive oil in a pan, add garlic, and cook for 1 minute. Add carrot and peas, cook for 2 minutes. Push vegetables to the side, scramble eggs in the pan. Add rice and soy sauce, stir-fry for 5 minutes. Serve hot. Cuisine: Asian Diet\" \"peas:  \\\\n1/4 cup, Soy sauce: 1 tbsp, Olive oil: 1 tsp  \\\\n1/4 cup, Soy sauce: 1 tbsp, Olive oil: 1 tsp Cooking Time: 15 minutes Steps: Heat olive oil, sauté carrots and peas, add rice and soy sauce, stir-fry for 3-4 minutes, and serve. Cuisine: Asian Diet Type: Vegan  \\\\nRecipe ID: 263  \\\\nRecipe Name: Lemon Rice Ingredients: Rice, Lemon, Mustard seeds, Olive oil, Curry leaves Quantities (for 1 person): Rice: 1/2 cup (cooked), Lemon: 1/2 (juiced), Mustard seeds: 1/2 tsp, Olive oil: 1 tsp, Curry leaves: 4-5 Cooking Time: 15 minutes Steps: Heat olive oil, sauté mustard seeds and curry leaves, add cooked rice and lemon juice, stir well, and serve. Cuisine: Indian Diet Type: Vegan  \\\\nRecipe ID: 264  \\\\nRecipe Name: Chicken Biryani Ingredients: Rice, Chicken breast, Onion, Garlic, Biryani masala Quantities (for 1 person): Rice: 1/2 cup, Chicken breast: 1 (diced), Onion: 1/4 (chopped), Garlic: 1 clove (minced), Biryani masala: 1 tsp Cooking Time: 20 minutes Steps: Cook rice, sauté chicken with\"]] @ @eq.CATEGORY\nHTTP response code: 400\nRequest ID: 333c4b43-f6d5-4c82-9664-5f31a883a3fe\nError Code: 399114\n"
     ]
    }
   ],
   "source": [
    "with full_tru_rag as recording:\n",
    "    response = full_rag.query(query=\"how to make chicken with peas?\", category=\"MainCourse\")\n",
    "\n",
    "response"
   ]
  },
  {
   "cell_type": "code",
   "execution_count": 46,
   "metadata": {},
   "outputs": [
    {
     "data": {
      "text/html": [
       "<div>\n",
       "<style scoped>\n",
       "    .dataframe tbody tr th:only-of-type {\n",
       "        vertical-align: middle;\n",
       "    }\n",
       "\n",
       "    .dataframe tbody tr th {\n",
       "        vertical-align: top;\n",
       "    }\n",
       "\n",
       "    .dataframe thead th {\n",
       "        text-align: right;\n",
       "    }\n",
       "</style>\n",
       "<table border=\"1\" class=\"dataframe\">\n",
       "  <thead>\n",
       "    <tr style=\"text-align: right;\">\n",
       "      <th></th>\n",
       "      <th></th>\n",
       "      <th>Context Relevance</th>\n",
       "      <th>latency</th>\n",
       "      <th>total_cost</th>\n",
       "    </tr>\n",
       "    <tr>\n",
       "      <th>app_name</th>\n",
       "      <th>app_version</th>\n",
       "      <th></th>\n",
       "      <th></th>\n",
       "      <th></th>\n",
       "    </tr>\n",
       "  </thead>\n",
       "  <tbody>\n",
       "    <tr>\n",
       "      <th>RAG</th>\n",
       "      <th>simple</th>\n",
       "      <td>0.333333</td>\n",
       "      <td>0.609406</td>\n",
       "      <td>0.0</td>\n",
       "    </tr>\n",
       "    <tr>\n",
       "      <th>My Retriever</th>\n",
       "      <th>base</th>\n",
       "      <td>0.133333</td>\n",
       "      <td>0.594773</td>\n",
       "      <td>0.0</td>\n",
       "    </tr>\n",
       "    <tr>\n",
       "      <th>FOMC Retriever</th>\n",
       "      <th>base</th>\n",
       "      <td>0.000000</td>\n",
       "      <td>1.133732</td>\n",
       "      <td>0.0</td>\n",
       "    </tr>\n",
       "  </tbody>\n",
       "</table>\n",
       "</div>"
      ],
      "text/plain": [
       "                            Context Relevance   latency  total_cost\n",
       "app_name       app_version                                         \n",
       "RAG            simple                0.333333  0.609406         0.0\n",
       "My Retriever   base                  0.133333  0.594773         0.0\n",
       "FOMC Retriever base                  0.000000  1.133732         0.0"
      ]
     },
     "execution_count": 46,
     "metadata": {},
     "output_type": "execute_result"
    }
   ],
   "source": [
    "tru_session.get_leaderboard()"
   ]
  },
  {
   "cell_type": "markdown",
   "metadata": {},
   "source": [
    "---"
   ]
  },
  {
   "cell_type": "markdown",
   "metadata": {},
   "source": [
    "# Replicating Documentation"
   ]
  },
  {
   "cell_type": "code",
   "execution_count": 11,
   "metadata": {},
   "outputs": [
    {
     "name": "stdout",
     "output_type": "stream",
     "text": [
      "decorating <function ragclass.retrieve at 0x78c261d763e0>\n",
      "decorating <function ragclass.generate_completion at 0x78c261d77b00>\n",
      "decorating <function ragclass.query at 0x78c261d77a60>\n",
      "adding method <class '__main__.ragclass'> retrieve __main__\n",
      "adding method <class '__main__.ragclass'> generate_completion __main__\n",
      "adding method <class '__main__.ragclass'> query __main__\n"
     ]
    }
   ],
   "source": [
    "from snowflake.cortex import Complete\n",
    "\n",
    "class ragclass:\n",
    "\n",
    "    @instrument\n",
    "    def retrieve(self, query: str) -> list:\n",
    "        returned_cortex = svc.search(query, columns=COLUMNS, limit=NUM_CHUNKS)\n",
    "\n",
    "        json_data = json.loads(returned_cortex.model_dump_json())\n",
    "        relative_paths = set(item.get('relative_path', '') for item in json_data['results'])\n",
    "\n",
    "        # print(json_data, \"\\n--------------------\")\n",
    "        # print(relative_paths)\n",
    "\n",
    "        if returned_cortex.results:\n",
    "            return [curr[\"chunk\"] for curr in returned_cortex.results]\n",
    "    \n",
    "    @instrument\n",
    "    def generate_completion(self, query: str, context_str: list) -> str:\n",
    "\n",
    "        if len(context_str) == 0:\n",
    "            return \"Sorry, I couldn't find an answer to your question.\"\n",
    "\n",
    "        category = \"Juices\"\n",
    "        \n",
    "        prompt = f\"\"\"\n",
    "        I am Ali, a friendly and witty chef who specializes in {category} recipes! I love helping people cook and finding the perfect recipes from our collection.\n",
    "\n",
    "        Conversation Flow:\n",
    "        1. When suggesting recipes:\n",
    "            - Prioritize recipes that makes use of all ingredients\n",
    "            - First list all matching recipes as numbered options\n",
    "            - Ask which recipe they'd like to know more about\n",
    "        2. When user selects a recipe, provide full details in this format:\n",
    "            Recipe Name:\n",
    "            Quantities (for 1 person):\n",
    "            Cooking Time:\n",
    "            Steps:\n",
    "            Cuisine:\n",
    "            General Diet Type:\n",
    "\n",
    "        <context>\n",
    "        {context_str}\n",
    "        </context>\n",
    "\n",
    "        User Query: {query}\n",
    "        Current Category: {category}\n",
    "\n",
    "        Response (as Ali, friendly and category-aware):\n",
    "        \"\"\"\n",
    "\n",
    "        cmd = \"\"\"\n",
    "            select snowflake.cortex.complete(?, ?) as response\n",
    "        \"\"\"\n",
    "\n",
    "        return Complete(\"mistral-large2\", prompt)\n",
    "        # df_response = session.sql(cmd, params=['mistral-large', prompt]).collect()\n",
    "\n",
    "        # df_response_string = df_response[0].as_dict()['RESPONSE']\n",
    "        # return {'response': df_response_string}\n",
    "    \n",
    "    @instrument\n",
    "    def query(self, query: str):\n",
    "        context_str = self.retrieve(query=query)\n",
    "        completion = self.generate_completion(\n",
    "            query=query, context_str=context_str\n",
    "        )\n",
    "\n",
    "        return completion"
   ]
  },
  {
   "cell_type": "code",
   "execution_count": 12,
   "metadata": {},
   "outputs": [],
   "source": [
    "myrag = ragclass()"
   ]
  },
  {
   "cell_type": "code",
   "execution_count": 11,
   "metadata": {},
   "outputs": [
    {
     "name": "stdout",
     "output_type": "stream",
     "text": [
      "['Cream Ingredients: Banana, almond milk, vanilla extract Quantities (for 1 person): Banana: 1, almond milk: 1/4 cup, vanilla extract: 1/2 tsp Cooking Time: 5 minutes (plus freezing time) Steps: Blend frozen banana with almond milk and vanilla until smooth. Freeze for 1 hour before serving. Cuisine: General Diet Type: Vegan  \\\\nRecipe ID: 1803 Recipe Name: Chocolate Avocado Mousse Ingredients: Avocado, cocoa powder, maple syrup, vanilla extract Quantities (for 1 person): Avocado: 1/2, cocoa powder: 2 tbsp, maple syrup: 2 tbsp, vanilla extract: 1/2 tsp Cooking Time: 5 minutes Steps: Blend avocado, cocoa powder, maple syrup, and vanilla extract until smooth. Refrigerate for 1 hour. Cuisine: General Diet Type: Vegan  \\\\nRecipe ID: 1804 Recipe Name: Mango Coconut Sorbet Ingredients: Mango, coconut milk, honey  \\\\nQuantities (for 1 person): Mango: 1/2, coconut milk: 1/2 cup, honey: 1 tbsp Cooking Time: 5 minutes (plus freezing time) Steps: Blend mango, coconut milk, and honey until smooth.', 'Avocado, cocoa powder, almond milk, maple syrup Quantities (for 1 person): Avocado: 1/2, cocoa powder: 1 tbsp, almond milk: 2 tbsp, maple syrup: 1 tsp  \\\\nCooking Time: 5 minutes Steps: Blend all ingredients until smooth. Chill for 1 hour before serving. Cuisine: General Diet Type: Vegan  \\\\nRecipe ID: 1909 Recipe Name: Coconut Milk Pudding Ingredients: Coconut milk, cornstarch, vanilla extract, maple syrup Quantities (for 1 person): Coconut milk: 1/2 cup, cornstarch: 1 tsp, vanilla extract: 1/4 tsp, maple syrup: 1 tsp Cooking Time: 10 minutes Steps: Mix all ingredients and cook over medium heat, stirring constantly until it thickens. Chill for 2 hours. Cuisine: General Diet Type: Vegan  \\\\nRecipe ID: 1910 Recipe Name: Banana Ice Cream Ingredients: Banana, vanilla extract, almond milk Quantities (for 1 person): Banana: 1, vanilla extract: 1/4 tsp, almond milk: 2 tbsp Cooking Time: 5 minutes (plus freezing time) Steps: Blend banana, vanilla extract, and almond milk. Freeze for 3-4 hours,', '2 tbsp, dark chocolate: 2 oz, maple syrup: 1 tbsp, vanilla extract: 1/2 tsp Cooking Time: 10 minutes (plus chilling time) Steps: Melt dark chocolate and mix with almond butter, maple syrup, and vanilla extract. Pour into a small dish and refrigerate for 1-2 hours. Cuisine: General Diet Type: Vegan  \\\\nRecipe ID: 1755 Recipe Name: Coconut Milk Popsicles Ingredients: Coconut milk, honey, vanilla extract Quantities (for 1 person): Coconut milk: 1/2 cup, honey: 1 tbsp, vanilla extract: 1/2 tsp Cooking Time: 5 minutes (plus freezing time) Steps: Mix coconut milk, honey, and vanilla extract. Pour into popsicle molds and freeze for at least 4 hours. Cuisine: Tropical Diet Type: Vegan  \\\\nRecipe ID: 1756 Recipe Name: Strawberry Cheesecake Bites Ingredients: Strawberries, cream cheese, honey, graham cracker crumbs Quantities (for 1 person): Strawberries: 3, cream cheese: 2 tbsp, honey: 1 tbsp, graham cracker crumbs: 1 tbsp Cooking Time: 10 minutes Steps: Slice strawberries and hollow them out.']\n"
     ]
    }
   ],
   "source": [
    "m = myrag.retrieve(\"vanilla milk\")\n",
    "print(m)"
   ]
  },
  {
   "cell_type": "code",
   "execution_count": 12,
   "metadata": {},
   "outputs": [
    {
     "name": "stdout",
     "output_type": "stream",
     "text": [
      "✅ In Groundedness, input source will be set to __record__.app.retrieve.rets.collect() .\n",
      "✅ In Groundedness, input statement will be set to __record__.main_output or `Select.RecordOutput` .\n",
      "✅ In Answer Relevance, input prompt will be set to __record__.app.retrieve.args.query .\n",
      "✅ In Answer Relevance, input response will be set to __record__.main_output or `Select.RecordOutput` .\n",
      "✅ In Context Relevance, input question will be set to __record__.app.retrieve.args.query .\n",
      "✅ In Context Relevance, input context will be set to __record__.app.retrieve.rets.collect() .\n"
     ]
    }
   ],
   "source": [
    "# from functools import partial\n",
    "from trulens.providers.cortex.provider import Cortex\n",
    "from trulens.core import Feedback\n",
    "from trulens.core import Select\n",
    "# import numpy as np\n",
    "\n",
    "provider = Cortex(session, \"mistral-large2\")\n",
    "\n",
    "# Define a groundedness feedback function\n",
    "f_groundedness = (\n",
    "    Feedback(\n",
    "        provider.groundedness_measure_with_cot_reasons, name=\"Groundedness\"\n",
    "    )\n",
    "    .on(Select.RecordCalls.retrieve.rets.collect())\n",
    "    .on_output()\n",
    ")\n",
    "# Question/answer relevance between overall question and answer.\n",
    "f_answer_relevance = (\n",
    "    Feedback(provider.relevance_with_cot_reasons, name=\"Answer Relevance\")\n",
    "    .on(Select.RecordCalls.retrieve.args.query)\n",
    "    .on_output()\n",
    ")\n",
    "\n",
    "# Context relevance between question and each context chunk.\n",
    "f_context_relevance = (\n",
    "    Feedback(\n",
    "        provider.context_relevance_with_cot_reasons, name=\"Context Relevance\"\n",
    "    )\n",
    "    .on(Select.RecordCalls.retrieve.args.query)\n",
    "    .on(Select.RecordCalls.retrieve.rets.collect())\n",
    "    .aggregate(np.mean)  # choose a different aggregation method if you wish\n",
    ")"
   ]
  },
  {
   "cell_type": "code",
   "execution_count": null,
   "metadata": {},
   "outputs": [
    {
     "name": "stdout",
     "output_type": "stream",
     "text": [
      "instrumenting <class '__main__.ragclass'> for base <class '__main__.ragclass'>\n",
      "\tinstrumenting retrieve\n",
      "\tinstrumenting generate_completion\n",
      "\tinstrumenting query\n",
      "skipping base <class 'object'> because of class\n"
     ]
    }
   ],
   "source": [
    "tru_rag = TruCustomApp(\n",
    "    myrag,\n",
    "    app_name=\"rag-documentation\",\n",
    "    app_version=\"base\",\n",
    "    feedbacks=[f_groundedness, f_answer_relevance, f_context_relevance],\n",
    ")"
   ]
  },
  {
   "cell_type": "code",
   "execution_count": 74,
   "metadata": {},
   "outputs": [
    {
     "ename": "TypeError",
     "evalue": "App.main_input() missing 3 required positional arguments: 'func', 'sig', and 'bindings'",
     "output_type": "error",
     "traceback": [
      "\u001b[0;31m---------------------------------------------------------------------------\u001b[0m",
      "\u001b[0;31mTypeError\u001b[0m                                 Traceback (most recent call last)",
      "Cell \u001b[0;32mIn[74], line 1\u001b[0m\n\u001b[0;32m----> 1\u001b[0m \u001b[43mtru_rag\u001b[49m\u001b[38;5;241;43m.\u001b[39;49m\u001b[43mmain_input\u001b[49m\u001b[43m(\u001b[49m\u001b[43m)\u001b[49m\n",
      "\u001b[0;31mTypeError\u001b[0m: App.main_input() missing 3 required positional arguments: 'func', 'sig', and 'bindings'"
     ]
    }
   ],
   "source": [
    "tru_rag.main_input()"
   ]
  },
  {
   "cell_type": "code",
   "execution_count": 19,
   "metadata": {},
   "outputs": [
    {
     "name": "stdout",
     "output_type": "stream",
     "text": [
      "{'results': [{'chunk': 'milk, and melted butter in a microwave-safe mug. Sprinkle chocolate chips on top. Microwave for 1-2 minutes until cooked. Serve warm. Cuisine: General Diet Type: Vegetarian  \\\\nRecipe ID: 1539 Recipe Name: Caramelized Banana Ingredients: Banana, brown sugar, butter Quantities (for 1 person): Banana: 1 (sliced lengthwise), brown sugar: 1 tsp, butter: 1/2 tsp Cooking Time: 10 minutes Steps: Heat butter in a pan, sprinkle brown sugar, and place banana slices. Cook until caramelized. Serve warm. Cuisine: General Diet Type: Vegetarian  \\\\nRecipe ID: 1540 Recipe Name: Strawberry Cream Cup Ingredients: Fresh strawberries, whipped cream, sugar Quantities (for 1 person): Strawberries: 1/2 cup (sliced), whipped cream: 1/4 cup, sugar: 1 tsp Cooking Time: 5 minutes Steps: Layer sliced strawberries and whipped cream in a cup. Sprinkle sugar on top. Serve chilled. Cuisine: General Diet Type: Vegetarian  \\\\nRecipe ID: 1541 Recipe Name: Mango Coconut Bowl Ingredients: Fresh mango, coconut milk, shredded', 'category': 'Desserts', 'relative_path': 'dessert.pdf'}, {'chunk': '{\"content\":\"  \\\\nRecipe ID: 1531 Recipe Name: Chocolate Mug Cake Ingredients: All-purpose flour, cocoa powder, sugar, milk, vegetable oil, baking powder Quantities (for 1 person): All-purpose flour: 4 tbsp, cocoa powder: 2 tbsp, sugar: 2 tbsp, milk: 3 tbsp, vegetable oil: 1 tbsp, baking powder: 1/4 tsp Cooking Time: 5 minutes Steps: In a microwave-safe mug, mix flour, cocoa powder, sugar, and baking powder. Add milk and oil, stir until smooth. Microwave for 1 minute or until the cake is set. Serve warm. Cuisine: General Diet Type: Vegetarian  \\\\nRecipe ID: 1532 Recipe Name: Vanilla Yogurt Parfait Ingredients: Vanilla yogurt, granola, fresh berries (strawberries, blueberries) Quantities (for 1 person): Vanilla yogurt: 1 cup, granola: 2 tbsp, fresh berries: 1/2 cup Cooking Time: 5 minutes Steps: Layer vanilla yogurt, granola, and berries in a cup. Repeat layers and serve chilled. Cuisine: General Diet Type: Vegetarian  \\\\nRecipe ID: 1533 Recipe Name: Banana Ice Cream Ingredients: Bananas', 'category': 'Desserts', 'relative_path': 'dessert.pdf'}, {'chunk': 'Avocado, cocoa powder, almond milk, maple syrup Quantities (for 1 person): Avocado: 1/2, cocoa powder: 1 tbsp, almond milk: 2 tbsp, maple syrup: 1 tsp  \\\\nCooking Time: 5 minutes Steps: Blend all ingredients until smooth. Chill for 1 hour before serving. Cuisine: General Diet Type: Vegan  \\\\nRecipe ID: 1909 Recipe Name: Coconut Milk Pudding Ingredients: Coconut milk, cornstarch, vanilla extract, maple syrup Quantities (for 1 person): Coconut milk: 1/2 cup, cornstarch: 1 tsp, vanilla extract: 1/4 tsp, maple syrup: 1 tsp Cooking Time: 10 minutes Steps: Mix all ingredients and cook over medium heat, stirring constantly until it thickens. Chill for 2 hours. Cuisine: General Diet Type: Vegan  \\\\nRecipe ID: 1910 Recipe Name: Banana Ice Cream Ingredients: Banana, vanilla extract, almond milk Quantities (for 1 person): Banana: 1, vanilla extract: 1/4 tsp, almond milk: 2 tbsp Cooking Time: 5 minutes (plus freezing time) Steps: Blend banana, vanilla extract, and almond milk. Freeze for 3-4 hours,', 'category': 'Desserts', 'relative_path': 'dessert.pdf'}], 'request_id': '923ac6c8-2ef2-436e-9a6e-60fc9a689255'} \n",
      "--------------------\n",
      "{'dessert.pdf'}\n"
     ]
    }
   ],
   "source": [
    "p = myrag.query(\"How to make chocolate milk?\")"
   ]
  },
  {
   "cell_type": "code",
   "execution_count": 26,
   "metadata": {},
   "outputs": [
    {
     "data": {
      "text/plain": [
       "\" I'm sorry, but I don't have a recipe for chocolate milk in my collection. However, I can suggest some delicious juice recipes if you'd like! How about a refreshing strawberry cream cup or a tropical mango coconut bowl?\\n\\n        For the Strawberry Cream Cup, you'll need:\\n        - 1/2 cup sliced fresh strawberries\\n        - 1/4 cup whipped cream\\n        - 1 tsp sugar\\n\\n        Just layer the sliced strawberries and whipped cream in a cup, sprinkle sugar on top, and serve chilled. It's a quick and easy treat that's perfect for any time of day!\\n\\n        Or, if you're in the mood for something a little more exotic, the Mango Coconut Bowl might be just what you're looking for. Here's what you'll need:\\n        - Fresh mango\\n        - Coconut milk\\n        - Shredded coconut\\n\\n        Simply blend the mango and coconut milk together, pour it into a bowl, and top with shredded coconut. It's a delicious and healthy snack that's sure to satisfy your sweet tooth!\\n\\n        Which recipe sounds more appealing to you? Or would you like me to suggest something else from our collection?\""
      ]
     },
     "execution_count": 26,
     "metadata": {},
     "output_type": "execute_result"
    }
   ],
   "source": [
    "p[0].as_dict()['RESPONSE']"
   ]
  },
  {
   "cell_type": "code",
   "execution_count": 19,
   "metadata": {},
   "outputs": [
    {
     "ename": "KeyboardInterrupt",
     "evalue": "",
     "output_type": "error",
     "traceback": [
      "\u001b[0;31m---------------------------------------------------------------------------\u001b[0m",
      "\u001b[0;31mKeyboardInterrupt\u001b[0m                         Traceback (most recent call last)",
      "Cell \u001b[0;32mIn[19], line 1\u001b[0m\n\u001b[0;32m----> 1\u001b[0m t \u001b[38;5;241m=\u001b[39m \u001b[43mmyrag\u001b[49m\u001b[38;5;241;43m.\u001b[39;49m\u001b[43mquery\u001b[49m\u001b[43m(\u001b[49m\u001b[38;5;124;43m\"\u001b[39;49m\u001b[38;5;124;43mHow to make pina colada\u001b[39;49m\u001b[38;5;124;43m\"\u001b[39;49m\u001b[43m)\u001b[49m\n\u001b[1;32m      2\u001b[0m \u001b[38;5;28mprint\u001b[39m(t)\n",
      "File \u001b[0;32m~/.local/lib/python3.11/site-packages/trulens/core/instruments.py:670\u001b[0m, in \u001b[0;36mInstrument.tracked_method_wrapper.<locals>.tru_wrapper\u001b[0;34m(*args, **kwargs)\u001b[0m\n\u001b[1;32m    663\u001b[0m \u001b[38;5;28;01mif\u001b[39;00m \u001b[38;5;28mlen\u001b[39m(contexts) \u001b[38;5;241m==\u001b[39m \u001b[38;5;241m0\u001b[39m:\n\u001b[1;32m    664\u001b[0m     \u001b[38;5;66;03m# If no app wants this call recorded, run and return without\u001b[39;00m\n\u001b[1;32m    665\u001b[0m     \u001b[38;5;66;03m# instrumentation.\u001b[39;00m\n\u001b[1;32m    666\u001b[0m     logger\u001b[38;5;241m.\u001b[39mdebug(\n\u001b[1;32m    667\u001b[0m         \u001b[38;5;124m\"\u001b[39m\u001b[38;5;132;01m%s\u001b[39;00m\u001b[38;5;124m: no record found or requested, not recording.\u001b[39m\u001b[38;5;124m\"\u001b[39m, query\n\u001b[1;32m    668\u001b[0m     )\n\u001b[0;32m--> 670\u001b[0m     \u001b[38;5;28;01mreturn\u001b[39;00m \u001b[43mfunc\u001b[49m\u001b[43m(\u001b[49m\u001b[38;5;241;43m*\u001b[39;49m\u001b[43margs\u001b[49m\u001b[43m,\u001b[49m\u001b[43m \u001b[49m\u001b[38;5;241;43m*\u001b[39;49m\u001b[38;5;241;43m*\u001b[39;49m\u001b[43mkwargs\u001b[49m\u001b[43m)\u001b[49m\n\u001b[1;32m    672\u001b[0m \u001b[38;5;28;01melse\u001b[39;00m:\n\u001b[1;32m    673\u001b[0m     \u001b[38;5;28;01mpass\u001b[39;00m\n",
      "Cell \u001b[0;32mIn[9], line 61\u001b[0m, in \u001b[0;36mragclass.query\u001b[0;34m(self, query)\u001b[0m\n\u001b[1;32m     59\u001b[0m \u001b[38;5;129m@instrument\u001b[39m\n\u001b[1;32m     60\u001b[0m \u001b[38;5;28;01mdef\u001b[39;00m\u001b[38;5;250m \u001b[39m\u001b[38;5;21mquery\u001b[39m(\u001b[38;5;28mself\u001b[39m, query: \u001b[38;5;28mstr\u001b[39m):\n\u001b[0;32m---> 61\u001b[0m     context_str \u001b[38;5;241m=\u001b[39m \u001b[38;5;28;43mself\u001b[39;49m\u001b[38;5;241;43m.\u001b[39;49m\u001b[43mretrieve\u001b[49m\u001b[43m(\u001b[49m\u001b[43mquery\u001b[49m\u001b[38;5;241;43m=\u001b[39;49m\u001b[43mquery\u001b[49m\u001b[43m)\u001b[49m\n\u001b[1;32m     62\u001b[0m     completion \u001b[38;5;241m=\u001b[39m \u001b[38;5;28mself\u001b[39m\u001b[38;5;241m.\u001b[39mgenerate_completion(\n\u001b[1;32m     63\u001b[0m         query\u001b[38;5;241m=\u001b[39mquery, context_str\u001b[38;5;241m=\u001b[39mcontext_str\n\u001b[1;32m     64\u001b[0m     )\n\u001b[1;32m     66\u001b[0m     \u001b[38;5;28;01mreturn\u001b[39;00m completion\n",
      "File \u001b[0;32m~/.local/lib/python3.11/site-packages/trulens/core/instruments.py:670\u001b[0m, in \u001b[0;36mInstrument.tracked_method_wrapper.<locals>.tru_wrapper\u001b[0;34m(*args, **kwargs)\u001b[0m\n\u001b[1;32m    663\u001b[0m \u001b[38;5;28;01mif\u001b[39;00m \u001b[38;5;28mlen\u001b[39m(contexts) \u001b[38;5;241m==\u001b[39m \u001b[38;5;241m0\u001b[39m:\n\u001b[1;32m    664\u001b[0m     \u001b[38;5;66;03m# If no app wants this call recorded, run and return without\u001b[39;00m\n\u001b[1;32m    665\u001b[0m     \u001b[38;5;66;03m# instrumentation.\u001b[39;00m\n\u001b[1;32m    666\u001b[0m     logger\u001b[38;5;241m.\u001b[39mdebug(\n\u001b[1;32m    667\u001b[0m         \u001b[38;5;124m\"\u001b[39m\u001b[38;5;132;01m%s\u001b[39;00m\u001b[38;5;124m: no record found or requested, not recording.\u001b[39m\u001b[38;5;124m\"\u001b[39m, query\n\u001b[1;32m    668\u001b[0m     )\n\u001b[0;32m--> 670\u001b[0m     \u001b[38;5;28;01mreturn\u001b[39;00m \u001b[43mfunc\u001b[49m\u001b[43m(\u001b[49m\u001b[38;5;241;43m*\u001b[39;49m\u001b[43margs\u001b[49m\u001b[43m,\u001b[49m\u001b[43m \u001b[49m\u001b[38;5;241;43m*\u001b[39;49m\u001b[38;5;241;43m*\u001b[39;49m\u001b[43mkwargs\u001b[49m\u001b[43m)\u001b[49m\n\u001b[1;32m    672\u001b[0m \u001b[38;5;28;01melse\u001b[39;00m:\n\u001b[1;32m    673\u001b[0m     \u001b[38;5;28;01mpass\u001b[39;00m\n",
      "Cell \u001b[0;32mIn[9], line 5\u001b[0m, in \u001b[0;36mragclass.retrieve\u001b[0;34m(self, query)\u001b[0m\n\u001b[1;32m      3\u001b[0m \u001b[38;5;129m@instrument\u001b[39m\n\u001b[1;32m      4\u001b[0m \u001b[38;5;28;01mdef\u001b[39;00m\u001b[38;5;250m \u001b[39m\u001b[38;5;21mretrieve\u001b[39m(\u001b[38;5;28mself\u001b[39m, query: \u001b[38;5;28mstr\u001b[39m) \u001b[38;5;241m-\u001b[39m\u001b[38;5;241m>\u001b[39m \u001b[38;5;28mlist\u001b[39m:\n\u001b[0;32m----> 5\u001b[0m     returned_cortex \u001b[38;5;241m=\u001b[39m \u001b[43msvc\u001b[49m\u001b[38;5;241;43m.\u001b[39;49m\u001b[43msearch\u001b[49m\u001b[43m(\u001b[49m\u001b[43mquery\u001b[49m\u001b[43m,\u001b[49m\u001b[43m \u001b[49m\u001b[43mcolumns\u001b[49m\u001b[38;5;241;43m=\u001b[39;49m\u001b[43mCOLUMNS\u001b[49m\u001b[43m,\u001b[49m\u001b[43m \u001b[49m\u001b[43mlimit\u001b[49m\u001b[38;5;241;43m=\u001b[39;49m\u001b[43mNUM_CHUNKS\u001b[49m\u001b[43m)\u001b[49m\n\u001b[1;32m      7\u001b[0m     json_data \u001b[38;5;241m=\u001b[39m json\u001b[38;5;241m.\u001b[39mloads(returned_cortex\u001b[38;5;241m.\u001b[39mmodel_dump_json())\n\u001b[1;32m      8\u001b[0m     relative_paths \u001b[38;5;241m=\u001b[39m \u001b[38;5;28mset\u001b[39m(item\u001b[38;5;241m.\u001b[39mget(\u001b[38;5;124m'\u001b[39m\u001b[38;5;124mrelative_path\u001b[39m\u001b[38;5;124m'\u001b[39m, \u001b[38;5;124m'\u001b[39m\u001b[38;5;124m'\u001b[39m) \u001b[38;5;28;01mfor\u001b[39;00m item \u001b[38;5;129;01min\u001b[39;00m json_data[\u001b[38;5;124m'\u001b[39m\u001b[38;5;124mresults\u001b[39m\u001b[38;5;124m'\u001b[39m])\n",
      "File \u001b[0;32m~/.local/lib/python3.11/site-packages/snowflake/core/_internal/telemetry.py:128\u001b[0m, in \u001b[0;36mapi_telemetry.<locals>.wrap\u001b[0;34m(self, *args, **kwargs)\u001b[0m\n\u001b[1;32m    119\u001b[0m logger\u001b[38;5;241m.\u001b[39mdebug(\n\u001b[1;32m    120\u001b[0m     \u001b[38;5;124m\"\u001b[39m\u001b[38;5;124mcalling method \u001b[39m\u001b[38;5;132;01m%s\u001b[39;00m\u001b[38;5;124m on class \u001b[39m\u001b[38;5;132;01m%s\u001b[39;00m\u001b[38;5;124m after submitting telemetry if enabled\u001b[39m\u001b[38;5;124m\"\u001b[39m,\n\u001b[1;32m    121\u001b[0m     func_name,\n\u001b[1;32m    122\u001b[0m     class_name,\n\u001b[1;32m    123\u001b[0m )\n\u001b[1;32m    124\u001b[0m telemetry_client\u001b[38;5;241m.\u001b[39msend_api_telemetry(\n\u001b[1;32m    125\u001b[0m     class_name\u001b[38;5;241m=\u001b[39mclass_name,\n\u001b[1;32m    126\u001b[0m     func_name\u001b[38;5;241m=\u001b[39mfunc_name,\n\u001b[1;32m    127\u001b[0m )\n\u001b[0;32m--> 128\u001b[0m r \u001b[38;5;241m=\u001b[39m \u001b[43mfunc\u001b[49m\u001b[43m(\u001b[49m\u001b[38;5;28;43mself\u001b[39;49m\u001b[43m,\u001b[49m\u001b[43m \u001b[49m\u001b[38;5;241;43m*\u001b[39;49m\u001b[43margs\u001b[49m\u001b[43m,\u001b[49m\u001b[43m \u001b[49m\u001b[38;5;241;43m*\u001b[39;49m\u001b[38;5;241;43m*\u001b[39;49m\u001b[43mkwargs\u001b[49m\u001b[43m)\u001b[49m\n\u001b[1;32m    129\u001b[0m \u001b[38;5;28;01mreturn\u001b[39;00m r\n",
      "File \u001b[0;32m~/.local/lib/python3.11/site-packages/snowflake/core/cortex/search_service/_search_service.py:61\u001b[0m, in \u001b[0;36mCortexSearchServiceResource.search\u001b[0;34m(self, query, columns, filter, limit, **kwargs)\u001b[0m\n\u001b[1;32m     52\u001b[0m \u001b[38;5;129m@api_telemetry\u001b[39m\n\u001b[1;32m     53\u001b[0m \u001b[38;5;28;01mdef\u001b[39;00m\u001b[38;5;250m \u001b[39m\u001b[38;5;21msearch\u001b[39m(\n\u001b[1;32m     54\u001b[0m     \u001b[38;5;28mself\u001b[39m,\n\u001b[0;32m   (...)\u001b[0m\n\u001b[1;32m     59\u001b[0m     \u001b[38;5;241m*\u001b[39m\u001b[38;5;241m*\u001b[39mkwargs: Any,\n\u001b[1;32m     60\u001b[0m ) \u001b[38;5;241m-\u001b[39m\u001b[38;5;241m>\u001b[39m QueryResponse:\n\u001b[0;32m---> 61\u001b[0m     \u001b[38;5;28;01mreturn\u001b[39;00m \u001b[38;5;28;43mself\u001b[39;49m\u001b[38;5;241;43m.\u001b[39;49m\u001b[43mcollection\u001b[49m\u001b[38;5;241;43m.\u001b[39;49m\u001b[43m_api\u001b[49m\u001b[38;5;241;43m.\u001b[39;49m\u001b[43mquery_cortex_search_service\u001b[49m\u001b[43m(\u001b[49m\n\u001b[1;32m     62\u001b[0m \u001b[43m        \u001b[49m\u001b[38;5;28;43mself\u001b[39;49m\u001b[38;5;241;43m.\u001b[39;49m\u001b[43mdatabase\u001b[49m\u001b[38;5;241;43m.\u001b[39;49m\u001b[43mname\u001b[49m\u001b[43m,\u001b[49m\n\u001b[1;32m     63\u001b[0m \u001b[43m        \u001b[49m\u001b[38;5;28;43mself\u001b[39;49m\u001b[38;5;241;43m.\u001b[39;49m\u001b[43mschema\u001b[49m\u001b[38;5;241;43m.\u001b[39;49m\u001b[43mname\u001b[49m\u001b[43m,\u001b[49m\n\u001b[1;32m     64\u001b[0m \u001b[43m        \u001b[49m\u001b[38;5;28;43mself\u001b[39;49m\u001b[38;5;241;43m.\u001b[39;49m\u001b[43mname\u001b[49m\u001b[43m,\u001b[49m\n\u001b[1;32m     65\u001b[0m \u001b[43m        \u001b[49m\u001b[43mQueryRequest\u001b[49m\u001b[38;5;241;43m.\u001b[39;49m\u001b[43mfrom_dict\u001b[49m\u001b[43m(\u001b[49m\n\u001b[1;32m     66\u001b[0m \u001b[43m            \u001b[49m\u001b[43m{\u001b[49m\u001b[38;5;124;43m\"\u001b[39;49m\u001b[38;5;124;43mquery\u001b[39;49m\u001b[38;5;124;43m\"\u001b[39;49m\u001b[43m:\u001b[49m\u001b[43m \u001b[49m\u001b[43mquery\u001b[49m\u001b[43m,\u001b[49m\u001b[43m \u001b[49m\u001b[38;5;124;43m\"\u001b[39;49m\u001b[38;5;124;43mcolumns\u001b[39;49m\u001b[38;5;124;43m\"\u001b[39;49m\u001b[43m:\u001b[49m\u001b[43m \u001b[49m\u001b[43mcolumns\u001b[49m\u001b[43m,\u001b[49m\n\u001b[1;32m     67\u001b[0m \u001b[43m                \u001b[49m\u001b[38;5;124;43m\"\u001b[39;49m\u001b[38;5;124;43mfilter\u001b[39;49m\u001b[38;5;124;43m\"\u001b[39;49m\u001b[43m:\u001b[49m\u001b[43m \u001b[49m\u001b[38;5;28;43mfilter\u001b[39;49m\u001b[43m,\u001b[49m\u001b[43m \u001b[49m\u001b[38;5;124;43m\"\u001b[39;49m\u001b[38;5;124;43mlimit\u001b[39;49m\u001b[38;5;124;43m\"\u001b[39;49m\u001b[43m:\u001b[49m\u001b[43m \u001b[49m\u001b[43mlimit\u001b[49m\u001b[43m,\u001b[49m\u001b[43m \u001b[49m\u001b[38;5;241;43m*\u001b[39;49m\u001b[38;5;241;43m*\u001b[39;49m\u001b[43mkwargs\u001b[49m\u001b[43m}\u001b[49m\n\u001b[1;32m     68\u001b[0m \u001b[43m        \u001b[49m\u001b[43m)\u001b[49m\u001b[43m,\u001b[49m\n\u001b[1;32m     69\u001b[0m \u001b[43m    \u001b[49m\u001b[43m)\u001b[49m\n",
      "File \u001b[0;32m~/.local/lib/python3.11/site-packages/pydantic/_internal/_validate_call.py:38\u001b[0m, in \u001b[0;36mupdate_wrapper_attributes.<locals>.wrapper_function\u001b[0;34m(*args, **kwargs)\u001b[0m\n\u001b[1;32m     36\u001b[0m \u001b[38;5;129m@functools\u001b[39m\u001b[38;5;241m.\u001b[39mwraps(wrapped)\n\u001b[1;32m     37\u001b[0m \u001b[38;5;28;01mdef\u001b[39;00m\u001b[38;5;250m \u001b[39m\u001b[38;5;21mwrapper_function\u001b[39m(\u001b[38;5;241m*\u001b[39margs, \u001b[38;5;241m*\u001b[39m\u001b[38;5;241m*\u001b[39mkwargs):\n\u001b[0;32m---> 38\u001b[0m     \u001b[38;5;28;01mreturn\u001b[39;00m \u001b[43mwrapper\u001b[49m\u001b[43m(\u001b[49m\u001b[38;5;241;43m*\u001b[39;49m\u001b[43margs\u001b[49m\u001b[43m,\u001b[49m\u001b[43m \u001b[49m\u001b[38;5;241;43m*\u001b[39;49m\u001b[38;5;241;43m*\u001b[39;49m\u001b[43mkwargs\u001b[49m\u001b[43m)\u001b[49m\n",
      "File \u001b[0;32m~/.local/lib/python3.11/site-packages/pydantic/_internal/_validate_call.py:111\u001b[0m, in \u001b[0;36mValidateCallWrapper.__call__\u001b[0;34m(self, *args, **kwargs)\u001b[0m\n\u001b[1;32m    110\u001b[0m \u001b[38;5;28;01mdef\u001b[39;00m\u001b[38;5;250m \u001b[39m\u001b[38;5;21m__call__\u001b[39m(\u001b[38;5;28mself\u001b[39m, \u001b[38;5;241m*\u001b[39margs: Any, \u001b[38;5;241m*\u001b[39m\u001b[38;5;241m*\u001b[39mkwargs: Any) \u001b[38;5;241m-\u001b[39m\u001b[38;5;241m>\u001b[39m Any:\n\u001b[0;32m--> 111\u001b[0m     res \u001b[38;5;241m=\u001b[39m \u001b[38;5;28;43mself\u001b[39;49m\u001b[38;5;241;43m.\u001b[39;49m\u001b[43m__pydantic_validator__\u001b[49m\u001b[38;5;241;43m.\u001b[39;49m\u001b[43mvalidate_python\u001b[49m\u001b[43m(\u001b[49m\u001b[43mpydantic_core\u001b[49m\u001b[38;5;241;43m.\u001b[39;49m\u001b[43mArgsKwargs\u001b[49m\u001b[43m(\u001b[49m\u001b[43margs\u001b[49m\u001b[43m,\u001b[49m\u001b[43m \u001b[49m\u001b[43mkwargs\u001b[49m\u001b[43m)\u001b[49m\u001b[43m)\u001b[49m\n\u001b[1;32m    112\u001b[0m     \u001b[38;5;28;01mif\u001b[39;00m \u001b[38;5;28mself\u001b[39m\u001b[38;5;241m.\u001b[39m__return_pydantic_validator__:\n\u001b[1;32m    113\u001b[0m         \u001b[38;5;28;01mreturn\u001b[39;00m \u001b[38;5;28mself\u001b[39m\u001b[38;5;241m.\u001b[39m__return_pydantic_validator__(res)\n",
      "File \u001b[0;32m~/.local/lib/python3.11/site-packages/snowflake/core/cortex/search_service/_generated/api/cortex_search_service_api.py:813\u001b[0m, in \u001b[0;36mCortexSearchServiceApi.query_cortex_search_service\u001b[0;34m(self, database, var_schema, service_name, query_request, **kwargs)\u001b[0m\n\u001b[1;32m    780\u001b[0m \u001b[38;5;250m\u001b[39m\u001b[38;5;124;03m\"\"\"Query a Cortex Search Service.  # noqa: E501.\u001b[39;00m\n\u001b[1;32m    781\u001b[0m \n\u001b[1;32m    782\u001b[0m \u001b[38;5;124;03mQuery a Cortex Search Service to get search results.  # noqa: E501\u001b[39;00m\n\u001b[0;32m   (...)\u001b[0m\n\u001b[1;32m    810\u001b[0m \u001b[38;5;124;03m:rtype: QueryResponse\u001b[39;00m\n\u001b[1;32m    811\u001b[0m \u001b[38;5;124;03m\"\"\"\u001b[39;00m\n\u001b[1;32m    812\u001b[0m kwargs[\u001b[38;5;124m'\u001b[39m\u001b[38;5;124m_return_http_data_only\u001b[39m\u001b[38;5;124m'\u001b[39m] \u001b[38;5;241m=\u001b[39m \u001b[38;5;28;01mTrue\u001b[39;00m\n\u001b[0;32m--> 813\u001b[0m \u001b[38;5;28;01mreturn\u001b[39;00m \u001b[38;5;28;43mself\u001b[39;49m\u001b[38;5;241;43m.\u001b[39;49m\u001b[43mquery_cortex_search_service_with_http_info\u001b[49m\u001b[43m(\u001b[49m\n\u001b[1;32m    814\u001b[0m \u001b[43m    \u001b[49m\u001b[43mdatabase\u001b[49m\u001b[43m,\u001b[49m\u001b[43m \u001b[49m\u001b[43mvar_schema\u001b[49m\u001b[43m,\u001b[49m\u001b[43m \u001b[49m\u001b[43mservice_name\u001b[49m\u001b[43m,\u001b[49m\u001b[43m \u001b[49m\u001b[43mquery_request\u001b[49m\u001b[43m,\u001b[49m\n\u001b[1;32m    815\u001b[0m \u001b[43m    \u001b[49m\u001b[38;5;241;43m*\u001b[39;49m\u001b[38;5;241;43m*\u001b[39;49m\u001b[43mkwargs\u001b[49m\u001b[43m)\u001b[49m\n",
      "File \u001b[0;32m~/.local/lib/python3.11/site-packages/pydantic/_internal/_validate_call.py:38\u001b[0m, in \u001b[0;36mupdate_wrapper_attributes.<locals>.wrapper_function\u001b[0;34m(*args, **kwargs)\u001b[0m\n\u001b[1;32m     36\u001b[0m \u001b[38;5;129m@functools\u001b[39m\u001b[38;5;241m.\u001b[39mwraps(wrapped)\n\u001b[1;32m     37\u001b[0m \u001b[38;5;28;01mdef\u001b[39;00m\u001b[38;5;250m \u001b[39m\u001b[38;5;21mwrapper_function\u001b[39m(\u001b[38;5;241m*\u001b[39margs, \u001b[38;5;241m*\u001b[39m\u001b[38;5;241m*\u001b[39mkwargs):\n\u001b[0;32m---> 38\u001b[0m     \u001b[38;5;28;01mreturn\u001b[39;00m \u001b[43mwrapper\u001b[49m\u001b[43m(\u001b[49m\u001b[38;5;241;43m*\u001b[39;49m\u001b[43margs\u001b[49m\u001b[43m,\u001b[49m\u001b[43m \u001b[49m\u001b[38;5;241;43m*\u001b[39;49m\u001b[38;5;241;43m*\u001b[39;49m\u001b[43mkwargs\u001b[49m\u001b[43m)\u001b[49m\n",
      "File \u001b[0;32m~/.local/lib/python3.11/site-packages/pydantic/_internal/_validate_call.py:111\u001b[0m, in \u001b[0;36mValidateCallWrapper.__call__\u001b[0;34m(self, *args, **kwargs)\u001b[0m\n\u001b[1;32m    110\u001b[0m \u001b[38;5;28;01mdef\u001b[39;00m\u001b[38;5;250m \u001b[39m\u001b[38;5;21m__call__\u001b[39m(\u001b[38;5;28mself\u001b[39m, \u001b[38;5;241m*\u001b[39margs: Any, \u001b[38;5;241m*\u001b[39m\u001b[38;5;241m*\u001b[39mkwargs: Any) \u001b[38;5;241m-\u001b[39m\u001b[38;5;241m>\u001b[39m Any:\n\u001b[0;32m--> 111\u001b[0m     res \u001b[38;5;241m=\u001b[39m \u001b[38;5;28;43mself\u001b[39;49m\u001b[38;5;241;43m.\u001b[39;49m\u001b[43m__pydantic_validator__\u001b[49m\u001b[38;5;241;43m.\u001b[39;49m\u001b[43mvalidate_python\u001b[49m\u001b[43m(\u001b[49m\u001b[43mpydantic_core\u001b[49m\u001b[38;5;241;43m.\u001b[39;49m\u001b[43mArgsKwargs\u001b[49m\u001b[43m(\u001b[49m\u001b[43margs\u001b[49m\u001b[43m,\u001b[49m\u001b[43m \u001b[49m\u001b[43mkwargs\u001b[49m\u001b[43m)\u001b[49m\u001b[43m)\u001b[49m\n\u001b[1;32m    112\u001b[0m     \u001b[38;5;28;01mif\u001b[39;00m \u001b[38;5;28mself\u001b[39m\u001b[38;5;241m.\u001b[39m__return_pydantic_validator__:\n\u001b[1;32m    113\u001b[0m         \u001b[38;5;28;01mreturn\u001b[39;00m \u001b[38;5;28mself\u001b[39m\u001b[38;5;241m.\u001b[39m__return_pydantic_validator__(res)\n",
      "File \u001b[0;32m~/.local/lib/python3.11/site-packages/snowflake/core/cortex/search_service/_generated/api/cortex_search_service_api.py:960\u001b[0m, in \u001b[0;36mCortexSearchServiceApi.query_cortex_search_service_with_http_info\u001b[0;34m(self, database, var_schema, service_name, query_request, **kwargs)\u001b[0m\n\u001b[1;32m    943\u001b[0m _auth_settings \u001b[38;5;241m=\u001b[39m [\u001b[38;5;124m'\u001b[39m\u001b[38;5;124mExternalOAuth\u001b[39m\u001b[38;5;124m'\u001b[39m, \u001b[38;5;124m'\u001b[39m\u001b[38;5;124mKeyPair\u001b[39m\u001b[38;5;124m'\u001b[39m,\n\u001b[1;32m    944\u001b[0m                   \u001b[38;5;124m'\u001b[39m\u001b[38;5;124mSnowflakeOAuth\u001b[39m\u001b[38;5;124m'\u001b[39m]  \u001b[38;5;66;03m# noqa: E501\u001b[39;00m\n\u001b[1;32m    946\u001b[0m _response_types_map \u001b[38;5;241m=\u001b[39m {\n\u001b[1;32m    947\u001b[0m     \u001b[38;5;124m'\u001b[39m\u001b[38;5;124m200\u001b[39m\u001b[38;5;124m'\u001b[39m: \u001b[38;5;124m\"\u001b[39m\u001b[38;5;124mQueryResponse\u001b[39m\u001b[38;5;124m\"\u001b[39m,\n\u001b[1;32m    948\u001b[0m     \u001b[38;5;124m'\u001b[39m\u001b[38;5;124m400\u001b[39m\u001b[38;5;124m'\u001b[39m: \u001b[38;5;124m\"\u001b[39m\u001b[38;5;124mErrorResponse\u001b[39m\u001b[38;5;124m\"\u001b[39m,\n\u001b[0;32m   (...)\u001b[0m\n\u001b[1;32m    957\u001b[0m     \u001b[38;5;124m'\u001b[39m\u001b[38;5;124m504\u001b[39m\u001b[38;5;124m'\u001b[39m: \u001b[38;5;124m\"\u001b[39m\u001b[38;5;124mErrorResponse\u001b[39m\u001b[38;5;124m\"\u001b[39m,\n\u001b[1;32m    958\u001b[0m }\n\u001b[0;32m--> 960\u001b[0m \u001b[38;5;28;01mreturn\u001b[39;00m \u001b[38;5;28;43mself\u001b[39;49m\u001b[38;5;241;43m.\u001b[39;49m\u001b[43mapi_client\u001b[49m\u001b[38;5;241;43m.\u001b[39;49m\u001b[43mcall_api\u001b[49m\u001b[43m(\u001b[49m\n\u001b[1;32m    961\u001b[0m \u001b[43m    \u001b[49m\u001b[38;5;28;43mself\u001b[39;49m\u001b[38;5;241;43m.\u001b[39;49m\u001b[43m_root\u001b[49m\u001b[43m,\u001b[49m\n\u001b[1;32m    962\u001b[0m \u001b[43m    \u001b[49m\u001b[38;5;124;43m'\u001b[39;49m\u001b[38;5;124;43m/api/v2/databases/\u001b[39;49m\u001b[38;5;132;43;01m{database}\u001b[39;49;00m\u001b[38;5;124;43m/schemas/\u001b[39;49m\u001b[38;5;132;43;01m{schema}\u001b[39;49;00m\u001b[38;5;124;43m/cortex-search-services/\u001b[39;49m\u001b[38;5;132;43;01m{service_name}\u001b[39;49;00m\u001b[38;5;124;43m:query\u001b[39;49m\u001b[38;5;124;43m'\u001b[39;49m\u001b[43m,\u001b[49m\n\u001b[1;32m    963\u001b[0m \u001b[43m    \u001b[49m\u001b[38;5;124;43m'\u001b[39;49m\u001b[38;5;124;43mPOST\u001b[39;49m\u001b[38;5;124;43m'\u001b[39;49m\u001b[43m,\u001b[49m\n\u001b[1;32m    964\u001b[0m \u001b[43m    \u001b[49m\u001b[43m_path_params\u001b[49m\u001b[43m,\u001b[49m\n\u001b[1;32m    965\u001b[0m \u001b[43m    \u001b[49m\u001b[43m_query_params\u001b[49m\u001b[43m,\u001b[49m\n\u001b[1;32m    966\u001b[0m \u001b[43m    \u001b[49m\u001b[43m_header_params\u001b[49m\u001b[43m,\u001b[49m\n\u001b[1;32m    967\u001b[0m \u001b[43m    \u001b[49m\u001b[43mbody\u001b[49m\u001b[38;5;241;43m=\u001b[39;49m\u001b[43m_body_params\u001b[49m\u001b[43m,\u001b[49m\n\u001b[1;32m    968\u001b[0m \u001b[43m    \u001b[49m\u001b[43mpost_params\u001b[49m\u001b[38;5;241;43m=\u001b[39;49m\u001b[43m_form_params\u001b[49m\u001b[43m,\u001b[49m\n\u001b[1;32m    969\u001b[0m \u001b[43m    \u001b[49m\u001b[43mfiles\u001b[49m\u001b[38;5;241;43m=\u001b[39;49m\u001b[43m_files\u001b[49m\u001b[43m,\u001b[49m\n\u001b[1;32m    970\u001b[0m \u001b[43m    \u001b[49m\u001b[43mresponse_types_map\u001b[49m\u001b[38;5;241;43m=\u001b[39;49m\u001b[43m_response_types_map\u001b[49m\u001b[43m,\u001b[49m\n\u001b[1;32m    971\u001b[0m \u001b[43m    \u001b[49m\u001b[43mauth_settings\u001b[49m\u001b[38;5;241;43m=\u001b[39;49m\u001b[43m_auth_settings\u001b[49m\u001b[43m,\u001b[49m\n\u001b[1;32m    972\u001b[0m \u001b[43m    \u001b[49m\u001b[43masync_req\u001b[49m\u001b[38;5;241;43m=\u001b[39;49m\u001b[43m_params\u001b[49m\u001b[38;5;241;43m.\u001b[39;49m\u001b[43mget\u001b[49m\u001b[43m(\u001b[49m\u001b[38;5;124;43m'\u001b[39;49m\u001b[38;5;124;43masync_req\u001b[39;49m\u001b[38;5;124;43m'\u001b[39;49m\u001b[43m)\u001b[49m\u001b[43m,\u001b[49m\n\u001b[1;32m    973\u001b[0m \u001b[43m    \u001b[49m\u001b[43m_return_http_data_only\u001b[49m\u001b[38;5;241;43m=\u001b[39;49m\u001b[43m_params\u001b[49m\u001b[38;5;241;43m.\u001b[39;49m\u001b[43mget\u001b[49m\u001b[43m(\u001b[49m\n\u001b[1;32m    974\u001b[0m \u001b[43m        \u001b[49m\u001b[38;5;124;43m'\u001b[39;49m\u001b[38;5;124;43m_return_http_data_only\u001b[39;49m\u001b[38;5;124;43m'\u001b[39;49m\u001b[43m)\u001b[49m\u001b[43m,\u001b[49m\u001b[43m  \u001b[49m\u001b[38;5;66;43;03m# noqa: E501\u001b[39;49;00m\n\u001b[1;32m    975\u001b[0m \u001b[43m    \u001b[49m\u001b[43m_preload_content\u001b[49m\u001b[38;5;241;43m=\u001b[39;49m\u001b[43m_params\u001b[49m\u001b[38;5;241;43m.\u001b[39;49m\u001b[43mget\u001b[49m\u001b[43m(\u001b[49m\u001b[38;5;124;43m'\u001b[39;49m\u001b[38;5;124;43m_preload_content\u001b[39;49m\u001b[38;5;124;43m'\u001b[39;49m\u001b[43m,\u001b[49m\u001b[43m \u001b[49m\u001b[38;5;28;43;01mTrue\u001b[39;49;00m\u001b[43m)\u001b[49m\u001b[43m,\u001b[49m\n\u001b[1;32m    976\u001b[0m \u001b[43m    \u001b[49m\u001b[43m_request_timeout\u001b[49m\u001b[38;5;241;43m=\u001b[39;49m\u001b[43m_params\u001b[49m\u001b[38;5;241;43m.\u001b[39;49m\u001b[43mget\u001b[49m\u001b[43m(\u001b[49m\u001b[38;5;124;43m'\u001b[39;49m\u001b[38;5;124;43m_request_timeout\u001b[39;49m\u001b[38;5;124;43m'\u001b[39;49m\u001b[43m)\u001b[49m\u001b[43m,\u001b[49m\n\u001b[1;32m    977\u001b[0m \u001b[43m    \u001b[49m\u001b[43mcollection_formats\u001b[49m\u001b[38;5;241;43m=\u001b[39;49m\u001b[43m_collection_formats\u001b[49m\u001b[43m,\u001b[49m\n\u001b[1;32m    978\u001b[0m \u001b[43m    \u001b[49m\u001b[43m_request_auth\u001b[49m\u001b[38;5;241;43m=\u001b[39;49m\u001b[43m_params\u001b[49m\u001b[38;5;241;43m.\u001b[39;49m\u001b[43mget\u001b[49m\u001b[43m(\u001b[49m\u001b[38;5;124;43m'\u001b[39;49m\u001b[38;5;124;43m_request_auth\u001b[39;49m\u001b[38;5;124;43m'\u001b[39;49m\u001b[43m)\u001b[49m\u001b[43m)\u001b[49m\n",
      "File \u001b[0;32m~/.local/lib/python3.11/site-packages/snowflake/core/cortex/search_service/_generated/api_client.py:472\u001b[0m, in \u001b[0;36mApiClient.call_api\u001b[0;34m(self, root, resource_path, method, path_params, query_params, header_params, body, post_params, files, response_types_map, auth_settings, async_req, _return_http_data_only, collection_formats, _preload_content, _request_timeout, _host, _request_auth)\u001b[0m\n\u001b[1;32m    464\u001b[0m logger\u001b[38;5;241m.\u001b[39mdebug(\n\u001b[1;32m    465\u001b[0m     \u001b[38;5;124m\"\u001b[39m\u001b[38;5;124mrequest has path params: \u001b[39m\u001b[38;5;132;01m%r\u001b[39;00m\u001b[38;5;124m, query_params: \u001b[39m\u001b[38;5;132;01m%r\u001b[39;00m\u001b[38;5;124m, header params: \u001b[39m\u001b[38;5;132;01m%r\u001b[39;00m\u001b[38;5;124m and body: \u001b[39m\u001b[38;5;132;01m%r\u001b[39;00m\u001b[38;5;124m\"\u001b[39m,\n\u001b[1;32m    466\u001b[0m     path_params,\n\u001b[0;32m   (...)\u001b[0m\n\u001b[1;32m    469\u001b[0m     body,\n\u001b[1;32m    470\u001b[0m )\n\u001b[1;32m    471\u001b[0m \u001b[38;5;28;01mif\u001b[39;00m \u001b[38;5;129;01mnot\u001b[39;00m async_req:\n\u001b[0;32m--> 472\u001b[0m     \u001b[38;5;28;01mreturn\u001b[39;00m \u001b[38;5;28;43mself\u001b[39;49m\u001b[38;5;241;43m.\u001b[39;49m\u001b[43m__call_api\u001b[49m\u001b[43m(\u001b[49m\n\u001b[1;32m    473\u001b[0m \u001b[43m        \u001b[49m\u001b[43mroot\u001b[49m\u001b[43m,\u001b[49m\n\u001b[1;32m    474\u001b[0m \u001b[43m        \u001b[49m\u001b[43mresource_path\u001b[49m\u001b[43m,\u001b[49m\n\u001b[1;32m    475\u001b[0m \u001b[43m        \u001b[49m\u001b[43mmethod\u001b[49m\u001b[43m,\u001b[49m\n\u001b[1;32m    476\u001b[0m \u001b[43m        \u001b[49m\u001b[43mpath_params\u001b[49m\u001b[43m,\u001b[49m\n\u001b[1;32m    477\u001b[0m \u001b[43m        \u001b[49m\u001b[43mquery_params\u001b[49m\u001b[43m,\u001b[49m\n\u001b[1;32m    478\u001b[0m \u001b[43m        \u001b[49m\u001b[43mheader_params\u001b[49m\u001b[43m,\u001b[49m\n\u001b[1;32m    479\u001b[0m \u001b[43m        \u001b[49m\u001b[43mbody\u001b[49m\u001b[43m,\u001b[49m\n\u001b[1;32m    480\u001b[0m \u001b[43m        \u001b[49m\u001b[43mpost_params\u001b[49m\u001b[43m,\u001b[49m\n\u001b[1;32m    481\u001b[0m \u001b[43m        \u001b[49m\u001b[43mfiles\u001b[49m\u001b[43m,\u001b[49m\n\u001b[1;32m    482\u001b[0m \u001b[43m        \u001b[49m\u001b[43mresponse_types_map\u001b[49m\u001b[43m,\u001b[49m\n\u001b[1;32m    483\u001b[0m \u001b[43m        \u001b[49m\u001b[43mauth_settings\u001b[49m\u001b[43m,\u001b[49m\n\u001b[1;32m    484\u001b[0m \u001b[43m        \u001b[49m\u001b[43m_return_http_data_only\u001b[49m\u001b[43m,\u001b[49m\n\u001b[1;32m    485\u001b[0m \u001b[43m        \u001b[49m\u001b[43mcollection_formats\u001b[49m\u001b[43m,\u001b[49m\n\u001b[1;32m    486\u001b[0m \u001b[43m        \u001b[49m\u001b[43m_preload_content\u001b[49m\u001b[43m,\u001b[49m\n\u001b[1;32m    487\u001b[0m \u001b[43m        \u001b[49m\u001b[43m_request_timeout\u001b[49m\u001b[43m,\u001b[49m\n\u001b[1;32m    488\u001b[0m \u001b[43m        \u001b[49m\u001b[43m_host\u001b[49m\u001b[43m,\u001b[49m\n\u001b[1;32m    489\u001b[0m \u001b[43m        \u001b[49m\u001b[43m_request_auth\u001b[49m\u001b[43m,\u001b[49m\n\u001b[1;32m    490\u001b[0m \u001b[43m    \u001b[49m\u001b[43m)\u001b[49m\n\u001b[1;32m    492\u001b[0m \u001b[38;5;28;01mreturn\u001b[39;00m \u001b[38;5;28mself\u001b[39m\u001b[38;5;241m.\u001b[39mpool\u001b[38;5;241m.\u001b[39mapply_async(\u001b[38;5;28mself\u001b[39m\u001b[38;5;241m.\u001b[39m__call_api, (\n\u001b[1;32m    493\u001b[0m     root,\n\u001b[1;32m    494\u001b[0m     resource_path,\n\u001b[0;32m   (...)\u001b[0m\n\u001b[1;32m    509\u001b[0m     _request_auth,\n\u001b[1;32m    510\u001b[0m ))\n",
      "File \u001b[0;32m~/.local/lib/python3.11/site-packages/snowflake/core/cortex/search_service/_generated/api_client.py:243\u001b[0m, in \u001b[0;36mApiClient.__call_api\u001b[0;34m(self, root, resource_path, method, path_params, query_params, header_params, body, post_params, files, response_types_map, auth_settings, _return_http_data_only, collection_formats, _preload_content, _request_timeout, _host, _request_auth)\u001b[0m\n\u001b[1;32m    239\u001b[0m     url \u001b[38;5;241m+\u001b[39m\u001b[38;5;241m=\u001b[39m \u001b[38;5;124m\"\u001b[39m\u001b[38;5;124m?\u001b[39m\u001b[38;5;124m\"\u001b[39m \u001b[38;5;241m+\u001b[39m url_query\n\u001b[1;32m    241\u001b[0m \u001b[38;5;28;01mtry\u001b[39;00m:\n\u001b[1;32m    242\u001b[0m     \u001b[38;5;66;03m# perform request and return response, maybe with retry\u001b[39;00m\n\u001b[0;32m--> 243\u001b[0m     response_data \u001b[38;5;241m=\u001b[39m \u001b[38;5;28;43mself\u001b[39;49m\u001b[38;5;241;43m.\u001b[39;49m\u001b[43mrequest_with_retry\u001b[49m\u001b[43m(\u001b[49m\n\u001b[1;32m    244\u001b[0m \u001b[43m        \u001b[49m\u001b[43mroot\u001b[49m\u001b[43m,\u001b[49m\n\u001b[1;32m    245\u001b[0m \u001b[43m        \u001b[49m\u001b[43mmethod\u001b[49m\u001b[43m,\u001b[49m\n\u001b[1;32m    246\u001b[0m \u001b[43m        \u001b[49m\u001b[43murl\u001b[49m\u001b[43m,\u001b[49m\n\u001b[1;32m    247\u001b[0m \u001b[43m        \u001b[49m\u001b[43mquery_params\u001b[49m\u001b[38;5;241;43m=\u001b[39;49m\u001b[43mquery_params\u001b[49m\u001b[43m,\u001b[49m\n\u001b[1;32m    248\u001b[0m \u001b[43m        \u001b[49m\u001b[43mheaders\u001b[49m\u001b[38;5;241;43m=\u001b[39;49m\u001b[43mheader_params\u001b[49m\u001b[43m,\u001b[49m\n\u001b[1;32m    249\u001b[0m \u001b[43m        \u001b[49m\u001b[43mpost_params\u001b[49m\u001b[38;5;241;43m=\u001b[39;49m\u001b[43mpost_params\u001b[49m\u001b[43m,\u001b[49m\n\u001b[1;32m    250\u001b[0m \u001b[43m        \u001b[49m\u001b[43mbody\u001b[49m\u001b[38;5;241;43m=\u001b[39;49m\u001b[43mbody\u001b[49m\u001b[43m,\u001b[49m\n\u001b[1;32m    251\u001b[0m \u001b[43m        \u001b[49m\u001b[43m_preload_content\u001b[49m\u001b[38;5;241;43m=\u001b[39;49m\u001b[43m_preload_content\u001b[49m\u001b[43m,\u001b[49m\n\u001b[1;32m    252\u001b[0m \u001b[43m        \u001b[49m\u001b[43m_request_timeout\u001b[49m\u001b[38;5;241;43m=\u001b[39;49m\u001b[43m_request_timeout\u001b[49m\u001b[43m)\u001b[49m\n\u001b[1;32m    253\u001b[0m \u001b[38;5;28;01mexcept\u001b[39;00m APIError \u001b[38;5;28;01mas\u001b[39;00m e:\n\u001b[1;32m    254\u001b[0m     \u001b[38;5;28;01mif\u001b[39;00m e\u001b[38;5;241m.\u001b[39mbody:\n",
      "File \u001b[0;32m~/.local/lib/python3.11/site-packages/snowflake/core/cortex/search_service/_generated/api_client.py:571\u001b[0m, in \u001b[0;36mApiClient.request_with_retry\u001b[0;34m(self, root, method, url, query_params, headers, post_params, body, _preload_content, _request_timeout)\u001b[0m\n\u001b[1;32m    566\u001b[0m \u001b[38;5;28;01mif\u001b[39;00m response_data\u001b[38;5;241m.\u001b[39mstatus \u001b[38;5;129;01min\u001b[39;00m rest\u001b[38;5;241m.\u001b[39mRETRY_STATUS_CODES:\n\u001b[1;32m    567\u001b[0m     logger\u001b[38;5;241m.\u001b[39minfo(\n\u001b[1;32m    568\u001b[0m         \u001b[38;5;124mf\u001b[39m\u001b[38;5;124m\"\u001b[39m\u001b[38;5;132;01m{\u001b[39;00msnowflake\u001b[38;5;241m.\u001b[39mcore\u001b[38;5;241m.\u001b[39m_http_requests\u001b[38;5;241m.\u001b[39mSTATUS_CODES_MAPPING\u001b[38;5;241m.\u001b[39mget(response_data\u001b[38;5;241m.\u001b[39mstatus)\u001b[38;5;132;01m}\u001b[39;00m\u001b[38;5;124m detected. Sleeping for \u001b[39m\u001b[38;5;132;01m{\u001b[39;00mwait_time\u001b[38;5;132;01m}\u001b[39;00m\u001b[38;5;124m seconds before checking again\u001b[39m\u001b[38;5;124m\"\u001b[39m\n\u001b[1;32m    569\u001b[0m     )\n\u001b[0;32m--> 571\u001b[0m     time\u001b[38;5;241m.\u001b[39msleep(wait_time)\n\u001b[1;32m    573\u001b[0m     new_url \u001b[38;5;241m=\u001b[39m url\n\u001b[1;32m    574\u001b[0m     \u001b[38;5;28;01mif\u001b[39;00m response_data\u001b[38;5;241m.\u001b[39mstatus \u001b[38;5;241m==\u001b[39m \u001b[38;5;241m202\u001b[39m:\n",
      "\u001b[0;31mKeyboardInterrupt\u001b[0m: "
     ]
    }
   ],
   "source": [
    "t = myrag.query(\"How to make pina colada\")\n",
    "print(t)"
   ]
  },
  {
   "cell_type": "code",
   "execution_count": 67,
   "metadata": {},
   "outputs": [],
   "source": [
    "x = myrag.generate_completion(query=\"How to make pina colada\", context_str=\"He wants to know a recipe\")"
   ]
  },
  {
   "cell_type": "code",
   "execution_count": 68,
   "metadata": {},
   "outputs": [
    {
     "data": {
      "text/plain": [
       "{'response': \" Sure, I have a couple of Pina Colada recipes for you!\\n\\n        1. Classic Pina Colada\\n        2. Virgin Pina Colada\\n        3. Pina Colada Smoothie\\n\\n        Could you please tell me which one you'd like to know more about?\"}"
      ]
     },
     "execution_count": 68,
     "metadata": {},
     "output_type": "execute_result"
    }
   ],
   "source": [
    "x"
   ]
  },
  {
   "cell_type": "code",
   "execution_count": 45,
   "metadata": {},
   "outputs": [
    {
     "name": "stdout",
     "output_type": "stream",
     "text": [
      " Sure, I have a great recipe for Pina Colada Smoothie! Here are the details:\n",
      "\n",
      "        Recipe Name: Pina Colada Smoothie\n",
      "        Quantities (for 1 person):\n",
      "        - Pineapple: 1/2 cup\n",
      "        - Coconut milk: 1/2 cup\n",
      "        - Banana: 1/2\n",
      "        Cooking Time: 2 minutes\n",
      "        Steps: Blend pineapple, coconut milk, and banana until smooth. Serve chilled.\n",
      "        Cuisine: General\n",
      "        General Diet Type: Vegan\n",
      "\n",
      "        Would you like to know about any other Juices recipes?\n"
     ]
    }
   ],
   "source": [
    "print(myrag.query(\"How to make pina colada\"))"
   ]
  },
  {
   "cell_type": "code",
   "execution_count": 18,
   "metadata": {},
   "outputs": [
    {
     "ename": "TypeError",
     "evalue": "Lens.get() missing 1 required positional argument: 'obj'",
     "output_type": "error",
     "traceback": [
      "\u001b[0;31m---------------------------------------------------------------------------\u001b[0m",
      "\u001b[0;31mTypeError\u001b[0m                                 Traceback (most recent call last)",
      "Cell \u001b[0;32mIn[18], line 2\u001b[0m\n\u001b[1;32m      1\u001b[0m context \u001b[38;5;241m=\u001b[39m Select\u001b[38;5;241m.\u001b[39mRecordCalls\u001b[38;5;241m.\u001b[39mretrieve\u001b[38;5;241m.\u001b[39mrets\u001b[38;5;241m.\u001b[39mrets[:]\n\u001b[0;32m----> 2\u001b[0m \u001b[43mcontext\u001b[49m\u001b[38;5;241;43m.\u001b[39;49m\u001b[43mget\u001b[49m\u001b[43m(\u001b[49m\u001b[43m)\u001b[49m\n",
      "\u001b[0;31mTypeError\u001b[0m: Lens.get() missing 1 required positional argument: 'obj'"
     ]
    }
   ],
   "source": [
    "context = Select.RecordCalls.retrieve.rets.rets[:]\n",
    "context.get()"
   ]
  },
  {
   "cell_type": "code",
   "execution_count": null,
   "metadata": {},
   "outputs": [],
   "source": []
  },
  {
   "cell_type": "code",
   "execution_count": null,
   "metadata": {},
   "outputs": [
    {
     "name": "stderr",
     "output_type": "stream",
     "text": [
      "Could not find an instance of DummyEndpoint. trulens will create an endpoint for cost tracking.\n"
     ]
    },
    {
     "name": "stdout",
     "output_type": "stream",
     "text": [
      "calling <function ragclass.query at 0x7a2742edc040> with (<__main__.ragclass object at 0x7a2742ee02d0>, 'How to make pina colada')\n",
      "calling <function ragclass.retrieve at 0x7a2742ec3d80> with (<__main__.ragclass object at 0x7a2742ee02d0>,)\n"
     ]
    },
    {
     "name": "stdout",
     "output_type": "stream",
     "text": [
      "calling <function ragclass.generate_completion at 0x7a2742ec3f60> with (<__main__.ragclass object at 0x7a2742ee02d0>,)\n"
     ]
    },
    {
     "name": "stderr",
     "output_type": "stream",
     "text": [
      "/tmp/ipykernel_840/3177399192.py:56: DeprecationWarning: Complete() is deprecated and will be removed in a future release. Use complete() instead\n",
      "  return Complete(\"mistral-large2\", prompt)\n"
     ]
    },
    {
     "name": "stderr",
     "output_type": "stream",
     "text": [
      "/home/vscode/.local/lib/python3.11/site-packages/trulens/feedback/llm_provider.py:1521: UserWarning: Failed to process and remove trivial statements. Proceeding with all statements.\n",
      "  warnings.warn(\n"
     ]
    }
   ],
   "source": [
    "with tru_rag as recording:\n",
    "    myrag.query(\"How to make pina colada\")"
   ]
  },
  {
   "cell_type": "code",
   "execution_count": 16,
   "metadata": {},
   "outputs": [
    {
     "data": {
      "text/html": [
       "<div>\n",
       "<style scoped>\n",
       "    .dataframe tbody tr th:only-of-type {\n",
       "        vertical-align: middle;\n",
       "    }\n",
       "\n",
       "    .dataframe tbody tr th {\n",
       "        vertical-align: top;\n",
       "    }\n",
       "\n",
       "    .dataframe thead th {\n",
       "        text-align: right;\n",
       "    }\n",
       "</style>\n",
       "<table border=\"1\" class=\"dataframe\">\n",
       "  <thead>\n",
       "    <tr style=\"text-align: right;\">\n",
       "      <th></th>\n",
       "      <th></th>\n",
       "      <th>Answer Relevance</th>\n",
       "      <th>Context Relevance</th>\n",
       "      <th>Groundedness</th>\n",
       "      <th>latency</th>\n",
       "      <th>total_cost</th>\n",
       "    </tr>\n",
       "    <tr>\n",
       "      <th>app_name</th>\n",
       "      <th>app_version</th>\n",
       "      <th></th>\n",
       "      <th></th>\n",
       "      <th></th>\n",
       "      <th></th>\n",
       "      <th></th>\n",
       "    </tr>\n",
       "  </thead>\n",
       "  <tbody>\n",
       "    <tr>\n",
       "      <th>rag-documentation</th>\n",
       "      <th>base</th>\n",
       "      <td>0.333333</td>\n",
       "      <td>0.666667</td>\n",
       "      <td>0.5</td>\n",
       "      <td>3.362791</td>\n",
       "      <td>0.213734</td>\n",
       "    </tr>\n",
       "    <tr>\n",
       "      <th>RAG</th>\n",
       "      <th>simple</th>\n",
       "      <td>NaN</td>\n",
       "      <td>0.333333</td>\n",
       "      <td>NaN</td>\n",
       "      <td>0.609406</td>\n",
       "      <td>0.000000</td>\n",
       "    </tr>\n",
       "    <tr>\n",
       "      <th>My Retriever</th>\n",
       "      <th>base</th>\n",
       "      <td>NaN</td>\n",
       "      <td>0.166667</td>\n",
       "      <td>NaN</td>\n",
       "      <td>0.564138</td>\n",
       "      <td>0.000000</td>\n",
       "    </tr>\n",
       "    <tr>\n",
       "      <th>FOMC Retriever</th>\n",
       "      <th>base</th>\n",
       "      <td>NaN</td>\n",
       "      <td>0.000000</td>\n",
       "      <td>NaN</td>\n",
       "      <td>1.133732</td>\n",
       "      <td>0.000000</td>\n",
       "    </tr>\n",
       "  </tbody>\n",
       "</table>\n",
       "</div>"
      ],
      "text/plain": [
       "                               Answer Relevance  Context Relevance  \\\n",
       "app_name          app_version                                        \n",
       "rag-documentation base                 0.333333           0.666667   \n",
       "RAG               simple                    NaN           0.333333   \n",
       "My Retriever      base                      NaN           0.166667   \n",
       "FOMC Retriever    base                      NaN           0.000000   \n",
       "\n",
       "                               Groundedness   latency  total_cost  \n",
       "app_name          app_version                                      \n",
       "rag-documentation base                  0.5  3.362791    0.213734  \n",
       "RAG               simple                NaN  0.609406    0.000000  \n",
       "My Retriever      base                  NaN  0.564138    0.000000  \n",
       "FOMC Retriever    base                  NaN  1.133732    0.000000  "
      ]
     },
     "execution_count": 16,
     "metadata": {},
     "output_type": "execute_result"
    }
   ],
   "source": [
    "tru_session.get_leaderboard(app_ids=[])"
   ]
  },
  {
   "cell_type": "code",
   "execution_count": 18,
   "metadata": {},
   "outputs": [
    {
     "name": "stdout",
     "output_type": "stream",
     "text": [
      "Starting dashboard ...\n"
     ]
    },
    {
     "data": {
      "application/vnd.jupyter.widget-view+json": {
       "model_id": "9f7211ae9c17420380b51b65e552ceec",
       "version_major": 2,
       "version_minor": 0
      },
      "text/plain": [
       "Accordion(children=(VBox(children=(VBox(children=(Label(value='STDOUT'), Output())), VBox(children=(Label(valu…"
      ]
     },
     "metadata": {},
     "output_type": "display_data"
    },
    {
     "name": "stdout",
     "output_type": "stream",
     "text": [
      "Dashboard started at http://10.0.1.18:56687 .\n"
     ]
    },
    {
     "data": {
      "text/plain": [
       "<Popen: returncode: None args: ['streamlit', 'run', '--server.headless=True'...>"
      ]
     },
     "execution_count": 18,
     "metadata": {},
     "output_type": "execute_result"
    }
   ],
   "source": [
    "from trulens.dashboard import run_dashboard\n",
    "\n",
    "run_dashboard(tru_session)"
   ]
  },
  {
   "cell_type": "code",
   "execution_count": 40,
   "metadata": {},
   "outputs": [
    {
     "name": "stdout",
     "output_type": "stream",
     "text": [
      "calling <function ragclass.query at 0x77c027741080> with (<__main__.ragclass object at 0x77c02d9374d0>, 'How to make chocolate milk?')\n",
      "calling <function ragclass.retrieve at 0x77c027741d00> with (<__main__.ragclass object at 0x77c02d9374d0>,)\n",
      "{'results': [{'chunk': 'milk, and melted butter in a microwave-safe mug. Sprinkle chocolate chips on top. Microwave for 1-2 minutes until cooked. Serve warm. Cuisine: General Diet Type: Vegetarian  \\\\nRecipe ID: 1539 Recipe Name: Caramelized Banana Ingredients: Banana, brown sugar, butter Quantities (for 1 person): Banana: 1 (sliced lengthwise), brown sugar: 1 tsp, butter: 1/2 tsp Cooking Time: 10 minutes Steps: Heat butter in a pan, sprinkle brown sugar, and place banana slices. Cook until caramelized. Serve warm. Cuisine: General Diet Type: Vegetarian  \\\\nRecipe ID: 1540 Recipe Name: Strawberry Cream Cup Ingredients: Fresh strawberries, whipped cream, sugar Quantities (for 1 person): Strawberries: 1/2 cup (sliced), whipped cream: 1/4 cup, sugar: 1 tsp Cooking Time: 5 minutes Steps: Layer sliced strawberries and whipped cream in a cup. Sprinkle sugar on top. Serve chilled. Cuisine: General Diet Type: Vegetarian  \\\\nRecipe ID: 1541 Recipe Name: Mango Coconut Bowl Ingredients: Fresh mango, coconut milk, shredded', 'category': 'Desserts', 'relative_path': 'dessert.pdf'}, {'chunk': '{\"content\":\"  \\\\nRecipe ID: 1531 Recipe Name: Chocolate Mug Cake Ingredients: All-purpose flour, cocoa powder, sugar, milk, vegetable oil, baking powder Quantities (for 1 person): All-purpose flour: 4 tbsp, cocoa powder: 2 tbsp, sugar: 2 tbsp, milk: 3 tbsp, vegetable oil: 1 tbsp, baking powder: 1/4 tsp Cooking Time: 5 minutes Steps: In a microwave-safe mug, mix flour, cocoa powder, sugar, and baking powder. Add milk and oil, stir until smooth. Microwave for 1 minute or until the cake is set. Serve warm. Cuisine: General Diet Type: Vegetarian  \\\\nRecipe ID: 1532 Recipe Name: Vanilla Yogurt Parfait Ingredients: Vanilla yogurt, granola, fresh berries (strawberries, blueberries) Quantities (for 1 person): Vanilla yogurt: 1 cup, granola: 2 tbsp, fresh berries: 1/2 cup Cooking Time: 5 minutes Steps: Layer vanilla yogurt, granola, and berries in a cup. Repeat layers and serve chilled. Cuisine: General Diet Type: Vegetarian  \\\\nRecipe ID: 1533 Recipe Name: Banana Ice Cream Ingredients: Bananas', 'category': 'Desserts', 'relative_path': 'dessert.pdf'}, {'chunk': 'Avocado, cocoa powder, almond milk, maple syrup Quantities (for 1 person): Avocado: 1/2, cocoa powder: 1 tbsp, almond milk: 2 tbsp, maple syrup: 1 tsp  \\\\nCooking Time: 5 minutes Steps: Blend all ingredients until smooth. Chill for 1 hour before serving. Cuisine: General Diet Type: Vegan  \\\\nRecipe ID: 1909 Recipe Name: Coconut Milk Pudding Ingredients: Coconut milk, cornstarch, vanilla extract, maple syrup Quantities (for 1 person): Coconut milk: 1/2 cup, cornstarch: 1 tsp, vanilla extract: 1/4 tsp, maple syrup: 1 tsp Cooking Time: 10 minutes Steps: Mix all ingredients and cook over medium heat, stirring constantly until it thickens. Chill for 2 hours. Cuisine: General Diet Type: Vegan  \\\\nRecipe ID: 1910 Recipe Name: Banana Ice Cream Ingredients: Banana, vanilla extract, almond milk Quantities (for 1 person): Banana: 1, vanilla extract: 1/4 tsp, almond milk: 2 tbsp Cooking Time: 5 minutes (plus freezing time) Steps: Blend banana, vanilla extract, and almond milk. Freeze for 3-4 hours,', 'relative_path': 'dessert.pdf', 'category': 'Desserts'}], 'request_id': 'f3f4774b-d4ba-4215-9f7b-2f2daf85fd89'} \n",
      "--------------------\n",
      "{'dessert.pdf'}\n",
      "calling <function ragclass.generate_completion at 0x77c027743e20> with (<__main__.ragclass object at 0x77c02d9374d0>,)\n"
     ]
    },
    {
     "name": "stderr",
     "output_type": "stream",
     "text": [
      "Error occurred while parsing response: Expecting value: line 1 column 2 (char 1)\n",
      "Error occurred while parsing response: Expecting value: line 1 column 2 (char 1)\n",
      "Error calling wrapped function generate_completion.\n",
      "json.decoder.JSONDecodeError: Expecting value: line 1 column 2 (char 1)\n",
      "\n",
      "Error calling wrapped function query.\n",
      "json.decoder.JSONDecodeError: Expecting value: line 1 column 2 (char 1)\n",
      "\n"
     ]
    },
    {
     "ename": "JSONDecodeError",
     "evalue": "Expecting value: line 1 column 2 (char 1)",
     "output_type": "error",
     "traceback": [
      "\u001b[0;31m---------------------------------------------------------------------------\u001b[0m",
      "\u001b[0;31mJSONDecodeError\u001b[0m                           Traceback (most recent call last)",
      "Cell \u001b[0;32mIn[40], line 1\u001b[0m\n\u001b[0;32m----> 1\u001b[0m \u001b[38;5;28;43;01mwith\u001b[39;49;00m\u001b[43m \u001b[49m\u001b[43mtru_rag\u001b[49m\u001b[43m \u001b[49m\u001b[38;5;28;43;01mas\u001b[39;49;00m\u001b[43m \u001b[49m\u001b[43mrecording\u001b[49m\u001b[43m:\u001b[49m\n\u001b[1;32m      2\u001b[0m \u001b[43m    \u001b[49m\u001b[43mmyrag\u001b[49m\u001b[38;5;241;43m.\u001b[39;49m\u001b[43mquery\u001b[49m\u001b[43m(\u001b[49m\n\u001b[1;32m      3\u001b[0m \u001b[43m        \u001b[49m\u001b[38;5;124;43m\"\u001b[39;49m\u001b[38;5;124;43mHow to make chocolate milk?\u001b[39;49m\u001b[38;5;124;43m\"\u001b[39;49m\n\u001b[1;32m      4\u001b[0m \u001b[43m    \u001b[49m\u001b[43m)\u001b[49m\n\u001b[1;32m      5\u001b[0m \u001b[43m    \u001b[49m\u001b[43mmyrag\u001b[49m\u001b[38;5;241;43m.\u001b[39;49m\u001b[43mquery\u001b[49m\u001b[43m(\u001b[49m\n\u001b[1;32m      6\u001b[0m \u001b[43m        \u001b[49m\u001b[38;5;124;43m\"\u001b[39;49m\u001b[38;5;124;43mHow to make pina colada\u001b[39;49m\u001b[38;5;124;43m\"\u001b[39;49m\n\u001b[1;32m      7\u001b[0m \u001b[43m    \u001b[49m\u001b[43m)\u001b[49m\n",
      "File \u001b[0;32m~/.local/lib/python3.11/site-packages/trulens/core/app.py:1079\u001b[0m, in \u001b[0;36mApp.__exit__\u001b[0;34m(self, exc_type, exc_value, exc_tb)\u001b[0m\n\u001b[1;32m   1076\u001b[0m \u001b[38;5;66;03m# self._reset_context_vars()\u001b[39;00m\n\u001b[1;32m   1078\u001b[0m \u001b[38;5;28;01mif\u001b[39;00m exc_type \u001b[38;5;129;01mis\u001b[39;00m \u001b[38;5;129;01mnot\u001b[39;00m \u001b[38;5;28;01mNone\u001b[39;00m:\n\u001b[0;32m-> 1079\u001b[0m     \u001b[38;5;28;01mraise\u001b[39;00m exc_value\n\u001b[1;32m   1081\u001b[0m \u001b[38;5;28;01mreturn\u001b[39;00m\n",
      "Cell \u001b[0;32mIn[40], line 2\u001b[0m\n\u001b[1;32m      1\u001b[0m \u001b[38;5;28;01mwith\u001b[39;00m tru_rag \u001b[38;5;28;01mas\u001b[39;00m recording:\n\u001b[0;32m----> 2\u001b[0m     \u001b[43mmyrag\u001b[49m\u001b[38;5;241;43m.\u001b[39;49m\u001b[43mquery\u001b[49m\u001b[43m(\u001b[49m\n\u001b[1;32m      3\u001b[0m \u001b[43m        \u001b[49m\u001b[38;5;124;43m\"\u001b[39;49m\u001b[38;5;124;43mHow to make chocolate milk?\u001b[39;49m\u001b[38;5;124;43m\"\u001b[39;49m\n\u001b[1;32m      4\u001b[0m \u001b[43m    \u001b[49m\u001b[43m)\u001b[49m\n\u001b[1;32m      5\u001b[0m     myrag\u001b[38;5;241m.\u001b[39mquery(\n\u001b[1;32m      6\u001b[0m         \u001b[38;5;124m\"\u001b[39m\u001b[38;5;124mHow to make pina colada\u001b[39m\u001b[38;5;124m\"\u001b[39m\n\u001b[1;32m      7\u001b[0m     )\n\u001b[1;32m      8\u001b[0m     myrag\u001b[38;5;241m.\u001b[39mquery(\u001b[38;5;124m\"\u001b[39m\u001b[38;5;124mHow to make a macchiato?\u001b[39m\u001b[38;5;124m\"\u001b[39m)\n",
      "File \u001b[0;32m~/.local/lib/python3.11/site-packages/trulens/core/instruments.py:930\u001b[0m, in \u001b[0;36mInstrument.tracked_method_wrapper.<locals>.tru_wrapper\u001b[0;34m(*args, **kwargs)\u001b[0m\n\u001b[1;32m    927\u001b[0m WithInstrumentCallbacks\u001b[38;5;241m.\u001b[39m_stack_contexts\u001b[38;5;241m.\u001b[39mreset(stacks_token)\n\u001b[1;32m    928\u001b[0m WithInstrumentCallbacks\u001b[38;5;241m.\u001b[39m_context_contexts\u001b[38;5;241m.\u001b[39mreset(context_token)\n\u001b[0;32m--> 930\u001b[0m \u001b[38;5;28;01mreturn\u001b[39;00m \u001b[43mrewrap\u001b[49m\u001b[43m(\u001b[49m\u001b[43mrets\u001b[49m\u001b[43m)\u001b[49m\n",
      "File \u001b[0;32m~/.local/lib/python3.11/site-packages/trulens/core/instruments.py:914\u001b[0m, in \u001b[0;36mInstrument.tracked_method_wrapper.<locals>.tru_wrapper.<locals>.rewrap\u001b[0;34m(rets)\u001b[0m\n\u001b[1;32m    912\u001b[0m \u001b[38;5;28;01mif\u001b[39;00m python_utils\u001b[38;5;241m.\u001b[39mWRAP_LAZY:\n\u001b[1;32m    913\u001b[0m     \u001b[38;5;28;01mfor\u001b[39;00m ctx \u001b[38;5;129;01min\u001b[39;00m contexts:\n\u001b[0;32m--> 914\u001b[0m         rets \u001b[38;5;241m=\u001b[39m \u001b[43mctx\u001b[49m\u001b[38;5;241;43m.\u001b[39;49m\u001b[43mapp\u001b[49m\u001b[38;5;241;43m.\u001b[39;49m\u001b[43mwrap_lazy_values\u001b[49m\u001b[43m(\u001b[49m\n\u001b[1;32m    915\u001b[0m \u001b[43m            \u001b[49m\u001b[43mrets\u001b[49m\u001b[43m,\u001b[49m\n\u001b[1;32m    916\u001b[0m \u001b[43m            \u001b[49m\u001b[43mwrap\u001b[49m\u001b[38;5;241;43m=\u001b[39;49m\u001b[38;5;28;43;01mNone\u001b[39;49;00m\u001b[43m,\u001b[49m\n\u001b[1;32m    917\u001b[0m \u001b[43m            \u001b[49m\u001b[43mon_done\u001b[49m\u001b[38;5;241;43m=\u001b[39;49m\u001b[43mupdate_call_info\u001b[49m\u001b[43m,\u001b[49m\n\u001b[1;32m    918\u001b[0m \u001b[43m            \u001b[49m\u001b[43mcontext_vars\u001b[49m\u001b[38;5;241;43m=\u001b[39;49m\u001b[43mcontext_vars\u001b[49m\u001b[43m,\u001b[49m\n\u001b[1;32m    919\u001b[0m \u001b[43m        \u001b[49m\u001b[43m)\u001b[49m\n\u001b[1;32m    920\u001b[0m \u001b[38;5;28;01melse\u001b[39;00m:\n\u001b[1;32m    921\u001b[0m     update_call_info(rets, final\u001b[38;5;241m=\u001b[39m\u001b[38;5;28;01mTrue\u001b[39;00m)\n",
      "File \u001b[0;32m~/.local/lib/python3.11/site-packages/trulens/core/instruments.py:150\u001b[0m, in \u001b[0;36mWithInstrumentCallbacks.wrap_lazy_values\u001b[0;34m(self, rets, wrap, on_done, context_vars)\u001b[0m\n\u001b[1;32m    147\u001b[0m \u001b[38;5;28;01mif\u001b[39;00m python_utils\u001b[38;5;241m.\u001b[39mis_lazy(rets):\n\u001b[1;32m    148\u001b[0m     \u001b[38;5;28;01mreturn\u001b[39;00m rets\n\u001b[0;32m--> 150\u001b[0m \u001b[38;5;28;01mreturn\u001b[39;00m \u001b[43mon_done\u001b[49m\u001b[43m(\u001b[49m\u001b[43mrets\u001b[49m\u001b[43m)\u001b[49m\n",
      "File \u001b[0;32m~/.local/lib/python3.11/site-packages/trulens/core/instruments.py:858\u001b[0m, in \u001b[0;36mInstrument.tracked_method_wrapper.<locals>.tru_wrapper.<locals>.update_call_info\u001b[0;34m(rets, final)\u001b[0m\n\u001b[1;32m    852\u001b[0m         cost \u001b[38;5;241m=\u001b[39m tally()  \u001b[38;5;66;03m# get updated cost\u001b[39;00m\n\u001b[1;32m    854\u001b[0m     \u001b[38;5;28;01mif\u001b[39;00m \u001b[38;5;28mlen\u001b[39m(stack) \u001b[38;5;241m==\u001b[39m \u001b[38;5;241m1\u001b[39m \u001b[38;5;129;01mor\u001b[39;00m existing_record \u001b[38;5;129;01mis\u001b[39;00m \u001b[38;5;129;01mnot\u001b[39;00m \u001b[38;5;28;01mNone\u001b[39;00m:\n\u001b[1;32m    855\u001b[0m         \u001b[38;5;66;03m# If this is a root call, notify app to add the completed record\u001b[39;00m\n\u001b[1;32m    856\u001b[0m         \u001b[38;5;66;03m# into its containers:\u001b[39;00m\n\u001b[0;32m--> 858\u001b[0m         records[ctx] \u001b[38;5;241m=\u001b[39m \u001b[43mctx\u001b[49m\u001b[38;5;241;43m.\u001b[39;49m\u001b[43mapp\u001b[49m\u001b[38;5;241;43m.\u001b[39;49m\u001b[43mon_add_record\u001b[49m\u001b[43m(\u001b[49m\n\u001b[1;32m    859\u001b[0m \u001b[43m            \u001b[49m\u001b[43mctx\u001b[49m\u001b[38;5;241;43m=\u001b[39;49m\u001b[43mctx\u001b[49m\u001b[43m,\u001b[49m\n\u001b[1;32m    860\u001b[0m \u001b[43m            \u001b[49m\u001b[43mfunc\u001b[49m\u001b[38;5;241;43m=\u001b[39;49m\u001b[43mfunc\u001b[49m\u001b[43m,\u001b[49m\n\u001b[1;32m    861\u001b[0m \u001b[43m            \u001b[49m\u001b[43msig\u001b[49m\u001b[38;5;241;43m=\u001b[39;49m\u001b[43msig\u001b[49m\u001b[43m,\u001b[49m\n\u001b[1;32m    862\u001b[0m \u001b[43m            \u001b[49m\u001b[43mbindings\u001b[49m\u001b[38;5;241;43m=\u001b[39;49m\u001b[43mbindings\u001b[49m\u001b[43m,\u001b[49m\n\u001b[1;32m    863\u001b[0m \u001b[43m            \u001b[49m\u001b[43mret\u001b[49m\u001b[38;5;241;43m=\u001b[39;49m\u001b[43mrets\u001b[49m\u001b[43m,\u001b[49m\n\u001b[1;32m    864\u001b[0m \u001b[43m            \u001b[49m\u001b[43merror\u001b[49m\u001b[38;5;241;43m=\u001b[39;49m\u001b[43merror\u001b[49m\u001b[43m,\u001b[49m\n\u001b[1;32m    865\u001b[0m \u001b[43m            \u001b[49m\u001b[43mperf\u001b[49m\u001b[38;5;241;43m=\u001b[39;49m\u001b[43mbase_schema\u001b[49m\u001b[38;5;241;43m.\u001b[39;49m\u001b[43mPerf\u001b[49m\u001b[43m(\u001b[49m\n\u001b[1;32m    866\u001b[0m \u001b[43m                \u001b[49m\u001b[43mstart_time\u001b[49m\u001b[38;5;241;43m=\u001b[39;49m\u001b[43mstart_time\u001b[49m\u001b[43m,\u001b[49m\u001b[43m \u001b[49m\u001b[43mend_time\u001b[49m\u001b[38;5;241;43m=\u001b[39;49m\u001b[43mend_time\u001b[49m\n\u001b[1;32m    867\u001b[0m \u001b[43m            \u001b[49m\u001b[43m)\u001b[49m\u001b[43m,\u001b[49m\n\u001b[1;32m    868\u001b[0m \u001b[43m            \u001b[49m\u001b[43mcost\u001b[49m\u001b[38;5;241;43m=\u001b[39;49m\u001b[43mcost\u001b[49m\u001b[43m,\u001b[49m\n\u001b[1;32m    869\u001b[0m \u001b[43m            \u001b[49m\u001b[43mexisting_record\u001b[49m\u001b[38;5;241;43m=\u001b[39;49m\u001b[43mexisting_record\u001b[49m\u001b[43m,\u001b[49m\n\u001b[1;32m    870\u001b[0m \u001b[43m            \u001b[49m\u001b[43mfinal\u001b[49m\u001b[38;5;241;43m=\u001b[39;49m\u001b[43mfinal\u001b[49m\u001b[43m,\u001b[49m\n\u001b[1;32m    871\u001b[0m \u001b[43m        \u001b[49m\u001b[43m)\u001b[49m\n\u001b[1;32m    873\u001b[0m \u001b[38;5;28;01mif\u001b[39;00m error \u001b[38;5;129;01mis\u001b[39;00m \u001b[38;5;129;01mnot\u001b[39;00m \u001b[38;5;28;01mNone\u001b[39;00m:\n\u001b[1;32m    874\u001b[0m     \u001b[38;5;28;01mraise\u001b[39;00m error\n",
      "File \u001b[0;32m~/.local/lib/python3.11/site-packages/trulens/core/app.py:1237\u001b[0m, in \u001b[0;36mApp.on_add_record\u001b[0;34m(self, ctx, func, sig, bindings, ret, error, perf, cost, existing_record, final)\u001b[0m\n\u001b[1;32m   1234\u001b[0m \u001b[38;5;28;01mif\u001b[39;00m error \u001b[38;5;129;01mis\u001b[39;00m \u001b[38;5;129;01mnot\u001b[39;00m \u001b[38;5;28;01mNone\u001b[39;00m:\n\u001b[1;32m   1235\u001b[0m     \u001b[38;5;66;03m# May block on DB.\u001b[39;00m\n\u001b[1;32m   1236\u001b[0m     \u001b[38;5;28mself\u001b[39m\u001b[38;5;241m.\u001b[39m_handle_error(record\u001b[38;5;241m=\u001b[39mrecord, error\u001b[38;5;241m=\u001b[39merror)\n\u001b[0;32m-> 1237\u001b[0m     \u001b[38;5;28;01mraise\u001b[39;00m error\n\u001b[1;32m   1239\u001b[0m \u001b[38;5;66;03m# Only continue with the feedback steps if the record is final.\u001b[39;00m\n\u001b[1;32m   1240\u001b[0m \u001b[38;5;28;01mif\u001b[39;00m \u001b[38;5;129;01mnot\u001b[39;00m final:\n",
      "File \u001b[0;32m~/.local/lib/python3.11/site-packages/trulens/core/instruments.py:772\u001b[0m, in \u001b[0;36mInstrument.tracked_method_wrapper.<locals>.tru_wrapper\u001b[0;34m(*args, **kwargs)\u001b[0m\n\u001b[1;32m    768\u001b[0m     bindings: BoundArguments \u001b[38;5;241m=\u001b[39m sig\u001b[38;5;241m.\u001b[39mbind(\u001b[38;5;241m*\u001b[39margs, \u001b[38;5;241m*\u001b[39m\u001b[38;5;241m*\u001b[39mkwargs)\n\u001b[1;32m    770\u001b[0m     \u001b[38;5;28mprint\u001b[39m(\u001b[38;5;124mf\u001b[39m\u001b[38;5;124m\"\u001b[39m\u001b[38;5;124mcalling \u001b[39m\u001b[38;5;132;01m{\u001b[39;00mfunc\u001b[38;5;132;01m}\u001b[39;00m\u001b[38;5;124m with \u001b[39m\u001b[38;5;132;01m{\u001b[39;00margs\u001b[38;5;132;01m}\u001b[39;00m\u001b[38;5;124m\"\u001b[39m)\n\u001b[0;32m--> 772\u001b[0m     rets, tally \u001b[38;5;241m=\u001b[39m \u001b[43mcore_endpoint\u001b[49m\u001b[38;5;241;43m.\u001b[39;49m\u001b[43mEndpoint\u001b[49m\u001b[38;5;241;43m.\u001b[39;49m\u001b[43mtrack_all_costs_tally\u001b[49m\u001b[43m(\u001b[49m\n\u001b[1;32m    773\u001b[0m \u001b[43m        \u001b[49m\u001b[43mfunc\u001b[49m\u001b[43m,\u001b[49m\u001b[43m \u001b[49m\u001b[38;5;241;43m*\u001b[39;49m\u001b[43margs\u001b[49m\u001b[43m,\u001b[49m\u001b[43m \u001b[49m\u001b[38;5;241;43m*\u001b[39;49m\u001b[38;5;241;43m*\u001b[39;49m\u001b[43mkwargs\u001b[49m\n\u001b[1;32m    774\u001b[0m \u001b[43m    \u001b[49m\u001b[43m)\u001b[49m\n\u001b[1;32m    776\u001b[0m \u001b[38;5;28;01mexcept\u001b[39;00m \u001b[38;5;167;01mBaseException\u001b[39;00m \u001b[38;5;28;01mas\u001b[39;00m e:\n\u001b[1;32m    777\u001b[0m     error \u001b[38;5;241m=\u001b[39m e\n",
      "File \u001b[0;32m~/.local/lib/python3.11/site-packages/trulens/core/feedback/endpoint.py:589\u001b[0m, in \u001b[0;36mEndpoint.track_all_costs_tally\u001b[0;34m(_Endpoint__func, with_openai, with_hugs, with_litellm, with_bedrock, with_cortex, with_dummy, *args, **kwargs)\u001b[0m\n\u001b[1;32m    583\u001b[0m     \u001b[38;5;28;01mfrom\u001b[39;00m\u001b[38;5;250m \u001b[39m\u001b[38;5;21;01mtrulens\u001b[39;00m\u001b[38;5;21;01m.\u001b[39;00m\u001b[38;5;21;01mexperimental\u001b[39;00m\u001b[38;5;21;01m.\u001b[39;00m\u001b[38;5;21;01motel_tracing\u001b[39;00m\u001b[38;5;21;01m.\u001b[39;00m\u001b[38;5;21;01mcore\u001b[39;00m\u001b[38;5;21;01m.\u001b[39;00m\u001b[38;5;21;01mfeedback\u001b[39;00m\u001b[38;5;21;01m.\u001b[39;00m\u001b[38;5;21;01mendpoint\u001b[39;00m\u001b[38;5;250m \u001b[39m\u001b[38;5;28;01mimport\u001b[39;00m (\n\u001b[1;32m    584\u001b[0m         _Endpoint,\n\u001b[1;32m    585\u001b[0m     )\n\u001b[1;32m    587\u001b[0m     \u001b[38;5;28;01mreturn\u001b[39;00m _Endpoint\u001b[38;5;241m.\u001b[39mtrack_all_costs_tally(__func, \u001b[38;5;241m*\u001b[39margs, \u001b[38;5;241m*\u001b[39m\u001b[38;5;241m*\u001b[39mkwargs)\n\u001b[0;32m--> 589\u001b[0m result, cbs \u001b[38;5;241m=\u001b[39m \u001b[43mEndpoint\u001b[49m\u001b[38;5;241;43m.\u001b[39;49m\u001b[43mtrack_all_costs\u001b[49m\u001b[43m(\u001b[49m\n\u001b[1;32m    590\u001b[0m \u001b[43m    \u001b[49m\u001b[43m__func\u001b[49m\u001b[43m,\u001b[49m\n\u001b[1;32m    591\u001b[0m \u001b[43m    \u001b[49m\u001b[38;5;241;43m*\u001b[39;49m\u001b[43margs\u001b[49m\u001b[43m,\u001b[49m\n\u001b[1;32m    592\u001b[0m \u001b[43m    \u001b[49m\u001b[43mwith_openai\u001b[49m\u001b[38;5;241;43m=\u001b[39;49m\u001b[43mwith_openai\u001b[49m\u001b[43m,\u001b[49m\n\u001b[1;32m    593\u001b[0m \u001b[43m    \u001b[49m\u001b[43mwith_hugs\u001b[49m\u001b[38;5;241;43m=\u001b[39;49m\u001b[43mwith_hugs\u001b[49m\u001b[43m,\u001b[49m\n\u001b[1;32m    594\u001b[0m \u001b[43m    \u001b[49m\u001b[43mwith_litellm\u001b[49m\u001b[38;5;241;43m=\u001b[39;49m\u001b[43mwith_litellm\u001b[49m\u001b[43m,\u001b[49m\n\u001b[1;32m    595\u001b[0m \u001b[43m    \u001b[49m\u001b[43mwith_bedrock\u001b[49m\u001b[38;5;241;43m=\u001b[39;49m\u001b[43mwith_bedrock\u001b[49m\u001b[43m,\u001b[49m\n\u001b[1;32m    596\u001b[0m \u001b[43m    \u001b[49m\u001b[43mwith_cortex\u001b[49m\u001b[38;5;241;43m=\u001b[39;49m\u001b[43mwith_cortex\u001b[49m\u001b[43m,\u001b[49m\n\u001b[1;32m    597\u001b[0m \u001b[43m    \u001b[49m\u001b[43mwith_dummy\u001b[49m\u001b[38;5;241;43m=\u001b[39;49m\u001b[43mwith_dummy\u001b[49m\u001b[43m,\u001b[49m\n\u001b[1;32m    598\u001b[0m \u001b[43m    \u001b[49m\u001b[38;5;241;43m*\u001b[39;49m\u001b[38;5;241;43m*\u001b[39;49m\u001b[43mkwargs\u001b[49m\u001b[43m,\u001b[49m\n\u001b[1;32m    599\u001b[0m \u001b[43m\u001b[49m\u001b[43m)\u001b[49m\n\u001b[1;32m    601\u001b[0m \u001b[38;5;28;01mif\u001b[39;00m \u001b[38;5;28mlen\u001b[39m(cbs) \u001b[38;5;241m==\u001b[39m \u001b[38;5;241m0\u001b[39m:\n\u001b[1;32m    602\u001b[0m     \u001b[38;5;66;03m# Otherwise sum returns \"0\" below.\u001b[39;00m\n\u001b[1;32m    603\u001b[0m     tally \u001b[38;5;241m=\u001b[39m \u001b[38;5;28;01mlambda\u001b[39;00m: base_schema\u001b[38;5;241m.\u001b[39mCost()\n",
      "File \u001b[0;32m~/.local/lib/python3.11/site-packages/trulens/core/feedback/endpoint.py:551\u001b[0m, in \u001b[0;36mEndpoint.track_all_costs\u001b[0;34m(_Endpoint__func, with_openai, with_hugs, with_litellm, with_bedrock, with_cortex, with_dummy, *args, **kwargs)\u001b[0m\n\u001b[1;32m    542\u001b[0m         \u001b[38;5;28;01mexcept\u001b[39;00m \u001b[38;5;167;01mException\u001b[39;00m \u001b[38;5;28;01mas\u001b[39;00m e:\n\u001b[1;32m    543\u001b[0m             logger\u001b[38;5;241m.\u001b[39mdebug(\n\u001b[1;32m    544\u001b[0m                 \u001b[38;5;124m\"\u001b[39m\u001b[38;5;124mCould not initialize endpoint \u001b[39m\u001b[38;5;132;01m%s\u001b[39;00m\u001b[38;5;124m. \u001b[39m\u001b[38;5;124m\"\u001b[39m\n\u001b[1;32m    545\u001b[0m                 \u001b[38;5;124m\"\u001b[39m\u001b[38;5;124mPossibly missing key(s). \u001b[39m\u001b[38;5;124m\"\u001b[39m\n\u001b[0;32m   (...)\u001b[0m\n\u001b[1;32m    548\u001b[0m                 e,\n\u001b[1;32m    549\u001b[0m             )\n\u001b[0;32m--> 551\u001b[0m \u001b[38;5;28;01mreturn\u001b[39;00m \u001b[43mEndpoint\u001b[49m\u001b[38;5;241;43m.\u001b[39;49m\u001b[43m_track_costs\u001b[49m\u001b[43m(\u001b[49m\n\u001b[1;32m    552\u001b[0m \u001b[43m    \u001b[49m\u001b[43m__func\u001b[49m\u001b[43m,\u001b[49m\u001b[43m \u001b[49m\u001b[38;5;241;43m*\u001b[39;49m\u001b[43margs\u001b[49m\u001b[43m,\u001b[49m\u001b[43m \u001b[49m\u001b[43mwith_endpoints\u001b[49m\u001b[38;5;241;43m=\u001b[39;49m\u001b[43mendpoints\u001b[49m\u001b[43m,\u001b[49m\u001b[43m \u001b[49m\u001b[38;5;241;43m*\u001b[39;49m\u001b[38;5;241;43m*\u001b[39;49m\u001b[43mkwargs\u001b[49m\n\u001b[1;32m    553\u001b[0m \u001b[43m\u001b[49m\u001b[43m)\u001b[49m\n",
      "File \u001b[0;32m~/.local/lib/python3.11/site-packages/trulens/core/feedback/endpoint.py:666\u001b[0m, in \u001b[0;36mEndpoint._track_costs\u001b[0;34m(_Endpoint__func, with_endpoints, *args, **kwargs)\u001b[0m\n\u001b[1;32m    661\u001b[0m context_vars \u001b[38;5;241m=\u001b[39m {\n\u001b[1;32m    662\u001b[0m     Endpoint\u001b[38;5;241m.\u001b[39m_context_endpoints: Endpoint\u001b[38;5;241m.\u001b[39m_context_endpoints\u001b[38;5;241m.\u001b[39mget()\n\u001b[1;32m    663\u001b[0m }\n\u001b[1;32m    665\u001b[0m \u001b[38;5;66;03m# Call the function.\u001b[39;00m\n\u001b[0;32m--> 666\u001b[0m result: T \u001b[38;5;241m=\u001b[39m \u001b[43m__func\u001b[49m\u001b[43m(\u001b[49m\u001b[38;5;241;43m*\u001b[39;49m\u001b[43margs\u001b[49m\u001b[43m,\u001b[49m\u001b[43m \u001b[49m\u001b[38;5;241;43m*\u001b[39;49m\u001b[38;5;241;43m*\u001b[39;49m\u001b[43mkwargs\u001b[49m\u001b[43m)\u001b[49m\n\u001b[1;32m    668\u001b[0m \u001b[38;5;28;01mdef\u001b[39;00m\u001b[38;5;250m \u001b[39m\u001b[38;5;21mrewrap\u001b[39m(result):\n\u001b[1;32m    669\u001b[0m     \u001b[38;5;28;01mif\u001b[39;00m python_utils\u001b[38;5;241m.\u001b[39mis_lazy(result):\n",
      "Cell \u001b[0;32mIn[31], line 61\u001b[0m, in \u001b[0;36mragclass.query\u001b[0;34m(self, query)\u001b[0m\n\u001b[1;32m     58\u001b[0m \u001b[38;5;129m@instrument\u001b[39m\n\u001b[1;32m     59\u001b[0m \u001b[38;5;28;01mdef\u001b[39;00m\u001b[38;5;250m \u001b[39m\u001b[38;5;21mquery\u001b[39m(\u001b[38;5;28mself\u001b[39m, query: \u001b[38;5;28mstr\u001b[39m) \u001b[38;5;241m-\u001b[39m\u001b[38;5;241m>\u001b[39m \u001b[38;5;28mstr\u001b[39m:\n\u001b[1;32m     60\u001b[0m     context_str \u001b[38;5;241m=\u001b[39m \u001b[38;5;28mself\u001b[39m\u001b[38;5;241m.\u001b[39mretrieve(query\u001b[38;5;241m=\u001b[39mquery)\n\u001b[0;32m---> 61\u001b[0m     completion \u001b[38;5;241m=\u001b[39m \u001b[38;5;28;43mself\u001b[39;49m\u001b[38;5;241;43m.\u001b[39;49m\u001b[43mgenerate_completion\u001b[49m\u001b[43m(\u001b[49m\n\u001b[1;32m     62\u001b[0m \u001b[43m        \u001b[49m\u001b[43mquery\u001b[49m\u001b[38;5;241;43m=\u001b[39;49m\u001b[43mquery\u001b[49m\u001b[43m,\u001b[49m\u001b[43m \u001b[49m\u001b[43mcontext_str\u001b[49m\u001b[38;5;241;43m=\u001b[39;49m\u001b[43mcontext_str\u001b[49m\n\u001b[1;32m     63\u001b[0m \u001b[43m    \u001b[49m\u001b[43m)\u001b[49m\n\u001b[1;32m     64\u001b[0m     \u001b[38;5;28;01mreturn\u001b[39;00m completion\n",
      "File \u001b[0;32m~/.local/lib/python3.11/site-packages/trulens/core/instruments.py:930\u001b[0m, in \u001b[0;36mInstrument.tracked_method_wrapper.<locals>.tru_wrapper\u001b[0;34m(*args, **kwargs)\u001b[0m\n\u001b[1;32m    927\u001b[0m WithInstrumentCallbacks\u001b[38;5;241m.\u001b[39m_stack_contexts\u001b[38;5;241m.\u001b[39mreset(stacks_token)\n\u001b[1;32m    928\u001b[0m WithInstrumentCallbacks\u001b[38;5;241m.\u001b[39m_context_contexts\u001b[38;5;241m.\u001b[39mreset(context_token)\n\u001b[0;32m--> 930\u001b[0m \u001b[38;5;28;01mreturn\u001b[39;00m \u001b[43mrewrap\u001b[49m\u001b[43m(\u001b[49m\u001b[43mrets\u001b[49m\u001b[43m)\u001b[49m\n",
      "File \u001b[0;32m~/.local/lib/python3.11/site-packages/trulens/core/instruments.py:914\u001b[0m, in \u001b[0;36mInstrument.tracked_method_wrapper.<locals>.tru_wrapper.<locals>.rewrap\u001b[0;34m(rets)\u001b[0m\n\u001b[1;32m    912\u001b[0m \u001b[38;5;28;01mif\u001b[39;00m python_utils\u001b[38;5;241m.\u001b[39mWRAP_LAZY:\n\u001b[1;32m    913\u001b[0m     \u001b[38;5;28;01mfor\u001b[39;00m ctx \u001b[38;5;129;01min\u001b[39;00m contexts:\n\u001b[0;32m--> 914\u001b[0m         rets \u001b[38;5;241m=\u001b[39m \u001b[43mctx\u001b[49m\u001b[38;5;241;43m.\u001b[39;49m\u001b[43mapp\u001b[49m\u001b[38;5;241;43m.\u001b[39;49m\u001b[43mwrap_lazy_values\u001b[49m\u001b[43m(\u001b[49m\n\u001b[1;32m    915\u001b[0m \u001b[43m            \u001b[49m\u001b[43mrets\u001b[49m\u001b[43m,\u001b[49m\n\u001b[1;32m    916\u001b[0m \u001b[43m            \u001b[49m\u001b[43mwrap\u001b[49m\u001b[38;5;241;43m=\u001b[39;49m\u001b[38;5;28;43;01mNone\u001b[39;49;00m\u001b[43m,\u001b[49m\n\u001b[1;32m    917\u001b[0m \u001b[43m            \u001b[49m\u001b[43mon_done\u001b[49m\u001b[38;5;241;43m=\u001b[39;49m\u001b[43mupdate_call_info\u001b[49m\u001b[43m,\u001b[49m\n\u001b[1;32m    918\u001b[0m \u001b[43m            \u001b[49m\u001b[43mcontext_vars\u001b[49m\u001b[38;5;241;43m=\u001b[39;49m\u001b[43mcontext_vars\u001b[49m\u001b[43m,\u001b[49m\n\u001b[1;32m    919\u001b[0m \u001b[43m        \u001b[49m\u001b[43m)\u001b[49m\n\u001b[1;32m    920\u001b[0m \u001b[38;5;28;01melse\u001b[39;00m:\n\u001b[1;32m    921\u001b[0m     update_call_info(rets, final\u001b[38;5;241m=\u001b[39m\u001b[38;5;28;01mTrue\u001b[39;00m)\n",
      "File \u001b[0;32m~/.local/lib/python3.11/site-packages/trulens/core/instruments.py:150\u001b[0m, in \u001b[0;36mWithInstrumentCallbacks.wrap_lazy_values\u001b[0;34m(self, rets, wrap, on_done, context_vars)\u001b[0m\n\u001b[1;32m    147\u001b[0m \u001b[38;5;28;01mif\u001b[39;00m python_utils\u001b[38;5;241m.\u001b[39mis_lazy(rets):\n\u001b[1;32m    148\u001b[0m     \u001b[38;5;28;01mreturn\u001b[39;00m rets\n\u001b[0;32m--> 150\u001b[0m \u001b[38;5;28;01mreturn\u001b[39;00m \u001b[43mon_done\u001b[49m\u001b[43m(\u001b[49m\u001b[43mrets\u001b[49m\u001b[43m)\u001b[49m\n",
      "File \u001b[0;32m~/.local/lib/python3.11/site-packages/trulens/core/instruments.py:874\u001b[0m, in \u001b[0;36mInstrument.tracked_method_wrapper.<locals>.tru_wrapper.<locals>.update_call_info\u001b[0;34m(rets, final)\u001b[0m\n\u001b[1;32m    858\u001b[0m         records[ctx] \u001b[38;5;241m=\u001b[39m ctx\u001b[38;5;241m.\u001b[39mapp\u001b[38;5;241m.\u001b[39mon_add_record(\n\u001b[1;32m    859\u001b[0m             ctx\u001b[38;5;241m=\u001b[39mctx,\n\u001b[1;32m    860\u001b[0m             func\u001b[38;5;241m=\u001b[39mfunc,\n\u001b[0;32m   (...)\u001b[0m\n\u001b[1;32m    870\u001b[0m             final\u001b[38;5;241m=\u001b[39mfinal,\n\u001b[1;32m    871\u001b[0m         )\n\u001b[1;32m    873\u001b[0m \u001b[38;5;28;01mif\u001b[39;00m error \u001b[38;5;129;01mis\u001b[39;00m \u001b[38;5;129;01mnot\u001b[39;00m \u001b[38;5;28;01mNone\u001b[39;00m:\n\u001b[0;32m--> 874\u001b[0m     \u001b[38;5;28;01mraise\u001b[39;00m error\n\u001b[1;32m    876\u001b[0m \u001b[38;5;28;01mreturn\u001b[39;00m rets\n",
      "File \u001b[0;32m~/.local/lib/python3.11/site-packages/trulens/core/instruments.py:772\u001b[0m, in \u001b[0;36mInstrument.tracked_method_wrapper.<locals>.tru_wrapper\u001b[0;34m(*args, **kwargs)\u001b[0m\n\u001b[1;32m    768\u001b[0m     bindings: BoundArguments \u001b[38;5;241m=\u001b[39m sig\u001b[38;5;241m.\u001b[39mbind(\u001b[38;5;241m*\u001b[39margs, \u001b[38;5;241m*\u001b[39m\u001b[38;5;241m*\u001b[39mkwargs)\n\u001b[1;32m    770\u001b[0m     \u001b[38;5;28mprint\u001b[39m(\u001b[38;5;124mf\u001b[39m\u001b[38;5;124m\"\u001b[39m\u001b[38;5;124mcalling \u001b[39m\u001b[38;5;132;01m{\u001b[39;00mfunc\u001b[38;5;132;01m}\u001b[39;00m\u001b[38;5;124m with \u001b[39m\u001b[38;5;132;01m{\u001b[39;00margs\u001b[38;5;132;01m}\u001b[39;00m\u001b[38;5;124m\"\u001b[39m)\n\u001b[0;32m--> 772\u001b[0m     rets, tally \u001b[38;5;241m=\u001b[39m \u001b[43mcore_endpoint\u001b[49m\u001b[38;5;241;43m.\u001b[39;49m\u001b[43mEndpoint\u001b[49m\u001b[38;5;241;43m.\u001b[39;49m\u001b[43mtrack_all_costs_tally\u001b[49m\u001b[43m(\u001b[49m\n\u001b[1;32m    773\u001b[0m \u001b[43m        \u001b[49m\u001b[43mfunc\u001b[49m\u001b[43m,\u001b[49m\u001b[43m \u001b[49m\u001b[38;5;241;43m*\u001b[39;49m\u001b[43margs\u001b[49m\u001b[43m,\u001b[49m\u001b[43m \u001b[49m\u001b[38;5;241;43m*\u001b[39;49m\u001b[38;5;241;43m*\u001b[39;49m\u001b[43mkwargs\u001b[49m\n\u001b[1;32m    774\u001b[0m \u001b[43m    \u001b[49m\u001b[43m)\u001b[49m\n\u001b[1;32m    776\u001b[0m \u001b[38;5;28;01mexcept\u001b[39;00m \u001b[38;5;167;01mBaseException\u001b[39;00m \u001b[38;5;28;01mas\u001b[39;00m e:\n\u001b[1;32m    777\u001b[0m     error \u001b[38;5;241m=\u001b[39m e\n",
      "File \u001b[0;32m~/.local/lib/python3.11/site-packages/trulens/core/feedback/endpoint.py:589\u001b[0m, in \u001b[0;36mEndpoint.track_all_costs_tally\u001b[0;34m(_Endpoint__func, with_openai, with_hugs, with_litellm, with_bedrock, with_cortex, with_dummy, *args, **kwargs)\u001b[0m\n\u001b[1;32m    583\u001b[0m     \u001b[38;5;28;01mfrom\u001b[39;00m\u001b[38;5;250m \u001b[39m\u001b[38;5;21;01mtrulens\u001b[39;00m\u001b[38;5;21;01m.\u001b[39;00m\u001b[38;5;21;01mexperimental\u001b[39;00m\u001b[38;5;21;01m.\u001b[39;00m\u001b[38;5;21;01motel_tracing\u001b[39;00m\u001b[38;5;21;01m.\u001b[39;00m\u001b[38;5;21;01mcore\u001b[39;00m\u001b[38;5;21;01m.\u001b[39;00m\u001b[38;5;21;01mfeedback\u001b[39;00m\u001b[38;5;21;01m.\u001b[39;00m\u001b[38;5;21;01mendpoint\u001b[39;00m\u001b[38;5;250m \u001b[39m\u001b[38;5;28;01mimport\u001b[39;00m (\n\u001b[1;32m    584\u001b[0m         _Endpoint,\n\u001b[1;32m    585\u001b[0m     )\n\u001b[1;32m    587\u001b[0m     \u001b[38;5;28;01mreturn\u001b[39;00m _Endpoint\u001b[38;5;241m.\u001b[39mtrack_all_costs_tally(__func, \u001b[38;5;241m*\u001b[39margs, \u001b[38;5;241m*\u001b[39m\u001b[38;5;241m*\u001b[39mkwargs)\n\u001b[0;32m--> 589\u001b[0m result, cbs \u001b[38;5;241m=\u001b[39m \u001b[43mEndpoint\u001b[49m\u001b[38;5;241;43m.\u001b[39;49m\u001b[43mtrack_all_costs\u001b[49m\u001b[43m(\u001b[49m\n\u001b[1;32m    590\u001b[0m \u001b[43m    \u001b[49m\u001b[43m__func\u001b[49m\u001b[43m,\u001b[49m\n\u001b[1;32m    591\u001b[0m \u001b[43m    \u001b[49m\u001b[38;5;241;43m*\u001b[39;49m\u001b[43margs\u001b[49m\u001b[43m,\u001b[49m\n\u001b[1;32m    592\u001b[0m \u001b[43m    \u001b[49m\u001b[43mwith_openai\u001b[49m\u001b[38;5;241;43m=\u001b[39;49m\u001b[43mwith_openai\u001b[49m\u001b[43m,\u001b[49m\n\u001b[1;32m    593\u001b[0m \u001b[43m    \u001b[49m\u001b[43mwith_hugs\u001b[49m\u001b[38;5;241;43m=\u001b[39;49m\u001b[43mwith_hugs\u001b[49m\u001b[43m,\u001b[49m\n\u001b[1;32m    594\u001b[0m \u001b[43m    \u001b[49m\u001b[43mwith_litellm\u001b[49m\u001b[38;5;241;43m=\u001b[39;49m\u001b[43mwith_litellm\u001b[49m\u001b[43m,\u001b[49m\n\u001b[1;32m    595\u001b[0m \u001b[43m    \u001b[49m\u001b[43mwith_bedrock\u001b[49m\u001b[38;5;241;43m=\u001b[39;49m\u001b[43mwith_bedrock\u001b[49m\u001b[43m,\u001b[49m\n\u001b[1;32m    596\u001b[0m \u001b[43m    \u001b[49m\u001b[43mwith_cortex\u001b[49m\u001b[38;5;241;43m=\u001b[39;49m\u001b[43mwith_cortex\u001b[49m\u001b[43m,\u001b[49m\n\u001b[1;32m    597\u001b[0m \u001b[43m    \u001b[49m\u001b[43mwith_dummy\u001b[49m\u001b[38;5;241;43m=\u001b[39;49m\u001b[43mwith_dummy\u001b[49m\u001b[43m,\u001b[49m\n\u001b[1;32m    598\u001b[0m \u001b[43m    \u001b[49m\u001b[38;5;241;43m*\u001b[39;49m\u001b[38;5;241;43m*\u001b[39;49m\u001b[43mkwargs\u001b[49m\u001b[43m,\u001b[49m\n\u001b[1;32m    599\u001b[0m \u001b[43m\u001b[49m\u001b[43m)\u001b[49m\n\u001b[1;32m    601\u001b[0m \u001b[38;5;28;01mif\u001b[39;00m \u001b[38;5;28mlen\u001b[39m(cbs) \u001b[38;5;241m==\u001b[39m \u001b[38;5;241m0\u001b[39m:\n\u001b[1;32m    602\u001b[0m     \u001b[38;5;66;03m# Otherwise sum returns \"0\" below.\u001b[39;00m\n\u001b[1;32m    603\u001b[0m     tally \u001b[38;5;241m=\u001b[39m \u001b[38;5;28;01mlambda\u001b[39;00m: base_schema\u001b[38;5;241m.\u001b[39mCost()\n",
      "File \u001b[0;32m~/.local/lib/python3.11/site-packages/trulens/core/feedback/endpoint.py:551\u001b[0m, in \u001b[0;36mEndpoint.track_all_costs\u001b[0;34m(_Endpoint__func, with_openai, with_hugs, with_litellm, with_bedrock, with_cortex, with_dummy, *args, **kwargs)\u001b[0m\n\u001b[1;32m    542\u001b[0m         \u001b[38;5;28;01mexcept\u001b[39;00m \u001b[38;5;167;01mException\u001b[39;00m \u001b[38;5;28;01mas\u001b[39;00m e:\n\u001b[1;32m    543\u001b[0m             logger\u001b[38;5;241m.\u001b[39mdebug(\n\u001b[1;32m    544\u001b[0m                 \u001b[38;5;124m\"\u001b[39m\u001b[38;5;124mCould not initialize endpoint \u001b[39m\u001b[38;5;132;01m%s\u001b[39;00m\u001b[38;5;124m. \u001b[39m\u001b[38;5;124m\"\u001b[39m\n\u001b[1;32m    545\u001b[0m                 \u001b[38;5;124m\"\u001b[39m\u001b[38;5;124mPossibly missing key(s). \u001b[39m\u001b[38;5;124m\"\u001b[39m\n\u001b[0;32m   (...)\u001b[0m\n\u001b[1;32m    548\u001b[0m                 e,\n\u001b[1;32m    549\u001b[0m             )\n\u001b[0;32m--> 551\u001b[0m \u001b[38;5;28;01mreturn\u001b[39;00m \u001b[43mEndpoint\u001b[49m\u001b[38;5;241;43m.\u001b[39;49m\u001b[43m_track_costs\u001b[49m\u001b[43m(\u001b[49m\n\u001b[1;32m    552\u001b[0m \u001b[43m    \u001b[49m\u001b[43m__func\u001b[49m\u001b[43m,\u001b[49m\u001b[43m \u001b[49m\u001b[38;5;241;43m*\u001b[39;49m\u001b[43margs\u001b[49m\u001b[43m,\u001b[49m\u001b[43m \u001b[49m\u001b[43mwith_endpoints\u001b[49m\u001b[38;5;241;43m=\u001b[39;49m\u001b[43mendpoints\u001b[49m\u001b[43m,\u001b[49m\u001b[43m \u001b[49m\u001b[38;5;241;43m*\u001b[39;49m\u001b[38;5;241;43m*\u001b[39;49m\u001b[43mkwargs\u001b[49m\n\u001b[1;32m    553\u001b[0m \u001b[43m\u001b[49m\u001b[43m)\u001b[49m\n",
      "File \u001b[0;32m~/.local/lib/python3.11/site-packages/trulens/core/feedback/endpoint.py:666\u001b[0m, in \u001b[0;36mEndpoint._track_costs\u001b[0;34m(_Endpoint__func, with_endpoints, *args, **kwargs)\u001b[0m\n\u001b[1;32m    661\u001b[0m context_vars \u001b[38;5;241m=\u001b[39m {\n\u001b[1;32m    662\u001b[0m     Endpoint\u001b[38;5;241m.\u001b[39m_context_endpoints: Endpoint\u001b[38;5;241m.\u001b[39m_context_endpoints\u001b[38;5;241m.\u001b[39mget()\n\u001b[1;32m    663\u001b[0m }\n\u001b[1;32m    665\u001b[0m \u001b[38;5;66;03m# Call the function.\u001b[39;00m\n\u001b[0;32m--> 666\u001b[0m result: T \u001b[38;5;241m=\u001b[39m \u001b[43m__func\u001b[49m\u001b[43m(\u001b[49m\u001b[38;5;241;43m*\u001b[39;49m\u001b[43margs\u001b[49m\u001b[43m,\u001b[49m\u001b[43m \u001b[49m\u001b[38;5;241;43m*\u001b[39;49m\u001b[38;5;241;43m*\u001b[39;49m\u001b[43mkwargs\u001b[49m\u001b[43m)\u001b[49m\n\u001b[1;32m    668\u001b[0m \u001b[38;5;28;01mdef\u001b[39;00m\u001b[38;5;250m \u001b[39m\u001b[38;5;21mrewrap\u001b[39m(result):\n\u001b[1;32m    669\u001b[0m     \u001b[38;5;28;01mif\u001b[39;00m python_utils\u001b[38;5;241m.\u001b[39mis_lazy(result):\n",
      "Cell \u001b[0;32mIn[31], line 54\u001b[0m, in \u001b[0;36mragclass.generate_completion\u001b[0;34m(self, query, context_str)\u001b[0m\n\u001b[1;32m     24\u001b[0m prompt \u001b[38;5;241m=\u001b[39m \u001b[38;5;124mf\u001b[39m\u001b[38;5;124m\"\"\"\u001b[39m\n\u001b[1;32m     25\u001b[0m \u001b[38;5;124mI am Ali, a friendly and witty chef who specializes in \u001b[39m\u001b[38;5;132;01m{\u001b[39;00mcategory\u001b[38;5;132;01m}\u001b[39;00m\u001b[38;5;124m recipes! I love helping people cook and finding the perfect recipes from our collection.\u001b[39m\n\u001b[1;32m     26\u001b[0m \n\u001b[0;32m   (...)\u001b[0m\n\u001b[1;32m     47\u001b[0m \u001b[38;5;124mResponse (as Ali, friendly and category-aware):\u001b[39m\n\u001b[1;32m     48\u001b[0m \u001b[38;5;124m\u001b[39m\u001b[38;5;124m\"\"\"\u001b[39m\n\u001b[1;32m     50\u001b[0m cmd \u001b[38;5;241m=\u001b[39m \u001b[38;5;124m\"\"\"\u001b[39m\n\u001b[1;32m     51\u001b[0m \u001b[38;5;124m    select snowflake.cortex.complete(?, ?) as response\u001b[39m\n\u001b[1;32m     52\u001b[0m \u001b[38;5;124m\u001b[39m\u001b[38;5;124m\"\"\"\u001b[39m\n\u001b[0;32m---> 54\u001b[0m df_response \u001b[38;5;241m=\u001b[39m \u001b[43msession\u001b[49m\u001b[38;5;241;43m.\u001b[39;49m\u001b[43msql\u001b[49m\u001b[43m(\u001b[49m\u001b[43mcmd\u001b[49m\u001b[43m,\u001b[49m\u001b[43m \u001b[49m\u001b[43mparams\u001b[49m\u001b[38;5;241;43m=\u001b[39;49m\u001b[43m[\u001b[49m\u001b[38;5;124;43m'\u001b[39;49m\u001b[38;5;124;43mmistral-large\u001b[39;49m\u001b[38;5;124;43m'\u001b[39;49m\u001b[43m,\u001b[49m\u001b[43m \u001b[49m\u001b[43mprompt\u001b[49m\u001b[43m]\u001b[49m\u001b[43m)\u001b[49m\u001b[38;5;241m.\u001b[39mcollect()\n\u001b[1;32m     56\u001b[0m \u001b[38;5;28;01mreturn\u001b[39;00m df_response\n",
      "File \u001b[0;32m~/.local/lib/python3.11/site-packages/trulens/core/feedback/endpoint.py:876\u001b[0m, in \u001b[0;36mEndpoint.wrap_function.<locals>.tru_wrapper\u001b[0;34m(*args, **kwargs)\u001b[0m\n\u001b[1;32m    870\u001b[0m     \u001b[38;5;28;01mreturn\u001b[39;00m response\n\u001b[1;32m    872\u001b[0m \u001b[38;5;66;03m# Problem here: OpenAI returns generators inside its own special\u001b[39;00m\n\u001b[1;32m    873\u001b[0m \u001b[38;5;66;03m# classes. These are thus handled in\u001b[39;00m\n\u001b[1;32m    874\u001b[0m \u001b[38;5;66;03m# OpenAIEndpoint.wrapped_call .\u001b[39;00m\n\u001b[0;32m--> 876\u001b[0m \u001b[38;5;28;01mreturn\u001b[39;00m \u001b[43mupdate_response\u001b[49m\u001b[43m(\u001b[49m\u001b[43mresponse\u001b[49m\u001b[43m)\u001b[49m\n",
      "File \u001b[0;32m~/.local/lib/python3.11/site-packages/trulens/core/feedback/endpoint.py:858\u001b[0m, in \u001b[0;36mEndpoint.wrap_function.<locals>.tru_wrapper.<locals>.update_response\u001b[0;34m(response)\u001b[0m\n\u001b[1;32m    855\u001b[0m logger\u001b[38;5;241m.\u001b[39mdebug(\u001b[38;5;124m\"\u001b[39m\u001b[38;5;124mHandling endpoint \u001b[39m\u001b[38;5;132;01m%s\u001b[39;00m\u001b[38;5;124m.\u001b[39m\u001b[38;5;124m\"\u001b[39m, endpoint\u001b[38;5;241m.\u001b[39mname)\n\u001b[1;32m    857\u001b[0m \u001b[38;5;28;01mwith\u001b[39;00m python_utils\u001b[38;5;241m.\u001b[39mwith_context(context_vars):\n\u001b[0;32m--> 858\u001b[0m     response_ \u001b[38;5;241m=\u001b[39m \u001b[43mendpoint\u001b[49m\u001b[38;5;241;43m.\u001b[39;49m\u001b[43mhandle_wrapped_call\u001b[49m\u001b[43m(\u001b[49m\n\u001b[1;32m    859\u001b[0m \u001b[43m        \u001b[49m\u001b[43mfunc\u001b[49m\u001b[38;5;241;43m=\u001b[39;49m\u001b[43mfunc\u001b[49m\u001b[43m,\u001b[49m\n\u001b[1;32m    860\u001b[0m \u001b[43m        \u001b[49m\u001b[43mbindings\u001b[49m\u001b[38;5;241;43m=\u001b[39;49m\u001b[43mbindings\u001b[49m\u001b[43m,\u001b[49m\n\u001b[1;32m    861\u001b[0m \u001b[43m        \u001b[49m\u001b[43mresponse\u001b[49m\u001b[38;5;241;43m=\u001b[39;49m\u001b[43mresponse\u001b[49m\u001b[43m,\u001b[49m\n\u001b[1;32m    862\u001b[0m \u001b[43m        \u001b[49m\u001b[43mcallback\u001b[49m\u001b[38;5;241;43m=\u001b[39;49m\u001b[43mcallback\u001b[49m\u001b[43m,\u001b[49m\n\u001b[1;32m    863\u001b[0m \u001b[43m    \u001b[49m\u001b[43m)\u001b[49m\n\u001b[1;32m    864\u001b[0m     \u001b[38;5;28;01mif\u001b[39;00m response_ \u001b[38;5;129;01mis\u001b[39;00m \u001b[38;5;129;01mnot\u001b[39;00m \u001b[38;5;28;01mNone\u001b[39;00m:\n\u001b[1;32m    865\u001b[0m         \u001b[38;5;66;03m# Handler is allowed to override the response in\u001b[39;00m\n\u001b[1;32m    866\u001b[0m         \u001b[38;5;66;03m# case it wants to wrap some generators or similar\u001b[39;00m\n\u001b[1;32m    867\u001b[0m         \u001b[38;5;66;03m# lazy structures.\u001b[39;00m\n\u001b[1;32m    868\u001b[0m         response \u001b[38;5;241m=\u001b[39m response_\n",
      "File \u001b[0;32m~/.local/lib/python3.11/site-packages/trulens/providers/cortex/endpoint.py:132\u001b[0m, in \u001b[0;36mCortexEndpoint.handle_wrapped_call\u001b[0;34m(self, func, bindings, response, callback)\u001b[0m\n\u001b[1;32m    130\u001b[0m \u001b[38;5;28;01mexcept\u001b[39;00m \u001b[38;5;167;01mException\u001b[39;00m \u001b[38;5;28;01mas\u001b[39;00m e:\n\u001b[1;32m    131\u001b[0m     logger\u001b[38;5;241m.\u001b[39merror(\u001b[38;5;124mf\u001b[39m\u001b[38;5;124m\"\u001b[39m\u001b[38;5;124mError occurred while parsing response: \u001b[39m\u001b[38;5;132;01m{\u001b[39;00me\u001b[38;5;132;01m}\u001b[39;00m\u001b[38;5;124m\"\u001b[39m)\n\u001b[0;32m--> 132\u001b[0m     \u001b[38;5;28;01mraise\u001b[39;00m e\n\u001b[1;32m    134\u001b[0m \u001b[38;5;28;01mif\u001b[39;00m \u001b[38;5;28misinstance\u001b[39m(response_dict, \u001b[38;5;28mdict\u001b[39m) \u001b[38;5;129;01mand\u001b[39;00m \u001b[38;5;124m\"\u001b[39m\u001b[38;5;124musage\u001b[39m\u001b[38;5;124m\"\u001b[39m \u001b[38;5;129;01min\u001b[39;00m response_dict:\n\u001b[1;32m    135\u001b[0m     counted_something \u001b[38;5;241m=\u001b[39m \u001b[38;5;28;01mTrue\u001b[39;00m\n",
      "File \u001b[0;32m~/.local/lib/python3.11/site-packages/trulens/providers/cortex/endpoint.py:126\u001b[0m, in \u001b[0;36mCortexEndpoint.handle_wrapped_call\u001b[0;34m(self, func, bindings, response, callback)\u001b[0m\n\u001b[1;32m    121\u001b[0m     response_dict \u001b[38;5;241m=\u001b[39m json\u001b[38;5;241m.\u001b[39mloads(\n\u001b[1;32m    122\u001b[0m         response\u001b[38;5;241m.\u001b[39mdata\n\u001b[1;32m    123\u001b[0m     )  \u001b[38;5;66;03m# response is a server-sent event (SSE). see _sse_client.py from snowflake.cortex module for reference\u001b[39;00m\n\u001b[1;32m    125\u001b[0m \u001b[38;5;28;01melif\u001b[39;00m \u001b[38;5;28misinstance\u001b[39m(response, DataFrame):\n\u001b[0;32m--> 126\u001b[0m     response_dict \u001b[38;5;241m=\u001b[39m json\u001b[38;5;241m.\u001b[39mloads(\u001b[43mresponse\u001b[49m\u001b[38;5;241;43m.\u001b[39;49m\u001b[43mcollect\u001b[49m\u001b[43m(\u001b[49m\u001b[43m)\u001b[49m[\u001b[38;5;241m0\u001b[39m][\u001b[38;5;241m0\u001b[39m])\n\u001b[1;32m    127\u001b[0m \u001b[38;5;28;01melif\u001b[39;00m \u001b[38;5;28misinstance\u001b[39m(response, \u001b[38;5;28mlist\u001b[39m):\n\u001b[1;32m    128\u001b[0m     response_dict \u001b[38;5;241m=\u001b[39m json\u001b[38;5;241m.\u001b[39mloads(response[\u001b[38;5;241m0\u001b[39m][\u001b[38;5;241m0\u001b[39m])\n",
      "File \u001b[0;32m~/.local/lib/python3.11/site-packages/snowflake/snowpark/_internal/telemetry.py:175\u001b[0m, in \u001b[0;36mdf_collect_api_telemetry.<locals>.wrap\u001b[0;34m(*args, **kwargs)\u001b[0m\n\u001b[1;32m    172\u001b[0m \u001b[38;5;129m@functools\u001b[39m\u001b[38;5;241m.\u001b[39mwraps(func)\n\u001b[1;32m    173\u001b[0m \u001b[38;5;28;01mdef\u001b[39;00m\u001b[38;5;250m \u001b[39m\u001b[38;5;21mwrap\u001b[39m(\u001b[38;5;241m*\u001b[39margs, \u001b[38;5;241m*\u001b[39m\u001b[38;5;241m*\u001b[39mkwargs):\n\u001b[1;32m    174\u001b[0m     \u001b[38;5;28;01mwith\u001b[39;00m args[\u001b[38;5;241m0\u001b[39m]\u001b[38;5;241m.\u001b[39m_session\u001b[38;5;241m.\u001b[39mquery_history() \u001b[38;5;28;01mas\u001b[39;00m query_history:\n\u001b[0;32m--> 175\u001b[0m         result \u001b[38;5;241m=\u001b[39m \u001b[43mfunc\u001b[49m\u001b[43m(\u001b[49m\u001b[38;5;241;43m*\u001b[39;49m\u001b[43margs\u001b[49m\u001b[43m,\u001b[49m\u001b[43m \u001b[49m\u001b[38;5;241;43m*\u001b[39;49m\u001b[38;5;241;43m*\u001b[39;49m\u001b[43mkwargs\u001b[49m\u001b[43m)\u001b[49m\n\u001b[1;32m    176\u001b[0m     plan \u001b[38;5;241m=\u001b[39m args[\u001b[38;5;241m0\u001b[39m]\u001b[38;5;241m.\u001b[39m_select_statement \u001b[38;5;129;01mor\u001b[39;00m args[\u001b[38;5;241m0\u001b[39m]\u001b[38;5;241m.\u001b[39m_plan\n\u001b[1;32m    177\u001b[0m     api_calls \u001b[38;5;241m=\u001b[39m [\n\u001b[1;32m    178\u001b[0m         \u001b[38;5;241m*\u001b[39mplan\u001b[38;5;241m.\u001b[39mapi_calls,\n\u001b[1;32m    179\u001b[0m         {TelemetryField\u001b[38;5;241m.\u001b[39mNAME\u001b[38;5;241m.\u001b[39mvalue: \u001b[38;5;124mf\u001b[39m\u001b[38;5;124m\"\u001b[39m\u001b[38;5;124mDataFrame.\u001b[39m\u001b[38;5;132;01m{\u001b[39;00mfunc\u001b[38;5;241m.\u001b[39m\u001b[38;5;18m__name__\u001b[39m\u001b[38;5;132;01m}\u001b[39;00m\u001b[38;5;124m\"\u001b[39m},\n\u001b[1;32m    180\u001b[0m     ]\n",
      "File \u001b[0;32m~/.local/lib/python3.11/site-packages/snowflake/snowpark/_internal/utils.py:960\u001b[0m, in \u001b[0;36mpublicapi.<locals>.func_call_wrapper\u001b[0;34m(*args, **kwargs)\u001b[0m\n\u001b[1;32m    956\u001b[0m         kwargs[\u001b[38;5;124m\"\u001b[39m\u001b[38;5;124m_emit_ast\u001b[39m\u001b[38;5;124m\"\u001b[39m] \u001b[38;5;241m=\u001b[39m infer_ast_enabled_from_global_sessions(func)\n\u001b[1;32m    958\u001b[0m \u001b[38;5;66;03m# TODO: Could modify internal docstring to display that users should not modify the _emit_ast parameter.\u001b[39;00m\n\u001b[0;32m--> 960\u001b[0m \u001b[38;5;28;01mreturn\u001b[39;00m \u001b[43mfunc\u001b[49m\u001b[43m(\u001b[49m\u001b[38;5;241;43m*\u001b[39;49m\u001b[43margs\u001b[49m\u001b[43m,\u001b[49m\u001b[43m \u001b[49m\u001b[38;5;241;43m*\u001b[39;49m\u001b[38;5;241;43m*\u001b[39;49m\u001b[43mkwargs\u001b[49m\u001b[43m)\u001b[49m\n",
      "File \u001b[0;32m~/.local/lib/python3.11/site-packages/snowflake/snowpark/dataframe.py:710\u001b[0m, in \u001b[0;36mDataFrame.collect\u001b[0;34m(self, statement_params, block, log_on_exception, case_sensitive, _emit_ast)\u001b[0m\n\u001b[1;32m    707\u001b[0m     _, kwargs[DATAFRAME_AST_PARAMETER] \u001b[38;5;241m=\u001b[39m \u001b[38;5;28mself\u001b[39m\u001b[38;5;241m.\u001b[39m_session\u001b[38;5;241m.\u001b[39m_ast_batch\u001b[38;5;241m.\u001b[39mflush()\n\u001b[1;32m    709\u001b[0m \u001b[38;5;28;01mwith\u001b[39;00m open_telemetry_context_manager(\u001b[38;5;28mself\u001b[39m\u001b[38;5;241m.\u001b[39mcollect, \u001b[38;5;28mself\u001b[39m):\n\u001b[0;32m--> 710\u001b[0m     \u001b[38;5;28;01mreturn\u001b[39;00m \u001b[38;5;28;43mself\u001b[39;49m\u001b[38;5;241;43m.\u001b[39;49m\u001b[43m_internal_collect_with_tag_no_telemetry\u001b[49m\u001b[43m(\u001b[49m\n\u001b[1;32m    711\u001b[0m \u001b[43m        \u001b[49m\u001b[43mstatement_params\u001b[49m\u001b[38;5;241;43m=\u001b[39;49m\u001b[43mstatement_params\u001b[49m\u001b[43m,\u001b[49m\n\u001b[1;32m    712\u001b[0m \u001b[43m        \u001b[49m\u001b[43mblock\u001b[49m\u001b[38;5;241;43m=\u001b[39;49m\u001b[43mblock\u001b[49m\u001b[43m,\u001b[49m\n\u001b[1;32m    713\u001b[0m \u001b[43m        \u001b[49m\u001b[43mlog_on_exception\u001b[49m\u001b[38;5;241;43m=\u001b[39;49m\u001b[43mlog_on_exception\u001b[49m\u001b[43m,\u001b[49m\n\u001b[1;32m    714\u001b[0m \u001b[43m        \u001b[49m\u001b[43mcase_sensitive\u001b[49m\u001b[38;5;241;43m=\u001b[39;49m\u001b[43mcase_sensitive\u001b[49m\u001b[43m,\u001b[49m\n\u001b[1;32m    715\u001b[0m \u001b[43m        \u001b[49m\u001b[38;5;241;43m*\u001b[39;49m\u001b[38;5;241;43m*\u001b[39;49m\u001b[43mkwargs\u001b[49m\u001b[43m,\u001b[49m\n\u001b[1;32m    716\u001b[0m \u001b[43m    \u001b[49m\u001b[43m)\u001b[49m\n",
      "File \u001b[0;32m~/.local/lib/python3.11/site-packages/snowflake/snowpark/dataframe.py:781\u001b[0m, in \u001b[0;36mDataFrame._internal_collect_with_tag_no_telemetry\u001b[0;34m(self, statement_params, block, data_type, log_on_exception, case_sensitive, **kwargs)\u001b[0m\n\u001b[1;32m    768\u001b[0m \u001b[38;5;28;01mdef\u001b[39;00m\u001b[38;5;250m \u001b[39m\u001b[38;5;21m_internal_collect_with_tag_no_telemetry\u001b[39m(\n\u001b[1;32m    769\u001b[0m     \u001b[38;5;28mself\u001b[39m,\n\u001b[1;32m    770\u001b[0m     \u001b[38;5;241m*\u001b[39m,\n\u001b[0;32m   (...)\u001b[0m\n\u001b[1;32m    779\u001b[0m     \u001b[38;5;66;03m# we should always call this method instead of collect(), to make sure the\u001b[39;00m\n\u001b[1;32m    780\u001b[0m     \u001b[38;5;66;03m# query tag is set properly.\u001b[39;00m\n\u001b[0;32m--> 781\u001b[0m     \u001b[38;5;28;01mreturn\u001b[39;00m \u001b[38;5;28;43mself\u001b[39;49m\u001b[38;5;241;43m.\u001b[39;49m\u001b[43m_session\u001b[49m\u001b[38;5;241;43m.\u001b[39;49m\u001b[43m_conn\u001b[49m\u001b[38;5;241;43m.\u001b[39;49m\u001b[43mexecute\u001b[49m\u001b[43m(\u001b[49m\n\u001b[1;32m    782\u001b[0m \u001b[43m        \u001b[49m\u001b[38;5;28;43mself\u001b[39;49m\u001b[38;5;241;43m.\u001b[39;49m\u001b[43m_plan\u001b[49m\u001b[43m,\u001b[49m\n\u001b[1;32m    783\u001b[0m \u001b[43m        \u001b[49m\u001b[43mblock\u001b[49m\u001b[38;5;241;43m=\u001b[39;49m\u001b[43mblock\u001b[49m\u001b[43m,\u001b[49m\n\u001b[1;32m    784\u001b[0m \u001b[43m        \u001b[49m\u001b[43mdata_type\u001b[49m\u001b[38;5;241;43m=\u001b[39;49m\u001b[43mdata_type\u001b[49m\u001b[43m,\u001b[49m\n\u001b[1;32m    785\u001b[0m \u001b[43m        \u001b[49m\u001b[43m_statement_params\u001b[49m\u001b[38;5;241;43m=\u001b[39;49m\u001b[43mcreate_or_update_statement_params_with_query_tag\u001b[49m\u001b[43m(\u001b[49m\n\u001b[1;32m    786\u001b[0m \u001b[43m            \u001b[49m\u001b[43mstatement_params\u001b[49m\u001b[43m \u001b[49m\u001b[38;5;129;43;01mor\u001b[39;49;00m\u001b[43m \u001b[49m\u001b[38;5;28;43mself\u001b[39;49m\u001b[38;5;241;43m.\u001b[39;49m\u001b[43m_statement_params\u001b[49m\u001b[43m,\u001b[49m\n\u001b[1;32m    787\u001b[0m \u001b[43m            \u001b[49m\u001b[38;5;28;43mself\u001b[39;49m\u001b[38;5;241;43m.\u001b[39;49m\u001b[43m_session\u001b[49m\u001b[38;5;241;43m.\u001b[39;49m\u001b[43mquery_tag\u001b[49m\u001b[43m,\u001b[49m\n\u001b[1;32m    788\u001b[0m \u001b[43m            \u001b[49m\u001b[43mSKIP_LEVELS_THREE\u001b[49m\u001b[43m,\u001b[49m\n\u001b[1;32m    789\u001b[0m \u001b[43m        \u001b[49m\u001b[43m)\u001b[49m\u001b[43m,\u001b[49m\n\u001b[1;32m    790\u001b[0m \u001b[43m        \u001b[49m\u001b[43mlog_on_exception\u001b[49m\u001b[38;5;241;43m=\u001b[39;49m\u001b[43mlog_on_exception\u001b[49m\u001b[43m,\u001b[49m\n\u001b[1;32m    791\u001b[0m \u001b[43m        \u001b[49m\u001b[43mcase_sensitive\u001b[49m\u001b[38;5;241;43m=\u001b[39;49m\u001b[43mcase_sensitive\u001b[49m\u001b[43m,\u001b[49m\n\u001b[1;32m    792\u001b[0m \u001b[43m        \u001b[49m\u001b[38;5;241;43m*\u001b[39;49m\u001b[38;5;241;43m*\u001b[39;49m\u001b[43mkwargs\u001b[49m\u001b[43m,\u001b[49m\n\u001b[1;32m    793\u001b[0m \u001b[43m    \u001b[49m\u001b[43m)\u001b[49m\n",
      "File \u001b[0;32m~/.local/lib/python3.11/site-packages/snowflake/snowpark/_internal/server_connection.py:609\u001b[0m, in \u001b[0;36mServerConnection.execute\u001b[0;34m(self, plan, to_pandas, to_iter, block, data_type, log_on_exception, case_sensitive, **kwargs)\u001b[0m\n\u001b[1;32m    599\u001b[0m \u001b[38;5;28;01mif\u001b[39;00m (\n\u001b[1;32m    600\u001b[0m     is_in_stored_procedure()\n\u001b[1;32m    601\u001b[0m     \u001b[38;5;129;01mand\u001b[39;00m \u001b[38;5;129;01mnot\u001b[39;00m block\n\u001b[0;32m   (...)\u001b[0m\n\u001b[1;32m    604\u001b[0m     )\n\u001b[1;32m    605\u001b[0m ):  \u001b[38;5;66;03m# pragma: no cover\u001b[39;00m\n\u001b[1;32m    606\u001b[0m     \u001b[38;5;28;01mraise\u001b[39;00m \u001b[38;5;167;01mNotImplementedError\u001b[39;00m(\n\u001b[1;32m    607\u001b[0m         \u001b[38;5;124m\"\u001b[39m\u001b[38;5;124mAsync query is not supported in stored procedure yet\u001b[39m\u001b[38;5;124m\"\u001b[39m\n\u001b[1;32m    608\u001b[0m     )\n\u001b[0;32m--> 609\u001b[0m result_set, result_meta \u001b[38;5;241m=\u001b[39m \u001b[38;5;28;43mself\u001b[39;49m\u001b[38;5;241;43m.\u001b[39;49m\u001b[43mget_result_set\u001b[49m\u001b[43m(\u001b[49m\n\u001b[1;32m    610\u001b[0m \u001b[43m    \u001b[49m\u001b[43mplan\u001b[49m\u001b[43m,\u001b[49m\n\u001b[1;32m    611\u001b[0m \u001b[43m    \u001b[49m\u001b[43mto_pandas\u001b[49m\u001b[43m,\u001b[49m\n\u001b[1;32m    612\u001b[0m \u001b[43m    \u001b[49m\u001b[43mto_iter\u001b[49m\u001b[43m,\u001b[49m\n\u001b[1;32m    613\u001b[0m \u001b[43m    \u001b[49m\u001b[38;5;241;43m*\u001b[39;49m\u001b[38;5;241;43m*\u001b[39;49m\u001b[43mkwargs\u001b[49m\u001b[43m,\u001b[49m\n\u001b[1;32m    614\u001b[0m \u001b[43m    \u001b[49m\u001b[43mblock\u001b[49m\u001b[38;5;241;43m=\u001b[39;49m\u001b[43mblock\u001b[49m\u001b[43m,\u001b[49m\n\u001b[1;32m    615\u001b[0m \u001b[43m    \u001b[49m\u001b[43mdata_type\u001b[49m\u001b[38;5;241;43m=\u001b[39;49m\u001b[43mdata_type\u001b[49m\u001b[43m,\u001b[49m\n\u001b[1;32m    616\u001b[0m \u001b[43m    \u001b[49m\u001b[43mlog_on_exception\u001b[49m\u001b[38;5;241;43m=\u001b[39;49m\u001b[43mlog_on_exception\u001b[49m\u001b[43m,\u001b[49m\n\u001b[1;32m    617\u001b[0m \u001b[43m    \u001b[49m\u001b[43mcase_sensitive\u001b[49m\u001b[38;5;241;43m=\u001b[39;49m\u001b[43mcase_sensitive\u001b[49m\u001b[43m,\u001b[49m\n\u001b[1;32m    618\u001b[0m \u001b[43m\u001b[49m\u001b[43m)\u001b[49m\n\u001b[1;32m    619\u001b[0m \u001b[38;5;28;01mif\u001b[39;00m \u001b[38;5;129;01mnot\u001b[39;00m block:\n\u001b[1;32m    620\u001b[0m     \u001b[38;5;28;01mreturn\u001b[39;00m result_set\n",
      "File \u001b[0;32m~/.local/lib/python3.11/site-packages/snowflake/snowpark/_internal/analyzer/snowflake_plan.py:136\u001b[0m, in \u001b[0;36mSnowflakePlan.Decorator.wrap_exception.<locals>.wrap\u001b[0;34m(*args, **kwargs)\u001b[0m\n\u001b[1;32m    134\u001b[0m \u001b[38;5;28;01mdef\u001b[39;00m\u001b[38;5;250m \u001b[39m\u001b[38;5;21mwrap\u001b[39m(\u001b[38;5;241m*\u001b[39margs, \u001b[38;5;241m*\u001b[39m\u001b[38;5;241m*\u001b[39mkwargs):\n\u001b[1;32m    135\u001b[0m     \u001b[38;5;28;01mtry\u001b[39;00m:\n\u001b[0;32m--> 136\u001b[0m         \u001b[38;5;28;01mreturn\u001b[39;00m \u001b[43mfunc\u001b[49m\u001b[43m(\u001b[49m\u001b[38;5;241;43m*\u001b[39;49m\u001b[43margs\u001b[49m\u001b[43m,\u001b[49m\u001b[43m \u001b[49m\u001b[38;5;241;43m*\u001b[39;49m\u001b[38;5;241;43m*\u001b[39;49m\u001b[43mkwargs\u001b[49m\u001b[43m)\u001b[49m\n\u001b[1;32m    137\u001b[0m     \u001b[38;5;28;01mexcept\u001b[39;00m snowflake\u001b[38;5;241m.\u001b[39mconnector\u001b[38;5;241m.\u001b[39merrors\u001b[38;5;241m.\u001b[39mProgrammingError \u001b[38;5;28;01mas\u001b[39;00m e:\n\u001b[1;32m    138\u001b[0m         query \u001b[38;5;241m=\u001b[39m \u001b[38;5;28mgetattr\u001b[39m(e, \u001b[38;5;124m\"\u001b[39m\u001b[38;5;124mquery\u001b[39m\u001b[38;5;124m\"\u001b[39m, \u001b[38;5;28;01mNone\u001b[39;00m)\n",
      "File \u001b[0;32m~/.local/lib/python3.11/site-packages/snowflake/snowpark/_internal/server_connection.py:727\u001b[0m, in \u001b[0;36mServerConnection.get_result_set\u001b[0;34m(self, plan, to_pandas, to_iter, block, data_type, log_on_exception, case_sensitive, ignore_results, **kwargs)\u001b[0m\n\u001b[1;32m    725\u001b[0m \u001b[38;5;28;01mif\u001b[39;00m i \u001b[38;5;241m==\u001b[39m \u001b[38;5;28mlen\u001b[39m(main_queries) \u001b[38;5;241m-\u001b[39m \u001b[38;5;241m1\u001b[39m \u001b[38;5;129;01mand\u001b[39;00m dataframe_ast:\n\u001b[1;32m    726\u001b[0m     kwargs[DATAFRAME_AST_PARAMETER] \u001b[38;5;241m=\u001b[39m dataframe_ast\n\u001b[0;32m--> 727\u001b[0m result \u001b[38;5;241m=\u001b[39m \u001b[38;5;28;43mself\u001b[39;49m\u001b[38;5;241;43m.\u001b[39;49m\u001b[43mrun_query\u001b[49m\u001b[43m(\u001b[49m\n\u001b[1;32m    728\u001b[0m \u001b[43m    \u001b[49m\u001b[43mfinal_query\u001b[49m\u001b[43m,\u001b[49m\n\u001b[1;32m    729\u001b[0m \u001b[43m    \u001b[49m\u001b[43mto_pandas\u001b[49m\u001b[43m,\u001b[49m\n\u001b[1;32m    730\u001b[0m \u001b[43m    \u001b[49m\u001b[43mto_iter\u001b[49m\u001b[43m \u001b[49m\u001b[38;5;129;43;01mand\u001b[39;49;00m\u001b[43m \u001b[49m\u001b[43m(\u001b[49m\u001b[43mi\u001b[49m\u001b[43m \u001b[49m\u001b[38;5;241;43m==\u001b[39;49m\u001b[43m \u001b[49m\u001b[38;5;28;43mlen\u001b[39;49m\u001b[43m(\u001b[49m\u001b[43mmain_queries\u001b[49m\u001b[43m)\u001b[49m\u001b[43m \u001b[49m\u001b[38;5;241;43m-\u001b[39;49m\u001b[43m \u001b[49m\u001b[38;5;241;43m1\u001b[39;49m\u001b[43m)\u001b[49m\u001b[43m,\u001b[49m\n\u001b[1;32m    731\u001b[0m \u001b[43m    \u001b[49m\u001b[43mis_ddl_on_temp_object\u001b[49m\u001b[38;5;241;43m=\u001b[39;49m\u001b[43mquery\u001b[49m\u001b[38;5;241;43m.\u001b[39;49m\u001b[43mis_ddl_on_temp_object\u001b[49m\u001b[43m,\u001b[49m\n\u001b[1;32m    732\u001b[0m \u001b[43m    \u001b[49m\u001b[43mblock\u001b[49m\u001b[38;5;241;43m=\u001b[39;49m\u001b[38;5;129;43;01mnot\u001b[39;49;00m\u001b[43m \u001b[49m\u001b[43mis_last\u001b[49m\u001b[43m,\u001b[49m\n\u001b[1;32m    733\u001b[0m \u001b[43m    \u001b[49m\u001b[43mdata_type\u001b[49m\u001b[38;5;241;43m=\u001b[39;49m\u001b[43mdata_type\u001b[49m\u001b[43m,\u001b[49m\n\u001b[1;32m    734\u001b[0m \u001b[43m    \u001b[49m\u001b[43masync_job_plan\u001b[49m\u001b[38;5;241;43m=\u001b[39;49m\u001b[43mplan\u001b[49m\u001b[43m,\u001b[49m\n\u001b[1;32m    735\u001b[0m \u001b[43m    \u001b[49m\u001b[43mlog_on_exception\u001b[49m\u001b[38;5;241;43m=\u001b[39;49m\u001b[43mlog_on_exception\u001b[49m\u001b[43m,\u001b[49m\n\u001b[1;32m    736\u001b[0m \u001b[43m    \u001b[49m\u001b[43mcase_sensitive\u001b[49m\u001b[38;5;241;43m=\u001b[39;49m\u001b[43mcase_sensitive\u001b[49m\u001b[43m,\u001b[49m\n\u001b[1;32m    737\u001b[0m \u001b[43m    \u001b[49m\u001b[43mparams\u001b[49m\u001b[38;5;241;43m=\u001b[39;49m\u001b[43mquery\u001b[49m\u001b[38;5;241;43m.\u001b[39;49m\u001b[43mparams\u001b[49m\u001b[43m,\u001b[49m\n\u001b[1;32m    738\u001b[0m \u001b[43m    \u001b[49m\u001b[43mignore_results\u001b[49m\u001b[38;5;241;43m=\u001b[39;49m\u001b[43mignore_results\u001b[49m\u001b[43m,\u001b[49m\n\u001b[1;32m    739\u001b[0m \u001b[43m    \u001b[49m\u001b[43masync_post_actions\u001b[49m\u001b[38;5;241;43m=\u001b[39;49m\u001b[43mpost_actions\u001b[49m\u001b[43m,\u001b[49m\n\u001b[1;32m    740\u001b[0m \u001b[43m    \u001b[49m\u001b[38;5;241;43m*\u001b[39;49m\u001b[38;5;241;43m*\u001b[39;49m\u001b[43mkwargs\u001b[49m\u001b[43m,\u001b[49m\n\u001b[1;32m    741\u001b[0m \u001b[43m\u001b[49m\u001b[43m)\u001b[49m\n\u001b[1;32m    742\u001b[0m placeholders[query\u001b[38;5;241m.\u001b[39mquery_id_place_holder] \u001b[38;5;241m=\u001b[39m (\n\u001b[1;32m    743\u001b[0m     result[\u001b[38;5;124m\"\u001b[39m\u001b[38;5;124msfqid\u001b[39m\u001b[38;5;124m\"\u001b[39m] \u001b[38;5;28;01mif\u001b[39;00m \u001b[38;5;129;01mnot\u001b[39;00m is_last \u001b[38;5;28;01melse\u001b[39;00m result\u001b[38;5;241m.\u001b[39mquery_id\n\u001b[1;32m    744\u001b[0m )\n\u001b[1;32m    745\u001b[0m result_meta \u001b[38;5;241m=\u001b[39m get_new_description(\u001b[38;5;28mself\u001b[39m\u001b[38;5;241m.\u001b[39m_cursor)\n",
      "File \u001b[0;32m~/.local/lib/python3.11/site-packages/snowflake/snowpark/_internal/server_connection.py:130\u001b[0m, in \u001b[0;36mServerConnection._Decorator.wrap_exception.<locals>.wrap\u001b[0;34m(*args, **kwargs)\u001b[0m\n\u001b[1;32m    126\u001b[0m     \u001b[38;5;28;01mraise\u001b[39;00m SnowparkClientExceptionMessages\u001b[38;5;241m.\u001b[39mSERVER_SESSION_EXPIRED(\n\u001b[1;32m    127\u001b[0m         ex\u001b[38;5;241m.\u001b[39mcause\n\u001b[1;32m    128\u001b[0m     )\n\u001b[1;32m    129\u001b[0m \u001b[38;5;28;01mexcept\u001b[39;00m \u001b[38;5;167;01mException\u001b[39;00m \u001b[38;5;28;01mas\u001b[39;00m ex:\n\u001b[0;32m--> 130\u001b[0m     \u001b[38;5;28;01mraise\u001b[39;00m ex\n",
      "File \u001b[0;32m~/.local/lib/python3.11/site-packages/snowflake/snowpark/_internal/server_connection.py:124\u001b[0m, in \u001b[0;36mServerConnection._Decorator.wrap_exception.<locals>.wrap\u001b[0;34m(*args, **kwargs)\u001b[0m\n\u001b[1;32m    122\u001b[0m     \u001b[38;5;28;01mraise\u001b[39;00m SnowparkClientExceptionMessages\u001b[38;5;241m.\u001b[39mSERVER_SESSION_HAS_BEEN_CLOSED()\n\u001b[1;32m    123\u001b[0m \u001b[38;5;28;01mtry\u001b[39;00m:\n\u001b[0;32m--> 124\u001b[0m     \u001b[38;5;28;01mreturn\u001b[39;00m \u001b[43mfunc\u001b[49m\u001b[43m(\u001b[49m\u001b[38;5;241;43m*\u001b[39;49m\u001b[43margs\u001b[49m\u001b[43m,\u001b[49m\u001b[43m \u001b[49m\u001b[38;5;241;43m*\u001b[39;49m\u001b[38;5;241;43m*\u001b[39;49m\u001b[43mkwargs\u001b[49m\u001b[43m)\u001b[49m\n\u001b[1;32m    125\u001b[0m \u001b[38;5;28;01mexcept\u001b[39;00m ReauthenticationRequest \u001b[38;5;28;01mas\u001b[39;00m ex:\n\u001b[1;32m    126\u001b[0m     \u001b[38;5;28;01mraise\u001b[39;00m SnowparkClientExceptionMessages\u001b[38;5;241m.\u001b[39mSERVER_SESSION_EXPIRED(\n\u001b[1;32m    127\u001b[0m         ex\u001b[38;5;241m.\u001b[39mcause\n\u001b[1;32m    128\u001b[0m     )\n",
      "File \u001b[0;32m~/.local/lib/python3.11/site-packages/snowflake/snowpark/_internal/server_connection.py:526\u001b[0m, in \u001b[0;36mServerConnection.run_query\u001b[0;34m(self, query, to_pandas, to_iter, is_ddl_on_temp_object, block, data_type, async_job_plan, log_on_exception, case_sensitive, params, num_statements, ignore_results, async_post_actions, **kwargs)\u001b[0m\n\u001b[1;32m    524\u001b[0m     \u001b[38;5;28;01mif\u001b[39;00m ignore_results:\n\u001b[1;32m    525\u001b[0m         \u001b[38;5;28;01mreturn\u001b[39;00m {\u001b[38;5;124m\"\u001b[39m\u001b[38;5;124mdata\u001b[39m\u001b[38;5;124m\"\u001b[39m: \u001b[38;5;28;01mNone\u001b[39;00m, \u001b[38;5;124m\"\u001b[39m\u001b[38;5;124msfqid\u001b[39m\u001b[38;5;124m\"\u001b[39m: results_cursor\u001b[38;5;241m.\u001b[39msfqid}\n\u001b[0;32m--> 526\u001b[0m     \u001b[38;5;28;01mreturn\u001b[39;00m \u001b[38;5;28;43mself\u001b[39;49m\u001b[38;5;241;43m.\u001b[39;49m\u001b[43m_to_data_or_iter\u001b[49m\u001b[43m(\u001b[49m\n\u001b[1;32m    527\u001b[0m \u001b[43m        \u001b[49m\u001b[43mresults_cursor\u001b[49m\u001b[38;5;241;43m=\u001b[39;49m\u001b[43mresults_cursor\u001b[49m\u001b[43m,\u001b[49m\u001b[43m \u001b[49m\u001b[43mto_pandas\u001b[49m\u001b[38;5;241;43m=\u001b[39;49m\u001b[43mto_pandas\u001b[49m\u001b[43m,\u001b[49m\u001b[43m \u001b[49m\u001b[43mto_iter\u001b[49m\u001b[38;5;241;43m=\u001b[39;49m\u001b[43mto_iter\u001b[49m\n\u001b[1;32m    528\u001b[0m \u001b[43m    \u001b[49m\u001b[43m)\u001b[49m\n\u001b[1;32m    529\u001b[0m \u001b[38;5;28;01melse\u001b[39;00m:\n\u001b[1;32m    530\u001b[0m     \u001b[38;5;28;01mreturn\u001b[39;00m AsyncJob(\n\u001b[1;32m    531\u001b[0m         results_cursor[\u001b[38;5;124m\"\u001b[39m\u001b[38;5;124mqueryId\u001b[39m\u001b[38;5;124m\"\u001b[39m],\n\u001b[1;32m    532\u001b[0m         query,\n\u001b[0;32m   (...)\u001b[0m\n\u001b[1;32m    539\u001b[0m         \u001b[38;5;241m*\u001b[39m\u001b[38;5;241m*\u001b[39mkwargs,\n\u001b[1;32m    540\u001b[0m     )\n",
      "File \u001b[0;32m~/.local/lib/python3.11/site-packages/snowflake/snowpark/_internal/server_connection.py:581\u001b[0m, in \u001b[0;36mServerConnection._to_data_or_iter\u001b[0;34m(self, results_cursor, to_pandas, to_iter)\u001b[0m\n\u001b[1;32m    576\u001b[0m         \u001b[38;5;28;01mraise\u001b[39;00m SnowparkClientExceptionMessages\u001b[38;5;241m.\u001b[39mSERVER_FAILED_FETCH_PANDAS(\n\u001b[1;32m    577\u001b[0m             \u001b[38;5;28mstr\u001b[39m(ex)\n\u001b[1;32m    578\u001b[0m         )\n\u001b[1;32m    579\u001b[0m \u001b[38;5;28;01melse\u001b[39;00m:\n\u001b[1;32m    580\u001b[0m     data_or_iter \u001b[38;5;241m=\u001b[39m (\n\u001b[0;32m--> 581\u001b[0m         \u001b[38;5;28miter\u001b[39m(results_cursor) \u001b[38;5;28;01mif\u001b[39;00m to_iter \u001b[38;5;28;01melse\u001b[39;00m \u001b[43mresults_cursor\u001b[49m\u001b[38;5;241;43m.\u001b[39;49m\u001b[43mfetchall\u001b[49m\u001b[43m(\u001b[49m\u001b[43m)\u001b[49m\n\u001b[1;32m    582\u001b[0m     )\n\u001b[1;32m    584\u001b[0m \u001b[38;5;28;01mreturn\u001b[39;00m {\u001b[38;5;124m\"\u001b[39m\u001b[38;5;124mdata\u001b[39m\u001b[38;5;124m\"\u001b[39m: data_or_iter, \u001b[38;5;124m\"\u001b[39m\u001b[38;5;124msfqid\u001b[39m\u001b[38;5;124m\"\u001b[39m: qid}\n",
      "File \u001b[0;32m~/.local/lib/python3.11/site-packages/trulens/core/feedback/endpoint.py:876\u001b[0m, in \u001b[0;36mEndpoint.wrap_function.<locals>.tru_wrapper\u001b[0;34m(*args, **kwargs)\u001b[0m\n\u001b[1;32m    870\u001b[0m     \u001b[38;5;28;01mreturn\u001b[39;00m response\n\u001b[1;32m    872\u001b[0m \u001b[38;5;66;03m# Problem here: OpenAI returns generators inside its own special\u001b[39;00m\n\u001b[1;32m    873\u001b[0m \u001b[38;5;66;03m# classes. These are thus handled in\u001b[39;00m\n\u001b[1;32m    874\u001b[0m \u001b[38;5;66;03m# OpenAIEndpoint.wrapped_call .\u001b[39;00m\n\u001b[0;32m--> 876\u001b[0m \u001b[38;5;28;01mreturn\u001b[39;00m \u001b[43mupdate_response\u001b[49m\u001b[43m(\u001b[49m\u001b[43mresponse\u001b[49m\u001b[43m)\u001b[49m\n",
      "File \u001b[0;32m~/.local/lib/python3.11/site-packages/trulens/core/feedback/endpoint.py:858\u001b[0m, in \u001b[0;36mEndpoint.wrap_function.<locals>.tru_wrapper.<locals>.update_response\u001b[0;34m(response)\u001b[0m\n\u001b[1;32m    855\u001b[0m logger\u001b[38;5;241m.\u001b[39mdebug(\u001b[38;5;124m\"\u001b[39m\u001b[38;5;124mHandling endpoint \u001b[39m\u001b[38;5;132;01m%s\u001b[39;00m\u001b[38;5;124m.\u001b[39m\u001b[38;5;124m\"\u001b[39m, endpoint\u001b[38;5;241m.\u001b[39mname)\n\u001b[1;32m    857\u001b[0m \u001b[38;5;28;01mwith\u001b[39;00m python_utils\u001b[38;5;241m.\u001b[39mwith_context(context_vars):\n\u001b[0;32m--> 858\u001b[0m     response_ \u001b[38;5;241m=\u001b[39m \u001b[43mendpoint\u001b[49m\u001b[38;5;241;43m.\u001b[39;49m\u001b[43mhandle_wrapped_call\u001b[49m\u001b[43m(\u001b[49m\n\u001b[1;32m    859\u001b[0m \u001b[43m        \u001b[49m\u001b[43mfunc\u001b[49m\u001b[38;5;241;43m=\u001b[39;49m\u001b[43mfunc\u001b[49m\u001b[43m,\u001b[49m\n\u001b[1;32m    860\u001b[0m \u001b[43m        \u001b[49m\u001b[43mbindings\u001b[49m\u001b[38;5;241;43m=\u001b[39;49m\u001b[43mbindings\u001b[49m\u001b[43m,\u001b[49m\n\u001b[1;32m    861\u001b[0m \u001b[43m        \u001b[49m\u001b[43mresponse\u001b[49m\u001b[38;5;241;43m=\u001b[39;49m\u001b[43mresponse\u001b[49m\u001b[43m,\u001b[49m\n\u001b[1;32m    862\u001b[0m \u001b[43m        \u001b[49m\u001b[43mcallback\u001b[49m\u001b[38;5;241;43m=\u001b[39;49m\u001b[43mcallback\u001b[49m\u001b[43m,\u001b[49m\n\u001b[1;32m    863\u001b[0m \u001b[43m    \u001b[49m\u001b[43m)\u001b[49m\n\u001b[1;32m    864\u001b[0m     \u001b[38;5;28;01mif\u001b[39;00m response_ \u001b[38;5;129;01mis\u001b[39;00m \u001b[38;5;129;01mnot\u001b[39;00m \u001b[38;5;28;01mNone\u001b[39;00m:\n\u001b[1;32m    865\u001b[0m         \u001b[38;5;66;03m# Handler is allowed to override the response in\u001b[39;00m\n\u001b[1;32m    866\u001b[0m         \u001b[38;5;66;03m# case it wants to wrap some generators or similar\u001b[39;00m\n\u001b[1;32m    867\u001b[0m         \u001b[38;5;66;03m# lazy structures.\u001b[39;00m\n\u001b[1;32m    868\u001b[0m         response \u001b[38;5;241m=\u001b[39m response_\n",
      "File \u001b[0;32m~/.local/lib/python3.11/site-packages/trulens/providers/cortex/endpoint.py:132\u001b[0m, in \u001b[0;36mCortexEndpoint.handle_wrapped_call\u001b[0;34m(self, func, bindings, response, callback)\u001b[0m\n\u001b[1;32m    130\u001b[0m \u001b[38;5;28;01mexcept\u001b[39;00m \u001b[38;5;167;01mException\u001b[39;00m \u001b[38;5;28;01mas\u001b[39;00m e:\n\u001b[1;32m    131\u001b[0m     logger\u001b[38;5;241m.\u001b[39merror(\u001b[38;5;124mf\u001b[39m\u001b[38;5;124m\"\u001b[39m\u001b[38;5;124mError occurred while parsing response: \u001b[39m\u001b[38;5;132;01m{\u001b[39;00me\u001b[38;5;132;01m}\u001b[39;00m\u001b[38;5;124m\"\u001b[39m)\n\u001b[0;32m--> 132\u001b[0m     \u001b[38;5;28;01mraise\u001b[39;00m e\n\u001b[1;32m    134\u001b[0m \u001b[38;5;28;01mif\u001b[39;00m \u001b[38;5;28misinstance\u001b[39m(response_dict, \u001b[38;5;28mdict\u001b[39m) \u001b[38;5;129;01mand\u001b[39;00m \u001b[38;5;124m\"\u001b[39m\u001b[38;5;124musage\u001b[39m\u001b[38;5;124m\"\u001b[39m \u001b[38;5;129;01min\u001b[39;00m response_dict:\n\u001b[1;32m    135\u001b[0m     counted_something \u001b[38;5;241m=\u001b[39m \u001b[38;5;28;01mTrue\u001b[39;00m\n",
      "File \u001b[0;32m~/.local/lib/python3.11/site-packages/trulens/providers/cortex/endpoint.py:128\u001b[0m, in \u001b[0;36mCortexEndpoint.handle_wrapped_call\u001b[0;34m(self, func, bindings, response, callback)\u001b[0m\n\u001b[1;32m    126\u001b[0m         response_dict \u001b[38;5;241m=\u001b[39m json\u001b[38;5;241m.\u001b[39mloads(response\u001b[38;5;241m.\u001b[39mcollect()[\u001b[38;5;241m0\u001b[39m][\u001b[38;5;241m0\u001b[39m])\n\u001b[1;32m    127\u001b[0m     \u001b[38;5;28;01melif\u001b[39;00m \u001b[38;5;28misinstance\u001b[39m(response, \u001b[38;5;28mlist\u001b[39m):\n\u001b[0;32m--> 128\u001b[0m         response_dict \u001b[38;5;241m=\u001b[39m \u001b[43mjson\u001b[49m\u001b[38;5;241;43m.\u001b[39;49m\u001b[43mloads\u001b[49m\u001b[43m(\u001b[49m\u001b[43mresponse\u001b[49m\u001b[43m[\u001b[49m\u001b[38;5;241;43m0\u001b[39;49m\u001b[43m]\u001b[49m\u001b[43m[\u001b[49m\u001b[38;5;241;43m0\u001b[39;49m\u001b[43m]\u001b[49m\u001b[43m)\u001b[49m\n\u001b[1;32m    130\u001b[0m \u001b[38;5;28;01mexcept\u001b[39;00m \u001b[38;5;167;01mException\u001b[39;00m \u001b[38;5;28;01mas\u001b[39;00m e:\n\u001b[1;32m    131\u001b[0m     logger\u001b[38;5;241m.\u001b[39merror(\u001b[38;5;124mf\u001b[39m\u001b[38;5;124m\"\u001b[39m\u001b[38;5;124mError occurred while parsing response: \u001b[39m\u001b[38;5;132;01m{\u001b[39;00me\u001b[38;5;132;01m}\u001b[39;00m\u001b[38;5;124m\"\u001b[39m)\n",
      "File \u001b[0;32m/usr/local/lib/python3.11/json/__init__.py:346\u001b[0m, in \u001b[0;36mloads\u001b[0;34m(s, cls, object_hook, parse_float, parse_int, parse_constant, object_pairs_hook, **kw)\u001b[0m\n\u001b[1;32m    341\u001b[0m     s \u001b[38;5;241m=\u001b[39m s\u001b[38;5;241m.\u001b[39mdecode(detect_encoding(s), \u001b[38;5;124m'\u001b[39m\u001b[38;5;124msurrogatepass\u001b[39m\u001b[38;5;124m'\u001b[39m)\n\u001b[1;32m    343\u001b[0m \u001b[38;5;28;01mif\u001b[39;00m (\u001b[38;5;28mcls\u001b[39m \u001b[38;5;129;01mis\u001b[39;00m \u001b[38;5;28;01mNone\u001b[39;00m \u001b[38;5;129;01mand\u001b[39;00m object_hook \u001b[38;5;129;01mis\u001b[39;00m \u001b[38;5;28;01mNone\u001b[39;00m \u001b[38;5;129;01mand\u001b[39;00m\n\u001b[1;32m    344\u001b[0m         parse_int \u001b[38;5;129;01mis\u001b[39;00m \u001b[38;5;28;01mNone\u001b[39;00m \u001b[38;5;129;01mand\u001b[39;00m parse_float \u001b[38;5;129;01mis\u001b[39;00m \u001b[38;5;28;01mNone\u001b[39;00m \u001b[38;5;129;01mand\u001b[39;00m\n\u001b[1;32m    345\u001b[0m         parse_constant \u001b[38;5;129;01mis\u001b[39;00m \u001b[38;5;28;01mNone\u001b[39;00m \u001b[38;5;129;01mand\u001b[39;00m object_pairs_hook \u001b[38;5;129;01mis\u001b[39;00m \u001b[38;5;28;01mNone\u001b[39;00m \u001b[38;5;129;01mand\u001b[39;00m \u001b[38;5;129;01mnot\u001b[39;00m kw):\n\u001b[0;32m--> 346\u001b[0m     \u001b[38;5;28;01mreturn\u001b[39;00m \u001b[43m_default_decoder\u001b[49m\u001b[38;5;241;43m.\u001b[39;49m\u001b[43mdecode\u001b[49m\u001b[43m(\u001b[49m\u001b[43ms\u001b[49m\u001b[43m)\u001b[49m\n\u001b[1;32m    347\u001b[0m \u001b[38;5;28;01mif\u001b[39;00m \u001b[38;5;28mcls\u001b[39m \u001b[38;5;129;01mis\u001b[39;00m \u001b[38;5;28;01mNone\u001b[39;00m:\n\u001b[1;32m    348\u001b[0m     \u001b[38;5;28mcls\u001b[39m \u001b[38;5;241m=\u001b[39m JSONDecoder\n",
      "File \u001b[0;32m/usr/local/lib/python3.11/json/decoder.py:337\u001b[0m, in \u001b[0;36mJSONDecoder.decode\u001b[0;34m(self, s, _w)\u001b[0m\n\u001b[1;32m    332\u001b[0m \u001b[38;5;28;01mdef\u001b[39;00m\u001b[38;5;250m \u001b[39m\u001b[38;5;21mdecode\u001b[39m(\u001b[38;5;28mself\u001b[39m, s, _w\u001b[38;5;241m=\u001b[39mWHITESPACE\u001b[38;5;241m.\u001b[39mmatch):\n\u001b[1;32m    333\u001b[0m \u001b[38;5;250m    \u001b[39m\u001b[38;5;124;03m\"\"\"Return the Python representation of ``s`` (a ``str`` instance\u001b[39;00m\n\u001b[1;32m    334\u001b[0m \u001b[38;5;124;03m    containing a JSON document).\u001b[39;00m\n\u001b[1;32m    335\u001b[0m \n\u001b[1;32m    336\u001b[0m \u001b[38;5;124;03m    \"\"\"\u001b[39;00m\n\u001b[0;32m--> 337\u001b[0m     obj, end \u001b[38;5;241m=\u001b[39m \u001b[38;5;28;43mself\u001b[39;49m\u001b[38;5;241;43m.\u001b[39;49m\u001b[43mraw_decode\u001b[49m\u001b[43m(\u001b[49m\u001b[43ms\u001b[49m\u001b[43m,\u001b[49m\u001b[43m \u001b[49m\u001b[43midx\u001b[49m\u001b[38;5;241;43m=\u001b[39;49m\u001b[43m_w\u001b[49m\u001b[43m(\u001b[49m\u001b[43ms\u001b[49m\u001b[43m,\u001b[49m\u001b[43m \u001b[49m\u001b[38;5;241;43m0\u001b[39;49m\u001b[43m)\u001b[49m\u001b[38;5;241;43m.\u001b[39;49m\u001b[43mend\u001b[49m\u001b[43m(\u001b[49m\u001b[43m)\u001b[49m\u001b[43m)\u001b[49m\n\u001b[1;32m    338\u001b[0m     end \u001b[38;5;241m=\u001b[39m _w(s, end)\u001b[38;5;241m.\u001b[39mend()\n\u001b[1;32m    339\u001b[0m     \u001b[38;5;28;01mif\u001b[39;00m end \u001b[38;5;241m!=\u001b[39m \u001b[38;5;28mlen\u001b[39m(s):\n",
      "File \u001b[0;32m/usr/local/lib/python3.11/json/decoder.py:355\u001b[0m, in \u001b[0;36mJSONDecoder.raw_decode\u001b[0;34m(self, s, idx)\u001b[0m\n\u001b[1;32m    353\u001b[0m     obj, end \u001b[38;5;241m=\u001b[39m \u001b[38;5;28mself\u001b[39m\u001b[38;5;241m.\u001b[39mscan_once(s, idx)\n\u001b[1;32m    354\u001b[0m \u001b[38;5;28;01mexcept\u001b[39;00m \u001b[38;5;167;01mStopIteration\u001b[39;00m \u001b[38;5;28;01mas\u001b[39;00m err:\n\u001b[0;32m--> 355\u001b[0m     \u001b[38;5;28;01mraise\u001b[39;00m JSONDecodeError(\u001b[38;5;124m\"\u001b[39m\u001b[38;5;124mExpecting value\u001b[39m\u001b[38;5;124m\"\u001b[39m, s, err\u001b[38;5;241m.\u001b[39mvalue) \u001b[38;5;28;01mfrom\u001b[39;00m\u001b[38;5;250m \u001b[39m\u001b[38;5;28;01mNone\u001b[39;00m\n\u001b[1;32m    356\u001b[0m \u001b[38;5;28;01mreturn\u001b[39;00m obj, end\n",
      "\u001b[0;31mJSONDecodeError\u001b[0m: Expecting value: line 1 column 2 (char 1)"
     ]
    }
   ],
   "source": [
    "with tru_rag as recording:\n",
    "    myrag.query(\n",
    "        \"How to make chocolate milk?\"\n",
    "    )\n",
    "    myrag.query(\n",
    "        \"How to make pina colada\"\n",
    "    )\n",
    "    myrag.query(\"How to make a macchiato?\")"
   ]
  },
  {
   "cell_type": "markdown",
   "metadata": {},
   "source": [
    "---"
   ]
  },
  {
   "cell_type": "markdown",
   "metadata": {},
   "source": [
    "# Implementing"
   ]
  },
  {
   "cell_type": "code",
   "execution_count": 48,
   "metadata": {},
   "outputs": [
    {
     "name": "stdout",
     "output_type": "stream",
     "text": [
      "decorating <function RAG.retrieve at 0x7e2ff136a160>\n",
      "decorating <function RAG.generate_completion at 0x7e2ff1368ae0>\n",
      "decorating <function RAG.query at 0x7e2ff1368680>\n",
      "adding method <class '__main__.RAG'> retrieve __main__\n",
      "adding method <class '__main__.RAG'> generate_completion __main__\n",
      "adding method <class '__main__.RAG'> query __main__\n"
     ]
    }
   ],
   "source": [
    "from snowflake.cortex import complete\n",
    "\n",
    "class RAG:\n",
    "\n",
    "    @instrument\n",
    "    def retrieve(self, query: str, category: str) -> list:\n",
    "        \"\"\"Search for similar chunks based on query and category.\"\"\"\n",
    "        if category == \"ALL\":\n",
    "            response = svc.search(query, COLUMNS, limit=NUM_CHUNKS)\n",
    "        else:\n",
    "            filter_obj = {\"@eq\": {\"category\": category}}\n",
    "            response = svc.search(query, COLUMNS, filter=filter_obj, limit=NUM_CHUNKS)\n",
    "        \n",
    "        json_data = json.loads(response.model_dump_json())\n",
    "        relative_paths = set(item.get('relative_path', '') for item in json_data['results'])\n",
    "\n",
    "        if response.results:\n",
    "            retrieved_chunks = [curr[\"chunk\"] for curr in response.results]\n",
    "\n",
    "            return retrieved_chunks, relative_paths\n",
    "        \n",
    "\n",
    "    def create_prompt(query, category, prompt_context):\n",
    "        \"\"\"Create a prompt for the LLM with context from search results and chat history.\"\"\"\n",
    "\n",
    "        \n",
    "        prompt = f\"\"\"\n",
    "        I am Ali, a friendly and witty chef who specializes in {category} recipes! I love helping people cook and finding the perfect recipes from our collection.\n",
    "\n",
    "        Conversation Flow:\n",
    "        1. When suggesting recipes:\n",
    "            - Prioritize recipes that makes use of all ingredients\n",
    "            - First list all matching recipes as numbered options\n",
    "            - Ask which recipe they'd like to know more about\n",
    "        2. When user selects a recipe, provide full details in this format:\n",
    "            Recipe Name:\n",
    "            Quantities (for 1 person):\n",
    "            Cooking Time:\n",
    "            Steps:\n",
    "            Cuisine:\n",
    "            General Diet Type:\n",
    "\n",
    "        <context>\n",
    "        {prompt_context}\n",
    "        </context>\n",
    "\n",
    "        User Query: {query}\n",
    "        Current Category: {category}\n",
    "\n",
    "        Response (as Ali, friendly and category-aware):\n",
    "        \"\"\"\n",
    "\n",
    "        return prompt\n",
    "    \n",
    "    @instrument\n",
    "    def generate_completion(self, query: str, prompt: str, context_rag: list) -> str:\n",
    "\n",
    "        return complete(\"mistral-large2\", prompt)\n",
    "    \n",
    "    @instrument\n",
    "    def query(self, query: str, category: str):\n",
    "        context_rag, relative_paths = self.retrieve(query=query, category=category)\n",
    "        prompt = self.create_prompt(category=category, prompt_context=context_rag)\n",
    "        completion = self.generate_completion(\n",
    "            query=query, prompt=prompt, context_rag=context_rag\n",
    "        )\n",
    "\n",
    "        return completion, relative_paths"
   ]
  },
  {
   "cell_type": "code",
   "execution_count": 49,
   "metadata": {},
   "outputs": [],
   "source": [
    "myrag_imp = RAG()"
   ]
  },
  {
   "cell_type": "code",
   "execution_count": 50,
   "metadata": {},
   "outputs": [
    {
     "data": {
      "text/plain": [
       "(\" Hello there! I'm Ali, your friendly and witty chef specializing in juice recipes. I'm here to help you find the perfect juice recipe from our collection. Let's get started!\\n\\nBased on the ingredients you have, here are some delicious juice recipes you might enjoy:\\n\\n1. **Pineapple Coconut Cooler**\\n2. **Mixed Berry Sparkler**\\n3. **Honeydew Mint Cooler**\\n4. **Pineapple Mint Cooler**\\n5. **Papaya Lime Twist**\\n6. **Cantaloupe Honeydew Cooler**\\n7. **Kiwi Strawberry Splash**\\n8. **Tropical Splash**\\n9. **Green Apple Spinach Detox**\\n10. **Pear Ginger Twist**\\n11. **Pomegranate Citrus**\\n\\nWhich recipe would you like to know more about?\",\n",
       " {'juices.pdf'})"
      ]
     },
     "execution_count": 50,
     "metadata": {},
     "output_type": "execute_result"
    }
   ],
   "source": [
    "out = myrag_imp.query(query=\"How to make pina colada\", category=\"Juices\")\n",
    "out"
   ]
  },
  {
   "cell_type": "code",
   "execution_count": 36,
   "metadata": {},
   "outputs": [
    {
     "name": "stdout",
     "output_type": "stream",
     "text": [
      "✅ In Groundedness, input source will be set to __record__.app.retrieve.rets.collect() .\n",
      "✅ In Groundedness, input statement will be set to __record__.main_output or `Select.RecordOutput` .\n",
      "✅ In Answer Relevance, input prompt will be set to __record__.app.retrieve.args.query .\n",
      "✅ In Answer Relevance, input response will be set to __record__.main_output or `Select.RecordOutput` .\n",
      "✅ In Context Relevance, input question will be set to __record__.app.retrieve.args.query .\n",
      "✅ In Context Relevance, input context will be set to __record__.app.retrieve.rets.collect() .\n"
     ]
    }
   ],
   "source": [
    "# from functools import partial\n",
    "from trulens.providers.cortex.provider import Cortex\n",
    "from trulens.core import Feedback\n",
    "from trulens.core import Select\n",
    "# import numpy as np\n",
    "\n",
    "provider = Cortex(session, \"mistral-large2\")\n",
    "\n",
    "# Define a groundedness feedback function\n",
    "f_groundedness = (\n",
    "    Feedback(\n",
    "        provider.groundedness_measure_with_cot_reasons, name=\"Groundedness\"\n",
    "    )\n",
    "    .on(Select.RecordCalls.retrieve.rets.collect())\n",
    "    .on_output()\n",
    ")\n",
    "# Question/answer relevance between overall question and answer.\n",
    "f_answer_relevance = (\n",
    "    Feedback(provider.relevance_with_cot_reasons, name=\"Answer Relevance\")\n",
    "    .on(Select.RecordCalls.retrieve.args.query)\n",
    "    .on_output()\n",
    ")\n",
    "\n",
    "# Context relevance between question and each context chunk.\n",
    "f_context_relevance = (\n",
    "    Feedback(\n",
    "        provider.context_relevance_with_cot_reasons, name=\"Context Relevance\"\n",
    "    )\n",
    "    .on(Select.RecordCalls.retrieve.args.query)\n",
    "    .on(Select.RecordCalls.retrieve.rets.collect())\n",
    "    .aggregate(np.mean)  # choose a different aggregation method if you wish\n",
    ")"
   ]
  },
  {
   "cell_type": "code",
   "execution_count": 37,
   "metadata": {},
   "outputs": [
    {
     "name": "stderr",
     "output_type": "stream",
     "text": [
      "Function <function RAG.generate_completion at 0x7e2ff2450e00> was not found during instrumentation walk. Make sure it is accessible by traversing app <__main__.RAG object at 0x7e3009620fd0> or provide a bound method for it as TruCustomApp constructor argument `methods_to_instrument`.\n",
      "Function <function RAG.query at 0x7e2ff2450a40> was not found during instrumentation walk. Make sure it is accessible by traversing app <__main__.RAG object at 0x7e3009620fd0> or provide a bound method for it as TruCustomApp constructor argument `methods_to_instrument`.\n",
      "Function <function RAG.generate_completion at 0x7e300c2ce660> was not found during instrumentation walk. Make sure it is accessible by traversing app <__main__.RAG object at 0x7e3009620fd0> or provide a bound method for it as TruCustomApp constructor argument `methods_to_instrument`.\n",
      "Function <function RAG.retrieve at 0x7e2ff1502ca0> was not found during instrumentation walk. Make sure it is accessible by traversing app <__main__.RAG object at 0x7e3009620fd0> or provide a bound method for it as TruCustomApp constructor argument `methods_to_instrument`.\n",
      "Function <function RAG.query at 0x7e300c2ce700> was not found during instrumentation walk. Make sure it is accessible by traversing app <__main__.RAG object at 0x7e3009620fd0> or provide a bound method for it as TruCustomApp constructor argument `methods_to_instrument`.\n",
      "Function <function RAG.retrieve at 0x7e300c2ccd60> was not found during instrumentation walk. Make sure it is accessible by traversing app <__main__.RAG object at 0x7e3009620fd0> or provide a bound method for it as TruCustomApp constructor argument `methods_to_instrument`.\n"
     ]
    },
    {
     "name": "stdout",
     "output_type": "stream",
     "text": [
      "instrumenting <class '__main__.RAG'> for base <class '__main__.RAG'>\n",
      "\tinstrumenting retrieve\n",
      "\tinstrumenting generate_completion\n",
      "\tinstrumenting query\n",
      "skipping base <class 'object'> because of class\n"
     ]
    }
   ],
   "source": [
    "tru_rag = TruCustomApp(\n",
    "    myrag_imp,\n",
    "    app_name=\"rag-implement\",\n",
    "    app_version=\"base\",\n",
    "    feedbacks=[f_groundedness, f_answer_relevance, f_context_relevance],\n",
    ")"
   ]
  },
  {
   "cell_type": "code",
   "execution_count": 44,
   "metadata": {},
   "outputs": [
    {
     "name": "stdout",
     "output_type": "stream",
     "text": [
      "calling <function RAG.query at 0x7e2ff158d620> with (<__main__.RAG object at 0x7e3009620fd0>,)\n",
      "calling <function RAG.retrieve at 0x7e2ff158e340> with (<__main__.RAG object at 0x7e3009620fd0>,)\n"
     ]
    },
    {
     "name": "stdout",
     "output_type": "stream",
     "text": [
      "calling <function RAG.generate_completion at 0x7e2ff158ed40> with (<__main__.RAG object at 0x7e3009620fd0>,)\n"
     ]
    },
    {
     "name": "stderr",
     "output_type": "stream",
     "text": [
      "Unsure what the main input string is for the call to query with args <BoundArguments (self=<__main__.RAG object at 0x7e3009620fd0>, query='How to make a hazelnuts milk shake', category='Juices')>.\n"
     ]
    },
    {
     "name": "stderr",
     "output_type": "stream",
     "text": [
      "/home/vscode/.local/lib/python3.11/site-packages/trulens/feedback/llm_provider.py:1521: UserWarning: Failed to process and remove trivial statements. Proceeding with all statements.\n",
      "  warnings.warn(\n",
      "/home/vscode/.local/lib/python3.11/site-packages/trulens/feedback/llm_provider.py:286: UserWarning: No supporting evidence provided. Returning score only.\n",
      "  warnings.warn(\n"
     ]
    }
   ],
   "source": [
    "with tru_rag as recording:\n",
    "    m,n = myrag_imp.query(query=\"How to make a hazelnuts milk shake\", category=\"Juices\")"
   ]
  },
  {
   "cell_type": "code",
   "execution_count": 47,
   "metadata": {},
   "outputs": [
    {
     "data": {
      "text/plain": [
       "\" Hello there! I'm Ali, your friendly and witty chef specializing in juice recipes. I'm here to help you find the perfect juice recipe from our collection. Let's get started!\\n\\nBased on the ingredients you have, here are some matching recipes:\\n\\n1. **Lime, Almond Milk**\\n2. **Carrot Beetroot Detox**\\n3. **Cantaloupe Mint Cooler**\\n4. **Grapefruit Ginger Refresh**\\n5. **Carrot Lemonade**\\n6. **Pineapple Coconut Breeze**\\n7. **Tropical Green Juice**\\n8. **Strawberry Banana Bliss**\\n9. **Coconut Lime Cooler**\\n10. **Pear Pineapple Sparkle**\\n\\nWhich recipe would you like to know more about?\""
      ]
     },
     "execution_count": 47,
     "metadata": {},
     "output_type": "execute_result"
    }
   ],
   "source": [
    "m"
   ]
  },
  {
   "cell_type": "code",
   "execution_count": 39,
   "metadata": {},
   "outputs": [
    {
     "data": {
      "text/html": [
       "<div>\n",
       "<style scoped>\n",
       "    .dataframe tbody tr th:only-of-type {\n",
       "        vertical-align: middle;\n",
       "    }\n",
       "\n",
       "    .dataframe tbody tr th {\n",
       "        vertical-align: top;\n",
       "    }\n",
       "\n",
       "    .dataframe thead th {\n",
       "        text-align: right;\n",
       "    }\n",
       "</style>\n",
       "<table border=\"1\" class=\"dataframe\">\n",
       "  <thead>\n",
       "    <tr style=\"text-align: right;\">\n",
       "      <th></th>\n",
       "      <th></th>\n",
       "      <th>Answer Relevance</th>\n",
       "      <th>Context Relevance</th>\n",
       "      <th>Groundedness</th>\n",
       "      <th>latency</th>\n",
       "      <th>total_cost</th>\n",
       "    </tr>\n",
       "    <tr>\n",
       "      <th>app_name</th>\n",
       "      <th>app_version</th>\n",
       "      <th></th>\n",
       "      <th></th>\n",
       "      <th></th>\n",
       "      <th></th>\n",
       "      <th></th>\n",
       "    </tr>\n",
       "  </thead>\n",
       "  <tbody>\n",
       "    <tr>\n",
       "      <th>rag-documentation</th>\n",
       "      <th>base</th>\n",
       "      <td>0.333333</td>\n",
       "      <td>0.666667</td>\n",
       "      <td>0.500000</td>\n",
       "      <td>3.362791</td>\n",
       "      <td>0.213734</td>\n",
       "    </tr>\n",
       "    <tr>\n",
       "      <th>rag-implement</th>\n",
       "      <th>base</th>\n",
       "      <td>0.000000</td>\n",
       "      <td>0.166667</td>\n",
       "      <td>0.592262</td>\n",
       "      <td>6.016431</td>\n",
       "      <td>0.548322</td>\n",
       "    </tr>\n",
       "    <tr>\n",
       "      <th>RAG</th>\n",
       "      <th>simple</th>\n",
       "      <td>NaN</td>\n",
       "      <td>0.333333</td>\n",
       "      <td>NaN</td>\n",
       "      <td>0.609406</td>\n",
       "      <td>0.000000</td>\n",
       "    </tr>\n",
       "    <tr>\n",
       "      <th>My Retriever</th>\n",
       "      <th>base</th>\n",
       "      <td>NaN</td>\n",
       "      <td>0.166667</td>\n",
       "      <td>NaN</td>\n",
       "      <td>0.564138</td>\n",
       "      <td>0.000000</td>\n",
       "    </tr>\n",
       "    <tr>\n",
       "      <th>FOMC Retriever</th>\n",
       "      <th>base</th>\n",
       "      <td>NaN</td>\n",
       "      <td>0.000000</td>\n",
       "      <td>NaN</td>\n",
       "      <td>1.133732</td>\n",
       "      <td>0.000000</td>\n",
       "    </tr>\n",
       "  </tbody>\n",
       "</table>\n",
       "</div>"
      ],
      "text/plain": [
       "                               Answer Relevance  Context Relevance  \\\n",
       "app_name          app_version                                        \n",
       "rag-documentation base                 0.333333           0.666667   \n",
       "rag-implement     base                 0.000000           0.166667   \n",
       "RAG               simple                    NaN           0.333333   \n",
       "My Retriever      base                      NaN           0.166667   \n",
       "FOMC Retriever    base                      NaN           0.000000   \n",
       "\n",
       "                               Groundedness   latency  total_cost  \n",
       "app_name          app_version                                      \n",
       "rag-documentation base             0.500000  3.362791    0.213734  \n",
       "rag-implement     base             0.592262  6.016431    0.548322  \n",
       "RAG               simple                NaN  0.609406    0.000000  \n",
       "My Retriever      base                  NaN  0.564138    0.000000  \n",
       "FOMC Retriever    base                  NaN  1.133732    0.000000  "
      ]
     },
     "execution_count": 39,
     "metadata": {},
     "output_type": "execute_result"
    }
   ],
   "source": [
    "tru_session.get_leaderboard()"
   ]
  },
  {
   "cell_type": "code",
   "execution_count": 28,
   "metadata": {},
   "outputs": [
    {
     "name": "stdout",
     "output_type": "stream",
     "text": [
      "Starting dashboard ...\n"
     ]
    },
    {
     "data": {
      "application/vnd.jupyter.widget-view+json": {
       "model_id": "c33ea3d2894b4447bdc225761c6b20aa",
       "version_major": 2,
       "version_minor": 0
      },
      "text/plain": [
       "Accordion(children=(VBox(children=(VBox(children=(Label(value='STDOUT'), Output())), VBox(children=(Label(valu…"
      ]
     },
     "metadata": {},
     "output_type": "display_data"
    },
    {
     "name": "stdout",
     "output_type": "stream",
     "text": [
      "Dashboard started at http://10.0.0.70:60959 .\n"
     ]
    },
    {
     "data": {
      "text/plain": [
       "<Popen: returncode: None args: ['streamlit', 'run', '--server.headless=True'...>"
      ]
     },
     "execution_count": 28,
     "metadata": {},
     "output_type": "execute_result"
    }
   ],
   "source": [
    "from trulens.dashboard import run_dashboard\n",
    "\n",
    "run_dashboard(tru_session)"
   ]
  },
  {
   "cell_type": "code",
   "execution_count": 20,
   "metadata": {},
   "outputs": [
    {
     "name": "stdout",
     "output_type": "stream",
     "text": [
      "__record__.app.retrieve.args.query\n"
     ]
    }
   ],
   "source": [
    "print(Select.RecordCalls.retrieve.args['query'])"
   ]
  },
  {
   "cell_type": "code",
   "execution_count": 18,
   "metadata": {},
   "outputs": [
    {
     "data": {
      "text/plain": [
       "{'$defs': {'Step': {'description': 'A step in a selection path.',\n",
       "   'properties': {},\n",
       "   'title': 'Step',\n",
       "   'type': 'object'}},\n",
       " 'description': \"Lenses into python objects.\\n\\nExample:\\n    ```python\\n    path = Lens().record[5]['somekey']\\n\\n    obj = ... # some object that contains a value at `obj.record[5]['somekey]`\\n\\n    value_at_path = path.get(obj) # that value\\n\\n    new_obj = path.set(obj, 42) # updates the value to be 42 instead\\n    ```\\n\\n## `collect` and special attributes\\n\\nSome attributes hold special meaning for lenses. Attempting to access\\nthem will produce a special lens instead of one that looks up that\\nattribute.\\n\\nExample:\\n    ```python\\n    path = Lens().record[:]\\n\\n    obj = dict(record=[1, 2, 3])\\n\\n    value_at_path = path.get(obj) # generates 3 items: 1, 2, 3 (not a list)\\n\\n    path_collect = path.collect()\\n\\n    value_at_path = path_collect.get(obj) # generates a single item, [1, 2, 3] (a list)\\n    ```\",\n",
       " 'properties': {'path': {'items': {'$ref': '#/$defs/Step'},\n",
       "   'title': 'Path',\n",
       "   'type': 'array'}},\n",
       " 'required': ['path'],\n",
       " 'title': 'Lens',\n",
       " 'type': 'object'}"
      ]
     },
     "execution_count": 18,
     "metadata": {},
     "output_type": "execute_result"
    }
   ],
   "source": [
    "Select.RecordCalls.retrieve.args."
   ]
  },
  {
   "cell_type": "code",
   "execution_count": 22,
   "metadata": {},
   "outputs": [
    {
     "data": {
      "text/plain": [
       "<bound method App.main_input of TruCustomApp(tru_class_info=trulens.apps.custom.TruCustomApp, app_id='app_hash_103966f93ac981b74dc5a1dab3ed3010', app_name='rag-implement', app_version='base', tags='-', metadata={}, feedback_definitions=['feedback_definition_hash_1d75df48597ad62a3cd354692947a811', 'feedback_definition_hash_8455e3af53c81938dc92a0a84fa93374', 'feedback_definition_hash_dc277695a26ae30d33570140c36db321'], feedback_mode=<FeedbackMode.WITH_APP_THREAD: 'with_app_thread'>, record_ingest_mode=<RecordIngestMode.IMMEDIATE: 'immediate'>, root_class=__main__.RAG, app=<__main__.RAG object at 0x7e300c2eca50>, initial_app_loader_dump=None, app_extra_json={}, feedbacks=[FeedbackDefinition(Groundedness,\n",
       "\tselectors={'source': Lens().__record__.app.retrieve.rets.collect(), 'statement': Lens().__record__.main_output},\n",
       "\tif_exists=None\n",
       "), FeedbackDefinition(Answer Relevance,\n",
       "\tselectors={'prompt': Lens().__record__.app.retrieve.args.query, 'response': Lens().__record__.main_output},\n",
       "\tif_exists=None\n",
       "), FeedbackDefinition(Context Relevance,\n",
       "\tselectors={'question': Lens().__record__.app.retrieve.args.query, 'context': Lens().__record__.app.retrieve.rets.collect()},\n",
       "\tif_exists=None\n",
       ")], session=TruSession(RETRY_RUNNING_SECONDS=60.0, RETRY_FAILED_SECONDS=300.0, DEFERRED_NUM_RUNS=32, RECORDS_BATCH_TIMEOUT_IN_SEC=10, GROUND_TRUTHS_BATCH_SIZE=100, connector=<trulens.core.database.connector.default.DefaultDBConnector object at 0x7e300cd38810>), instrument=<trulens.core.instruments.Instrument object at 0x7e300c2f9610>, recording_contexts=<ContextVar name='recording_contexts' default=None at 0x7e300c1e4810>, instrumented_methods={138744827923024: {<function RAG.retrieve at 0x7e300c2ccd60>: Lens().app, <function RAG.generate_completion at 0x7e300c2ce660>: Lens().app, <function RAG.query at 0x7e300c2ce700>: Lens().app}}, records_with_pending_feedback_results=BlockingSet(), manage_pending_feedback_results_thread=<Thread(manage_pending_feedback_results_thread(app_name=rag-implement, app_version=base), started daemon 138744826279680)>, selector_check_warning=False, selector_nocheck=False, main_method_loaded=None, main_method=None)>"
      ]
     },
     "execution_count": 22,
     "metadata": {},
     "output_type": "execute_result"
    }
   ],
   "source": [
    "from trulens.core.schema import Record\n",
    "\n",
    "tru_rag."
   ]
  },
  {
   "cell_type": "code",
   "execution_count": 23,
   "metadata": {},
   "outputs": [],
   "source": [
    "context = Select.RecordCalls.retrieve.rets.rets[:]"
   ]
  },
  {
   "cell_type": "code",
   "execution_count": 27,
   "metadata": {},
   "outputs": [
    {
     "data": {
      "text/plain": [
       "{}"
      ]
     },
     "execution_count": 27,
     "metadata": {},
     "output_type": "execute_result"
    }
   ],
   "source": [
    "context.model_computed_fields"
   ]
  },
  {
   "cell_type": "code",
   "execution_count": null,
   "metadata": {},
   "outputs": [],
   "source": []
  }
 ],
 "metadata": {
  "kernelspec": {
   "display_name": "Python 3",
   "language": "python",
   "name": "python3"
  },
  "language_info": {
   "codemirror_mode": {
    "name": "ipython",
    "version": 3
   },
   "file_extension": ".py",
   "mimetype": "text/x-python",
   "name": "python",
   "nbconvert_exporter": "python",
   "pygments_lexer": "ipython3",
   "version": "3.11.11"
  }
 },
 "nbformat": 4,
 "nbformat_minor": 2
}
